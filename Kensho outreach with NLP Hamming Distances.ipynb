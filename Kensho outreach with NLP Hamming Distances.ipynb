{
 "cells": [
  {
   "cell_type": "markdown",
   "metadata": {},
   "source": [
    "Here we explore clustering companies based on their company description like we did in the other versions of this model but in this version we explore if there are any performance improvements by using Hamming Distance instead of Euclidean Distance."
   ]
  },
  {
   "cell_type": "code",
   "execution_count": 1,
   "metadata": {},
   "outputs": [
    {
     "data": {
      "text/html": [
       "\n",
       "    <div class=\"bk-root\">\n",
       "        <a href=\"https://bokeh.pydata.org\" target=\"_blank\" class=\"bk-logo bk-logo-small bk-logo-notebook\"></a>\n",
       "        <span id=\"d994bdaf-d3cb-448f-9c12-bbd37b4bff8a\">Loading BokehJS ...</span>\n",
       "    </div>"
      ]
     },
     "metadata": {},
     "output_type": "display_data"
    },
    {
     "data": {
      "application/javascript": [
       "\n",
       "(function(root) {\n",
       "  function now() {\n",
       "    return new Date();\n",
       "  }\n",
       "\n",
       "  var force = true;\n",
       "\n",
       "  if (typeof (root._bokeh_onload_callbacks) === \"undefined\" || force === true) {\n",
       "    root._bokeh_onload_callbacks = [];\n",
       "    root._bokeh_is_loading = undefined;\n",
       "  }\n",
       "\n",
       "  var JS_MIME_TYPE = 'application/javascript';\n",
       "  var HTML_MIME_TYPE = 'text/html';\n",
       "  var EXEC_MIME_TYPE = 'application/vnd.bokehjs_exec.v0+json';\n",
       "  var CLASS_NAME = 'output_bokeh rendered_html';\n",
       "\n",
       "  /**\n",
       "   * Render data to the DOM node\n",
       "   */\n",
       "  function render(props, node) {\n",
       "    var script = document.createElement(\"script\");\n",
       "    node.appendChild(script);\n",
       "  }\n",
       "\n",
       "  /**\n",
       "   * Handle when an output is cleared or removed\n",
       "   */\n",
       "  function handleClearOutput(event, handle) {\n",
       "    var cell = handle.cell;\n",
       "\n",
       "    var id = cell.output_area._bokeh_element_id;\n",
       "    var server_id = cell.output_area._bokeh_server_id;\n",
       "    // Clean up Bokeh references\n",
       "    if (id !== undefined) {\n",
       "      Bokeh.index[id].model.document.clear();\n",
       "      delete Bokeh.index[id];\n",
       "    }\n",
       "\n",
       "    if (server_id !== undefined) {\n",
       "      // Clean up Bokeh references\n",
       "      var cmd = \"from bokeh.io.state import curstate; print(curstate().uuid_to_server['\" + server_id + \"'].get_sessions()[0].document.roots[0]._id)\";\n",
       "      cell.notebook.kernel.execute(cmd, {\n",
       "        iopub: {\n",
       "          output: function(msg) {\n",
       "            var element_id = msg.content.text.trim();\n",
       "            Bokeh.index[element_id].model.document.clear();\n",
       "            delete Bokeh.index[element_id];\n",
       "          }\n",
       "        }\n",
       "      });\n",
       "      // Destroy server and session\n",
       "      var cmd = \"import bokeh.io.notebook as ion; ion.destroy_server('\" + server_id + \"')\";\n",
       "      cell.notebook.kernel.execute(cmd);\n",
       "    }\n",
       "  }\n",
       "\n",
       "  /**\n",
       "   * Handle when a new output is added\n",
       "   */\n",
       "  function handleAddOutput(event, handle) {\n",
       "    var output_area = handle.output_area;\n",
       "    var output = handle.output;\n",
       "\n",
       "    // limit handleAddOutput to display_data with EXEC_MIME_TYPE content only\n",
       "    if ((output.output_type != \"display_data\") || (!output.data.hasOwnProperty(EXEC_MIME_TYPE))) {\n",
       "      return\n",
       "    }\n",
       "\n",
       "    var toinsert = output_area.element.find(`.${CLASS_NAME.split(' ')[0]}`);\n",
       "\n",
       "    if (output.metadata[EXEC_MIME_TYPE][\"id\"] !== undefined) {\n",
       "      toinsert[0].firstChild.textContent = output.data[JS_MIME_TYPE];\n",
       "      // store reference to embed id on output_area\n",
       "      output_area._bokeh_element_id = output.metadata[EXEC_MIME_TYPE][\"id\"];\n",
       "    }\n",
       "    if (output.metadata[EXEC_MIME_TYPE][\"server_id\"] !== undefined) {\n",
       "      var bk_div = document.createElement(\"div\");\n",
       "      bk_div.innerHTML = output.data[HTML_MIME_TYPE];\n",
       "      var script_attrs = bk_div.children[0].attributes;\n",
       "      for (var i = 0; i < script_attrs.length; i++) {\n",
       "        toinsert[0].firstChild.setAttribute(script_attrs[i].name, script_attrs[i].value);\n",
       "      }\n",
       "      // store reference to server id on output_area\n",
       "      output_area._bokeh_server_id = output.metadata[EXEC_MIME_TYPE][\"server_id\"];\n",
       "    }\n",
       "  }\n",
       "\n",
       "  function register_renderer(events, OutputArea) {\n",
       "\n",
       "    function append_mime(data, metadata, element) {\n",
       "      // create a DOM node to render to\n",
       "      var toinsert = this.create_output_subarea(\n",
       "        metadata,\n",
       "        CLASS_NAME,\n",
       "        EXEC_MIME_TYPE\n",
       "      );\n",
       "      this.keyboard_manager.register_events(toinsert);\n",
       "      // Render to node\n",
       "      var props = {data: data, metadata: metadata[EXEC_MIME_TYPE]};\n",
       "      render(props, toinsert[0]);\n",
       "      element.append(toinsert);\n",
       "      return toinsert\n",
       "    }\n",
       "\n",
       "    /* Handle when an output is cleared or removed */\n",
       "    events.on('clear_output.CodeCell', handleClearOutput);\n",
       "    events.on('delete.Cell', handleClearOutput);\n",
       "\n",
       "    /* Handle when a new output is added */\n",
       "    events.on('output_added.OutputArea', handleAddOutput);\n",
       "\n",
       "    /**\n",
       "     * Register the mime type and append_mime function with output_area\n",
       "     */\n",
       "    OutputArea.prototype.register_mime_type(EXEC_MIME_TYPE, append_mime, {\n",
       "      /* Is output safe? */\n",
       "      safe: true,\n",
       "      /* Index of renderer in `output_area.display_order` */\n",
       "      index: 0\n",
       "    });\n",
       "  }\n",
       "\n",
       "  // register the mime type if in Jupyter Notebook environment and previously unregistered\n",
       "  if (root.Jupyter !== undefined) {\n",
       "    var events = require('base/js/events');\n",
       "    var OutputArea = require('notebook/js/outputarea').OutputArea;\n",
       "\n",
       "    if (OutputArea.prototype.mime_types().indexOf(EXEC_MIME_TYPE) == -1) {\n",
       "      register_renderer(events, OutputArea);\n",
       "    }\n",
       "  }\n",
       "\n",
       "  \n",
       "  if (typeof (root._bokeh_timeout) === \"undefined\" || force === true) {\n",
       "    root._bokeh_timeout = Date.now() + 5000;\n",
       "    root._bokeh_failed_load = false;\n",
       "  }\n",
       "\n",
       "  var NB_LOAD_WARNING = {'data': {'text/html':\n",
       "     \"<div style='background-color: #fdd'>\\n\"+\n",
       "     \"<p>\\n\"+\n",
       "     \"BokehJS does not appear to have successfully loaded. If loading BokehJS from CDN, this \\n\"+\n",
       "     \"may be due to a slow or bad network connection. Possible fixes:\\n\"+\n",
       "     \"</p>\\n\"+\n",
       "     \"<ul>\\n\"+\n",
       "     \"<li>re-rerun `output_notebook()` to attempt to load from CDN again, or</li>\\n\"+\n",
       "     \"<li>use INLINE resources instead, as so:</li>\\n\"+\n",
       "     \"</ul>\\n\"+\n",
       "     \"<code>\\n\"+\n",
       "     \"from bokeh.resources import INLINE\\n\"+\n",
       "     \"output_notebook(resources=INLINE)\\n\"+\n",
       "     \"</code>\\n\"+\n",
       "     \"</div>\"}};\n",
       "\n",
       "  function display_loaded() {\n",
       "    var el = document.getElementById(\"d994bdaf-d3cb-448f-9c12-bbd37b4bff8a\");\n",
       "    if (el != null) {\n",
       "      el.textContent = \"BokehJS is loading...\";\n",
       "    }\n",
       "    if (root.Bokeh !== undefined) {\n",
       "      if (el != null) {\n",
       "        el.textContent = \"BokehJS \" + root.Bokeh.version + \" successfully loaded.\";\n",
       "      }\n",
       "    } else if (Date.now() < root._bokeh_timeout) {\n",
       "      setTimeout(display_loaded, 100)\n",
       "    }\n",
       "  }\n",
       "\n",
       "\n",
       "  function run_callbacks() {\n",
       "    try {\n",
       "      root._bokeh_onload_callbacks.forEach(function(callback) { callback() });\n",
       "    }\n",
       "    finally {\n",
       "      delete root._bokeh_onload_callbacks\n",
       "    }\n",
       "    console.info(\"Bokeh: all callbacks have finished\");\n",
       "  }\n",
       "\n",
       "  function load_libs(js_urls, callback) {\n",
       "    root._bokeh_onload_callbacks.push(callback);\n",
       "    if (root._bokeh_is_loading > 0) {\n",
       "      console.log(\"Bokeh: BokehJS is being loaded, scheduling callback at\", now());\n",
       "      return null;\n",
       "    }\n",
       "    if (js_urls == null || js_urls.length === 0) {\n",
       "      run_callbacks();\n",
       "      return null;\n",
       "    }\n",
       "    console.log(\"Bokeh: BokehJS not loaded, scheduling load and callback at\", now());\n",
       "    root._bokeh_is_loading = js_urls.length;\n",
       "    for (var i = 0; i < js_urls.length; i++) {\n",
       "      var url = js_urls[i];\n",
       "      var s = document.createElement('script');\n",
       "      s.src = url;\n",
       "      s.async = false;\n",
       "      s.onreadystatechange = s.onload = function() {\n",
       "        root._bokeh_is_loading--;\n",
       "        if (root._bokeh_is_loading === 0) {\n",
       "          console.log(\"Bokeh: all BokehJS libraries loaded\");\n",
       "          run_callbacks()\n",
       "        }\n",
       "      };\n",
       "      s.onerror = function() {\n",
       "        console.warn(\"failed to load library \" + url);\n",
       "      };\n",
       "      console.log(\"Bokeh: injecting script tag for BokehJS library: \", url);\n",
       "      document.getElementsByTagName(\"head\")[0].appendChild(s);\n",
       "    }\n",
       "  };var element = document.getElementById(\"d994bdaf-d3cb-448f-9c12-bbd37b4bff8a\");\n",
       "  if (element == null) {\n",
       "    console.log(\"Bokeh: ERROR: autoload.js configured with elementid 'd994bdaf-d3cb-448f-9c12-bbd37b4bff8a' but no matching script tag was found. \")\n",
       "    return false;\n",
       "  }\n",
       "\n",
       "  var js_urls = [\"https://cdn.pydata.org/bokeh/release/bokeh-0.12.10.min.js\", \"https://cdn.pydata.org/bokeh/release/bokeh-widgets-0.12.10.min.js\", \"https://cdn.pydata.org/bokeh/release/bokeh-tables-0.12.10.min.js\", \"https://cdn.pydata.org/bokeh/release/bokeh-gl-0.12.10.min.js\"];\n",
       "\n",
       "  var inline_js = [\n",
       "    function(Bokeh) {\n",
       "      Bokeh.set_log_level(\"info\");\n",
       "    },\n",
       "    \n",
       "    function(Bokeh) {\n",
       "      \n",
       "    },\n",
       "    function(Bokeh) {\n",
       "      console.log(\"Bokeh: injecting CSS: https://cdn.pydata.org/bokeh/release/bokeh-0.12.10.min.css\");\n",
       "      Bokeh.embed.inject_css(\"https://cdn.pydata.org/bokeh/release/bokeh-0.12.10.min.css\");\n",
       "      console.log(\"Bokeh: injecting CSS: https://cdn.pydata.org/bokeh/release/bokeh-widgets-0.12.10.min.css\");\n",
       "      Bokeh.embed.inject_css(\"https://cdn.pydata.org/bokeh/release/bokeh-widgets-0.12.10.min.css\");\n",
       "      console.log(\"Bokeh: injecting CSS: https://cdn.pydata.org/bokeh/release/bokeh-tables-0.12.10.min.css\");\n",
       "      Bokeh.embed.inject_css(\"https://cdn.pydata.org/bokeh/release/bokeh-tables-0.12.10.min.css\");\n",
       "    }\n",
       "  ];\n",
       "\n",
       "  function run_inline_js() {\n",
       "    \n",
       "    if ((root.Bokeh !== undefined) || (force === true)) {\n",
       "      for (var i = 0; i < inline_js.length; i++) {\n",
       "        inline_js[i].call(root, root.Bokeh);\n",
       "      }if (force === true) {\n",
       "        display_loaded();\n",
       "      }} else if (Date.now() < root._bokeh_timeout) {\n",
       "      setTimeout(run_inline_js, 100);\n",
       "    } else if (!root._bokeh_failed_load) {\n",
       "      console.log(\"Bokeh: BokehJS failed to load within specified timeout.\");\n",
       "      root._bokeh_failed_load = true;\n",
       "    } else if (force !== true) {\n",
       "      var cell = $(document.getElementById(\"d994bdaf-d3cb-448f-9c12-bbd37b4bff8a\")).parents('.cell').data().cell;\n",
       "      cell.output_area.append_execute_result(NB_LOAD_WARNING)\n",
       "    }\n",
       "\n",
       "  }\n",
       "\n",
       "  if (root._bokeh_is_loading === 0) {\n",
       "    console.log(\"Bokeh: BokehJS loaded, going straight to plotting\");\n",
       "    run_inline_js();\n",
       "  } else {\n",
       "    load_libs(js_urls, function() {\n",
       "      console.log(\"Bokeh: BokehJS plotting callback run at\", now());\n",
       "      run_inline_js();\n",
       "    });\n",
       "  }\n",
       "}(window));"
      ],
      "application/vnd.bokehjs_load.v0+json": "\n(function(root) {\n  function now() {\n    return new Date();\n  }\n\n  var force = true;\n\n  if (typeof (root._bokeh_onload_callbacks) === \"undefined\" || force === true) {\n    root._bokeh_onload_callbacks = [];\n    root._bokeh_is_loading = undefined;\n  }\n\n  \n\n  \n  if (typeof (root._bokeh_timeout) === \"undefined\" || force === true) {\n    root._bokeh_timeout = Date.now() + 5000;\n    root._bokeh_failed_load = false;\n  }\n\n  var NB_LOAD_WARNING = {'data': {'text/html':\n     \"<div style='background-color: #fdd'>\\n\"+\n     \"<p>\\n\"+\n     \"BokehJS does not appear to have successfully loaded. If loading BokehJS from CDN, this \\n\"+\n     \"may be due to a slow or bad network connection. Possible fixes:\\n\"+\n     \"</p>\\n\"+\n     \"<ul>\\n\"+\n     \"<li>re-rerun `output_notebook()` to attempt to load from CDN again, or</li>\\n\"+\n     \"<li>use INLINE resources instead, as so:</li>\\n\"+\n     \"</ul>\\n\"+\n     \"<code>\\n\"+\n     \"from bokeh.resources import INLINE\\n\"+\n     \"output_notebook(resources=INLINE)\\n\"+\n     \"</code>\\n\"+\n     \"</div>\"}};\n\n  function display_loaded() {\n    var el = document.getElementById(\"d994bdaf-d3cb-448f-9c12-bbd37b4bff8a\");\n    if (el != null) {\n      el.textContent = \"BokehJS is loading...\";\n    }\n    if (root.Bokeh !== undefined) {\n      if (el != null) {\n        el.textContent = \"BokehJS \" + root.Bokeh.version + \" successfully loaded.\";\n      }\n    } else if (Date.now() < root._bokeh_timeout) {\n      setTimeout(display_loaded, 100)\n    }\n  }\n\n\n  function run_callbacks() {\n    try {\n      root._bokeh_onload_callbacks.forEach(function(callback) { callback() });\n    }\n    finally {\n      delete root._bokeh_onload_callbacks\n    }\n    console.info(\"Bokeh: all callbacks have finished\");\n  }\n\n  function load_libs(js_urls, callback) {\n    root._bokeh_onload_callbacks.push(callback);\n    if (root._bokeh_is_loading > 0) {\n      console.log(\"Bokeh: BokehJS is being loaded, scheduling callback at\", now());\n      return null;\n    }\n    if (js_urls == null || js_urls.length === 0) {\n      run_callbacks();\n      return null;\n    }\n    console.log(\"Bokeh: BokehJS not loaded, scheduling load and callback at\", now());\n    root._bokeh_is_loading = js_urls.length;\n    for (var i = 0; i < js_urls.length; i++) {\n      var url = js_urls[i];\n      var s = document.createElement('script');\n      s.src = url;\n      s.async = false;\n      s.onreadystatechange = s.onload = function() {\n        root._bokeh_is_loading--;\n        if (root._bokeh_is_loading === 0) {\n          console.log(\"Bokeh: all BokehJS libraries loaded\");\n          run_callbacks()\n        }\n      };\n      s.onerror = function() {\n        console.warn(\"failed to load library \" + url);\n      };\n      console.log(\"Bokeh: injecting script tag for BokehJS library: \", url);\n      document.getElementsByTagName(\"head\")[0].appendChild(s);\n    }\n  };var element = document.getElementById(\"d994bdaf-d3cb-448f-9c12-bbd37b4bff8a\");\n  if (element == null) {\n    console.log(\"Bokeh: ERROR: autoload.js configured with elementid 'd994bdaf-d3cb-448f-9c12-bbd37b4bff8a' but no matching script tag was found. \")\n    return false;\n  }\n\n  var js_urls = [\"https://cdn.pydata.org/bokeh/release/bokeh-0.12.10.min.js\", \"https://cdn.pydata.org/bokeh/release/bokeh-widgets-0.12.10.min.js\", \"https://cdn.pydata.org/bokeh/release/bokeh-tables-0.12.10.min.js\", \"https://cdn.pydata.org/bokeh/release/bokeh-gl-0.12.10.min.js\"];\n\n  var inline_js = [\n    function(Bokeh) {\n      Bokeh.set_log_level(\"info\");\n    },\n    \n    function(Bokeh) {\n      \n    },\n    function(Bokeh) {\n      console.log(\"Bokeh: injecting CSS: https://cdn.pydata.org/bokeh/release/bokeh-0.12.10.min.css\");\n      Bokeh.embed.inject_css(\"https://cdn.pydata.org/bokeh/release/bokeh-0.12.10.min.css\");\n      console.log(\"Bokeh: injecting CSS: https://cdn.pydata.org/bokeh/release/bokeh-widgets-0.12.10.min.css\");\n      Bokeh.embed.inject_css(\"https://cdn.pydata.org/bokeh/release/bokeh-widgets-0.12.10.min.css\");\n      console.log(\"Bokeh: injecting CSS: https://cdn.pydata.org/bokeh/release/bokeh-tables-0.12.10.min.css\");\n      Bokeh.embed.inject_css(\"https://cdn.pydata.org/bokeh/release/bokeh-tables-0.12.10.min.css\");\n    }\n  ];\n\n  function run_inline_js() {\n    \n    if ((root.Bokeh !== undefined) || (force === true)) {\n      for (var i = 0; i < inline_js.length; i++) {\n        inline_js[i].call(root, root.Bokeh);\n      }if (force === true) {\n        display_loaded();\n      }} else if (Date.now() < root._bokeh_timeout) {\n      setTimeout(run_inline_js, 100);\n    } else if (!root._bokeh_failed_load) {\n      console.log(\"Bokeh: BokehJS failed to load within specified timeout.\");\n      root._bokeh_failed_load = true;\n    } else if (force !== true) {\n      var cell = $(document.getElementById(\"d994bdaf-d3cb-448f-9c12-bbd37b4bff8a\")).parents('.cell').data().cell;\n      cell.output_area.append_execute_result(NB_LOAD_WARNING)\n    }\n\n  }\n\n  if (root._bokeh_is_loading === 0) {\n    console.log(\"Bokeh: BokehJS loaded, going straight to plotting\");\n    run_inline_js();\n  } else {\n    load_libs(js_urls, function() {\n      console.log(\"Bokeh: BokehJS plotting callback run at\", now());\n      run_inline_js();\n    });\n  }\n}(window));"
     },
     "metadata": {},
     "output_type": "display_data"
    }
   ],
   "source": [
    "import pandas as pd\n",
    "import time\n",
    "import numpy as np\n",
    "import matplotlib as mpl\n",
    "import matplotlib.pyplot as plt\n",
    "import matplotlib.cm as cm\n",
    "import sys\n",
    "import datetime\n",
    "import os\n",
    "import seaborn as sns\n",
    "import math as mth\n",
    "import pickle\n",
    "import re\n",
    "import nltk\n",
    "import spacy\n",
    "import sklearn\n",
    "\n",
    "import tika\n",
    "from tika import parser\n",
    "\n",
    "import bokeh\n",
    "from bokeh.plotting import *\n",
    "from bokeh.io import output_notebook\n",
    "from bokeh.models import Toggle, BoxAnnotation, CustomJS, HoverTool\n",
    "\n",
    "output_notebook()\n",
    "\n",
    "from sklearn.manifold import TSNE\n",
    "\n",
    "sns.set_style(\"white\")\n",
    "\n",
    "%matplotlib inline\n",
    "\n",
    "from IPython.display import display\n",
    "\n",
    "from IPython.display import HTML\n",
    "\n",
    "from IPython.core.interactiveshell import InteractiveShell\n",
    "InteractiveShell.ast_node_interactivity = \"all\""
   ]
  },
  {
   "cell_type": "code",
   "execution_count": 2,
   "metadata": {},
   "outputs": [
    {
     "name": "stdout",
     "output_type": "stream",
     "text": [
      "[nltk_data] Downloading package punkt to\n",
      "[nltk_data]     C:\\Users\\zanderl\\AppData\\Roaming\\nltk_data...\n",
      "[nltk_data]   Package punkt is already up-to-date!\n"
     ]
    },
    {
     "data": {
      "text/plain": [
       "True"
      ]
     },
     "execution_count": 2,
     "metadata": {},
     "output_type": "execute_result"
    }
   ],
   "source": [
    "nltk.download('punkt')"
   ]
  },
  {
   "cell_type": "code",
   "execution_count": 3,
   "metadata": {
    "collapsed": true
   },
   "outputs": [],
   "source": [
    "# Existing Clients only. Excludes ETF funds + Parent and subsidiary companies + US/Canada only + Ipreo investment approach data + additional data from Form-ADV filings where available\n",
    "df1 = pd.read_csv('C:/Users/zanderl/Documents/Data Science/SFDC Similar Companies Project/SFDC and Ipreo CoData.csv',\n",
    "                  encoding='latin1')\n",
    "\n",
    "\n",
    "\n",
    "# Excludes ETF funds, Parent and subsidiary companies, US/Canada only, include additional data from Form-ADV filings where available\n",
    "#df1 = pd.read_csv('C:/Users/zanderl/Documents/Data Science/SFDC Similar Companies Project/SFDC Company Data Filtered for US Includes Subsidiaries with Form ADV.csv',encoding='latin1')\n",
    "\n",
    "# Excludes ETF funds, Parent and subsidiary companies, US/Canada only\n",
    "#df1 = pd.read_csv('C:/Users/zanderl/Documents/Data Science/SFDC Similar Companies Project/SFDC Company Data Filtered for US Includes Subsidiaries.csv',encoding='latin1')\n",
    "\n",
    "# Parent company level data only, US/Canada only\n",
    "#df1 = pd.read_csv('C:/Users/zanderl/Documents/Data Science/SFDC Similar Companies Project/SFDC Company Data Filtered for US and Parent Company.csv',encoding='latin1')\n",
    "\n",
    "# Subsidiary level company data, US/Canada only\n",
    "#df1 = pd.read_csv('C:/Users/zanderl/Documents/Data Science/SFDC Similar Companies Project/SFDC Company Data Filtered for US.csv',encoding='latin1')\n",
    "\n",
    "#df1 = pd.read_csv('C:/Users/zanderl/Documents/Data Science/SFDC Similar Companies Project/SFDC Company Data.csv', encoding='latin1')\n",
    "#df1 = pd.read_csv('C:/Users/zanderl/Documents/Data Science/SFDC Similar Companies Project/PA Greenfield Ideas Cleaned.csv', encoding='latin1')"
   ]
  },
  {
   "cell_type": "code",
   "execution_count": 4,
   "metadata": {},
   "outputs": [
    {
     "data": {
      "text/plain": [
       "(994, 64)"
      ]
     },
     "execution_count": 4,
     "metadata": {},
     "output_type": "execute_result"
    },
    {
     "data": {
      "text/html": [
       "<div>\n",
       "<style>\n",
       "    .dataframe thead tr:only-child th {\n",
       "        text-align: right;\n",
       "    }\n",
       "\n",
       "    .dataframe thead th {\n",
       "        text-align: left;\n",
       "    }\n",
       "\n",
       "    .dataframe tbody tr th {\n",
       "        vertical-align: top;\n",
       "    }\n",
       "</style>\n",
       "<table border=\"1\" class=\"dataframe\">\n",
       "  <thead>\n",
       "    <tr style=\"text-align: right;\">\n",
       "      <th></th>\n",
       "      <th>Account Name</th>\n",
       "      <th>Business Description</th>\n",
       "      <th>Business Description Plain</th>\n",
       "      <th>Investment Approach</th>\n",
       "      <th>Billing Country</th>\n",
       "      <th>Billing State/Province</th>\n",
       "      <th>Billing City</th>\n",
       "      <th>Account ID (Case Safe)</th>\n",
       "      <th>S&amp;P Capital IQ Company ID</th>\n",
       "      <th>KeyInstn - SNL</th>\n",
       "      <th>...</th>\n",
       "      <th>Dominant Style</th>\n",
       "      <th>Dominant Orientation</th>\n",
       "      <th>Contact Equity Assets ($m)</th>\n",
       "      <th>Account Equity Assets Under Management ($m)</th>\n",
       "      <th>City</th>\n",
       "      <th>State</th>\n",
       "      <th>Country</th>\n",
       "      <th>Geographic Region</th>\n",
       "      <th>CRM</th>\n",
       "      <th>Primary Contacts</th>\n",
       "    </tr>\n",
       "    <tr>\n",
       "      <th>Account Name</th>\n",
       "      <th></th>\n",
       "      <th></th>\n",
       "      <th></th>\n",
       "      <th></th>\n",
       "      <th></th>\n",
       "      <th></th>\n",
       "      <th></th>\n",
       "      <th></th>\n",
       "      <th></th>\n",
       "      <th></th>\n",
       "      <th></th>\n",
       "      <th></th>\n",
       "      <th></th>\n",
       "      <th></th>\n",
       "      <th></th>\n",
       "      <th></th>\n",
       "      <th></th>\n",
       "      <th></th>\n",
       "      <th></th>\n",
       "      <th></th>\n",
       "      <th></th>\n",
       "    </tr>\n",
       "  </thead>\n",
       "  <tbody>\n",
       "    <tr>\n",
       "      <th>12 West Capital Management LP</th>\n",
       "      <td>12 West Capital Management LP</td>\n",
       "      <td>12 West Capital Management LP is an employee o...</td>\n",
       "      <td>12 West Capital Management LP is an employee o...</td>\n",
       "      <td>NaN</td>\n",
       "      <td>United States</td>\n",
       "      <td>NY</td>\n",
       "      <td>New York</td>\n",
       "      <td>0014000000diOsEAAU</td>\n",
       "      <td>IQ158358908</td>\n",
       "      <td>4321055.0</td>\n",
       "      <td>...</td>\n",
       "      <td>NaN</td>\n",
       "      <td>NaN</td>\n",
       "      <td>NaN</td>\n",
       "      <td>NaN</td>\n",
       "      <td>NaN</td>\n",
       "      <td>NaN</td>\n",
       "      <td>NaN</td>\n",
       "      <td>NaN</td>\n",
       "      <td>NaN</td>\n",
       "      <td>NaN</td>\n",
       "    </tr>\n",
       "    <tr>\n",
       "      <th>1832 Asset Management L.P.</th>\n",
       "      <td>1832 Asset Management L.P.</td>\n",
       "      <td>1832 Asset Management L.P. is a privately owne...</td>\n",
       "      <td>1832 Asset Management L.P. is a privately owne...</td>\n",
       "      <td>NaN</td>\n",
       "      <td>Canada</td>\n",
       "      <td>ON</td>\n",
       "      <td>Toronto</td>\n",
       "      <td>0014000000FGy4YAAT</td>\n",
       "      <td>IQ1029378</td>\n",
       "      <td>NaN</td>\n",
       "      <td>...</td>\n",
       "      <td>NaN</td>\n",
       "      <td>NaN</td>\n",
       "      <td>NaN</td>\n",
       "      <td>NaN</td>\n",
       "      <td>NaN</td>\n",
       "      <td>NaN</td>\n",
       "      <td>NaN</td>\n",
       "      <td>NaN</td>\n",
       "      <td>NaN</td>\n",
       "      <td>NaN</td>\n",
       "    </tr>\n",
       "    <tr>\n",
       "      <th>1919 Investment Counsel, LLC</th>\n",
       "      <td>1919 Investment Counsel, LLC</td>\n",
       "      <td>1919 Investment Counsel, LLC operates as a sub...</td>\n",
       "      <td>1919 Investment Counsel, LLC operates as a sub...</td>\n",
       "      <td>NaN</td>\n",
       "      <td>United States</td>\n",
       "      <td>MD</td>\n",
       "      <td>Baltimore</td>\n",
       "      <td>0014000001llGwcAAE</td>\n",
       "      <td>IQ59705013</td>\n",
       "      <td>4096352.0</td>\n",
       "      <td>...</td>\n",
       "      <td>NaN</td>\n",
       "      <td>NaN</td>\n",
       "      <td>NaN</td>\n",
       "      <td>NaN</td>\n",
       "      <td>NaN</td>\n",
       "      <td>NaN</td>\n",
       "      <td>NaN</td>\n",
       "      <td>NaN</td>\n",
       "      <td>NaN</td>\n",
       "      <td>NaN</td>\n",
       "    </tr>\n",
       "    <tr>\n",
       "      <th>361° Capital LLC</th>\n",
       "      <td>361° Capital LLC</td>\n",
       "      <td>361° Capital LLC is an employee owned hedge fu...</td>\n",
       "      <td>361° Capital LLC is an employee owned hedge fu...</td>\n",
       "      <td>NaN</td>\n",
       "      <td>United States</td>\n",
       "      <td>CO</td>\n",
       "      <td>Denver</td>\n",
       "      <td>0014000000cCrlGAAS</td>\n",
       "      <td>IQ116742844</td>\n",
       "      <td>4117083.0</td>\n",
       "      <td>...</td>\n",
       "      <td>NaN</td>\n",
       "      <td>NaN</td>\n",
       "      <td>NaN</td>\n",
       "      <td>NaN</td>\n",
       "      <td>NaN</td>\n",
       "      <td>NaN</td>\n",
       "      <td>NaN</td>\n",
       "      <td>NaN</td>\n",
       "      <td>NaN</td>\n",
       "      <td>NaN</td>\n",
       "    </tr>\n",
       "    <tr>\n",
       "      <th>3G Capital, Inc.</th>\n",
       "      <td>3G Capital, Inc.</td>\n",
       "      <td>3G Capital, Inc. is a private equity firm spec...</td>\n",
       "      <td>3G Capital, Inc. is a private equity firm spec...</td>\n",
       "      <td>NaN</td>\n",
       "      <td>United States</td>\n",
       "      <td>NY</td>\n",
       "      <td>New York</td>\n",
       "      <td>0014000000K85RQAAZ</td>\n",
       "      <td>IQ23471434</td>\n",
       "      <td>4189265.0</td>\n",
       "      <td>...</td>\n",
       "      <td>NaN</td>\n",
       "      <td>NaN</td>\n",
       "      <td>NaN</td>\n",
       "      <td>NaN</td>\n",
       "      <td>NaN</td>\n",
       "      <td>NaN</td>\n",
       "      <td>NaN</td>\n",
       "      <td>NaN</td>\n",
       "      <td>NaN</td>\n",
       "      <td>NaN</td>\n",
       "    </tr>\n",
       "  </tbody>\n",
       "</table>\n",
       "<p>5 rows × 64 columns</p>\n",
       "</div>"
      ],
      "text/plain": [
       "                                                Account Name  \\\n",
       "Account Name                                                   \n",
       "12 West Capital Management LP  12 West Capital Management LP   \n",
       "1832 Asset Management L.P.        1832 Asset Management L.P.   \n",
       "1919 Investment Counsel, LLC    1919 Investment Counsel, LLC   \n",
       "361° Capital LLC                            361° Capital LLC   \n",
       "3G Capital, Inc.                            3G Capital, Inc.   \n",
       "\n",
       "                                                            Business Description  \\\n",
       "Account Name                                                                       \n",
       "12 West Capital Management LP  12 West Capital Management LP is an employee o...   \n",
       "1832 Asset Management L.P.     1832 Asset Management L.P. is a privately owne...   \n",
       "1919 Investment Counsel, LLC   1919 Investment Counsel, LLC operates as a sub...   \n",
       "361° Capital LLC               361° Capital LLC is an employee owned hedge fu...   \n",
       "3G Capital, Inc.               3G Capital, Inc. is a private equity firm spec...   \n",
       "\n",
       "                                                      Business Description Plain  \\\n",
       "Account Name                                                                       \n",
       "12 West Capital Management LP  12 West Capital Management LP is an employee o...   \n",
       "1832 Asset Management L.P.     1832 Asset Management L.P. is a privately owne...   \n",
       "1919 Investment Counsel, LLC   1919 Investment Counsel, LLC operates as a sub...   \n",
       "361° Capital LLC               361° Capital LLC is an employee owned hedge fu...   \n",
       "3G Capital, Inc.               3G Capital, Inc. is a private equity firm spec...   \n",
       "\n",
       "                              Investment Approach Billing Country  \\\n",
       "Account Name                                                        \n",
       "12 West Capital Management LP                 NaN   United States   \n",
       "1832 Asset Management L.P.                    NaN          Canada   \n",
       "1919 Investment Counsel, LLC                  NaN   United States   \n",
       "361° Capital LLC                              NaN   United States   \n",
       "3G Capital, Inc.                              NaN   United States   \n",
       "\n",
       "                              Billing State/Province Billing City  \\\n",
       "Account Name                                                        \n",
       "12 West Capital Management LP                     NY     New York   \n",
       "1832 Asset Management L.P.                        ON      Toronto   \n",
       "1919 Investment Counsel, LLC                      MD    Baltimore   \n",
       "361° Capital LLC                                  CO       Denver   \n",
       "3G Capital, Inc.                                  NY     New York   \n",
       "\n",
       "                              Account ID (Case Safe)  \\\n",
       "Account Name                                           \n",
       "12 West Capital Management LP     0014000000diOsEAAU   \n",
       "1832 Asset Management L.P.        0014000000FGy4YAAT   \n",
       "1919 Investment Counsel, LLC      0014000001llGwcAAE   \n",
       "361° Capital LLC                  0014000000cCrlGAAS   \n",
       "3G Capital, Inc.                  0014000000K85RQAAZ   \n",
       "\n",
       "                              S&P Capital IQ Company ID  KeyInstn - SNL  \\\n",
       "Account Name                                                              \n",
       "12 West Capital Management LP               IQ158358908       4321055.0   \n",
       "1832 Asset Management L.P.                    IQ1029378             NaN   \n",
       "1919 Investment Counsel, LLC                 IQ59705013       4096352.0   \n",
       "361° Capital LLC                            IQ116742844       4117083.0   \n",
       "3G Capital, Inc.                             IQ23471434       4189265.0   \n",
       "\n",
       "                                     ...        Dominant Style  \\\n",
       "Account Name                         ...                         \n",
       "12 West Capital Management LP        ...                   NaN   \n",
       "1832 Asset Management L.P.           ...                   NaN   \n",
       "1919 Investment Counsel, LLC         ...                   NaN   \n",
       "361° Capital LLC                     ...                   NaN   \n",
       "3G Capital, Inc.                     ...                   NaN   \n",
       "\n",
       "                              Dominant Orientation Contact Equity Assets ($m)  \\\n",
       "Account Name                                                                    \n",
       "12 West Capital Management LP                  NaN                        NaN   \n",
       "1832 Asset Management L.P.                     NaN                        NaN   \n",
       "1919 Investment Counsel, LLC                   NaN                        NaN   \n",
       "361° Capital LLC                               NaN                        NaN   \n",
       "3G Capital, Inc.                               NaN                        NaN   \n",
       "\n",
       "                               Account Equity Assets Under Management ($m)  \\\n",
       "Account Name                                                                 \n",
       "12 West Capital Management LP                                          NaN   \n",
       "1832 Asset Management L.P.                                             NaN   \n",
       "1919 Investment Counsel, LLC                                           NaN   \n",
       "361° Capital LLC                                                       NaN   \n",
       "3G Capital, Inc.                                                       NaN   \n",
       "\n",
       "                               City  State  Country  Geographic Region  CRM  \\\n",
       "Account Name                                                                  \n",
       "12 West Capital Management LP   NaN    NaN      NaN                NaN  NaN   \n",
       "1832 Asset Management L.P.      NaN    NaN      NaN                NaN  NaN   \n",
       "1919 Investment Counsel, LLC    NaN    NaN      NaN                NaN  NaN   \n",
       "361° Capital LLC                NaN    NaN      NaN                NaN  NaN   \n",
       "3G Capital, Inc.                NaN    NaN      NaN                NaN  NaN   \n",
       "\n",
       "                               Primary Contacts  \n",
       "Account Name                                     \n",
       "12 West Capital Management LP               NaN  \n",
       "1832 Asset Management L.P.                  NaN  \n",
       "1919 Investment Counsel, LLC                NaN  \n",
       "361° Capital LLC                            NaN  \n",
       "3G Capital, Inc.                            NaN  \n",
       "\n",
       "[5 rows x 64 columns]"
      ]
     },
     "execution_count": 4,
     "metadata": {},
     "output_type": "execute_result"
    }
   ],
   "source": [
    "#df1.index = df1['Relationship Name']\n",
    "\n",
    "df1.index = df1['Account Name']\n",
    "#df1.drop(labels=['Account Name'],axis=1,inplace=True)\n",
    "\n",
    "df1.shape\n",
    "df1.head(5)"
   ]
  },
  {
   "cell_type": "code",
   "execution_count": 5,
   "metadata": {
    "collapsed": true
   },
   "outputs": [],
   "source": [
    "coData_df = pd.DataFrame(df1,columns=['Business Description'],index=df1.index)"
   ]
  },
  {
   "cell_type": "code",
   "execution_count": 6,
   "metadata": {},
   "outputs": [
    {
     "data": {
      "text/html": [
       "<div>\n",
       "<style>\n",
       "    .dataframe thead tr:only-child th {\n",
       "        text-align: right;\n",
       "    }\n",
       "\n",
       "    .dataframe thead th {\n",
       "        text-align: left;\n",
       "    }\n",
       "\n",
       "    .dataframe tbody tr th {\n",
       "        vertical-align: top;\n",
       "    }\n",
       "</style>\n",
       "<table border=\"1\" class=\"dataframe\">\n",
       "  <thead>\n",
       "    <tr style=\"text-align: right;\">\n",
       "      <th></th>\n",
       "      <th>Business Description</th>\n",
       "    </tr>\n",
       "    <tr>\n",
       "      <th>Account Name</th>\n",
       "      <th></th>\n",
       "    </tr>\n",
       "  </thead>\n",
       "  <tbody>\n",
       "    <tr>\n",
       "      <th>12 West Capital Management LP</th>\n",
       "      <td>12 West Capital Management LP is an employee o...</td>\n",
       "    </tr>\n",
       "    <tr>\n",
       "      <th>1832 Asset Management L.P.</th>\n",
       "      <td>1832 Asset Management L.P. is a privately owne...</td>\n",
       "    </tr>\n",
       "    <tr>\n",
       "      <th>1919 Investment Counsel, LLC</th>\n",
       "      <td>1919 Investment Counsel, LLC operates as a sub...</td>\n",
       "    </tr>\n",
       "    <tr>\n",
       "      <th>361° Capital LLC</th>\n",
       "      <td>361° Capital LLC is an employee owned hedge fu...</td>\n",
       "    </tr>\n",
       "    <tr>\n",
       "      <th>3G Capital, Inc.</th>\n",
       "      <td>3G Capital, Inc. is a private equity firm spec...</td>\n",
       "    </tr>\n",
       "  </tbody>\n",
       "</table>\n",
       "</div>"
      ],
      "text/plain": [
       "                                                            Business Description\n",
       "Account Name                                                                    \n",
       "12 West Capital Management LP  12 West Capital Management LP is an employee o...\n",
       "1832 Asset Management L.P.     1832 Asset Management L.P. is a privately owne...\n",
       "1919 Investment Counsel, LLC   1919 Investment Counsel, LLC operates as a sub...\n",
       "361° Capital LLC               361° Capital LLC is an employee owned hedge fu...\n",
       "3G Capital, Inc.               3G Capital, Inc. is a private equity firm spec..."
      ]
     },
     "execution_count": 6,
     "metadata": {},
     "output_type": "execute_result"
    }
   ],
   "source": [
    "coData_df.head()"
   ]
  },
  {
   "cell_type": "code",
   "execution_count": 7,
   "metadata": {},
   "outputs": [
    {
     "data": {
      "text/plain": [
       "'12 West Capital Management LP is an employee owned hedge fund sponsor. It primarily provides its services to pooled investment vehicles. The firm launches and manages hedge fund for its clients. It invests in the public equity and fixed income markets across the globe. The firm invests in value stocks of small-cap companies. It employs a long/short equity strategy to make its investments. 12 West Capital Management LP is based in New York City. In managing the Funds, we invest both long and short, in equity, equity related, and credit securities. In addition, we may also invest in preferred stocks, warrants, rights, options, swaps and other derivative instruments, bonds and other fixed income securities, futures and money market instruments. We believe that investing in companies with an equity market capitalization of U.S. $2.5 billion or less (\\x93Small Cap\\x94) offers the greatest opportunity to generate superior compounded annual net returns, predominantly because: (i) There is a dearth of high quality investment managers investing in Small Cap companies; (ii) There is significantly less investment research coverage available on Small Cap companies versus larger companies; and (iii) Often Small Cap investment managers do not allocate the required financial or other resources to properly evaluate and analyze Small Cap companies. We aim to manage the asset size of the Funds to allow for a concentrated portfolio of long and short positions in Small Cap companies. We typically invest in long positions with a three year investment horizon. If we cannot find compelling investment opportunities, the Funds will hold cash. We believe this discipline is critical to generating superior investment results.'"
      ]
     },
     "execution_count": 7,
     "metadata": {},
     "output_type": "execute_result"
    }
   ],
   "source": [
    "df1.loc['12 West Capital Management LP']['Business Description']"
   ]
  },
  {
   "cell_type": "code",
   "execution_count": 8,
   "metadata": {
    "collapsed": true
   },
   "outputs": [],
   "source": [
    "df1['Business Description'] = df1['Business Description'].str.lower()\n",
    "coData_df['Business Description'] = coData_df['Business Description'].str.lower()"
   ]
  },
  {
   "cell_type": "code",
   "execution_count": 9,
   "metadata": {
    "collapsed": true
   },
   "outputs": [],
   "source": [
    "#pd.isnull(coData_df).sum()"
   ]
  },
  {
   "cell_type": "code",
   "execution_count": 10,
   "metadata": {},
   "outputs": [
    {
     "data": {
      "text/plain": [
       "994"
      ]
     },
     "execution_count": 10,
     "metadata": {},
     "output_type": "execute_result"
    }
   ],
   "source": [
    "len(coData_df['Business Description'])"
   ]
  },
  {
   "cell_type": "code",
   "execution_count": 11,
   "metadata": {
    "collapsed": true
   },
   "outputs": [],
   "source": [
    "# train = coData_df['Business Description'][:495]\n",
    "# test = coData_df['Business Description'][495:]\n",
    "\n",
    "# train.shape\n",
    "# test.shape\n",
    "\n",
    "# from sklearn.model_selection import train_test_split\n",
    "# X_train, X_test, y_train, y_test = train_test_split(coData_df['Business Description'], test_size=0.5,random_state=0)"
   ]
  },
  {
   "cell_type": "code",
   "execution_count": 12,
   "metadata": {},
   "outputs": [
    {
     "name": "stderr",
     "output_type": "stream",
     "text": [
      "C:\\Users\\zanderl\\AppData\\Local\\Continuum\\anaconda3\\lib\\site-packages\\gensim\\utils.py:1197: UserWarning: detected Windows; aliasing chunkize to chunkize_serial\n",
      "  warnings.warn(\"detected Windows; aliasing chunkize to chunkize_serial\")\n"
     ]
    }
   ],
   "source": [
    "from sklearn.feature_extraction.text import CountVectorizer, TfidfVectorizer\n",
    "from sklearn.feature_extraction.text import TfidfTransformer\n",
    "from sklearn.cluster import DBSCAN\n",
    "import gensim\n",
    "import nltk"
   ]
  },
  {
   "cell_type": "code",
   "execution_count": 13,
   "metadata": {
    "collapsed": true
   },
   "outputs": [],
   "source": [
    "vectorizer = TfidfVectorizer(\n",
    "    analyzer='word',\n",
    "    ngram_range=(1,4),\n",
    "    stop_words='english',\n",
    "    min_df = 10,\n",
    "    max_df = 0.60\n",
    "    # Original value: max_df = 0.8\n",
    ")\n",
    "\n",
    "# 3/12/2018: Changed ngram_range=(1,2) to ngram_range(1,3)"
   ]
  },
  {
   "cell_type": "code",
   "execution_count": 14,
   "metadata": {},
   "outputs": [
    {
     "name": "stdout",
     "output_type": "stream",
     "text": [
      "Wall time: 988 ms\n"
     ]
    }
   ],
   "source": [
    "%%time\n",
    "X = vectorizer.fit_transform(coData_df['Business Description'])\n",
    "X"
   ]
  },
  {
   "cell_type": "code",
   "execution_count": 15,
   "metadata": {},
   "outputs": [
    {
     "data": {
      "text/plain": [
       "scipy.sparse.csr.csr_matrix"
      ]
     },
     "execution_count": 15,
     "metadata": {},
     "output_type": "execute_result"
    },
    {
     "data": {
      "text/plain": [
       "(994, 3562)"
      ]
     },
     "execution_count": 15,
     "metadata": {},
     "output_type": "execute_result"
    }
   ],
   "source": [
    "#vectorizer.fit(coData_df['Business Description'])\n",
    "#vectorizer_vocab = pd.Series(vectorizer.vocabulary_)\n",
    "#vectorizer_vocab\n",
    "\n",
    "type(X)\n",
    "X.shape"
   ]
  },
  {
   "cell_type": "code",
   "execution_count": 16,
   "metadata": {},
   "outputs": [
    {
     "data": {
      "text/plain": [
       "3562"
      ]
     },
     "execution_count": 16,
     "metadata": {},
     "output_type": "execute_result"
    }
   ],
   "source": [
    "# let's inspect some of the features that were extracted\n",
    "feat_names = vectorizer.get_feature_names()[:]\n",
    "len(feat_names)\n",
    "\n",
    "#vect.get_feature_names()[500:]"
   ]
  },
  {
   "cell_type": "code",
   "execution_count": 17,
   "metadata": {
    "collapsed": true,
    "scrolled": true
   },
   "outputs": [],
   "source": [
    "#feat_names[(int(len(feat_names)/2)):]"
   ]
  },
  {
   "cell_type": "code",
   "execution_count": 18,
   "metadata": {
    "collapsed": true
   },
   "outputs": [],
   "source": [
    "from sklearn.decomposition import TruncatedSVD, NMF\n",
    "from sklearn.neighbors import ball_tree, BallTree"
   ]
  },
  {
   "cell_type": "code",
   "execution_count": 20,
   "metadata": {
    "collapsed": true
   },
   "outputs": [],
   "source": [
    "nmf_model = NMF(n_components=256)"
   ]
  },
  {
   "cell_type": "code",
   "execution_count": 21,
   "metadata": {},
   "outputs": [
    {
     "name": "stdout",
     "output_type": "stream",
     "text": [
      "Wall time: 1min 45s\n"
     ]
    }
   ],
   "source": [
    "%%time\n",
    "X_NMF_transformed = nmf_model.fit_transform(X)"
   ]
  },
  {
   "cell_type": "code",
   "execution_count": 22,
   "metadata": {},
   "outputs": [
    {
     "data": {
      "text/plain": [
       "18.253983368021274"
      ]
     },
     "execution_count": 22,
     "metadata": {},
     "output_type": "execute_result"
    }
   ],
   "source": [
    "nmf_model.reconstruction_err_"
   ]
  },
  {
   "cell_type": "code",
   "execution_count": 23,
   "metadata": {},
   "outputs": [
    {
     "data": {
      "text/plain": [
       "(994, 256)"
      ]
     },
     "execution_count": 23,
     "metadata": {},
     "output_type": "execute_result"
    }
   ],
   "source": [
    "X_NMF_transformed.shape"
   ]
  },
  {
   "cell_type": "code",
   "execution_count": 24,
   "metadata": {
    "collapsed": true
   },
   "outputs": [],
   "source": [
    "# svd = TruncatedSVD(n_components=2900)\n",
    "\n",
    "# Original preferred value is n_components = 128\n",
    "# PA greenfield 1811"
   ]
  },
  {
   "cell_type": "code",
   "execution_count": 25,
   "metadata": {
    "collapsed": true
   },
   "outputs": [],
   "source": [
    "# %%time\n",
    "# X_transformed = svd.fit_transform(X)"
   ]
  },
  {
   "cell_type": "code",
   "execution_count": 26,
   "metadata": {
    "collapsed": true
   },
   "outputs": [],
   "source": [
    "# svd.explained_variance_ratio_.sum()\n",
    "# X_transformed.shape"
   ]
  },
  {
   "cell_type": "code",
   "execution_count": 27,
   "metadata": {},
   "outputs": [
    {
     "name": "stdout",
     "output_type": "stream",
     "text": [
      "Wall time: 10 ms\n"
     ]
    }
   ],
   "source": [
    "%%time\n",
    "\n",
    "index = BallTree(X_NMF_transformed,\n",
    "            metric='hamming')\n",
    "\n",
    "#index = BallTree(X_transformed)"
   ]
  },
  {
   "cell_type": "code",
   "execution_count": 29,
   "metadata": {},
   "outputs": [
    {
     "name": "stdout",
     "output_type": "stream",
     "text": [
      "Wall time: 2 ms\n"
     ]
    },
    {
     "data": {
      "text/plain": [
       "(array([[ 0.        ,  0.16796875,  0.16796875,  0.171875  ,  0.171875  ,\n",
       "          0.1796875 ,  0.1796875 ,  0.1796875 ,  0.18359375,  0.18359375,\n",
       "          0.18359375]]),\n",
       " array([[  0, 658, 370, 821, 125, 950, 556, 615, 398, 773, 662]], dtype=int64))"
      ]
     },
     "execution_count": 29,
     "metadata": {},
     "output_type": "execute_result"
    }
   ],
   "source": [
    "%%time\n",
    "\n",
    "index.query(X_NMF_transformed[[0]],k=11,dualtree=True)\n",
    "\n",
    "#index.query(X_transformed[[0]],k=11,dualtree=True)\n",
    "\n",
    "# This was originally set ot k=10\n",
    "# dualtree was originally set to False"
   ]
  },
  {
   "cell_type": "code",
   "execution_count": 82,
   "metadata": {
    "collapsed": true
   },
   "outputs": [],
   "source": [
    "test_company = 'Hirtle, Callaghan & Co., LLC'\n",
    "i = df1.index.get_loc(test_company)"
   ]
  },
  {
   "cell_type": "code",
   "execution_count": 83,
   "metadata": {
    "collapsed": true
   },
   "outputs": [],
   "source": [
    "distances, indices = index.query(X_NMF_transformed[[i]],k=11,dualtree=True)\n",
    "\n",
    "#distances, indices = index.query(X_transformed[[i]],k=11,dualtree=True)\n",
    "\n",
    "# Tried this to see if it would improve results. Need to look into how to use it more because it threw an error\n",
    "#distances, indices = index.query_radius(X_transformed[[i]],r=0.3,count_only=False)"
   ]
  },
  {
   "cell_type": "code",
   "execution_count": 84,
   "metadata": {},
   "outputs": [
    {
     "data": {
      "text/plain": [
       "Account Name\n",
       "Hirtle, Callaghan & Co., LLC             hirtle, callaghan & co., llc is a privately ow...\n",
       "Palos Management Inc.                    palos management inc. is based in montreal, qu...\n",
       "FRÜH & PARTNER VERMÖGENSVERWALTUNG AG    früh & partner vermögensverwaltung ag is based...\n",
       "Sound Point Capital Management, LP                    sound point capital is a hedge fund.\n",
       "Paragon Associates, Ltd.                 paragon associates, ltd. is a privately owned ...\n",
       "Bluespruce Investments, LP                                 blue spruce lp is a hedge fund.\n",
       "Ninepoint Partners LP                            ninepoint partners lp is based in canada.\n",
       "Sandia Holdings, LLC                     sandia holdings, llc is headquartered in green...\n",
       "Man Investments Limited                  man investments limited operates as a subsidia...\n",
       "FormulaFolio Investments, LLC            formulafolio investments, llc is an employee o...\n",
       "Stone Ridge Asset Management LLC         stone ridge asset management llc is a privatel...\n",
       "Name: Business Description, dtype: object"
      ]
     },
     "execution_count": 84,
     "metadata": {},
     "output_type": "execute_result"
    }
   ],
   "source": [
    "df1['Business Description'].iloc[indices[0]]"
   ]
  },
  {
   "cell_type": "code",
   "execution_count": 85,
   "metadata": {},
   "outputs": [
    {
     "data": {
      "text/plain": [
       "(11, 1)"
      ]
     },
     "execution_count": 85,
     "metadata": {},
     "output_type": "execute_result"
    }
   ],
   "source": [
    "SimilarCo_df = pd.DataFrame(df1['Business Description'].iloc[indices[0]])\n",
    "SimilarCo_df.shape"
   ]
  },
  {
   "cell_type": "code",
   "execution_count": 86,
   "metadata": {
    "collapsed": true
   },
   "outputs": [],
   "source": [
    "# for i in SimilarCo_df.index:\n",
    "#     print(''.join(i))"
   ]
  },
  {
   "cell_type": "code",
   "execution_count": 87,
   "metadata": {
    "collapsed": true,
    "scrolled": true
   },
   "outputs": [],
   "source": [
    "#SimilarCo_df.iloc[0][0]\n",
    "#SimilarCo_df.iloc[1][0]\n",
    "#SimilarCo_df.iloc[2][0]\n",
    "#SimilarCo_df.iloc[3][0]\n",
    "#SimilarCo_df.iloc[10][0]"
   ]
  },
  {
   "cell_type": "code",
   "execution_count": 88,
   "metadata": {
    "collapsed": true
   },
   "outputs": [],
   "source": [
    "raw_documents = []\n",
    "df_range = range(0,len(SimilarCo_df),1)\n",
    "\n",
    "for i in df_range:\n",
    "    raw_documents.append(SimilarCo_df.iloc[i][0])"
   ]
  },
  {
   "cell_type": "code",
   "execution_count": 89,
   "metadata": {
    "collapsed": true
   },
   "outputs": [],
   "source": [
    "vect2 = TfidfVectorizer(min_df=1,\n",
    "                       ngram_range=(1,4),\n",
    "                       max_df=0.60)\n",
    "\n",
    "tfidf2 = vect2.fit_transform(raw_documents)\n",
    "tfidf_format = (tfidf2 * tfidf2.T).A\n",
    "tfidf_similarity = tfidf_format[0]"
   ]
  },
  {
   "cell_type": "code",
   "execution_count": 90,
   "metadata": {},
   "outputs": [
    {
     "data": {
      "text/plain": [
       "(11, 807)"
      ]
     },
     "execution_count": 90,
     "metadata": {},
     "output_type": "execute_result"
    }
   ],
   "source": [
    "tfidf2.shape"
   ]
  },
  {
   "cell_type": "code",
   "execution_count": 91,
   "metadata": {},
   "outputs": [
    {
     "name": "stdout",
     "output_type": "stream",
     "text": [
      "TfidfModel(num_docs=11, num_nnz=220)\n"
     ]
    },
    {
     "data": {
      "text/plain": [
       "220"
      ]
     },
     "execution_count": 91,
     "metadata": {},
     "output_type": "execute_result"
    }
   ],
   "source": [
    "from nltk.tokenize import word_tokenize\n",
    "gen_docs = [[w.lower() for w in word_tokenize(text)]\n",
    "           for text in raw_documents]\n",
    "\n",
    "\n",
    "dictionary = gensim.corpora.Dictionary(gen_docs)\n",
    "\n",
    "corpus = [dictionary.doc2bow(gen_doc) for gen_doc in gen_docs]\n",
    "\n",
    "# NOTE: num_mnz is the number of tokens\n",
    "\n",
    "tf_idf = gensim.models.TfidfModel(corpus)\n",
    "print(tf_idf)\n",
    "s = 0\n",
    "for i in corpus:\n",
    "    s += len(i)\n",
    "s"
   ]
  },
  {
   "cell_type": "code",
   "execution_count": 92,
   "metadata": {
    "collapsed": true
   },
   "outputs": [],
   "source": [
    "#for i in range(len(dictionary)):\n",
    "#    print(i, dictionary[i])"
   ]
  },
  {
   "cell_type": "code",
   "execution_count": 93,
   "metadata": {},
   "outputs": [
    {
     "name": "stdout",
     "output_type": "stream",
     "text": [
      "Similarity index with 11 documents in 0 shards (stored under C:\\Users\\zanderl)\n",
      "<class 'gensim.similarities.docsim.Similarity'>\n"
     ]
    }
   ],
   "source": [
    "sims = gensim.similarities.Similarity(gensim.utils.os.getcwd(), tf_idf[corpus],\n",
    "                                     num_features=len(dictionary))\n",
    "\n",
    "print(sims)\n",
    "print(type(sims))"
   ]
  },
  {
   "cell_type": "code",
   "execution_count": 94,
   "metadata": {
    "collapsed": true
   },
   "outputs": [],
   "source": [
    "query_doc = [w.lower() for w in word_tokenize(SimilarCo_df.iloc[0][0])]\n",
    "query_doc_bow = dictionary.doc2bow(query_doc)\n",
    "query_doc_tf_idf = tf_idf[query_doc_bow]\n",
    "\n",
    "SimilarCo_df['tfidf Similarity'] = tfidf_similarity\n",
    "SimilarCo_df['NLTK tfidf Similarity'] = sims[query_doc_tf_idf]\n",
    "SimilarCo_df['Hamming Distances'] = distances.T"
   ]
  },
  {
   "cell_type": "code",
   "execution_count": 95,
   "metadata": {},
   "outputs": [
    {
     "data": {
      "text/html": [
       "<div>\n",
       "<style>\n",
       "    .dataframe thead tr:only-child th {\n",
       "        text-align: right;\n",
       "    }\n",
       "\n",
       "    .dataframe thead th {\n",
       "        text-align: left;\n",
       "    }\n",
       "\n",
       "    .dataframe tbody tr th {\n",
       "        vertical-align: top;\n",
       "    }\n",
       "</style>\n",
       "<table border=\"1\" class=\"dataframe\">\n",
       "  <thead>\n",
       "    <tr style=\"text-align: right;\">\n",
       "      <th></th>\n",
       "      <th>Business Description</th>\n",
       "      <th>tfidf Similarity</th>\n",
       "      <th>NLTK tfidf Similarity</th>\n",
       "      <th>Hamming Distances</th>\n",
       "    </tr>\n",
       "    <tr>\n",
       "      <th>Account Name</th>\n",
       "      <th></th>\n",
       "      <th></th>\n",
       "      <th></th>\n",
       "      <th></th>\n",
       "    </tr>\n",
       "  </thead>\n",
       "  <tbody>\n",
       "    <tr>\n",
       "      <th>Hirtle, Callaghan &amp; Co., LLC</th>\n",
       "      <td>hirtle, callaghan &amp; co., llc is a privately ow...</td>\n",
       "      <td>1.000000</td>\n",
       "      <td>1.000000</td>\n",
       "      <td>0.000000</td>\n",
       "    </tr>\n",
       "    <tr>\n",
       "      <th>Palos Management Inc.</th>\n",
       "      <td>palos management inc. is based in montreal, qu...</td>\n",
       "      <td>0.000000</td>\n",
       "      <td>0.022022</td>\n",
       "      <td>0.207031</td>\n",
       "    </tr>\n",
       "    <tr>\n",
       "      <th>FRÜH &amp; PARTNER VERMÖGENSVERWALTUNG AG</th>\n",
       "      <td>früh &amp; partner vermögensverwaltung ag is based...</td>\n",
       "      <td>0.000000</td>\n",
       "      <td>0.037739</td>\n",
       "      <td>0.207031</td>\n",
       "    </tr>\n",
       "    <tr>\n",
       "      <th>Sound Point Capital Management, LP</th>\n",
       "      <td>sound point capital is a hedge fund.</td>\n",
       "      <td>0.009278</td>\n",
       "      <td>0.016388</td>\n",
       "      <td>0.210938</td>\n",
       "    </tr>\n",
       "    <tr>\n",
       "      <th>Paragon Associates, Ltd.</th>\n",
       "      <td>paragon associates, ltd. is a privately owned ...</td>\n",
       "      <td>0.039539</td>\n",
       "      <td>0.048383</td>\n",
       "      <td>0.210938</td>\n",
       "    </tr>\n",
       "    <tr>\n",
       "      <th>Bluespruce Investments, LP</th>\n",
       "      <td>blue spruce lp is a hedge fund.</td>\n",
       "      <td>0.009443</td>\n",
       "      <td>0.017549</td>\n",
       "      <td>0.214844</td>\n",
       "    </tr>\n",
       "    <tr>\n",
       "      <th>Ninepoint Partners LP</th>\n",
       "      <td>ninepoint partners lp is based in canada.</td>\n",
       "      <td>0.000000</td>\n",
       "      <td>0.002833</td>\n",
       "      <td>0.218750</td>\n",
       "    </tr>\n",
       "    <tr>\n",
       "      <th>Sandia Holdings, LLC</th>\n",
       "      <td>sandia holdings, llc is headquartered in green...</td>\n",
       "      <td>0.029572</td>\n",
       "      <td>0.059861</td>\n",
       "      <td>0.218750</td>\n",
       "    </tr>\n",
       "    <tr>\n",
       "      <th>Man Investments Limited</th>\n",
       "      <td>man investments limited operates as a subsidia...</td>\n",
       "      <td>0.012245</td>\n",
       "      <td>0.018093</td>\n",
       "      <td>0.222656</td>\n",
       "    </tr>\n",
       "    <tr>\n",
       "      <th>FormulaFolio Investments, LLC</th>\n",
       "      <td>formulafolio investments, llc is an employee o...</td>\n",
       "      <td>0.045913</td>\n",
       "      <td>0.099891</td>\n",
       "      <td>0.222656</td>\n",
       "    </tr>\n",
       "    <tr>\n",
       "      <th>Stone Ridge Asset Management LLC</th>\n",
       "      <td>stone ridge asset management llc is a privatel...</td>\n",
       "      <td>0.078980</td>\n",
       "      <td>0.081059</td>\n",
       "      <td>0.222656</td>\n",
       "    </tr>\n",
       "  </tbody>\n",
       "</table>\n",
       "</div>"
      ],
      "text/plain": [
       "                                                                    Business Description  \\\n",
       "Account Name                                                                               \n",
       "Hirtle, Callaghan & Co., LLC           hirtle, callaghan & co., llc is a privately ow...   \n",
       "Palos Management Inc.                  palos management inc. is based in montreal, qu...   \n",
       "FRÜH & PARTNER VERMÖGENSVERWALTUNG AG  früh & partner vermögensverwaltung ag is based...   \n",
       "Sound Point Capital Management, LP                  sound point capital is a hedge fund.   \n",
       "Paragon Associates, Ltd.               paragon associates, ltd. is a privately owned ...   \n",
       "Bluespruce Investments, LP                               blue spruce lp is a hedge fund.   \n",
       "Ninepoint Partners LP                          ninepoint partners lp is based in canada.   \n",
       "Sandia Holdings, LLC                   sandia holdings, llc is headquartered in green...   \n",
       "Man Investments Limited                man investments limited operates as a subsidia...   \n",
       "FormulaFolio Investments, LLC          formulafolio investments, llc is an employee o...   \n",
       "Stone Ridge Asset Management LLC       stone ridge asset management llc is a privatel...   \n",
       "\n",
       "                                       tfidf Similarity  \\\n",
       "Account Name                                              \n",
       "Hirtle, Callaghan & Co., LLC                   1.000000   \n",
       "Palos Management Inc.                          0.000000   \n",
       "FRÜH & PARTNER VERMÖGENSVERWALTUNG AG          0.000000   \n",
       "Sound Point Capital Management, LP             0.009278   \n",
       "Paragon Associates, Ltd.                       0.039539   \n",
       "Bluespruce Investments, LP                     0.009443   \n",
       "Ninepoint Partners LP                          0.000000   \n",
       "Sandia Holdings, LLC                           0.029572   \n",
       "Man Investments Limited                        0.012245   \n",
       "FormulaFolio Investments, LLC                  0.045913   \n",
       "Stone Ridge Asset Management LLC               0.078980   \n",
       "\n",
       "                                       NLTK tfidf Similarity  \\\n",
       "Account Name                                                   \n",
       "Hirtle, Callaghan & Co., LLC                        1.000000   \n",
       "Palos Management Inc.                               0.022022   \n",
       "FRÜH & PARTNER VERMÖGENSVERWALTUNG AG               0.037739   \n",
       "Sound Point Capital Management, LP                  0.016388   \n",
       "Paragon Associates, Ltd.                            0.048383   \n",
       "Bluespruce Investments, LP                          0.017549   \n",
       "Ninepoint Partners LP                               0.002833   \n",
       "Sandia Holdings, LLC                                0.059861   \n",
       "Man Investments Limited                             0.018093   \n",
       "FormulaFolio Investments, LLC                       0.099891   \n",
       "Stone Ridge Asset Management LLC                    0.081059   \n",
       "\n",
       "                                       Hamming Distances  \n",
       "Account Name                                              \n",
       "Hirtle, Callaghan & Co., LLC                    0.000000  \n",
       "Palos Management Inc.                           0.207031  \n",
       "FRÜH & PARTNER VERMÖGENSVERWALTUNG AG           0.207031  \n",
       "Sound Point Capital Management, LP              0.210938  \n",
       "Paragon Associates, Ltd.                        0.210938  \n",
       "Bluespruce Investments, LP                      0.214844  \n",
       "Ninepoint Partners LP                           0.218750  \n",
       "Sandia Holdings, LLC                            0.218750  \n",
       "Man Investments Limited                         0.222656  \n",
       "FormulaFolio Investments, LLC                   0.222656  \n",
       "Stone Ridge Asset Management LLC                0.222656  "
      ]
     },
     "execution_count": 95,
     "metadata": {},
     "output_type": "execute_result"
    }
   ],
   "source": [
    "SimilarCo_df.sort_values(by='Hamming Distances',ascending=True,inplace=True)\n",
    "SimilarCo_df"
   ]
  },
  {
   "cell_type": "code",
   "execution_count": 96,
   "metadata": {},
   "outputs": [
    {
     "data": {
      "text/html": [
       "<div>\n",
       "<style>\n",
       "    .dataframe thead tr:only-child th {\n",
       "        text-align: right;\n",
       "    }\n",
       "\n",
       "    .dataframe thead th {\n",
       "        text-align: left;\n",
       "    }\n",
       "\n",
       "    .dataframe tbody tr th {\n",
       "        vertical-align: top;\n",
       "    }\n",
       "</style>\n",
       "<table border=\"1\" class=\"dataframe\">\n",
       "  <thead>\n",
       "    <tr style=\"text-align: right;\">\n",
       "      <th></th>\n",
       "      <th>Business Description</th>\n",
       "      <th>tfidf Similarity</th>\n",
       "      <th>NLTK tfidf Similarity</th>\n",
       "      <th>Hamming Distances</th>\n",
       "    </tr>\n",
       "    <tr>\n",
       "      <th>Account Name</th>\n",
       "      <th></th>\n",
       "      <th></th>\n",
       "      <th></th>\n",
       "      <th></th>\n",
       "    </tr>\n",
       "  </thead>\n",
       "  <tbody>\n",
       "    <tr>\n",
       "      <th>Hirtle, Callaghan &amp; Co., LLC</th>\n",
       "      <td>hirtle, callaghan &amp; co., llc is a privately ow...</td>\n",
       "      <td>1.000000</td>\n",
       "      <td>1.000000</td>\n",
       "      <td>0.000000</td>\n",
       "    </tr>\n",
       "    <tr>\n",
       "      <th>Stone Ridge Asset Management LLC</th>\n",
       "      <td>stone ridge asset management llc is a privatel...</td>\n",
       "      <td>0.078980</td>\n",
       "      <td>0.081059</td>\n",
       "      <td>0.222656</td>\n",
       "    </tr>\n",
       "    <tr>\n",
       "      <th>FormulaFolio Investments, LLC</th>\n",
       "      <td>formulafolio investments, llc is an employee o...</td>\n",
       "      <td>0.045913</td>\n",
       "      <td>0.099891</td>\n",
       "      <td>0.222656</td>\n",
       "    </tr>\n",
       "    <tr>\n",
       "      <th>Paragon Associates, Ltd.</th>\n",
       "      <td>paragon associates, ltd. is a privately owned ...</td>\n",
       "      <td>0.039539</td>\n",
       "      <td>0.048383</td>\n",
       "      <td>0.210938</td>\n",
       "    </tr>\n",
       "    <tr>\n",
       "      <th>Sandia Holdings, LLC</th>\n",
       "      <td>sandia holdings, llc is headquartered in green...</td>\n",
       "      <td>0.029572</td>\n",
       "      <td>0.059861</td>\n",
       "      <td>0.218750</td>\n",
       "    </tr>\n",
       "    <tr>\n",
       "      <th>Man Investments Limited</th>\n",
       "      <td>man investments limited operates as a subsidia...</td>\n",
       "      <td>0.012245</td>\n",
       "      <td>0.018093</td>\n",
       "      <td>0.222656</td>\n",
       "    </tr>\n",
       "    <tr>\n",
       "      <th>Bluespruce Investments, LP</th>\n",
       "      <td>blue spruce lp is a hedge fund.</td>\n",
       "      <td>0.009443</td>\n",
       "      <td>0.017549</td>\n",
       "      <td>0.214844</td>\n",
       "    </tr>\n",
       "    <tr>\n",
       "      <th>Sound Point Capital Management, LP</th>\n",
       "      <td>sound point capital is a hedge fund.</td>\n",
       "      <td>0.009278</td>\n",
       "      <td>0.016388</td>\n",
       "      <td>0.210938</td>\n",
       "    </tr>\n",
       "    <tr>\n",
       "      <th>Palos Management Inc.</th>\n",
       "      <td>palos management inc. is based in montreal, qu...</td>\n",
       "      <td>0.000000</td>\n",
       "      <td>0.022022</td>\n",
       "      <td>0.207031</td>\n",
       "    </tr>\n",
       "    <tr>\n",
       "      <th>FRÜH &amp; PARTNER VERMÖGENSVERWALTUNG AG</th>\n",
       "      <td>früh &amp; partner vermögensverwaltung ag is based...</td>\n",
       "      <td>0.000000</td>\n",
       "      <td>0.037739</td>\n",
       "      <td>0.207031</td>\n",
       "    </tr>\n",
       "    <tr>\n",
       "      <th>Ninepoint Partners LP</th>\n",
       "      <td>ninepoint partners lp is based in canada.</td>\n",
       "      <td>0.000000</td>\n",
       "      <td>0.002833</td>\n",
       "      <td>0.218750</td>\n",
       "    </tr>\n",
       "  </tbody>\n",
       "</table>\n",
       "</div>"
      ],
      "text/plain": [
       "                                                                    Business Description  \\\n",
       "Account Name                                                                               \n",
       "Hirtle, Callaghan & Co., LLC           hirtle, callaghan & co., llc is a privately ow...   \n",
       "Stone Ridge Asset Management LLC       stone ridge asset management llc is a privatel...   \n",
       "FormulaFolio Investments, LLC          formulafolio investments, llc is an employee o...   \n",
       "Paragon Associates, Ltd.               paragon associates, ltd. is a privately owned ...   \n",
       "Sandia Holdings, LLC                   sandia holdings, llc is headquartered in green...   \n",
       "Man Investments Limited                man investments limited operates as a subsidia...   \n",
       "Bluespruce Investments, LP                               blue spruce lp is a hedge fund.   \n",
       "Sound Point Capital Management, LP                  sound point capital is a hedge fund.   \n",
       "Palos Management Inc.                  palos management inc. is based in montreal, qu...   \n",
       "FRÜH & PARTNER VERMÖGENSVERWALTUNG AG  früh & partner vermögensverwaltung ag is based...   \n",
       "Ninepoint Partners LP                          ninepoint partners lp is based in canada.   \n",
       "\n",
       "                                       tfidf Similarity  \\\n",
       "Account Name                                              \n",
       "Hirtle, Callaghan & Co., LLC                   1.000000   \n",
       "Stone Ridge Asset Management LLC               0.078980   \n",
       "FormulaFolio Investments, LLC                  0.045913   \n",
       "Paragon Associates, Ltd.                       0.039539   \n",
       "Sandia Holdings, LLC                           0.029572   \n",
       "Man Investments Limited                        0.012245   \n",
       "Bluespruce Investments, LP                     0.009443   \n",
       "Sound Point Capital Management, LP             0.009278   \n",
       "Palos Management Inc.                          0.000000   \n",
       "FRÜH & PARTNER VERMÖGENSVERWALTUNG AG          0.000000   \n",
       "Ninepoint Partners LP                          0.000000   \n",
       "\n",
       "                                       NLTK tfidf Similarity  \\\n",
       "Account Name                                                   \n",
       "Hirtle, Callaghan & Co., LLC                        1.000000   \n",
       "Stone Ridge Asset Management LLC                    0.081059   \n",
       "FormulaFolio Investments, LLC                       0.099891   \n",
       "Paragon Associates, Ltd.                            0.048383   \n",
       "Sandia Holdings, LLC                                0.059861   \n",
       "Man Investments Limited                             0.018093   \n",
       "Bluespruce Investments, LP                          0.017549   \n",
       "Sound Point Capital Management, LP                  0.016388   \n",
       "Palos Management Inc.                               0.022022   \n",
       "FRÜH & PARTNER VERMÖGENSVERWALTUNG AG               0.037739   \n",
       "Ninepoint Partners LP                               0.002833   \n",
       "\n",
       "                                       Hamming Distances  \n",
       "Account Name                                              \n",
       "Hirtle, Callaghan & Co., LLC                    0.000000  \n",
       "Stone Ridge Asset Management LLC                0.222656  \n",
       "FormulaFolio Investments, LLC                   0.222656  \n",
       "Paragon Associates, Ltd.                        0.210938  \n",
       "Sandia Holdings, LLC                            0.218750  \n",
       "Man Investments Limited                         0.222656  \n",
       "Bluespruce Investments, LP                      0.214844  \n",
       "Sound Point Capital Management, LP              0.210938  \n",
       "Palos Management Inc.                           0.207031  \n",
       "FRÜH & PARTNER VERMÖGENSVERWALTUNG AG           0.207031  \n",
       "Ninepoint Partners LP                           0.218750  "
      ]
     },
     "execution_count": 96,
     "metadata": {},
     "output_type": "execute_result"
    }
   ],
   "source": [
    "SimilarCo_df.sort_values(by='tfidf Similarity',ascending=False,inplace=True)\n",
    "SimilarCo_df"
   ]
  },
  {
   "cell_type": "code",
   "execution_count": 44,
   "metadata": {
    "collapsed": true
   },
   "outputs": [],
   "source": [
    "# for i in SimilarCo_df.index:\n",
    "#    print(''.join(i))"
   ]
  },
  {
   "cell_type": "code",
   "execution_count": 52,
   "metadata": {},
   "outputs": [
    {
     "data": {
      "text/html": [
       "<div>\n",
       "<style>\n",
       "    .dataframe thead tr:only-child th {\n",
       "        text-align: right;\n",
       "    }\n",
       "\n",
       "    .dataframe thead th {\n",
       "        text-align: left;\n",
       "    }\n",
       "\n",
       "    .dataframe tbody tr th {\n",
       "        vertical-align: top;\n",
       "    }\n",
       "</style>\n",
       "<table border=\"1\" class=\"dataframe\">\n",
       "  <thead>\n",
       "    <tr style=\"text-align: right;\">\n",
       "      <th></th>\n",
       "      <th>Business Description</th>\n",
       "      <th>tfidf Similarity</th>\n",
       "      <th>NLTK tfidf Similarity</th>\n",
       "      <th>Hamming Distances</th>\n",
       "    </tr>\n",
       "    <tr>\n",
       "      <th>Account Name</th>\n",
       "      <th></th>\n",
       "      <th></th>\n",
       "      <th></th>\n",
       "      <th></th>\n",
       "    </tr>\n",
       "  </thead>\n",
       "  <tbody>\n",
       "    <tr>\n",
       "      <th>GAMCO Investors, Inc.</th>\n",
       "      <td>gamco investors, inc. is a publicly owned hold...</td>\n",
       "      <td>1.000000</td>\n",
       "      <td>0.999999</td>\n",
       "      <td>0.000000</td>\n",
       "    </tr>\n",
       "    <tr>\n",
       "      <th>Intact Investment Management Inc.</th>\n",
       "      <td>ing investment management, inc. operates as a ...</td>\n",
       "      <td>0.078918</td>\n",
       "      <td>0.086856</td>\n",
       "      <td>0.281250</td>\n",
       "    </tr>\n",
       "    <tr>\n",
       "      <th>Voce Capital Management, LLC</th>\n",
       "      <td>voce capital management, llc was founded in 20...</td>\n",
       "      <td>0.068561</td>\n",
       "      <td>0.164243</td>\n",
       "      <td>0.289062</td>\n",
       "    </tr>\n",
       "    <tr>\n",
       "      <th>Alambic Investment Management, L.P.</th>\n",
       "      <td>alambic investment management, l.p. offers inv...</td>\n",
       "      <td>0.054072</td>\n",
       "      <td>0.145743</td>\n",
       "      <td>0.281250</td>\n",
       "    </tr>\n",
       "    <tr>\n",
       "      <th>Man Investments Limited</th>\n",
       "      <td>man investments limited operates as a subsidia...</td>\n",
       "      <td>0.040568</td>\n",
       "      <td>0.037343</td>\n",
       "      <td>0.281250</td>\n",
       "    </tr>\n",
       "    <tr>\n",
       "      <th>Governors Lane LP</th>\n",
       "      <td>governors lane lp is a private investment firm...</td>\n",
       "      <td>0.035084</td>\n",
       "      <td>0.100757</td>\n",
       "      <td>0.281250</td>\n",
       "    </tr>\n",
       "    <tr>\n",
       "      <th>Stone Ridge Asset Management LLC</th>\n",
       "      <td>stone ridge asset management llc is a privatel...</td>\n",
       "      <td>0.023888</td>\n",
       "      <td>0.042011</td>\n",
       "      <td>0.296875</td>\n",
       "    </tr>\n",
       "    <tr>\n",
       "      <th>Richardson GMP Limited</th>\n",
       "      <td>richardson gmp limited is a privately owned in...</td>\n",
       "      <td>0.013124</td>\n",
       "      <td>0.029662</td>\n",
       "      <td>0.281250</td>\n",
       "    </tr>\n",
       "    <tr>\n",
       "      <th>Ninepoint Partners LP</th>\n",
       "      <td>ninepoint partners lp is based in canada.</td>\n",
       "      <td>0.005061</td>\n",
       "      <td>0.007345</td>\n",
       "      <td>0.296875</td>\n",
       "    </tr>\n",
       "    <tr>\n",
       "      <th>Sound Point Capital Management, LP</th>\n",
       "      <td>sound point capital is a hedge fund.</td>\n",
       "      <td>0.000000</td>\n",
       "      <td>0.001877</td>\n",
       "      <td>0.273438</td>\n",
       "    </tr>\n",
       "    <tr>\n",
       "      <th>Bluespruce Investments, LP</th>\n",
       "      <td>blue spruce lp is a hedge fund.</td>\n",
       "      <td>0.000000</td>\n",
       "      <td>0.001936</td>\n",
       "      <td>0.281250</td>\n",
       "    </tr>\n",
       "  </tbody>\n",
       "</table>\n",
       "</div>"
      ],
      "text/plain": [
       "                                                                  Business Description  \\\n",
       "Account Name                                                                             \n",
       "GAMCO Investors, Inc.                gamco investors, inc. is a publicly owned hold...   \n",
       "Intact Investment Management Inc.    ing investment management, inc. operates as a ...   \n",
       "Voce Capital Management, LLC         voce capital management, llc was founded in 20...   \n",
       "Alambic Investment Management, L.P.  alambic investment management, l.p. offers inv...   \n",
       "Man Investments Limited              man investments limited operates as a subsidia...   \n",
       "Governors Lane LP                    governors lane lp is a private investment firm...   \n",
       "Stone Ridge Asset Management LLC     stone ridge asset management llc is a privatel...   \n",
       "Richardson GMP Limited               richardson gmp limited is a privately owned in...   \n",
       "Ninepoint Partners LP                        ninepoint partners lp is based in canada.   \n",
       "Sound Point Capital Management, LP                sound point capital is a hedge fund.   \n",
       "Bluespruce Investments, LP                             blue spruce lp is a hedge fund.   \n",
       "\n",
       "                                     tfidf Similarity  NLTK tfidf Similarity  \\\n",
       "Account Name                                                                   \n",
       "GAMCO Investors, Inc.                        1.000000               0.999999   \n",
       "Intact Investment Management Inc.            0.078918               0.086856   \n",
       "Voce Capital Management, LLC                 0.068561               0.164243   \n",
       "Alambic Investment Management, L.P.          0.054072               0.145743   \n",
       "Man Investments Limited                      0.040568               0.037343   \n",
       "Governors Lane LP                            0.035084               0.100757   \n",
       "Stone Ridge Asset Management LLC             0.023888               0.042011   \n",
       "Richardson GMP Limited                       0.013124               0.029662   \n",
       "Ninepoint Partners LP                        0.005061               0.007345   \n",
       "Sound Point Capital Management, LP           0.000000               0.001877   \n",
       "Bluespruce Investments, LP                   0.000000               0.001936   \n",
       "\n",
       "                                     Hamming Distances  \n",
       "Account Name                                            \n",
       "GAMCO Investors, Inc.                         0.000000  \n",
       "Intact Investment Management Inc.             0.281250  \n",
       "Voce Capital Management, LLC                  0.289062  \n",
       "Alambic Investment Management, L.P.           0.281250  \n",
       "Man Investments Limited                       0.281250  \n",
       "Governors Lane LP                             0.281250  \n",
       "Stone Ridge Asset Management LLC              0.296875  \n",
       "Richardson GMP Limited                        0.281250  \n",
       "Ninepoint Partners LP                         0.296875  \n",
       "Sound Point Capital Management, LP            0.273438  \n",
       "Bluespruce Investments, LP                    0.281250  "
      ]
     },
     "execution_count": 52,
     "metadata": {},
     "output_type": "execute_result"
    }
   ],
   "source": [
    "# ngram_range(1,4)\n",
    "SimilarCo_df.sort_values(by='tfidf Similarity',ascending=False,inplace=True)\n",
    "SimilarCo_df"
   ]
  },
  {
   "cell_type": "code",
   "execution_count": 48,
   "metadata": {
    "collapsed": true
   },
   "outputs": [],
   "source": [
    "# SimilarCo_df.sort_values(by='Hamming Distances',ascending=True,inplace=True)\n",
    "# SimilarCo_df"
   ]
  },
  {
   "cell_type": "code",
   "execution_count": 49,
   "metadata": {
    "collapsed": true,
    "scrolled": false
   },
   "outputs": [],
   "source": [
    "# SimilarCo_df.sort_values(by='tfidf Similarity',ascending=False,inplace=True)\n",
    "# SimilarCo_df"
   ]
  },
  {
   "cell_type": "code",
   "execution_count": 397,
   "metadata": {
    "collapsed": true
   },
   "outputs": [],
   "source": [
    "#SimilarCo_df['Business Description'].iloc[0]"
   ]
  },
  {
   "cell_type": "code",
   "execution_count": 398,
   "metadata": {
    "collapsed": true
   },
   "outputs": [],
   "source": [
    "#SimilarCo_df['Business Description'].iloc[1]"
   ]
  },
  {
   "cell_type": "code",
   "execution_count": 177,
   "metadata": {
    "collapsed": true
   },
   "outputs": [],
   "source": [
    "#SimilarCo_df['Business Description'].iloc[3]"
   ]
  },
  {
   "cell_type": "code",
   "execution_count": 398,
   "metadata": {},
   "outputs": [
    {
     "name": "stdout",
     "output_type": "stream",
     "text": [
      "Wall time: 1.26 s\n"
     ]
    }
   ],
   "source": [
    "%%time\n",
    "clf = DBSCAN(min_samples=2)\n",
    "\n",
    "#labels = clf.fit_predict(X_NMF_transformed)\n",
    "#labels = clf.fit_predict(X_transformed)\n",
    "labels = clf.fit_predict(X)"
   ]
  },
  {
   "cell_type": "code",
   "execution_count": 399,
   "metadata": {},
   "outputs": [
    {
     "data": {
      "text/plain": [
       "(2987,)"
      ]
     },
     "execution_count": 399,
     "metadata": {},
     "output_type": "execute_result"
    }
   ],
   "source": [
    "labels.shape"
   ]
  },
  {
   "cell_type": "code",
   "execution_count": 400,
   "metadata": {},
   "outputs": [
    {
     "name": "stdout",
     "output_type": "stream",
     "text": [
      "\n",
      "Total clusters discovered: 15\n"
     ]
    }
   ],
   "source": [
    "#n_clusters_ = len(set(labels)) - (1 if -1 in labels else 0)\n",
    "n_clusters_ = len(set(labels))\n",
    "print (\"\\nTotal clusters discovered: %d\" % n_clusters_)\n",
    "\n",
    "clustered = labels"
   ]
  },
  {
   "cell_type": "code",
   "execution_count": 401,
   "metadata": {},
   "outputs": [
    {
     "data": {
      "text/plain": [
       "(2987,)"
      ]
     },
     "execution_count": 401,
     "metadata": {},
     "output_type": "execute_result"
    }
   ],
   "source": [
    "labels.shape"
   ]
  },
  {
   "cell_type": "code",
   "execution_count": 406,
   "metadata": {
    "collapsed": true
   },
   "outputs": [],
   "source": [
    "clustered_series = pd.Series(index=coData_df.index, data=clustered.flatten())\n",
    "#clustered_series =clustered_series[clustered_series != -1]\n",
    "clustered_series_all = pd.Series(index=df1, data=clustered.flatten())\n",
    "#clustered_series_all = pd.Series(index=X_transformed, data=clustered.flatten())"
   ]
  },
  {
   "cell_type": "code",
   "execution_count": 423,
   "metadata": {
    "collapsed": true
   },
   "outputs": [
    {
     "data": {
      "text/plain": [
       "<Container object of 15 artists>"
      ]
     },
     "execution_count": 423,
     "metadata": {},
     "output_type": "execute_result"
    },
    {
     "data": {
      "text/plain": [
       "Text(0.5,1,'Cluster Member Counts')"
      ]
     },
     "execution_count": 423,
     "metadata": {},
     "output_type": "execute_result"
    },
    {
     "data": {
      "text/plain": [
       "Text(0.5,0,'Stocks in Cluster')"
      ]
     },
     "execution_count": 423,
     "metadata": {},
     "output_type": "execute_result"
    },
    {
     "data": {
      "image/png": "[encoded data removed]",
      "text/plain": [
       "<matplotlib.figure.Figure at 0xc8665c0400>"
      ]
     },
     "metadata": {},
     "output_type": "display_data"
    }
   ],
   "source": [
    "plt.barh(\n",
    "    #xrange(len(clustered_series.value_counts())),\n",
    "    range(len(clustered_series.value_counts())),\n",
    "    clustered_series.value_counts(),\n",
    "    alpha=0.625\n",
    ")\n",
    "plt.title('Cluster Member Counts')\n",
    "plt.xlabel('Stocks in Cluster')"
   ]
  },
  {
   "cell_type": "code",
   "execution_count": 416,
   "metadata": {
    "collapsed": true
   },
   "outputs": [],
   "source": [
    "pair_clusters = clustered_series.value_counts()[clustered_series.value_counts()<3].index.values"
   ]
  },
  {
   "cell_type": "code",
   "execution_count": 417,
   "metadata": {},
   "outputs": [
    {
     "name": "stdout",
     "output_type": "stream",
     "text": [
      "[11  9  7  3 12 10  6  2]\n",
      "\n",
      "Total pair clusters discovered: 8\n"
     ]
    }
   ],
   "source": [
    "print(pair_clusters)\n",
    "print(\"\\nTotal pair clusters discovered: %d\" % len(pair_clusters))"
   ]
  },
  {
   "cell_type": "code",
   "execution_count": 418,
   "metadata": {},
   "outputs": [
    {
     "data": {
      "text/plain": [
       "array([11,  9,  7,  3, 12, 10,  6,  2], dtype=int64)"
      ]
     },
     "execution_count": 418,
     "metadata": {},
     "output_type": "execute_result"
    }
   ],
   "source": [
    "pair_clusters[:100]"
   ]
  },
  {
   "cell_type": "code",
   "execution_count": 436,
   "metadata": {
    "collapsed": true
   },
   "outputs": [],
   "source": [
    "#cluster2 = clustered_series['Westfield Capital Management Company, L.P.']\n",
    "#coData_df.iloc[clustered==cluster2]"
   ]
  },
  {
   "cell_type": "code",
   "execution_count": 427,
   "metadata": {},
   "outputs": [
    {
     "data": {
      "text/plain": [
       "(2987,)"
      ]
     },
     "execution_count": 427,
     "metadata": {},
     "output_type": "execute_result"
    }
   ],
   "source": [
    "clustered_series.shape"
   ]
  },
  {
   "cell_type": "code",
   "execution_count": 437,
   "metadata": {},
   "outputs": [
    {
     "data": {
      "text/plain": [
       "Account Name\n",
       "Woodson Capital Management, LLC                                                                        13\n",
       "Atika Capital Management, LLC                                                                          13\n",
       "HG Vora Capital                                                                                        13\n",
       "Knott Partners                                                                                         13\n",
       "Empire Life Investments Inc.                                                                           12\n",
       "Anson Group                                                                                            12\n",
       "Altalis Capital                                                                                        11\n",
       "Oskie Capital Management, LLC                                                                          11\n",
       "Douglas Lane & Associates, LLC                                                                         10\n",
       "Douglas C. Lane & Associates                                                                           10\n",
       "WR Berkley Corp., Asset Management Arm                                                                  9\n",
       "Ally Financial Inc., Asset Management Arm                                                               9\n",
       "Precision Path Capital, LP                                                                              8\n",
       "Governors Lane LP                                                                                       8\n",
       "Nitorum Capital                                                                                         8\n",
       "Evermay Wealth Management, LLC                                                                          7\n",
       "Evercore Wealth Management, LLC                                                                         7\n",
       "Blume Capital Management                                                                                6\n",
       "Thames Capital Management                                                                               6\n",
       "PowerShares Exchange-Traded Fund Trust - PowerShares High Yield Equity Dividend Achievers Portfolio     5\n",
       "dtype: int64"
      ]
     },
     "execution_count": 437,
     "metadata": {},
     "output_type": "execute_result"
    }
   ],
   "source": [
    "clustered_series.sort_values(axis=0,ascending=False).head(20)"
   ]
  },
  {
   "cell_type": "code",
   "execution_count": 434,
   "metadata": {
    "collapsed": true
   },
   "outputs": [],
   "source": [
    "#large_clusters = clustered_series.value_counts()[clustered_series.value_counts()>3].index.values\n",
    "#print(large_clusters)\n",
    "#print(\"\\nTotal large clusters discovered: %d\" % len(pair_clusters))"
   ]
  },
  {
   "cell_type": "code",
   "execution_count": 439,
   "metadata": {},
   "outputs": [
    {
     "name": "stdout",
     "output_type": "stream",
     "text": [
      "Wall time: 1min 30s\n"
     ]
    }
   ],
   "source": [
    "%%time\n",
    "\n",
    "X_tsne = TSNE(learning_rate=1000, perplexity=25, random_state=1337).fit_transform(X_NMF_transformed)\n",
    "#X_tsne = TSNE(learning_rate=1000, perplexity=25, random_state=1337).fit_transform(X_transformed)\n",
    "#X_tsne = TSNE(learning_rate=1000, perplexity=25, random_state=1337).fit_transform(X)"
   ]
  },
  {
   "cell_type": "code",
   "execution_count": 442,
   "metadata": {},
   "outputs": [
    {
     "data": {
      "text/plain": [
       "(2987, 2)"
      ]
     },
     "execution_count": 442,
     "metadata": {},
     "output_type": "execute_result"
    }
   ],
   "source": [
    "X_tsne.shape"
   ]
  },
  {
   "cell_type": "code",
   "execution_count": 443,
   "metadata": {},
   "outputs": [
    {
     "data": {
      "image/png": "[encoded data removed]",
      "text/plain": [
       "<matplotlib.figure.Figure at 0xc868effac8>"
      ]
     },
     "metadata": {},
     "output_type": "display_data"
    }
   ],
   "source": [
    "plt.figure(1, facecolor='white',figsize=(20,20))\n",
    "plt.clf();\n",
    "plt.axis('off');\n",
    "\n",
    "\n",
    "\n",
    "plt.scatter(\n",
    "    X_tsne[(labels!=-1), 0],\n",
    "    X_tsne[(labels!=-1), 1],\n",
    "    s=100,\n",
    "    alpha=0.85,\n",
    "    c=labels[labels!=-1],\n",
    "    cmap=cm.Paired\n",
    ");\n",
    "\n",
    "plt.scatter(\n",
    "    X_tsne[(clustered_series_all==-1).values, 0],\n",
    "    X_tsne[(clustered_series_all==-1).values, 1],\n",
    "    s=100,\n",
    "    alpha=0.05\n",
    ");\n",
    "\n",
    "plt.title('T-SNE of all companies with clusters illustrated');"
   ]
  },
  {
   "cell_type": "code",
   "execution_count": null,
   "metadata": {
    "collapsed": true
   },
   "outputs": [],
   "source": []
  }
 ],
 "metadata": {
  "kernelspec": {
   "display_name": "Python 3",
   "language": "python",
   "name": "python3"
  },
  "language_info": {
   "codemirror_mode": {
    "name": "ipython",
    "version": 3
   },
   "file_extension": ".py",
   "mimetype": "text/x-python",
   "name": "python",
   "nbconvert_exporter": "python",
   "pygments_lexer": "ipython3",
   "version": "3.7.1"
  }
 },
 "nbformat": 4,
 "nbformat_minor": 2
}
