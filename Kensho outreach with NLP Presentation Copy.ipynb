{
 "cells": [
  {
   "cell_type": "code",
   "execution_count": 94,
   "metadata": {},
   "outputs": [
    {
     "data": {
      "text/html": [
       "\n",
       "    <div class=\"bk-root\">\n",
       "        <a href=\"https://bokeh.pydata.org\" target=\"_blank\" class=\"bk-logo bk-logo-small bk-logo-notebook\"></a>\n",
       "        <span id=\"83e07748-b1f9-465b-bfc6-f7bb2f576ae6\">Loading BokehJS ...</span>\n",
       "    </div>"
      ]
     },
     "metadata": {},
     "output_type": "display_data"
    },
    {
     "data": {
      "application/javascript": [
       "\n",
       "(function(root) {\n",
       "  function now() {\n",
       "    return new Date();\n",
       "  }\n",
       "\n",
       "  var force = true;\n",
       "\n",
       "  if (typeof (root._bokeh_onload_callbacks) === \"undefined\" || force === true) {\n",
       "    root._bokeh_onload_callbacks = [];\n",
       "    root._bokeh_is_loading = undefined;\n",
       "  }\n",
       "\n",
       "  var JS_MIME_TYPE = 'application/javascript';\n",
       "  var HTML_MIME_TYPE = 'text/html';\n",
       "  var EXEC_MIME_TYPE = 'application/vnd.bokehjs_exec.v0+json';\n",
       "  var CLASS_NAME = 'output_bokeh rendered_html';\n",
       "\n",
       "  /**\n",
       "   * Render data to the DOM node\n",
       "   */\n",
       "  function render(props, node) {\n",
       "    var script = document.createElement(\"script\");\n",
       "    node.appendChild(script);\n",
       "  }\n",
       "\n",
       "  /**\n",
       "   * Handle when an output is cleared or removed\n",
       "   */\n",
       "  function handleClearOutput(event, handle) {\n",
       "    var cell = handle.cell;\n",
       "\n",
       "    var id = cell.output_area._bokeh_element_id;\n",
       "    var server_id = cell.output_area._bokeh_server_id;\n",
       "    // Clean up Bokeh references\n",
       "    if (id !== undefined) {\n",
       "      Bokeh.index[id].model.document.clear();\n",
       "      delete Bokeh.index[id];\n",
       "    }\n",
       "\n",
       "    if (server_id !== undefined) {\n",
       "      // Clean up Bokeh references\n",
       "      var cmd = \"from bokeh.io.state import curstate; print(curstate().uuid_to_server['\" + server_id + \"'].get_sessions()[0].document.roots[0]._id)\";\n",
       "      cell.notebook.kernel.execute(cmd, {\n",
       "        iopub: {\n",
       "          output: function(msg) {\n",
       "            var element_id = msg.content.text.trim();\n",
       "            Bokeh.index[element_id].model.document.clear();\n",
       "            delete Bokeh.index[element_id];\n",
       "          }\n",
       "        }\n",
       "      });\n",
       "      // Destroy server and session\n",
       "      var cmd = \"import bokeh.io.notebook as ion; ion.destroy_server('\" + server_id + \"')\";\n",
       "      cell.notebook.kernel.execute(cmd);\n",
       "    }\n",
       "  }\n",
       "\n",
       "  /**\n",
       "   * Handle when a new output is added\n",
       "   */\n",
       "  function handleAddOutput(event, handle) {\n",
       "    var output_area = handle.output_area;\n",
       "    var output = handle.output;\n",
       "\n",
       "    // limit handleAddOutput to display_data with EXEC_MIME_TYPE content only\n",
       "    if ((output.output_type != \"display_data\") || (!output.data.hasOwnProperty(EXEC_MIME_TYPE))) {\n",
       "      return\n",
       "    }\n",
       "\n",
       "    var toinsert = output_area.element.find(`.${CLASS_NAME.split(' ')[0]}`);\n",
       "\n",
       "    if (output.metadata[EXEC_MIME_TYPE][\"id\"] !== undefined) {\n",
       "      toinsert[0].firstChild.textContent = output.data[JS_MIME_TYPE];\n",
       "      // store reference to embed id on output_area\n",
       "      output_area._bokeh_element_id = output.metadata[EXEC_MIME_TYPE][\"id\"];\n",
       "    }\n",
       "    if (output.metadata[EXEC_MIME_TYPE][\"server_id\"] !== undefined) {\n",
       "      var bk_div = document.createElement(\"div\");\n",
       "      bk_div.innerHTML = output.data[HTML_MIME_TYPE];\n",
       "      var script_attrs = bk_div.children[0].attributes;\n",
       "      for (var i = 0; i < script_attrs.length; i++) {\n",
       "        toinsert[0].firstChild.setAttribute(script_attrs[i].name, script_attrs[i].value);\n",
       "      }\n",
       "      // store reference to server id on output_area\n",
       "      output_area._bokeh_server_id = output.metadata[EXEC_MIME_TYPE][\"server_id\"];\n",
       "    }\n",
       "  }\n",
       "\n",
       "  function register_renderer(events, OutputArea) {\n",
       "\n",
       "    function append_mime(data, metadata, element) {\n",
       "      // create a DOM node to render to\n",
       "      var toinsert = this.create_output_subarea(\n",
       "        metadata,\n",
       "        CLASS_NAME,\n",
       "        EXEC_MIME_TYPE\n",
       "      );\n",
       "      this.keyboard_manager.register_events(toinsert);\n",
       "      // Render to node\n",
       "      var props = {data: data, metadata: metadata[EXEC_MIME_TYPE]};\n",
       "      render(props, toinsert[0]);\n",
       "      element.append(toinsert);\n",
       "      return toinsert\n",
       "    }\n",
       "\n",
       "    /* Handle when an output is cleared or removed */\n",
       "    events.on('clear_output.CodeCell', handleClearOutput);\n",
       "    events.on('delete.Cell', handleClearOutput);\n",
       "\n",
       "    /* Handle when a new output is added */\n",
       "    events.on('output_added.OutputArea', handleAddOutput);\n",
       "\n",
       "    /**\n",
       "     * Register the mime type and append_mime function with output_area\n",
       "     */\n",
       "    OutputArea.prototype.register_mime_type(EXEC_MIME_TYPE, append_mime, {\n",
       "      /* Is output safe? */\n",
       "      safe: true,\n",
       "      /* Index of renderer in `output_area.display_order` */\n",
       "      index: 0\n",
       "    });\n",
       "  }\n",
       "\n",
       "  // register the mime type if in Jupyter Notebook environment and previously unregistered\n",
       "  if (root.Jupyter !== undefined) {\n",
       "    var events = require('base/js/events');\n",
       "    var OutputArea = require('notebook/js/outputarea').OutputArea;\n",
       "\n",
       "    if (OutputArea.prototype.mime_types().indexOf(EXEC_MIME_TYPE) == -1) {\n",
       "      register_renderer(events, OutputArea);\n",
       "    }\n",
       "  }\n",
       "\n",
       "  \n",
       "  if (typeof (root._bokeh_timeout) === \"undefined\" || force === true) {\n",
       "    root._bokeh_timeout = Date.now() + 5000;\n",
       "    root._bokeh_failed_load = false;\n",
       "  }\n",
       "\n",
       "  var NB_LOAD_WARNING = {'data': {'text/html':\n",
       "     \"<div style='background-color: #fdd'>\\n\"+\n",
       "     \"<p>\\n\"+\n",
       "     \"BokehJS does not appear to have successfully loaded. If loading BokehJS from CDN, this \\n\"+\n",
       "     \"may be due to a slow or bad network connection. Possible fixes:\\n\"+\n",
       "     \"</p>\\n\"+\n",
       "     \"<ul>\\n\"+\n",
       "     \"<li>re-rerun `output_notebook()` to attempt to load from CDN again, or</li>\\n\"+\n",
       "     \"<li>use INLINE resources instead, as so:</li>\\n\"+\n",
       "     \"</ul>\\n\"+\n",
       "     \"<code>\\n\"+\n",
       "     \"from bokeh.resources import INLINE\\n\"+\n",
       "     \"output_notebook(resources=INLINE)\\n\"+\n",
       "     \"</code>\\n\"+\n",
       "     \"</div>\"}};\n",
       "\n",
       "  function display_loaded() {\n",
       "    var el = document.getElementById(\"83e07748-b1f9-465b-bfc6-f7bb2f576ae6\");\n",
       "    if (el != null) {\n",
       "      el.textContent = \"BokehJS is loading...\";\n",
       "    }\n",
       "    if (root.Bokeh !== undefined) {\n",
       "      if (el != null) {\n",
       "        el.textContent = \"BokehJS \" + root.Bokeh.version + \" successfully loaded.\";\n",
       "      }\n",
       "    } else if (Date.now() < root._bokeh_timeout) {\n",
       "      setTimeout(display_loaded, 100)\n",
       "    }\n",
       "  }\n",
       "\n",
       "\n",
       "  function run_callbacks() {\n",
       "    try {\n",
       "      root._bokeh_onload_callbacks.forEach(function(callback) { callback() });\n",
       "    }\n",
       "    finally {\n",
       "      delete root._bokeh_onload_callbacks\n",
       "    }\n",
       "    console.info(\"Bokeh: all callbacks have finished\");\n",
       "  }\n",
       "\n",
       "  function load_libs(js_urls, callback) {\n",
       "    root._bokeh_onload_callbacks.push(callback);\n",
       "    if (root._bokeh_is_loading > 0) {\n",
       "      console.log(\"Bokeh: BokehJS is being loaded, scheduling callback at\", now());\n",
       "      return null;\n",
       "    }\n",
       "    if (js_urls == null || js_urls.length === 0) {\n",
       "      run_callbacks();\n",
       "      return null;\n",
       "    }\n",
       "    console.log(\"Bokeh: BokehJS not loaded, scheduling load and callback at\", now());\n",
       "    root._bokeh_is_loading = js_urls.length;\n",
       "    for (var i = 0; i < js_urls.length; i++) {\n",
       "      var url = js_urls[i];\n",
       "      var s = document.createElement('script');\n",
       "      s.src = url;\n",
       "      s.async = false;\n",
       "      s.onreadystatechange = s.onload = function() {\n",
       "        root._bokeh_is_loading--;\n",
       "        if (root._bokeh_is_loading === 0) {\n",
       "          console.log(\"Bokeh: all BokehJS libraries loaded\");\n",
       "          run_callbacks()\n",
       "        }\n",
       "      };\n",
       "      s.onerror = function() {\n",
       "        console.warn(\"failed to load library \" + url);\n",
       "      };\n",
       "      console.log(\"Bokeh: injecting script tag for BokehJS library: \", url);\n",
       "      document.getElementsByTagName(\"head\")[0].appendChild(s);\n",
       "    }\n",
       "  };var element = document.getElementById(\"83e07748-b1f9-465b-bfc6-f7bb2f576ae6\");\n",
       "  if (element == null) {\n",
       "    console.log(\"Bokeh: ERROR: autoload.js configured with elementid '83e07748-b1f9-465b-bfc6-f7bb2f576ae6' but no matching script tag was found. \")\n",
       "    return false;\n",
       "  }\n",
       "\n",
       "  var js_urls = [\"https://cdn.pydata.org/bokeh/release/bokeh-0.12.10.min.js\", \"https://cdn.pydata.org/bokeh/release/bokeh-widgets-0.12.10.min.js\", \"https://cdn.pydata.org/bokeh/release/bokeh-tables-0.12.10.min.js\", \"https://cdn.pydata.org/bokeh/release/bokeh-gl-0.12.10.min.js\"];\n",
       "\n",
       "  var inline_js = [\n",
       "    function(Bokeh) {\n",
       "      Bokeh.set_log_level(\"info\");\n",
       "    },\n",
       "    \n",
       "    function(Bokeh) {\n",
       "      \n",
       "    },\n",
       "    function(Bokeh) {\n",
       "      console.log(\"Bokeh: injecting CSS: https://cdn.pydata.org/bokeh/release/bokeh-0.12.10.min.css\");\n",
       "      Bokeh.embed.inject_css(\"https://cdn.pydata.org/bokeh/release/bokeh-0.12.10.min.css\");\n",
       "      console.log(\"Bokeh: injecting CSS: https://cdn.pydata.org/bokeh/release/bokeh-widgets-0.12.10.min.css\");\n",
       "      Bokeh.embed.inject_css(\"https://cdn.pydata.org/bokeh/release/bokeh-widgets-0.12.10.min.css\");\n",
       "      console.log(\"Bokeh: injecting CSS: https://cdn.pydata.org/bokeh/release/bokeh-tables-0.12.10.min.css\");\n",
       "      Bokeh.embed.inject_css(\"https://cdn.pydata.org/bokeh/release/bokeh-tables-0.12.10.min.css\");\n",
       "    }\n",
       "  ];\n",
       "\n",
       "  function run_inline_js() {\n",
       "    \n",
       "    if ((root.Bokeh !== undefined) || (force === true)) {\n",
       "      for (var i = 0; i < inline_js.length; i++) {\n",
       "        inline_js[i].call(root, root.Bokeh);\n",
       "      }if (force === true) {\n",
       "        display_loaded();\n",
       "      }} else if (Date.now() < root._bokeh_timeout) {\n",
       "      setTimeout(run_inline_js, 100);\n",
       "    } else if (!root._bokeh_failed_load) {\n",
       "      console.log(\"Bokeh: BokehJS failed to load within specified timeout.\");\n",
       "      root._bokeh_failed_load = true;\n",
       "    } else if (force !== true) {\n",
       "      var cell = $(document.getElementById(\"83e07748-b1f9-465b-bfc6-f7bb2f576ae6\")).parents('.cell').data().cell;\n",
       "      cell.output_area.append_execute_result(NB_LOAD_WARNING)\n",
       "    }\n",
       "\n",
       "  }\n",
       "\n",
       "  if (root._bokeh_is_loading === 0) {\n",
       "    console.log(\"Bokeh: BokehJS loaded, going straight to plotting\");\n",
       "    run_inline_js();\n",
       "  } else {\n",
       "    load_libs(js_urls, function() {\n",
       "      console.log(\"Bokeh: BokehJS plotting callback run at\", now());\n",
       "      run_inline_js();\n",
       "    });\n",
       "  }\n",
       "}(window));"
      ],
      "application/vnd.bokehjs_load.v0+json": "\n(function(root) {\n  function now() {\n    return new Date();\n  }\n\n  var force = true;\n\n  if (typeof (root._bokeh_onload_callbacks) === \"undefined\" || force === true) {\n    root._bokeh_onload_callbacks = [];\n    root._bokeh_is_loading = undefined;\n  }\n\n  \n\n  \n  if (typeof (root._bokeh_timeout) === \"undefined\" || force === true) {\n    root._bokeh_timeout = Date.now() + 5000;\n    root._bokeh_failed_load = false;\n  }\n\n  var NB_LOAD_WARNING = {'data': {'text/html':\n     \"<div style='background-color: #fdd'>\\n\"+\n     \"<p>\\n\"+\n     \"BokehJS does not appear to have successfully loaded. If loading BokehJS from CDN, this \\n\"+\n     \"may be due to a slow or bad network connection. Possible fixes:\\n\"+\n     \"</p>\\n\"+\n     \"<ul>\\n\"+\n     \"<li>re-rerun `output_notebook()` to attempt to load from CDN again, or</li>\\n\"+\n     \"<li>use INLINE resources instead, as so:</li>\\n\"+\n     \"</ul>\\n\"+\n     \"<code>\\n\"+\n     \"from bokeh.resources import INLINE\\n\"+\n     \"output_notebook(resources=INLINE)\\n\"+\n     \"</code>\\n\"+\n     \"</div>\"}};\n\n  function display_loaded() {\n    var el = document.getElementById(\"83e07748-b1f9-465b-bfc6-f7bb2f576ae6\");\n    if (el != null) {\n      el.textContent = \"BokehJS is loading...\";\n    }\n    if (root.Bokeh !== undefined) {\n      if (el != null) {\n        el.textContent = \"BokehJS \" + root.Bokeh.version + \" successfully loaded.\";\n      }\n    } else if (Date.now() < root._bokeh_timeout) {\n      setTimeout(display_loaded, 100)\n    }\n  }\n\n\n  function run_callbacks() {\n    try {\n      root._bokeh_onload_callbacks.forEach(function(callback) { callback() });\n    }\n    finally {\n      delete root._bokeh_onload_callbacks\n    }\n    console.info(\"Bokeh: all callbacks have finished\");\n  }\n\n  function load_libs(js_urls, callback) {\n    root._bokeh_onload_callbacks.push(callback);\n    if (root._bokeh_is_loading > 0) {\n      console.log(\"Bokeh: BokehJS is being loaded, scheduling callback at\", now());\n      return null;\n    }\n    if (js_urls == null || js_urls.length === 0) {\n      run_callbacks();\n      return null;\n    }\n    console.log(\"Bokeh: BokehJS not loaded, scheduling load and callback at\", now());\n    root._bokeh_is_loading = js_urls.length;\n    for (var i = 0; i < js_urls.length; i++) {\n      var url = js_urls[i];\n      var s = document.createElement('script');\n      s.src = url;\n      s.async = false;\n      s.onreadystatechange = s.onload = function() {\n        root._bokeh_is_loading--;\n        if (root._bokeh_is_loading === 0) {\n          console.log(\"Bokeh: all BokehJS libraries loaded\");\n          run_callbacks()\n        }\n      };\n      s.onerror = function() {\n        console.warn(\"failed to load library \" + url);\n      };\n      console.log(\"Bokeh: injecting script tag for BokehJS library: \", url);\n      document.getElementsByTagName(\"head\")[0].appendChild(s);\n    }\n  };var element = document.getElementById(\"83e07748-b1f9-465b-bfc6-f7bb2f576ae6\");\n  if (element == null) {\n    console.log(\"Bokeh: ERROR: autoload.js configured with elementid '83e07748-b1f9-465b-bfc6-f7bb2f576ae6' but no matching script tag was found. \")\n    return false;\n  }\n\n  var js_urls = [\"https://cdn.pydata.org/bokeh/release/bokeh-0.12.10.min.js\", \"https://cdn.pydata.org/bokeh/release/bokeh-widgets-0.12.10.min.js\", \"https://cdn.pydata.org/bokeh/release/bokeh-tables-0.12.10.min.js\", \"https://cdn.pydata.org/bokeh/release/bokeh-gl-0.12.10.min.js\"];\n\n  var inline_js = [\n    function(Bokeh) {\n      Bokeh.set_log_level(\"info\");\n    },\n    \n    function(Bokeh) {\n      \n    },\n    function(Bokeh) {\n      console.log(\"Bokeh: injecting CSS: https://cdn.pydata.org/bokeh/release/bokeh-0.12.10.min.css\");\n      Bokeh.embed.inject_css(\"https://cdn.pydata.org/bokeh/release/bokeh-0.12.10.min.css\");\n      console.log(\"Bokeh: injecting CSS: https://cdn.pydata.org/bokeh/release/bokeh-widgets-0.12.10.min.css\");\n      Bokeh.embed.inject_css(\"https://cdn.pydata.org/bokeh/release/bokeh-widgets-0.12.10.min.css\");\n      console.log(\"Bokeh: injecting CSS: https://cdn.pydata.org/bokeh/release/bokeh-tables-0.12.10.min.css\");\n      Bokeh.embed.inject_css(\"https://cdn.pydata.org/bokeh/release/bokeh-tables-0.12.10.min.css\");\n    }\n  ];\n\n  function run_inline_js() {\n    \n    if ((root.Bokeh !== undefined) || (force === true)) {\n      for (var i = 0; i < inline_js.length; i++) {\n        inline_js[i].call(root, root.Bokeh);\n      }if (force === true) {\n        display_loaded();\n      }} else if (Date.now() < root._bokeh_timeout) {\n      setTimeout(run_inline_js, 100);\n    } else if (!root._bokeh_failed_load) {\n      console.log(\"Bokeh: BokehJS failed to load within specified timeout.\");\n      root._bokeh_failed_load = true;\n    } else if (force !== true) {\n      var cell = $(document.getElementById(\"83e07748-b1f9-465b-bfc6-f7bb2f576ae6\")).parents('.cell').data().cell;\n      cell.output_area.append_execute_result(NB_LOAD_WARNING)\n    }\n\n  }\n\n  if (root._bokeh_is_loading === 0) {\n    console.log(\"Bokeh: BokehJS loaded, going straight to plotting\");\n    run_inline_js();\n  } else {\n    load_libs(js_urls, function() {\n      console.log(\"Bokeh: BokehJS plotting callback run at\", now());\n      run_inline_js();\n    });\n  }\n}(window));"
     },
     "metadata": {},
     "output_type": "display_data"
    }
   ],
   "source": [
    "import pandas as pd\n",
    "import time\n",
    "import numpy as np\n",
    "import matplotlib as mpl\n",
    "import matplotlib.pyplot as plt\n",
    "import matplotlib.cm as cm\n",
    "import sys\n",
    "import datetime\n",
    "import os\n",
    "import seaborn as sns\n",
    "import math as mth\n",
    "import pickle\n",
    "import re\n",
    "import nltk\n",
    "import spacy\n",
    "import sklearn\n",
    "\n",
    "import tika\n",
    "from tika import parser\n",
    "\n",
    "import bokeh\n",
    "from bokeh.plotting import *\n",
    "from bokeh.io import output_notebook\n",
    "from bokeh.models import Toggle, BoxAnnotation, CustomJS, HoverTool\n",
    "\n",
    "output_notebook()\n",
    "\n",
    "from sklearn.manifold import TSNE\n",
    "\n",
    "sns.set_style(\"white\")\n",
    "\n",
    "%matplotlib inline\n",
    "\n",
    "from IPython.display import display\n",
    "\n",
    "from IPython.display import HTML\n",
    "\n",
    "from IPython.core.interactiveshell import InteractiveShell\n",
    "InteractiveShell.ast_node_interactivity = \"all\""
   ]
  },
  {
   "cell_type": "code",
   "execution_count": 95,
   "metadata": {},
   "outputs": [
    {
     "name": "stdout",
     "output_type": "stream",
     "text": [
      "[nltk_data] Downloading package punkt to\n",
      "[nltk_data]     C:\\Users\\zanderl\\AppData\\Roaming\\nltk_data...\n",
      "[nltk_data]   Package punkt is already up-to-date!\n"
     ]
    },
    {
     "data": {
      "text/plain": [
       "True"
      ]
     },
     "execution_count": 95,
     "metadata": {},
     "output_type": "execute_result"
    }
   ],
   "source": [
    "nltk.download('punkt')"
   ]
  },
  {
   "cell_type": "code",
   "execution_count": 96,
   "metadata": {
    "collapsed": true
   },
   "outputs": [],
   "source": [
    "# Existing Clients only. Excludes ETF funds + Parent and subsidiary companies + US/Canada only + Ipreo investment approach data + additional data from Form-ADV filings where available\n",
    "df1 = pd.read_csv('C:/Users/zanderl/Documents/Data Science/SFDC Similar Companies Project/SFDC and Ipreo CoData.csv',encoding='latin1')\n",
    "\n",
    "\n",
    "\n",
    "# Excludes ETF funds, Parent and subsidiary companies, US/Canada only, include additional data from Form-ADV filings where available\n",
    "#df1 = pd.read_csv('C:/Users/zanderl/Documents/Data Science/SFDC Similar Companies Project/SFDC Company Data Filtered for US Includes Subsidiaries with Form ADV.csv',encoding='latin1')\n",
    "\n",
    "# Excludes ETF funds, Parent and subsidiary companies, US/Canada only\n",
    "#df1 = pd.read_csv('C:/Users/zanderl/Documents/Data Science/SFDC Similar Companies Project/SFDC Company Data Filtered for US Includes Subsidiaries.csv',encoding='latin1')\n",
    "\n",
    "# Parent company level data only, US/Canada only\n",
    "#df1 = pd.read_csv('C:/Users/zanderl/Documents/Data Science/SFDC Similar Companies Project/SFDC Company Data Filtered for US and Parent Company.csv',encoding='latin1')\n",
    "\n",
    "# Subsidiary level company data, US/Canada only\n",
    "#df1 = pd.read_csv('C:/Users/zanderl/Documents/Data Science/SFDC Similar Companies Project/SFDC Company Data Filtered for US.csv',encoding='latin1')\n",
    "\n",
    "#df1 = pd.read_csv('C:/Users/zanderl/Documents/Data Science/SFDC Similar Companies Project/SFDC Company Data.csv', encoding='latin1')\n",
    "#df1 = pd.read_csv('C:/Users/zanderl/Documents/Data Science/SFDC Similar Companies Project/PA Greenfield Ideas Cleaned.csv', encoding='latin1')"
   ]
  },
  {
   "cell_type": "code",
   "execution_count": 97,
   "metadata": {},
   "outputs": [
    {
     "data": {
      "text/plain": [
       "(989, 59)"
      ]
     },
     "execution_count": 97,
     "metadata": {},
     "output_type": "execute_result"
    },
    {
     "data": {
      "text/html": [
       "<div>\n",
       "<style>\n",
       "    .dataframe thead tr:only-child th {\n",
       "        text-align: right;\n",
       "    }\n",
       "\n",
       "    .dataframe thead th {\n",
       "        text-align: left;\n",
       "    }\n",
       "\n",
       "    .dataframe tbody tr th {\n",
       "        vertical-align: top;\n",
       "    }\n",
       "</style>\n",
       "<table border=\"1\" class=\"dataframe\">\n",
       "  <thead>\n",
       "    <tr style=\"text-align: right;\">\n",
       "      <th></th>\n",
       "      <th>Account Name</th>\n",
       "      <th>Business Description</th>\n",
       "      <th>Business Description Plain</th>\n",
       "      <th>Investment Approach</th>\n",
       "      <th>Billing Country</th>\n",
       "      <th>Billing State/Province</th>\n",
       "      <th>Billing City</th>\n",
       "      <th>Account ID (Case Safe)</th>\n",
       "      <th>S&amp;P Capital IQ Company ID</th>\n",
       "      <th>KeyInstn - SNL</th>\n",
       "      <th>...</th>\n",
       "      <th>Dominant Style</th>\n",
       "      <th>Dominant Orientation</th>\n",
       "      <th>Contact Equity Assets ($m)</th>\n",
       "      <th>Account Equity Assets Under Management ($m)</th>\n",
       "      <th>City</th>\n",
       "      <th>State</th>\n",
       "      <th>Country</th>\n",
       "      <th>Geographic Region</th>\n",
       "      <th>CRM</th>\n",
       "      <th>Primary Contacts</th>\n",
       "    </tr>\n",
       "    <tr>\n",
       "      <th>Account Name</th>\n",
       "      <th></th>\n",
       "      <th></th>\n",
       "      <th></th>\n",
       "      <th></th>\n",
       "      <th></th>\n",
       "      <th></th>\n",
       "      <th></th>\n",
       "      <th></th>\n",
       "      <th></th>\n",
       "      <th></th>\n",
       "      <th></th>\n",
       "      <th></th>\n",
       "      <th></th>\n",
       "      <th></th>\n",
       "      <th></th>\n",
       "      <th></th>\n",
       "      <th></th>\n",
       "      <th></th>\n",
       "      <th></th>\n",
       "      <th></th>\n",
       "      <th></th>\n",
       "    </tr>\n",
       "  </thead>\n",
       "  <tbody>\n",
       "    <tr>\n",
       "      <th>12 West Capital Management LP</th>\n",
       "      <td>12 West Capital Management LP</td>\n",
       "      <td>12 West Capital Management LP is an employee o...</td>\n",
       "      <td>12 West Capital Management LP is an employee o...</td>\n",
       "      <td>NaN</td>\n",
       "      <td>United States</td>\n",
       "      <td>NY</td>\n",
       "      <td>New York</td>\n",
       "      <td>0014000000diOsEAAU</td>\n",
       "      <td>IQ158358908</td>\n",
       "      <td>4321055.0</td>\n",
       "      <td>...</td>\n",
       "      <td>NaN</td>\n",
       "      <td>NaN</td>\n",
       "      <td>NaN</td>\n",
       "      <td>NaN</td>\n",
       "      <td>NaN</td>\n",
       "      <td>NaN</td>\n",
       "      <td>NaN</td>\n",
       "      <td>NaN</td>\n",
       "      <td>NaN</td>\n",
       "      <td>NaN</td>\n",
       "    </tr>\n",
       "    <tr>\n",
       "      <th>1832 Asset Management L.P.</th>\n",
       "      <td>1832 Asset Management L.P.</td>\n",
       "      <td>1832 Asset Management L.P. is a privately owne...</td>\n",
       "      <td>1832 Asset Management L.P. is a privately owne...</td>\n",
       "      <td>NaN</td>\n",
       "      <td>Canada</td>\n",
       "      <td>ON</td>\n",
       "      <td>Toronto</td>\n",
       "      <td>0014000000FGy4YAAT</td>\n",
       "      <td>IQ1029378</td>\n",
       "      <td>NaN</td>\n",
       "      <td>...</td>\n",
       "      <td>NaN</td>\n",
       "      <td>NaN</td>\n",
       "      <td>NaN</td>\n",
       "      <td>NaN</td>\n",
       "      <td>NaN</td>\n",
       "      <td>NaN</td>\n",
       "      <td>NaN</td>\n",
       "      <td>NaN</td>\n",
       "      <td>NaN</td>\n",
       "      <td>NaN</td>\n",
       "    </tr>\n",
       "    <tr>\n",
       "      <th>1919 Investment Counsel, LLC</th>\n",
       "      <td>1919 Investment Counsel, LLC</td>\n",
       "      <td>1919 Investment Counsel, LLC operates as a sub...</td>\n",
       "      <td>1919 Investment Counsel, LLC operates as a sub...</td>\n",
       "      <td>NaN</td>\n",
       "      <td>United States</td>\n",
       "      <td>MD</td>\n",
       "      <td>Baltimore</td>\n",
       "      <td>0014000001llGwcAAE</td>\n",
       "      <td>IQ59705013</td>\n",
       "      <td>4096352.0</td>\n",
       "      <td>...</td>\n",
       "      <td>NaN</td>\n",
       "      <td>NaN</td>\n",
       "      <td>NaN</td>\n",
       "      <td>NaN</td>\n",
       "      <td>NaN</td>\n",
       "      <td>NaN</td>\n",
       "      <td>NaN</td>\n",
       "      <td>NaN</td>\n",
       "      <td>NaN</td>\n",
       "      <td>NaN</td>\n",
       "    </tr>\n",
       "    <tr>\n",
       "      <th>361° Capital LLC</th>\n",
       "      <td>361° Capital LLC</td>\n",
       "      <td>361° Capital LLC is an employee owned hedge fu...</td>\n",
       "      <td>361° Capital LLC is an employee owned hedge fu...</td>\n",
       "      <td>NaN</td>\n",
       "      <td>United States</td>\n",
       "      <td>CO</td>\n",
       "      <td>Denver</td>\n",
       "      <td>0014000000cCrlGAAS</td>\n",
       "      <td>IQ116742844</td>\n",
       "      <td>4117083.0</td>\n",
       "      <td>...</td>\n",
       "      <td>NaN</td>\n",
       "      <td>NaN</td>\n",
       "      <td>NaN</td>\n",
       "      <td>NaN</td>\n",
       "      <td>NaN</td>\n",
       "      <td>NaN</td>\n",
       "      <td>NaN</td>\n",
       "      <td>NaN</td>\n",
       "      <td>NaN</td>\n",
       "      <td>NaN</td>\n",
       "    </tr>\n",
       "    <tr>\n",
       "      <th>3G Capital, Inc.</th>\n",
       "      <td>3G Capital, Inc.</td>\n",
       "      <td>3G Capital, Inc. is a private equity firm spec...</td>\n",
       "      <td>3G Capital, Inc. is a private equity firm spec...</td>\n",
       "      <td>NaN</td>\n",
       "      <td>United States</td>\n",
       "      <td>NY</td>\n",
       "      <td>New York</td>\n",
       "      <td>0014000000K85RQAAZ</td>\n",
       "      <td>IQ23471434</td>\n",
       "      <td>4189265.0</td>\n",
       "      <td>...</td>\n",
       "      <td>NaN</td>\n",
       "      <td>NaN</td>\n",
       "      <td>NaN</td>\n",
       "      <td>NaN</td>\n",
       "      <td>NaN</td>\n",
       "      <td>NaN</td>\n",
       "      <td>NaN</td>\n",
       "      <td>NaN</td>\n",
       "      <td>NaN</td>\n",
       "      <td>NaN</td>\n",
       "    </tr>\n",
       "  </tbody>\n",
       "</table>\n",
       "<p>5 rows × 59 columns</p>\n",
       "</div>"
      ],
      "text/plain": [
       "                                                Account Name  \\\n",
       "Account Name                                                   \n",
       "12 West Capital Management LP  12 West Capital Management LP   \n",
       "1832 Asset Management L.P.        1832 Asset Management L.P.   \n",
       "1919 Investment Counsel, LLC    1919 Investment Counsel, LLC   \n",
       "361° Capital LLC                            361° Capital LLC   \n",
       "3G Capital, Inc.                            3G Capital, Inc.   \n",
       "\n",
       "                                                            Business Description  \\\n",
       "Account Name                                                                       \n",
       "12 West Capital Management LP  12 West Capital Management LP is an employee o...   \n",
       "1832 Asset Management L.P.     1832 Asset Management L.P. is a privately owne...   \n",
       "1919 Investment Counsel, LLC   1919 Investment Counsel, LLC operates as a sub...   \n",
       "361° Capital LLC               361° Capital LLC is an employee owned hedge fu...   \n",
       "3G Capital, Inc.               3G Capital, Inc. is a private equity firm spec...   \n",
       "\n",
       "                                                      Business Description Plain  \\\n",
       "Account Name                                                                       \n",
       "12 West Capital Management LP  12 West Capital Management LP is an employee o...   \n",
       "1832 Asset Management L.P.     1832 Asset Management L.P. is a privately owne...   \n",
       "1919 Investment Counsel, LLC   1919 Investment Counsel, LLC operates as a sub...   \n",
       "361° Capital LLC               361° Capital LLC is an employee owned hedge fu...   \n",
       "3G Capital, Inc.               3G Capital, Inc. is a private equity firm spec...   \n",
       "\n",
       "                              Investment Approach Billing Country  \\\n",
       "Account Name                                                        \n",
       "12 West Capital Management LP                 NaN   United States   \n",
       "1832 Asset Management L.P.                    NaN          Canada   \n",
       "1919 Investment Counsel, LLC                  NaN   United States   \n",
       "361° Capital LLC                              NaN   United States   \n",
       "3G Capital, Inc.                              NaN   United States   \n",
       "\n",
       "                              Billing State/Province Billing City  \\\n",
       "Account Name                                                        \n",
       "12 West Capital Management LP                     NY     New York   \n",
       "1832 Asset Management L.P.                        ON      Toronto   \n",
       "1919 Investment Counsel, LLC                      MD    Baltimore   \n",
       "361° Capital LLC                                  CO       Denver   \n",
       "3G Capital, Inc.                                  NY     New York   \n",
       "\n",
       "                              Account ID (Case Safe)  \\\n",
       "Account Name                                           \n",
       "12 West Capital Management LP     0014000000diOsEAAU   \n",
       "1832 Asset Management L.P.        0014000000FGy4YAAT   \n",
       "1919 Investment Counsel, LLC      0014000001llGwcAAE   \n",
       "361° Capital LLC                  0014000000cCrlGAAS   \n",
       "3G Capital, Inc.                  0014000000K85RQAAZ   \n",
       "\n",
       "                              S&P Capital IQ Company ID  KeyInstn - SNL  \\\n",
       "Account Name                                                              \n",
       "12 West Capital Management LP               IQ158358908       4321055.0   \n",
       "1832 Asset Management L.P.                    IQ1029378             NaN   \n",
       "1919 Investment Counsel, LLC                 IQ59705013       4096352.0   \n",
       "361° Capital LLC                            IQ116742844       4117083.0   \n",
       "3G Capital, Inc.                             IQ23471434       4189265.0   \n",
       "\n",
       "                                     ...        Dominant Style  \\\n",
       "Account Name                         ...                         \n",
       "12 West Capital Management LP        ...                   NaN   \n",
       "1832 Asset Management L.P.           ...                   NaN   \n",
       "1919 Investment Counsel, LLC         ...                   NaN   \n",
       "361° Capital LLC                     ...                   NaN   \n",
       "3G Capital, Inc.                     ...                   NaN   \n",
       "\n",
       "                              Dominant Orientation Contact Equity Assets ($m)  \\\n",
       "Account Name                                                                    \n",
       "12 West Capital Management LP                  NaN                        NaN   \n",
       "1832 Asset Management L.P.                     NaN                        NaN   \n",
       "1919 Investment Counsel, LLC                   NaN                        NaN   \n",
       "361° Capital LLC                               NaN                        NaN   \n",
       "3G Capital, Inc.                               NaN                        NaN   \n",
       "\n",
       "                               Account Equity Assets Under Management ($m)  \\\n",
       "Account Name                                                                 \n",
       "12 West Capital Management LP                                          NaN   \n",
       "1832 Asset Management L.P.                                             NaN   \n",
       "1919 Investment Counsel, LLC                                           NaN   \n",
       "361° Capital LLC                                                       NaN   \n",
       "3G Capital, Inc.                                                       NaN   \n",
       "\n",
       "                               City  State  Country  Geographic Region  CRM  \\\n",
       "Account Name                                                                  \n",
       "12 West Capital Management LP   NaN    NaN      NaN                NaN  NaN   \n",
       "1832 Asset Management L.P.      NaN    NaN      NaN                NaN  NaN   \n",
       "1919 Investment Counsel, LLC    NaN    NaN      NaN                NaN  NaN   \n",
       "361° Capital LLC                NaN    NaN      NaN                NaN  NaN   \n",
       "3G Capital, Inc.                NaN    NaN      NaN                NaN  NaN   \n",
       "\n",
       "                               Primary Contacts  \n",
       "Account Name                                     \n",
       "12 West Capital Management LP               NaN  \n",
       "1832 Asset Management L.P.                  NaN  \n",
       "1919 Investment Counsel, LLC                NaN  \n",
       "361° Capital LLC                            NaN  \n",
       "3G Capital, Inc.                            NaN  \n",
       "\n",
       "[5 rows x 59 columns]"
      ]
     },
     "execution_count": 97,
     "metadata": {},
     "output_type": "execute_result"
    }
   ],
   "source": [
    "#df1.index = df1['Relationship Name']\n",
    "\n",
    "df1.index = df1['Account Name']\n",
    "#df1.drop(labels=['Account Name'],axis=1,inplace=True)\n",
    "\n",
    "df1.shape\n",
    "df1.head(5)"
   ]
  },
  {
   "cell_type": "code",
   "execution_count": 98,
   "metadata": {
    "collapsed": true
   },
   "outputs": [],
   "source": [
    "coData_df = pd.DataFrame(df1,columns=['Business Description'],index=df1.index)"
   ]
  },
  {
   "cell_type": "code",
   "execution_count": 99,
   "metadata": {},
   "outputs": [
    {
     "data": {
      "text/html": [
       "<div>\n",
       "<style>\n",
       "    .dataframe thead tr:only-child th {\n",
       "        text-align: right;\n",
       "    }\n",
       "\n",
       "    .dataframe thead th {\n",
       "        text-align: left;\n",
       "    }\n",
       "\n",
       "    .dataframe tbody tr th {\n",
       "        vertical-align: top;\n",
       "    }\n",
       "</style>\n",
       "<table border=\"1\" class=\"dataframe\">\n",
       "  <thead>\n",
       "    <tr style=\"text-align: right;\">\n",
       "      <th></th>\n",
       "      <th>Business Description</th>\n",
       "    </tr>\n",
       "    <tr>\n",
       "      <th>Account Name</th>\n",
       "      <th></th>\n",
       "    </tr>\n",
       "  </thead>\n",
       "  <tbody>\n",
       "    <tr>\n",
       "      <th>12 West Capital Management LP</th>\n",
       "      <td>12 West Capital Management LP is an employee o...</td>\n",
       "    </tr>\n",
       "    <tr>\n",
       "      <th>1832 Asset Management L.P.</th>\n",
       "      <td>1832 Asset Management L.P. is a privately owne...</td>\n",
       "    </tr>\n",
       "    <tr>\n",
       "      <th>1919 Investment Counsel, LLC</th>\n",
       "      <td>1919 Investment Counsel, LLC operates as a sub...</td>\n",
       "    </tr>\n",
       "    <tr>\n",
       "      <th>361° Capital LLC</th>\n",
       "      <td>361° Capital LLC is an employee owned hedge fu...</td>\n",
       "    </tr>\n",
       "    <tr>\n",
       "      <th>3G Capital, Inc.</th>\n",
       "      <td>3G Capital, Inc. is a private equity firm spec...</td>\n",
       "    </tr>\n",
       "  </tbody>\n",
       "</table>\n",
       "</div>"
      ],
      "text/plain": [
       "                                                            Business Description\n",
       "Account Name                                                                    \n",
       "12 West Capital Management LP  12 West Capital Management LP is an employee o...\n",
       "1832 Asset Management L.P.     1832 Asset Management L.P. is a privately owne...\n",
       "1919 Investment Counsel, LLC   1919 Investment Counsel, LLC operates as a sub...\n",
       "361° Capital LLC               361° Capital LLC is an employee owned hedge fu...\n",
       "3G Capital, Inc.               3G Capital, Inc. is a private equity firm spec..."
      ]
     },
     "execution_count": 99,
     "metadata": {},
     "output_type": "execute_result"
    }
   ],
   "source": [
    "coData_df.head()"
   ]
  },
  {
   "cell_type": "code",
   "execution_count": 100,
   "metadata": {},
   "outputs": [
    {
     "data": {
      "text/plain": [
       "'12 West Capital Management LP is an employee owned hedge fund sponsor. It primarily provides its services to pooled investment vehicles. The firm launches and manages hedge fund for its clients. It invests in the public equity and fixed income markets across the globe. The firm invests in value stocks of small-cap companies. It employs a long/short equity strategy to make its investments. 12 West Capital Management LP is based in New York City. In managing the Funds, we invest both long and short, in equity, equity related, and credit securities. In addition, we may also invest in preferred stocks, warrants, rights, options, swaps and other derivative instruments, bonds and other fixed income securities, futures and money market instruments. We believe that investing in companies with an equity market capitalization of U.S. $2.5 billion or less (\\x93Small Cap\\x94) offers the greatest opportunity to generate superior compounded annual net returns, predominantly because: (i) There is a dearth of high quality investment managers investing in Small Cap companies; (ii) There is significantly less investment research coverage available on Small Cap companies versus larger companies; and (iii) Often Small Cap investment managers do not allocate the required financial or other resources to properly evaluate and analyze Small Cap companies. We aim to manage the asset size of the Funds to allow for a concentrated portfolio of long and short positions in Small Cap companies. We typically invest in long positions with a three year investment horizon. If we cannot find compelling investment opportunities, the Funds will hold cash. We believe this discipline is critical to generating superior investment results.'"
      ]
     },
     "execution_count": 100,
     "metadata": {},
     "output_type": "execute_result"
    }
   ],
   "source": [
    "df1.loc['12 West Capital Management LP']['Business Description']"
   ]
  },
  {
   "cell_type": "code",
   "execution_count": 101,
   "metadata": {
    "collapsed": true
   },
   "outputs": [],
   "source": [
    "df1['Business Description'] = df1['Business Description'].str.lower()\n",
    "coData_df['Business Description'] = coData_df['Business Description'].str.lower()"
   ]
  },
  {
   "cell_type": "code",
   "execution_count": 102,
   "metadata": {
    "collapsed": true
   },
   "outputs": [],
   "source": [
    "#pd.isnull(coData_df).sum()"
   ]
  },
  {
   "cell_type": "code",
   "execution_count": 103,
   "metadata": {},
   "outputs": [],
   "source": [
    "from sklearn.feature_extraction.text import CountVectorizer, TfidfVectorizer\n",
    "from sklearn.feature_extraction.text import TfidfTransformer\n",
    "from sklearn.cluster import DBSCAN\n",
    "import gensim\n",
    "import nltk"
   ]
  },
  {
   "cell_type": "code",
   "execution_count": 162,
   "metadata": {
    "collapsed": true
   },
   "outputs": [],
   "source": [
    "vectorizer = TfidfVectorizer(\n",
    "    analyzer='word',\n",
    "    ngram_range=(1,3),\n",
    "    stop_words='english',\n",
    "    min_df = 10,\n",
    "    max_df = 0.60\n",
    "    # Original value: max_df = 0.8\n",
    ")\n",
    "\n",
    "# 3/12/2018: Changed ngram_range=(1,2) to ngram_range(1,3)"
   ]
  },
  {
   "cell_type": "code",
   "execution_count": 163,
   "metadata": {},
   "outputs": [
    {
     "name": "stdout",
     "output_type": "stream",
     "text": [
      "Wall time: 600 ms\n"
     ]
    }
   ],
   "source": [
    "%%time\n",
    "X = vectorizer.fit_transform(coData_df['Business Description'])\n",
    "X"
   ]
  },
  {
   "cell_type": "code",
   "execution_count": 164,
   "metadata": {},
   "outputs": [
    {
     "data": {
      "text/plain": [
       "scipy.sparse.csr.csr_matrix"
      ]
     },
     "execution_count": 164,
     "metadata": {},
     "output_type": "execute_result"
    },
    {
     "data": {
      "text/plain": [
       "(989, 2744)"
      ]
     },
     "execution_count": 164,
     "metadata": {},
     "output_type": "execute_result"
    }
   ],
   "source": [
    "type(X)\n",
    "X.shape"
   ]
  },
  {
   "cell_type": "code",
   "execution_count": 165,
   "metadata": {},
   "outputs": [
    {
     "data": {
      "text/plain": [
       "2744"
      ]
     },
     "execution_count": 165,
     "metadata": {},
     "output_type": "execute_result"
    }
   ],
   "source": [
    "# let's inspect some of the features that were extracted\n",
    "feat_names = vectorizer.get_feature_names()[:]\n",
    "len(feat_names)\n",
    "\n",
    "#vect.get_feature_names()[500:]"
   ]
  },
  {
   "cell_type": "code",
   "execution_count": 166,
   "metadata": {
    "collapsed": true,
    "scrolled": true
   },
   "outputs": [],
   "source": [
    "#feat_names[(int(len(feat_names)/2)):]"
   ]
  },
  {
   "cell_type": "code",
   "execution_count": 167,
   "metadata": {
    "collapsed": true
   },
   "outputs": [],
   "source": [
    "from sklearn.decomposition import TruncatedSVD, NMF\n",
    "from sklearn.neighbors import ball_tree, BallTree"
   ]
  },
  {
   "cell_type": "code",
   "execution_count": 168,
   "metadata": {
    "collapsed": true
   },
   "outputs": [],
   "source": [
    "nmf_model = NMF(n_components=128)"
   ]
  },
  {
   "cell_type": "code",
   "execution_count": 169,
   "metadata": {},
   "outputs": [
    {
     "name": "stdout",
     "output_type": "stream",
     "text": [
      "Wall time: 24.8 s\n"
     ]
    }
   ],
   "source": [
    "%%time\n",
    "X_NMF_transformed = nmf_model.fit_transform(X)"
   ]
  },
  {
   "cell_type": "code",
   "execution_count": 170,
   "metadata": {},
   "outputs": [
    {
     "data": {
      "text/plain": [
       "21.269222847387017"
      ]
     },
     "execution_count": 170,
     "metadata": {},
     "output_type": "execute_result"
    }
   ],
   "source": [
    "nmf_model.reconstruction_err_"
   ]
  },
  {
   "cell_type": "code",
   "execution_count": 171,
   "metadata": {},
   "outputs": [
    {
     "data": {
      "text/plain": [
       "(989, 128)"
      ]
     },
     "execution_count": 171,
     "metadata": {},
     "output_type": "execute_result"
    }
   ],
   "source": [
    "X_NMF_transformed.shape"
   ]
  },
  {
   "cell_type": "code",
   "execution_count": 172,
   "metadata": {
    "collapsed": true
   },
   "outputs": [],
   "source": [
    "# svd = TruncatedSVD(n_components=2900)\n",
    "\n",
    "# Original preferred value is n_components = 128\n",
    "# PA greenfield 1811"
   ]
  },
  {
   "cell_type": "code",
   "execution_count": 173,
   "metadata": {
    "collapsed": true
   },
   "outputs": [],
   "source": [
    "# %%time\n",
    "# X_transformed = svd.fit_transform(X)"
   ]
  },
  {
   "cell_type": "code",
   "execution_count": 174,
   "metadata": {
    "collapsed": true
   },
   "outputs": [],
   "source": [
    "# svd.explained_variance_ratio_.sum()\n",
    "# X_transformed.shape"
   ]
  },
  {
   "cell_type": "code",
   "execution_count": 175,
   "metadata": {},
   "outputs": [
    {
     "name": "stdout",
     "output_type": "stream",
     "text": [
      "Wall time: 4 ms\n"
     ]
    }
   ],
   "source": [
    "%%time\n",
    "\n",
    "index = BallTree(X_NMF_transformed)\n",
    "\n",
    "#index = BallTree(X_transformed)"
   ]
  },
  {
   "cell_type": "code",
   "execution_count": 176,
   "metadata": {},
   "outputs": [
    {
     "name": "stdout",
     "output_type": "stream",
     "text": [
      "Wall time: 0 ns\n"
     ]
    },
    {
     "data": {
      "text/plain": [
       "(array([[ 0.        ,  0.0762538 ,  0.09104629,  0.09122639,  0.0915749 ,\n",
       "          0.09161934,  0.09439754,  0.0946773 ,  0.09487762,  0.09594293,\n",
       "          0.0964717 ]]),\n",
       " array([[  0, 304, 345, 638, 718, 577, 658, 353, 692, 823, 455]], dtype=int64))"
      ]
     },
     "execution_count": 176,
     "metadata": {},
     "output_type": "execute_result"
    }
   ],
   "source": [
    "%%time\n",
    "\n",
    "index.query(X_NMF_transformed[[0]],k=11,dualtree=True)\n",
    "\n",
    "#index.query(X_transformed[[0]],k=11,dualtree=True)\n",
    "\n",
    "# This was originally set ot k=10\n",
    "# dualtree was originally set to False"
   ]
  },
  {
   "cell_type": "code",
   "execution_count": 177,
   "metadata": {
    "collapsed": true
   },
   "outputs": [],
   "source": [
    "test_company = 'Harmony Asset Management LLC'\n",
    "i = df1.index.get_loc(test_company)"
   ]
  },
  {
   "cell_type": "code",
   "execution_count": 178,
   "metadata": {
    "collapsed": true
   },
   "outputs": [],
   "source": [
    "distances, indices = index.query(X_NMF_transformed[[i]],k=11,dualtree=True)\n",
    "\n",
    "#distances, indices = index.query(X_transformed[[i]],k=11,dualtree=True)\n",
    "\n",
    "# Tried this to see if it would improve results. Need to look into how to use it more because it threw an error\n",
    "#distances, indices = index.query_radius(X_transformed[[i]],r=0.3,count_only=False)"
   ]
  },
  {
   "cell_type": "code",
   "execution_count": 179,
   "metadata": {},
   "outputs": [
    {
     "data": {
      "text/plain": [
       "Account Name\n",
       "Harmony Asset Management LLC                  harmony asset management llc provides economic...\n",
       "1919 Investment Counsel, LLC                  1919 investment counsel, llc operates as a sub...\n",
       "Eagle Asset Management, Inc.                  eagle asset management, inc. is a privately ow...\n",
       "Paradigm Asset Management Co., LLC            paradigm asset management co. llc is an employ...\n",
       "Wilmington Trust Investment Advisors, Inc.    mtb investment advisors, inc. is a privately o...\n",
       "Highline Capital Management, L.P.             highline capital management, l.p. is an employ...\n",
       "Fort Washington Investment Advisors, Inc.     fort washington investment advisors, inc. is a...\n",
       "Biondo Investment Advisors LLC                biondo investment advisors llc is an employee ...\n",
       "Pershing Square Capital Management, L.P.      the adviser is a concentrated, research-intens...\n",
       "Picton Mahoney Asset Management               picton mahoney asset management is a privately...\n",
       "Knightsbridge Asset Management LLC            knightsbridge asset management llc is an emplo...\n",
       "Name: Business Description, dtype: object"
      ]
     },
     "execution_count": 179,
     "metadata": {},
     "output_type": "execute_result"
    }
   ],
   "source": [
    "df1['Business Description'].iloc[indices[0]]"
   ]
  },
  {
   "cell_type": "code",
   "execution_count": 180,
   "metadata": {},
   "outputs": [
    {
     "data": {
      "text/plain": [
       "(11, 1)"
      ]
     },
     "execution_count": 180,
     "metadata": {},
     "output_type": "execute_result"
    }
   ],
   "source": [
    "SimilarCo_df = pd.DataFrame(df1['Business Description'].iloc[indices[0]])\n",
    "SimilarCo_df.shape"
   ]
  },
  {
   "cell_type": "code",
   "execution_count": 181,
   "metadata": {},
   "outputs": [
    {
     "name": "stdout",
     "output_type": "stream",
     "text": [
      "Harmony Asset Management LLC\n",
      "1919 Investment Counsel, LLC\n",
      "Eagle Asset Management, Inc.\n",
      "Paradigm Asset Management Co., LLC\n",
      "Wilmington Trust Investment Advisors, Inc.\n",
      "Highline Capital Management, L.P.\n",
      "Fort Washington Investment Advisors, Inc.\n",
      "Biondo Investment Advisors LLC\n",
      "Pershing Square Capital Management, L.P.\n",
      "Picton Mahoney Asset Management\n",
      "Knightsbridge Asset Management LLC\n"
     ]
    }
   ],
   "source": [
    "for i in SimilarCo_df.index:\n",
    "    print(''.join(i))"
   ]
  },
  {
   "cell_type": "code",
   "execution_count": 182,
   "metadata": {
    "collapsed": true,
    "scrolled": true
   },
   "outputs": [],
   "source": [
    "#SimilarCo_df.iloc[0][0]"
   ]
  },
  {
   "cell_type": "code",
   "execution_count": 183,
   "metadata": {
    "collapsed": true
   },
   "outputs": [],
   "source": [
    "#SimilarCo_df.iloc[1][0]"
   ]
  },
  {
   "cell_type": "code",
   "execution_count": 184,
   "metadata": {
    "collapsed": true
   },
   "outputs": [],
   "source": [
    "#SimilarCo_df.iloc[2][0]"
   ]
  },
  {
   "cell_type": "code",
   "execution_count": 185,
   "metadata": {
    "collapsed": true
   },
   "outputs": [],
   "source": [
    "#SimilarCo_df.iloc[3][0]"
   ]
  },
  {
   "cell_type": "code",
   "execution_count": 186,
   "metadata": {
    "collapsed": true
   },
   "outputs": [],
   "source": [
    "#SimilarCo_df.iloc[10][0]"
   ]
  },
  {
   "cell_type": "code",
   "execution_count": 187,
   "metadata": {
    "collapsed": true
   },
   "outputs": [],
   "source": [
    "raw_documents = [SimilarCo_df.iloc[0][0],\n",
    "                 SimilarCo_df.iloc[1][0],\n",
    "                 SimilarCo_df.iloc[2][0],\n",
    "                 SimilarCo_df.iloc[3][0],\n",
    "                 SimilarCo_df.iloc[4][0],\n",
    "                 SimilarCo_df.iloc[5][0],\n",
    "                 SimilarCo_df.iloc[6][0],\n",
    "                 SimilarCo_df.iloc[7][0],\n",
    "                 SimilarCo_df.iloc[8][0],\n",
    "                 SimilarCo_df.iloc[9][0],\n",
    "                 SimilarCo_df.iloc[10][0]]"
   ]
  },
  {
   "cell_type": "code",
   "execution_count": 188,
   "metadata": {
    "collapsed": true
   },
   "outputs": [],
   "source": [
    "vect2 = TfidfVectorizer(min_df=1,\n",
    "                       ngram_range=(1,1),\n",
    "                       max_df=0.70)\n",
    "\n",
    "tfidf2 = vect2.fit_transform(raw_documents)\n",
    "tfidf_format = (tfidf2 * tfidf2.T).A\n",
    "tfidf_similarity = tfidf_format[0]"
   ]
  },
  {
   "cell_type": "code",
   "execution_count": 189,
   "metadata": {},
   "outputs": [
    {
     "data": {
      "text/plain": [
       "(11, 1532)"
      ]
     },
     "execution_count": 189,
     "metadata": {},
     "output_type": "execute_result"
    }
   ],
   "source": [
    "tfidf2.shape"
   ]
  },
  {
   "cell_type": "code",
   "execution_count": 190,
   "metadata": {
    "collapsed": true
   },
   "outputs": [],
   "source": [
    "from nltk.tokenize import word_tokenize\n",
    "gen_docs = [[w.lower() for w in word_tokenize(text)]\n",
    "           for text in raw_documents]"
   ]
  },
  {
   "cell_type": "code",
   "execution_count": 191,
   "metadata": {},
   "outputs": [
    {
     "name": "stdout",
     "output_type": "stream",
     "text": [
      "TfidfModel(num_docs=11, num_nnz=3681)\n"
     ]
    },
    {
     "data": {
      "text/plain": [
       "3681"
      ]
     },
     "execution_count": 191,
     "metadata": {},
     "output_type": "execute_result"
    }
   ],
   "source": [
    "dictionary = gensim.corpora.Dictionary(gen_docs)\n",
    "\n",
    "corpus = [dictionary.doc2bow(gen_doc) for gen_doc in gen_docs]\n",
    "\n",
    "# NOTE: num_mnz is the number of tokens\n",
    "\n",
    "tf_idf = gensim.models.TfidfModel(corpus)\n",
    "print(tf_idf)\n",
    "s = 0\n",
    "for i in corpus:\n",
    "    s += len(i)\n",
    "s"
   ]
  },
  {
   "cell_type": "code",
   "execution_count": 192,
   "metadata": {
    "collapsed": true
   },
   "outputs": [],
   "source": [
    "#for i in range(len(dictionary)):\n",
    "#    print(i, dictionary[i])"
   ]
  },
  {
   "cell_type": "code",
   "execution_count": 193,
   "metadata": {},
   "outputs": [
    {
     "name": "stdout",
     "output_type": "stream",
     "text": [
      "Similarity index with 11 documents in 0 shards (stored under C:\\Users\\zanderl)\n",
      "<class 'gensim.similarities.docsim.Similarity'>\n"
     ]
    }
   ],
   "source": [
    "sims = gensim.similarities.Similarity(gensim.utils.os.getcwd(), tf_idf[corpus],\n",
    "                                     num_features=len(dictionary))\n",
    "\n",
    "print(sims)\n",
    "print(type(sims))"
   ]
  },
  {
   "cell_type": "code",
   "execution_count": 194,
   "metadata": {
    "collapsed": true
   },
   "outputs": [],
   "source": [
    "query_doc = [w.lower() for w in word_tokenize(SimilarCo_df.iloc[0][0])]\n",
    "query_doc_bow = dictionary.doc2bow(query_doc)\n",
    "query_doc_tf_idf = tf_idf[query_doc_bow]"
   ]
  },
  {
   "cell_type": "code",
   "execution_count": 195,
   "metadata": {
    "collapsed": true
   },
   "outputs": [],
   "source": [
    "SimilarCo_df['tfidf Similarity'] = tfidf_similarity\n",
    "SimilarCo_df['NLTK tfidf Similarity'] = sims[query_doc_tf_idf]\n",
    "SimilarCo_df['Euclidian Distances'] = distances.T"
   ]
  },
  {
   "cell_type": "code",
   "execution_count": 196,
   "metadata": {},
   "outputs": [
    {
     "data": {
      "text/html": [
       "<div>\n",
       "<style>\n",
       "    .dataframe thead tr:only-child th {\n",
       "        text-align: right;\n",
       "    }\n",
       "\n",
       "    .dataframe thead th {\n",
       "        text-align: left;\n",
       "    }\n",
       "\n",
       "    .dataframe tbody tr th {\n",
       "        vertical-align: top;\n",
       "    }\n",
       "</style>\n",
       "<table border=\"1\" class=\"dataframe\">\n",
       "  <thead>\n",
       "    <tr style=\"text-align: right;\">\n",
       "      <th></th>\n",
       "      <th>Business Description</th>\n",
       "      <th>tfidf Similarity</th>\n",
       "      <th>NLTK tfidf Similarity</th>\n",
       "      <th>Euclidian Distances</th>\n",
       "    </tr>\n",
       "    <tr>\n",
       "      <th>Account Name</th>\n",
       "      <th></th>\n",
       "      <th></th>\n",
       "      <th></th>\n",
       "      <th></th>\n",
       "    </tr>\n",
       "  </thead>\n",
       "  <tbody>\n",
       "    <tr>\n",
       "      <th>Harmony Asset Management LLC</th>\n",
       "      <td>harmony asset management llc provides economic...</td>\n",
       "      <td>1.000000</td>\n",
       "      <td>0.999999</td>\n",
       "      <td>0.000000</td>\n",
       "    </tr>\n",
       "    <tr>\n",
       "      <th>Pershing Square Capital Management, L.P.</th>\n",
       "      <td>the adviser is a concentrated, research-intens...</td>\n",
       "      <td>0.195256</td>\n",
       "      <td>0.082395</td>\n",
       "      <td>0.116694</td>\n",
       "    </tr>\n",
       "    <tr>\n",
       "      <th>Picton Mahoney Asset Management</th>\n",
       "      <td>picton mahoney asset management is a privately...</td>\n",
       "      <td>0.150548</td>\n",
       "      <td>0.066291</td>\n",
       "      <td>0.117625</td>\n",
       "    </tr>\n",
       "    <tr>\n",
       "      <th>1919 Investment Counsel, LLC</th>\n",
       "      <td>1919 investment counsel, llc operates as a sub...</td>\n",
       "      <td>0.135380</td>\n",
       "      <td>0.063260</td>\n",
       "      <td>0.081836</td>\n",
       "    </tr>\n",
       "    <tr>\n",
       "      <th>Wilmington Trust Investment Advisors, Inc.</th>\n",
       "      <td>mtb investment advisors, inc. is a privately o...</td>\n",
       "      <td>0.109320</td>\n",
       "      <td>0.043746</td>\n",
       "      <td>0.103226</td>\n",
       "    </tr>\n",
       "    <tr>\n",
       "      <th>Paradigm Asset Management Co., LLC</th>\n",
       "      <td>paradigm asset management co. llc is an employ...</td>\n",
       "      <td>0.101291</td>\n",
       "      <td>0.039160</td>\n",
       "      <td>0.096793</td>\n",
       "    </tr>\n",
       "    <tr>\n",
       "      <th>Highline Capital Management, L.P.</th>\n",
       "      <td>highline capital management, l.p. is an employ...</td>\n",
       "      <td>0.085124</td>\n",
       "      <td>0.028023</td>\n",
       "      <td>0.111945</td>\n",
       "    </tr>\n",
       "    <tr>\n",
       "      <th>Eagle Asset Management, Inc.</th>\n",
       "      <td>eagle asset management, inc. is a privately ow...</td>\n",
       "      <td>0.079741</td>\n",
       "      <td>0.029935</td>\n",
       "      <td>0.090120</td>\n",
       "    </tr>\n",
       "    <tr>\n",
       "      <th>Biondo Investment Advisors LLC</th>\n",
       "      <td>biondo investment advisors llc is an employee ...</td>\n",
       "      <td>0.064561</td>\n",
       "      <td>0.027524</td>\n",
       "      <td>0.116233</td>\n",
       "    </tr>\n",
       "    <tr>\n",
       "      <th>Knightsbridge Asset Management LLC</th>\n",
       "      <td>knightsbridge asset management llc is an emplo...</td>\n",
       "      <td>0.062614</td>\n",
       "      <td>0.034396</td>\n",
       "      <td>0.117926</td>\n",
       "    </tr>\n",
       "    <tr>\n",
       "      <th>Fort Washington Investment Advisors, Inc.</th>\n",
       "      <td>fort washington investment advisors, inc. is a...</td>\n",
       "      <td>0.059554</td>\n",
       "      <td>0.028027</td>\n",
       "      <td>0.113887</td>\n",
       "    </tr>\n",
       "  </tbody>\n",
       "</table>\n",
       "</div>"
      ],
      "text/plain": [
       "                                                                         Business Description  \\\n",
       "Account Name                                                                                    \n",
       "Harmony Asset Management LLC                harmony asset management llc provides economic...   \n",
       "Pershing Square Capital Management, L.P.    the adviser is a concentrated, research-intens...   \n",
       "Picton Mahoney Asset Management             picton mahoney asset management is a privately...   \n",
       "1919 Investment Counsel, LLC                1919 investment counsel, llc operates as a sub...   \n",
       "Wilmington Trust Investment Advisors, Inc.  mtb investment advisors, inc. is a privately o...   \n",
       "Paradigm Asset Management Co., LLC          paradigm asset management co. llc is an employ...   \n",
       "Highline Capital Management, L.P.           highline capital management, l.p. is an employ...   \n",
       "Eagle Asset Management, Inc.                eagle asset management, inc. is a privately ow...   \n",
       "Biondo Investment Advisors LLC              biondo investment advisors llc is an employee ...   \n",
       "Knightsbridge Asset Management LLC          knightsbridge asset management llc is an emplo...   \n",
       "Fort Washington Investment Advisors, Inc.   fort washington investment advisors, inc. is a...   \n",
       "\n",
       "                                            tfidf Similarity  \\\n",
       "Account Name                                                   \n",
       "Harmony Asset Management LLC                        1.000000   \n",
       "Pershing Square Capital Management, L.P.            0.195256   \n",
       "Picton Mahoney Asset Management                     0.150548   \n",
       "1919 Investment Counsel, LLC                        0.135380   \n",
       "Wilmington Trust Investment Advisors, Inc.          0.109320   \n",
       "Paradigm Asset Management Co., LLC                  0.101291   \n",
       "Highline Capital Management, L.P.                   0.085124   \n",
       "Eagle Asset Management, Inc.                        0.079741   \n",
       "Biondo Investment Advisors LLC                      0.064561   \n",
       "Knightsbridge Asset Management LLC                  0.062614   \n",
       "Fort Washington Investment Advisors, Inc.           0.059554   \n",
       "\n",
       "                                            NLTK tfidf Similarity  \\\n",
       "Account Name                                                        \n",
       "Harmony Asset Management LLC                             0.999999   \n",
       "Pershing Square Capital Management, L.P.                 0.082395   \n",
       "Picton Mahoney Asset Management                          0.066291   \n",
       "1919 Investment Counsel, LLC                             0.063260   \n",
       "Wilmington Trust Investment Advisors, Inc.               0.043746   \n",
       "Paradigm Asset Management Co., LLC                       0.039160   \n",
       "Highline Capital Management, L.P.                        0.028023   \n",
       "Eagle Asset Management, Inc.                             0.029935   \n",
       "Biondo Investment Advisors LLC                           0.027524   \n",
       "Knightsbridge Asset Management LLC                       0.034396   \n",
       "Fort Washington Investment Advisors, Inc.                0.028027   \n",
       "\n",
       "                                            Euclidian Distances  \n",
       "Account Name                                                     \n",
       "Harmony Asset Management LLC                           0.000000  \n",
       "Pershing Square Capital Management, L.P.               0.116694  \n",
       "Picton Mahoney Asset Management                        0.117625  \n",
       "1919 Investment Counsel, LLC                           0.081836  \n",
       "Wilmington Trust Investment Advisors, Inc.             0.103226  \n",
       "Paradigm Asset Management Co., LLC                     0.096793  \n",
       "Highline Capital Management, L.P.                      0.111945  \n",
       "Eagle Asset Management, Inc.                           0.090120  \n",
       "Biondo Investment Advisors LLC                         0.116233  \n",
       "Knightsbridge Asset Management LLC                     0.117926  \n",
       "Fort Washington Investment Advisors, Inc.              0.113887  "
      ]
     },
     "execution_count": 196,
     "metadata": {},
     "output_type": "execute_result"
    }
   ],
   "source": [
    "SimilarCo_df.sort_values(by='tfidf Similarity',ascending=False,inplace=True)\n",
    "SimilarCo_df"
   ]
  },
  {
   "cell_type": "code",
   "execution_count": 139,
   "metadata": {},
   "outputs": [
    {
     "data": {
      "text/html": [
       "<div>\n",
       "<style>\n",
       "    .dataframe thead tr:only-child th {\n",
       "        text-align: right;\n",
       "    }\n",
       "\n",
       "    .dataframe thead th {\n",
       "        text-align: left;\n",
       "    }\n",
       "\n",
       "    .dataframe tbody tr th {\n",
       "        vertical-align: top;\n",
       "    }\n",
       "</style>\n",
       "<table border=\"1\" class=\"dataframe\">\n",
       "  <thead>\n",
       "    <tr style=\"text-align: right;\">\n",
       "      <th></th>\n",
       "      <th>Business Description</th>\n",
       "      <th>tfidf Similarity</th>\n",
       "      <th>NLTK tfidf Similarity</th>\n",
       "      <th>Euclidian Distances</th>\n",
       "    </tr>\n",
       "    <tr>\n",
       "      <th>Account Name</th>\n",
       "      <th></th>\n",
       "      <th></th>\n",
       "      <th></th>\n",
       "      <th></th>\n",
       "    </tr>\n",
       "  </thead>\n",
       "  <tbody>\n",
       "    <tr>\n",
       "      <th>Harmony Asset Management LLC</th>\n",
       "      <td>harmony asset management llc provides economic...</td>\n",
       "      <td>1.000000</td>\n",
       "      <td>1.000001</td>\n",
       "      <td>0.000000</td>\n",
       "    </tr>\n",
       "    <tr>\n",
       "      <th>Pivot Point Capital</th>\n",
       "      <td>\"pivot point capital is a private equity firm....</td>\n",
       "      <td>0.391465</td>\n",
       "      <td>0.331737</td>\n",
       "      <td>0.174548</td>\n",
       "    </tr>\n",
       "    <tr>\n",
       "      <th>Pershing Square Capital Management, L.P.</th>\n",
       "      <td>the adviser is a concentrated, research-intens...</td>\n",
       "      <td>0.180598</td>\n",
       "      <td>0.106816</td>\n",
       "      <td>0.157276</td>\n",
       "    </tr>\n",
       "    <tr>\n",
       "      <th>Picton Mahoney Asset Management</th>\n",
       "      <td>picton mahoney asset management is a privately...</td>\n",
       "      <td>0.152386</td>\n",
       "      <td>0.089701</td>\n",
       "      <td>0.171677</td>\n",
       "    </tr>\n",
       "    <tr>\n",
       "      <th>Wellington Management Group LLP</th>\n",
       "      <td>wellington management group llp is a privately...</td>\n",
       "      <td>0.120346</td>\n",
       "      <td>0.057754</td>\n",
       "      <td>0.197576</td>\n",
       "    </tr>\n",
       "    <tr>\n",
       "      <th>Glenview Capital Management, LLC</th>\n",
       "      <td>glenview capital management, llc is a privatel...</td>\n",
       "      <td>0.116981</td>\n",
       "      <td>0.051092</td>\n",
       "      <td>0.208689</td>\n",
       "    </tr>\n",
       "    <tr>\n",
       "      <th>Paradigm Asset Management Co., LLC</th>\n",
       "      <td>paradigm asset management co. llc is an employ...</td>\n",
       "      <td>0.112615</td>\n",
       "      <td>0.053609</td>\n",
       "      <td>0.186470</td>\n",
       "    </tr>\n",
       "    <tr>\n",
       "      <th>BNY Mellon Asset Management North America Corporation</th>\n",
       "      <td>bny mellon asset management north america corp...</td>\n",
       "      <td>0.100705</td>\n",
       "      <td>0.045140</td>\n",
       "      <td>0.202452</td>\n",
       "    </tr>\n",
       "    <tr>\n",
       "      <th>Cohen &amp; Steers Capital Management, Inc.</th>\n",
       "      <td>cohen &amp; steers capital management inc. is a pr...</td>\n",
       "      <td>0.092167</td>\n",
       "      <td>0.048546</td>\n",
       "      <td>0.135656</td>\n",
       "    </tr>\n",
       "    <tr>\n",
       "      <th>Atlantic Investment Management, Inc.</th>\n",
       "      <td>atlantic investment management, inc. is an emp...</td>\n",
       "      <td>0.085335</td>\n",
       "      <td>0.038863</td>\n",
       "      <td>0.177598</td>\n",
       "    </tr>\n",
       "    <tr>\n",
       "      <th>Blue Ridge Capital, L.L.C.</th>\n",
       "      <td>blue ridge capital llc is an employee owned he...</td>\n",
       "      <td>0.041966</td>\n",
       "      <td>0.018005</td>\n",
       "      <td>0.207006</td>\n",
       "    </tr>\n",
       "  </tbody>\n",
       "</table>\n",
       "</div>"
      ],
      "text/plain": [
       "                                                                                 Business Description  \\\n",
       "Account Name                                                                                            \n",
       "Harmony Asset Management LLC                        harmony asset management llc provides economic...   \n",
       "Pivot Point Capital                                 \"pivot point capital is a private equity firm....   \n",
       "Pershing Square Capital Management, L.P.            the adviser is a concentrated, research-intens...   \n",
       "Picton Mahoney Asset Management                     picton mahoney asset management is a privately...   \n",
       "Wellington Management Group LLP                     wellington management group llp is a privately...   \n",
       "Glenview Capital Management, LLC                    glenview capital management, llc is a privatel...   \n",
       "Paradigm Asset Management Co., LLC                  paradigm asset management co. llc is an employ...   \n",
       "BNY Mellon Asset Management North America Corpo...  bny mellon asset management north america corp...   \n",
       "Cohen & Steers Capital Management, Inc.             cohen & steers capital management inc. is a pr...   \n",
       "Atlantic Investment Management, Inc.                atlantic investment management, inc. is an emp...   \n",
       "Blue Ridge Capital, L.L.C.                          blue ridge capital llc is an employee owned he...   \n",
       "\n",
       "                                                    tfidf Similarity  \\\n",
       "Account Name                                                           \n",
       "Harmony Asset Management LLC                                1.000000   \n",
       "Pivot Point Capital                                         0.391465   \n",
       "Pershing Square Capital Management, L.P.                    0.180598   \n",
       "Picton Mahoney Asset Management                             0.152386   \n",
       "Wellington Management Group LLP                             0.120346   \n",
       "Glenview Capital Management, LLC                            0.116981   \n",
       "Paradigm Asset Management Co., LLC                          0.112615   \n",
       "BNY Mellon Asset Management North America Corpo...          0.100705   \n",
       "Cohen & Steers Capital Management, Inc.                     0.092167   \n",
       "Atlantic Investment Management, Inc.                        0.085335   \n",
       "Blue Ridge Capital, L.L.C.                                  0.041966   \n",
       "\n",
       "                                                    NLTK tfidf Similarity  \\\n",
       "Account Name                                                                \n",
       "Harmony Asset Management LLC                                     1.000001   \n",
       "Pivot Point Capital                                              0.331737   \n",
       "Pershing Square Capital Management, L.P.                         0.106816   \n",
       "Picton Mahoney Asset Management                                  0.089701   \n",
       "Wellington Management Group LLP                                  0.057754   \n",
       "Glenview Capital Management, LLC                                 0.051092   \n",
       "Paradigm Asset Management Co., LLC                               0.053609   \n",
       "BNY Mellon Asset Management North America Corpo...               0.045140   \n",
       "Cohen & Steers Capital Management, Inc.                          0.048546   \n",
       "Atlantic Investment Management, Inc.                             0.038863   \n",
       "Blue Ridge Capital, L.L.C.                                       0.018005   \n",
       "\n",
       "                                                    Euclidian Distances  \n",
       "Account Name                                                             \n",
       "Harmony Asset Management LLC                                   0.000000  \n",
       "Pivot Point Capital                                            0.174548  \n",
       "Pershing Square Capital Management, L.P.                       0.157276  \n",
       "Picton Mahoney Asset Management                                0.171677  \n",
       "Wellington Management Group LLP                                0.197576  \n",
       "Glenview Capital Management, LLC                               0.208689  \n",
       "Paradigm Asset Management Co., LLC                             0.186470  \n",
       "BNY Mellon Asset Management North America Corpo...             0.202452  \n",
       "Cohen & Steers Capital Management, Inc.                        0.135656  \n",
       "Atlantic Investment Management, Inc.                           0.177598  \n",
       "Blue Ridge Capital, L.L.C.                                     0.207006  "
      ]
     },
     "execution_count": 139,
     "metadata": {},
     "output_type": "execute_result"
    }
   ],
   "source": [
    "SimilarCo_df.sort_values(by='tfidf Similarity',ascending=False,inplace=True)\n",
    "SimilarCo_df"
   ]
  },
  {
   "cell_type": "code",
   "execution_count": 140,
   "metadata": {},
   "outputs": [
    {
     "data": {
      "text/html": [
       "<div>\n",
       "<style>\n",
       "    .dataframe thead tr:only-child th {\n",
       "        text-align: right;\n",
       "    }\n",
       "\n",
       "    .dataframe thead th {\n",
       "        text-align: left;\n",
       "    }\n",
       "\n",
       "    .dataframe tbody tr th {\n",
       "        vertical-align: top;\n",
       "    }\n",
       "</style>\n",
       "<table border=\"1\" class=\"dataframe\">\n",
       "  <thead>\n",
       "    <tr style=\"text-align: right;\">\n",
       "      <th></th>\n",
       "      <th>Business Description</th>\n",
       "      <th>tfidf Similarity</th>\n",
       "      <th>NLTK tfidf Similarity</th>\n",
       "      <th>Euclidian Distances</th>\n",
       "    </tr>\n",
       "    <tr>\n",
       "      <th>Account Name</th>\n",
       "      <th></th>\n",
       "      <th></th>\n",
       "      <th></th>\n",
       "      <th></th>\n",
       "    </tr>\n",
       "  </thead>\n",
       "  <tbody>\n",
       "    <tr>\n",
       "      <th>Harmony Asset Management LLC</th>\n",
       "      <td>harmony asset management llc provides economic...</td>\n",
       "      <td>1.000000</td>\n",
       "      <td>1.000001</td>\n",
       "      <td>0.000000</td>\n",
       "    </tr>\n",
       "    <tr>\n",
       "      <th>Pivot Point Capital</th>\n",
       "      <td>\"pivot point capital is a private equity firm....</td>\n",
       "      <td>0.391465</td>\n",
       "      <td>0.331737</td>\n",
       "      <td>0.174548</td>\n",
       "    </tr>\n",
       "    <tr>\n",
       "      <th>Pershing Square Capital Management, L.P.</th>\n",
       "      <td>the adviser is a concentrated, research-intens...</td>\n",
       "      <td>0.180598</td>\n",
       "      <td>0.106816</td>\n",
       "      <td>0.157276</td>\n",
       "    </tr>\n",
       "    <tr>\n",
       "      <th>Picton Mahoney Asset Management</th>\n",
       "      <td>picton mahoney asset management is a privately...</td>\n",
       "      <td>0.152386</td>\n",
       "      <td>0.089701</td>\n",
       "      <td>0.171677</td>\n",
       "    </tr>\n",
       "    <tr>\n",
       "      <th>Wellington Management Group LLP</th>\n",
       "      <td>wellington management group llp is a privately...</td>\n",
       "      <td>0.120346</td>\n",
       "      <td>0.057754</td>\n",
       "      <td>0.197576</td>\n",
       "    </tr>\n",
       "    <tr>\n",
       "      <th>Glenview Capital Management, LLC</th>\n",
       "      <td>glenview capital management, llc is a privatel...</td>\n",
       "      <td>0.116981</td>\n",
       "      <td>0.051092</td>\n",
       "      <td>0.208689</td>\n",
       "    </tr>\n",
       "    <tr>\n",
       "      <th>Paradigm Asset Management Co., LLC</th>\n",
       "      <td>paradigm asset management co. llc is an employ...</td>\n",
       "      <td>0.112615</td>\n",
       "      <td>0.053609</td>\n",
       "      <td>0.186470</td>\n",
       "    </tr>\n",
       "    <tr>\n",
       "      <th>BNY Mellon Asset Management North America Corporation</th>\n",
       "      <td>bny mellon asset management north america corp...</td>\n",
       "      <td>0.100705</td>\n",
       "      <td>0.045140</td>\n",
       "      <td>0.202452</td>\n",
       "    </tr>\n",
       "    <tr>\n",
       "      <th>Cohen &amp; Steers Capital Management, Inc.</th>\n",
       "      <td>cohen &amp; steers capital management inc. is a pr...</td>\n",
       "      <td>0.092167</td>\n",
       "      <td>0.048546</td>\n",
       "      <td>0.135656</td>\n",
       "    </tr>\n",
       "    <tr>\n",
       "      <th>Atlantic Investment Management, Inc.</th>\n",
       "      <td>atlantic investment management, inc. is an emp...</td>\n",
       "      <td>0.085335</td>\n",
       "      <td>0.038863</td>\n",
       "      <td>0.177598</td>\n",
       "    </tr>\n",
       "    <tr>\n",
       "      <th>Blue Ridge Capital, L.L.C.</th>\n",
       "      <td>blue ridge capital llc is an employee owned he...</td>\n",
       "      <td>0.041966</td>\n",
       "      <td>0.018005</td>\n",
       "      <td>0.207006</td>\n",
       "    </tr>\n",
       "  </tbody>\n",
       "</table>\n",
       "</div>"
      ],
      "text/plain": [
       "                                                                                 Business Description  \\\n",
       "Account Name                                                                                            \n",
       "Harmony Asset Management LLC                        harmony asset management llc provides economic...   \n",
       "Pivot Point Capital                                 \"pivot point capital is a private equity firm....   \n",
       "Pershing Square Capital Management, L.P.            the adviser is a concentrated, research-intens...   \n",
       "Picton Mahoney Asset Management                     picton mahoney asset management is a privately...   \n",
       "Wellington Management Group LLP                     wellington management group llp is a privately...   \n",
       "Glenview Capital Management, LLC                    glenview capital management, llc is a privatel...   \n",
       "Paradigm Asset Management Co., LLC                  paradigm asset management co. llc is an employ...   \n",
       "BNY Mellon Asset Management North America Corpo...  bny mellon asset management north america corp...   \n",
       "Cohen & Steers Capital Management, Inc.             cohen & steers capital management inc. is a pr...   \n",
       "Atlantic Investment Management, Inc.                atlantic investment management, inc. is an emp...   \n",
       "Blue Ridge Capital, L.L.C.                          blue ridge capital llc is an employee owned he...   \n",
       "\n",
       "                                                    tfidf Similarity  \\\n",
       "Account Name                                                           \n",
       "Harmony Asset Management LLC                                1.000000   \n",
       "Pivot Point Capital                                         0.391465   \n",
       "Pershing Square Capital Management, L.P.                    0.180598   \n",
       "Picton Mahoney Asset Management                             0.152386   \n",
       "Wellington Management Group LLP                             0.120346   \n",
       "Glenview Capital Management, LLC                            0.116981   \n",
       "Paradigm Asset Management Co., LLC                          0.112615   \n",
       "BNY Mellon Asset Management North America Corpo...          0.100705   \n",
       "Cohen & Steers Capital Management, Inc.                     0.092167   \n",
       "Atlantic Investment Management, Inc.                        0.085335   \n",
       "Blue Ridge Capital, L.L.C.                                  0.041966   \n",
       "\n",
       "                                                    NLTK tfidf Similarity  \\\n",
       "Account Name                                                                \n",
       "Harmony Asset Management LLC                                     1.000001   \n",
       "Pivot Point Capital                                              0.331737   \n",
       "Pershing Square Capital Management, L.P.                         0.106816   \n",
       "Picton Mahoney Asset Management                                  0.089701   \n",
       "Wellington Management Group LLP                                  0.057754   \n",
       "Glenview Capital Management, LLC                                 0.051092   \n",
       "Paradigm Asset Management Co., LLC                               0.053609   \n",
       "BNY Mellon Asset Management North America Corpo...               0.045140   \n",
       "Cohen & Steers Capital Management, Inc.                          0.048546   \n",
       "Atlantic Investment Management, Inc.                             0.038863   \n",
       "Blue Ridge Capital, L.L.C.                                       0.018005   \n",
       "\n",
       "                                                    Euclidian Distances  \n",
       "Account Name                                                             \n",
       "Harmony Asset Management LLC                                   0.000000  \n",
       "Pivot Point Capital                                            0.174548  \n",
       "Pershing Square Capital Management, L.P.                       0.157276  \n",
       "Picton Mahoney Asset Management                                0.171677  \n",
       "Wellington Management Group LLP                                0.197576  \n",
       "Glenview Capital Management, LLC                               0.208689  \n",
       "Paradigm Asset Management Co., LLC                             0.186470  \n",
       "BNY Mellon Asset Management North America Corpo...             0.202452  \n",
       "Cohen & Steers Capital Management, Inc.                        0.135656  \n",
       "Atlantic Investment Management, Inc.                           0.177598  \n",
       "Blue Ridge Capital, L.L.C.                                     0.207006  "
      ]
     },
     "execution_count": 140,
     "metadata": {},
     "output_type": "execute_result"
    }
   ],
   "source": [
    "SimilarCo_df.sort_values(by='tfidf Similarity',ascending=False,inplace=True)\n",
    "SimilarCo_df"
   ]
  },
  {
   "cell_type": "code",
   "execution_count": 141,
   "metadata": {},
   "outputs": [
    {
     "data": {
      "text/html": [
       "<div>\n",
       "<style>\n",
       "    .dataframe thead tr:only-child th {\n",
       "        text-align: right;\n",
       "    }\n",
       "\n",
       "    .dataframe thead th {\n",
       "        text-align: left;\n",
       "    }\n",
       "\n",
       "    .dataframe tbody tr th {\n",
       "        vertical-align: top;\n",
       "    }\n",
       "</style>\n",
       "<table border=\"1\" class=\"dataframe\">\n",
       "  <thead>\n",
       "    <tr style=\"text-align: right;\">\n",
       "      <th></th>\n",
       "      <th>Business Description</th>\n",
       "      <th>tfidf Similarity</th>\n",
       "      <th>NLTK tfidf Similarity</th>\n",
       "      <th>Euclidian Distances</th>\n",
       "    </tr>\n",
       "    <tr>\n",
       "      <th>Account Name</th>\n",
       "      <th></th>\n",
       "      <th></th>\n",
       "      <th></th>\n",
       "      <th></th>\n",
       "    </tr>\n",
       "  </thead>\n",
       "  <tbody>\n",
       "    <tr>\n",
       "      <th>Harmony Asset Management LLC</th>\n",
       "      <td>harmony asset management llc provides economic...</td>\n",
       "      <td>1.000000</td>\n",
       "      <td>1.000001</td>\n",
       "      <td>0.000000</td>\n",
       "    </tr>\n",
       "    <tr>\n",
       "      <th>Pivot Point Capital</th>\n",
       "      <td>\"pivot point capital is a private equity firm....</td>\n",
       "      <td>0.391465</td>\n",
       "      <td>0.331737</td>\n",
       "      <td>0.174548</td>\n",
       "    </tr>\n",
       "    <tr>\n",
       "      <th>Pershing Square Capital Management, L.P.</th>\n",
       "      <td>the adviser is a concentrated, research-intens...</td>\n",
       "      <td>0.180598</td>\n",
       "      <td>0.106816</td>\n",
       "      <td>0.157276</td>\n",
       "    </tr>\n",
       "    <tr>\n",
       "      <th>Picton Mahoney Asset Management</th>\n",
       "      <td>picton mahoney asset management is a privately...</td>\n",
       "      <td>0.152386</td>\n",
       "      <td>0.089701</td>\n",
       "      <td>0.171677</td>\n",
       "    </tr>\n",
       "    <tr>\n",
       "      <th>Wellington Management Group LLP</th>\n",
       "      <td>wellington management group llp is a privately...</td>\n",
       "      <td>0.120346</td>\n",
       "      <td>0.057754</td>\n",
       "      <td>0.197576</td>\n",
       "    </tr>\n",
       "    <tr>\n",
       "      <th>Glenview Capital Management, LLC</th>\n",
       "      <td>glenview capital management, llc is a privatel...</td>\n",
       "      <td>0.116981</td>\n",
       "      <td>0.051092</td>\n",
       "      <td>0.208689</td>\n",
       "    </tr>\n",
       "    <tr>\n",
       "      <th>Paradigm Asset Management Co., LLC</th>\n",
       "      <td>paradigm asset management co. llc is an employ...</td>\n",
       "      <td>0.112615</td>\n",
       "      <td>0.053609</td>\n",
       "      <td>0.186470</td>\n",
       "    </tr>\n",
       "    <tr>\n",
       "      <th>BNY Mellon Asset Management North America Corporation</th>\n",
       "      <td>bny mellon asset management north america corp...</td>\n",
       "      <td>0.100705</td>\n",
       "      <td>0.045140</td>\n",
       "      <td>0.202452</td>\n",
       "    </tr>\n",
       "    <tr>\n",
       "      <th>Cohen &amp; Steers Capital Management, Inc.</th>\n",
       "      <td>cohen &amp; steers capital management inc. is a pr...</td>\n",
       "      <td>0.092167</td>\n",
       "      <td>0.048546</td>\n",
       "      <td>0.135656</td>\n",
       "    </tr>\n",
       "    <tr>\n",
       "      <th>Atlantic Investment Management, Inc.</th>\n",
       "      <td>atlantic investment management, inc. is an emp...</td>\n",
       "      <td>0.085335</td>\n",
       "      <td>0.038863</td>\n",
       "      <td>0.177598</td>\n",
       "    </tr>\n",
       "    <tr>\n",
       "      <th>Blue Ridge Capital, L.L.C.</th>\n",
       "      <td>blue ridge capital llc is an employee owned he...</td>\n",
       "      <td>0.041966</td>\n",
       "      <td>0.018005</td>\n",
       "      <td>0.207006</td>\n",
       "    </tr>\n",
       "  </tbody>\n",
       "</table>\n",
       "</div>"
      ],
      "text/plain": [
       "                                                                                 Business Description  \\\n",
       "Account Name                                                                                            \n",
       "Harmony Asset Management LLC                        harmony asset management llc provides economic...   \n",
       "Pivot Point Capital                                 \"pivot point capital is a private equity firm....   \n",
       "Pershing Square Capital Management, L.P.            the adviser is a concentrated, research-intens...   \n",
       "Picton Mahoney Asset Management                     picton mahoney asset management is a privately...   \n",
       "Wellington Management Group LLP                     wellington management group llp is a privately...   \n",
       "Glenview Capital Management, LLC                    glenview capital management, llc is a privatel...   \n",
       "Paradigm Asset Management Co., LLC                  paradigm asset management co. llc is an employ...   \n",
       "BNY Mellon Asset Management North America Corpo...  bny mellon asset management north america corp...   \n",
       "Cohen & Steers Capital Management, Inc.             cohen & steers capital management inc. is a pr...   \n",
       "Atlantic Investment Management, Inc.                atlantic investment management, inc. is an emp...   \n",
       "Blue Ridge Capital, L.L.C.                          blue ridge capital llc is an employee owned he...   \n",
       "\n",
       "                                                    tfidf Similarity  \\\n",
       "Account Name                                                           \n",
       "Harmony Asset Management LLC                                1.000000   \n",
       "Pivot Point Capital                                         0.391465   \n",
       "Pershing Square Capital Management, L.P.                    0.180598   \n",
       "Picton Mahoney Asset Management                             0.152386   \n",
       "Wellington Management Group LLP                             0.120346   \n",
       "Glenview Capital Management, LLC                            0.116981   \n",
       "Paradigm Asset Management Co., LLC                          0.112615   \n",
       "BNY Mellon Asset Management North America Corpo...          0.100705   \n",
       "Cohen & Steers Capital Management, Inc.                     0.092167   \n",
       "Atlantic Investment Management, Inc.                        0.085335   \n",
       "Blue Ridge Capital, L.L.C.                                  0.041966   \n",
       "\n",
       "                                                    NLTK tfidf Similarity  \\\n",
       "Account Name                                                                \n",
       "Harmony Asset Management LLC                                     1.000001   \n",
       "Pivot Point Capital                                              0.331737   \n",
       "Pershing Square Capital Management, L.P.                         0.106816   \n",
       "Picton Mahoney Asset Management                                  0.089701   \n",
       "Wellington Management Group LLP                                  0.057754   \n",
       "Glenview Capital Management, LLC                                 0.051092   \n",
       "Paradigm Asset Management Co., LLC                               0.053609   \n",
       "BNY Mellon Asset Management North America Corpo...               0.045140   \n",
       "Cohen & Steers Capital Management, Inc.                          0.048546   \n",
       "Atlantic Investment Management, Inc.                             0.038863   \n",
       "Blue Ridge Capital, L.L.C.                                       0.018005   \n",
       "\n",
       "                                                    Euclidian Distances  \n",
       "Account Name                                                             \n",
       "Harmony Asset Management LLC                                   0.000000  \n",
       "Pivot Point Capital                                            0.174548  \n",
       "Pershing Square Capital Management, L.P.                       0.157276  \n",
       "Picton Mahoney Asset Management                                0.171677  \n",
       "Wellington Management Group LLP                                0.197576  \n",
       "Glenview Capital Management, LLC                               0.208689  \n",
       "Paradigm Asset Management Co., LLC                             0.186470  \n",
       "BNY Mellon Asset Management North America Corpo...             0.202452  \n",
       "Cohen & Steers Capital Management, Inc.                        0.135656  \n",
       "Atlantic Investment Management, Inc.                           0.177598  \n",
       "Blue Ridge Capital, L.L.C.                                     0.207006  "
      ]
     },
     "execution_count": 141,
     "metadata": {},
     "output_type": "execute_result"
    }
   ],
   "source": [
    "SimilarCo_df.sort_values(by='tfidf Similarity',ascending=False,inplace=True)\n",
    "SimilarCo_df"
   ]
  },
  {
   "cell_type": "code",
   "execution_count": 142,
   "metadata": {},
   "outputs": [
    {
     "data": {
      "text/html": [
       "<div>\n",
       "<style>\n",
       "    .dataframe thead tr:only-child th {\n",
       "        text-align: right;\n",
       "    }\n",
       "\n",
       "    .dataframe thead th {\n",
       "        text-align: left;\n",
       "    }\n",
       "\n",
       "    .dataframe tbody tr th {\n",
       "        vertical-align: top;\n",
       "    }\n",
       "</style>\n",
       "<table border=\"1\" class=\"dataframe\">\n",
       "  <thead>\n",
       "    <tr style=\"text-align: right;\">\n",
       "      <th></th>\n",
       "      <th>Business Description</th>\n",
       "      <th>tfidf Similarity</th>\n",
       "      <th>NLTK tfidf Similarity</th>\n",
       "      <th>Euclidian Distances</th>\n",
       "    </tr>\n",
       "    <tr>\n",
       "      <th>Account Name</th>\n",
       "      <th></th>\n",
       "      <th></th>\n",
       "      <th></th>\n",
       "      <th></th>\n",
       "    </tr>\n",
       "  </thead>\n",
       "  <tbody>\n",
       "    <tr>\n",
       "      <th>Harmony Asset Management LLC</th>\n",
       "      <td>harmony asset management llc provides economic...</td>\n",
       "      <td>1.000000</td>\n",
       "      <td>1.000001</td>\n",
       "      <td>0.000000</td>\n",
       "    </tr>\n",
       "    <tr>\n",
       "      <th>Pivot Point Capital</th>\n",
       "      <td>\"pivot point capital is a private equity firm....</td>\n",
       "      <td>0.391465</td>\n",
       "      <td>0.331737</td>\n",
       "      <td>0.174548</td>\n",
       "    </tr>\n",
       "    <tr>\n",
       "      <th>Pershing Square Capital Management, L.P.</th>\n",
       "      <td>the adviser is a concentrated, research-intens...</td>\n",
       "      <td>0.180598</td>\n",
       "      <td>0.106816</td>\n",
       "      <td>0.157276</td>\n",
       "    </tr>\n",
       "    <tr>\n",
       "      <th>Picton Mahoney Asset Management</th>\n",
       "      <td>picton mahoney asset management is a privately...</td>\n",
       "      <td>0.152386</td>\n",
       "      <td>0.089701</td>\n",
       "      <td>0.171677</td>\n",
       "    </tr>\n",
       "    <tr>\n",
       "      <th>Wellington Management Group LLP</th>\n",
       "      <td>wellington management group llp is a privately...</td>\n",
       "      <td>0.120346</td>\n",
       "      <td>0.057754</td>\n",
       "      <td>0.197576</td>\n",
       "    </tr>\n",
       "    <tr>\n",
       "      <th>Glenview Capital Management, LLC</th>\n",
       "      <td>glenview capital management, llc is a privatel...</td>\n",
       "      <td>0.116981</td>\n",
       "      <td>0.051092</td>\n",
       "      <td>0.208689</td>\n",
       "    </tr>\n",
       "    <tr>\n",
       "      <th>Paradigm Asset Management Co., LLC</th>\n",
       "      <td>paradigm asset management co. llc is an employ...</td>\n",
       "      <td>0.112615</td>\n",
       "      <td>0.053609</td>\n",
       "      <td>0.186470</td>\n",
       "    </tr>\n",
       "    <tr>\n",
       "      <th>BNY Mellon Asset Management North America Corporation</th>\n",
       "      <td>bny mellon asset management north america corp...</td>\n",
       "      <td>0.100705</td>\n",
       "      <td>0.045140</td>\n",
       "      <td>0.202452</td>\n",
       "    </tr>\n",
       "    <tr>\n",
       "      <th>Cohen &amp; Steers Capital Management, Inc.</th>\n",
       "      <td>cohen &amp; steers capital management inc. is a pr...</td>\n",
       "      <td>0.092167</td>\n",
       "      <td>0.048546</td>\n",
       "      <td>0.135656</td>\n",
       "    </tr>\n",
       "    <tr>\n",
       "      <th>Atlantic Investment Management, Inc.</th>\n",
       "      <td>atlantic investment management, inc. is an emp...</td>\n",
       "      <td>0.085335</td>\n",
       "      <td>0.038863</td>\n",
       "      <td>0.177598</td>\n",
       "    </tr>\n",
       "    <tr>\n",
       "      <th>Blue Ridge Capital, L.L.C.</th>\n",
       "      <td>blue ridge capital llc is an employee owned he...</td>\n",
       "      <td>0.041966</td>\n",
       "      <td>0.018005</td>\n",
       "      <td>0.207006</td>\n",
       "    </tr>\n",
       "  </tbody>\n",
       "</table>\n",
       "</div>"
      ],
      "text/plain": [
       "                                                                                 Business Description  \\\n",
       "Account Name                                                                                            \n",
       "Harmony Asset Management LLC                        harmony asset management llc provides economic...   \n",
       "Pivot Point Capital                                 \"pivot point capital is a private equity firm....   \n",
       "Pershing Square Capital Management, L.P.            the adviser is a concentrated, research-intens...   \n",
       "Picton Mahoney Asset Management                     picton mahoney asset management is a privately...   \n",
       "Wellington Management Group LLP                     wellington management group llp is a privately...   \n",
       "Glenview Capital Management, LLC                    glenview capital management, llc is a privatel...   \n",
       "Paradigm Asset Management Co., LLC                  paradigm asset management co. llc is an employ...   \n",
       "BNY Mellon Asset Management North America Corpo...  bny mellon asset management north america corp...   \n",
       "Cohen & Steers Capital Management, Inc.             cohen & steers capital management inc. is a pr...   \n",
       "Atlantic Investment Management, Inc.                atlantic investment management, inc. is an emp...   \n",
       "Blue Ridge Capital, L.L.C.                          blue ridge capital llc is an employee owned he...   \n",
       "\n",
       "                                                    tfidf Similarity  \\\n",
       "Account Name                                                           \n",
       "Harmony Asset Management LLC                                1.000000   \n",
       "Pivot Point Capital                                         0.391465   \n",
       "Pershing Square Capital Management, L.P.                    0.180598   \n",
       "Picton Mahoney Asset Management                             0.152386   \n",
       "Wellington Management Group LLP                             0.120346   \n",
       "Glenview Capital Management, LLC                            0.116981   \n",
       "Paradigm Asset Management Co., LLC                          0.112615   \n",
       "BNY Mellon Asset Management North America Corpo...          0.100705   \n",
       "Cohen & Steers Capital Management, Inc.                     0.092167   \n",
       "Atlantic Investment Management, Inc.                        0.085335   \n",
       "Blue Ridge Capital, L.L.C.                                  0.041966   \n",
       "\n",
       "                                                    NLTK tfidf Similarity  \\\n",
       "Account Name                                                                \n",
       "Harmony Asset Management LLC                                     1.000001   \n",
       "Pivot Point Capital                                              0.331737   \n",
       "Pershing Square Capital Management, L.P.                         0.106816   \n",
       "Picton Mahoney Asset Management                                  0.089701   \n",
       "Wellington Management Group LLP                                  0.057754   \n",
       "Glenview Capital Management, LLC                                 0.051092   \n",
       "Paradigm Asset Management Co., LLC                               0.053609   \n",
       "BNY Mellon Asset Management North America Corpo...               0.045140   \n",
       "Cohen & Steers Capital Management, Inc.                          0.048546   \n",
       "Atlantic Investment Management, Inc.                             0.038863   \n",
       "Blue Ridge Capital, L.L.C.                                       0.018005   \n",
       "\n",
       "                                                    Euclidian Distances  \n",
       "Account Name                                                             \n",
       "Harmony Asset Management LLC                                   0.000000  \n",
       "Pivot Point Capital                                            0.174548  \n",
       "Pershing Square Capital Management, L.P.                       0.157276  \n",
       "Picton Mahoney Asset Management                                0.171677  \n",
       "Wellington Management Group LLP                                0.197576  \n",
       "Glenview Capital Management, LLC                               0.208689  \n",
       "Paradigm Asset Management Co., LLC                             0.186470  \n",
       "BNY Mellon Asset Management North America Corpo...             0.202452  \n",
       "Cohen & Steers Capital Management, Inc.                        0.135656  \n",
       "Atlantic Investment Management, Inc.                           0.177598  \n",
       "Blue Ridge Capital, L.L.C.                                     0.207006  "
      ]
     },
     "execution_count": 142,
     "metadata": {},
     "output_type": "execute_result"
    }
   ],
   "source": [
    "SimilarCo_df.sort_values(by='tfidf Similarity',ascending=False,inplace=True)\n",
    "SimilarCo_df"
   ]
  },
  {
   "cell_type": "code",
   "execution_count": 143,
   "metadata": {},
   "outputs": [
    {
     "data": {
      "text/plain": [
       "'\"pivot point capital is a private equity firm. the firm invests in the public equity markets of the united states. it also participates in private equity transactions. for equity investments the firm primarily invests in value stocks of small-cap companies. for its private equity investments, it seeks to take all or part of the company private through a leveraged buyout or other structured transaction. the firm also considers structured investments in companies in which it has established an open market position and the company wishes to remain publicly held. it typically partners with a buyout firm in these transactions. pivot point capital was founded in 2005 and is based in san francisco, california. pivot point capital is a registered investment advisor founded in 2005 and headquartered in san francisco. we invest in u.s.-listed small cap equities with the goal of creating long-term value through a highly disciplined investment process supported by the kind of intensive, analytically rigorous due diligence typically associated with private equity acquisitions. our team closely tracks a select group of high quality companies led by superior management teams, looking to capitalize on compelling investment opportunities when short-term issues unnerve investors. we have a highly concentrated portfolio, typically make one new investment per quarter, and invest with a one-to-three-year horizon. we look for companies with strong fundamentals and high-caliber management teams, then work collaboratively with management to add value. we take great pride in aligning our interests with those of our investors and seek to establish long-term relationships with discerning investors. we always put the interests of our investors first and recognize that we work on their behalf. finally, we love coming to work each day and are passionate about pivot point capital.\" pivot point capital maintains a concentrated portfolio (eight to twelve companies at any one time) of high quality small-cap companies carefully selected from a watch list of approximately one hundred candidate companies. each of our portfolio investments is extensively and actively researched, analyzed and monitored on an ongoing basis, a process through which we develop a deep and sophisticated understanding of the company?s business model and operations, its industry and market positioning, and the current and longer term issues affecting its performance and stock price. we invest most often at times of severe dislocation, when the company?s stock price has dropped sharply due to market overreactions to news or events perceived to pose significant threats to its financial performance, relying on our deep understanding of the business to form judgments as to how and when the issues will be resolved and the extent to which the stock price will recover. because our strategy is based on the assessment of substantial issues that often take significant time to play out, we are willing to hold investments longer than many investors, ultimately yielding the potential for higher returns when the issues are resolved and investors again look favorably on the company. it is this in-depth knowledge, together with our team?s agility, insight and patience, that set pivot point apart and underpin our investment performance.'"
      ]
     },
     "execution_count": 143,
     "metadata": {},
     "output_type": "execute_result"
    }
   ],
   "source": [
    "SimilarCo_df['Business Description'].iloc[1]"
   ]
  },
  {
   "cell_type": "code",
   "execution_count": 144,
   "metadata": {},
   "outputs": [
    {
     "name": "stdout",
     "output_type": "stream",
     "text": [
      "Wall time: 138 ms\n"
     ]
    }
   ],
   "source": [
    "%%time\n",
    "clf = DBSCAN(min_samples=2)\n",
    "\n",
    "#labels = clf.fit_predict(X_NMF_transformed)\n",
    "#labels = clf.fit_predict(X_transformed)\n",
    "labels = clf.fit_predict(X)"
   ]
  },
  {
   "cell_type": "code",
   "execution_count": 145,
   "metadata": {},
   "outputs": [
    {
     "data": {
      "text/plain": [
       "(989,)"
      ]
     },
     "execution_count": 145,
     "metadata": {},
     "output_type": "execute_result"
    }
   ],
   "source": [
    "labels.shape"
   ]
  },
  {
   "cell_type": "code",
   "execution_count": 146,
   "metadata": {},
   "outputs": [
    {
     "name": "stdout",
     "output_type": "stream",
     "text": [
      "\n",
      "Total clusters discovered: 3\n"
     ]
    }
   ],
   "source": [
    "#n_clusters_ = len(set(labels)) - (1 if -1 in labels else 0)\n",
    "n_clusters_ = len(set(labels))\n",
    "print (\"\\nTotal clusters discovered: %d\" % n_clusters_)\n",
    "\n",
    "clustered = labels"
   ]
  },
  {
   "cell_type": "code",
   "execution_count": 147,
   "metadata": {},
   "outputs": [
    {
     "data": {
      "text/plain": [
       "(989,)"
      ]
     },
     "execution_count": 147,
     "metadata": {},
     "output_type": "execute_result"
    }
   ],
   "source": [
    "labels.shape"
   ]
  },
  {
   "cell_type": "code",
   "execution_count": 148,
   "metadata": {
    "collapsed": true
   },
   "outputs": [],
   "source": [
    "clustered_series = pd.Series(index=coData_df.index, data=clustered.flatten())\n",
    "#clustered_series =clustered_series[clustered_series != -1]\n",
    "clustered_series_all = pd.Series(index=df1, data=clustered.flatten())\n",
    "#clustered_series_all = pd.Series(index=X_transformed, data=clustered.flatten())"
   ]
  },
  {
   "cell_type": "code",
   "execution_count": 149,
   "metadata": {},
   "outputs": [
    {
     "data": {
      "text/plain": [
       "<Container object of 3 artists>"
      ]
     },
     "execution_count": 149,
     "metadata": {},
     "output_type": "execute_result"
    },
    {
     "data": {
      "text/plain": [
       "Text(0.5,1,'Cluster Member Counts')"
      ]
     },
     "execution_count": 149,
     "metadata": {},
     "output_type": "execute_result"
    },
    {
     "data": {
      "text/plain": [
       "Text(0.5,0,'Stocks in Cluster')"
      ]
     },
     "execution_count": 149,
     "metadata": {},
     "output_type": "execute_result"
    },
    {
     "data": {
      "image/png": "[encoded data removed]",
      "text/plain": [
       "<matplotlib.figure.Figure at 0x21a9344898>"
      ]
     },
     "metadata": {},
     "output_type": "display_data"
    }
   ],
   "source": [
    "plt.barh(\n",
    "    #xrange(len(clustered_series.value_counts())),\n",
    "    range(len(clustered_series.value_counts())),\n",
    "    clustered_series.value_counts(),\n",
    "    alpha=0.625\n",
    ")\n",
    "plt.title('Cluster Member Counts')\n",
    "plt.xlabel('Stocks in Cluster')"
   ]
  },
  {
   "cell_type": "code",
   "execution_count": 150,
   "metadata": {
    "collapsed": true
   },
   "outputs": [],
   "source": [
    "pair_clusters = clustered_series.value_counts()[clustered_series.value_counts()<3].index.values"
   ]
  },
  {
   "cell_type": "code",
   "execution_count": 151,
   "metadata": {},
   "outputs": [
    {
     "name": "stdout",
     "output_type": "stream",
     "text": [
      "[1 0]\n",
      "\n",
      "Total pair clusters discovered: 2\n"
     ]
    }
   ],
   "source": [
    "print(pair_clusters)\n",
    "print(\"\\nTotal pair clusters discovered: %d\" % len(pair_clusters))"
   ]
  },
  {
   "cell_type": "code",
   "execution_count": 152,
   "metadata": {},
   "outputs": [
    {
     "data": {
      "text/plain": [
       "array([1, 0], dtype=int64)"
      ]
     },
     "execution_count": 152,
     "metadata": {},
     "output_type": "execute_result"
    }
   ],
   "source": [
    "pair_clusters[:100]"
   ]
  },
  {
   "cell_type": "code",
   "execution_count": 153,
   "metadata": {
    "collapsed": true
   },
   "outputs": [],
   "source": [
    "#cluster2 = clustered_series['Westfield Capital Management Company, L.P.']\n",
    "#coData_df.iloc[clustered==cluster2]"
   ]
  },
  {
   "cell_type": "code",
   "execution_count": 154,
   "metadata": {},
   "outputs": [
    {
     "data": {
      "text/plain": [
       "(989,)"
      ]
     },
     "execution_count": 154,
     "metadata": {},
     "output_type": "execute_result"
    }
   ],
   "source": [
    "clustered_series.shape"
   ]
  },
  {
   "cell_type": "code",
   "execution_count": 155,
   "metadata": {},
   "outputs": [
    {
     "data": {
      "text/plain": [
       "Account Name\n",
       "HG Vora Capital                           1\n",
       "Woodson Capital Management, LLC           1\n",
       "Lionstone Capital Management LLC          0\n",
       "Brightline Capital Management, LLC        0\n",
       "Harmony Asset Management LLC             -1\n",
       "Fiduciary Trust Company                  -1\n",
       "FIAM LLC                                 -1\n",
       "Fidelity Investments Canada ULC          -1\n",
       "Fidelity Management & Research Company   -1\n",
       "Fiduciary Management, Inc.               -1\n",
       "Fiera Capital Corporation                -1\n",
       "Fiduciary Trust Company International    -1\n",
       "Federated Investors, Inc.                -1\n",
       "Fine Capital Partners, L.P.              -1\n",
       "Fir Tree Partners                        -1\n",
       "Firefly Value Partners, LP               -1\n",
       "Federated MDTA LLC                       -1\n",
       "Farallon Capital Management, L.L.C.      -1\n",
       "Fayez Sarofim & Co.                      -1\n",
       "First Foundation Advisors                -1\n",
       "dtype: int64"
      ]
     },
     "execution_count": 155,
     "metadata": {},
     "output_type": "execute_result"
    }
   ],
   "source": [
    "clustered_series.sort_values(axis=0,ascending=False).head(20)"
   ]
  },
  {
   "cell_type": "code",
   "execution_count": 156,
   "metadata": {
    "collapsed": true
   },
   "outputs": [],
   "source": [
    "#large_clusters = clustered_series.value_counts()[clustered_series.value_counts()>3].index.values\n",
    "#print(large_clusters)\n",
    "#print(\"\\nTotal large clusters discovered: %d\" % len(pair_clusters))"
   ]
  },
  {
   "cell_type": "code",
   "execution_count": 157,
   "metadata": {},
   "outputs": [
    {
     "name": "stdout",
     "output_type": "stream",
     "text": [
      "Wall time: 25.3 s\n"
     ]
    }
   ],
   "source": [
    "%%time\n",
    "\n",
    "X_tsne = TSNE(learning_rate=1000, perplexity=25, random_state=1337).fit_transform(X_NMF_transformed)\n",
    "#X_tsne = TSNE(learning_rate=1000, perplexity=25, random_state=1337).fit_transform(X_transformed)\n",
    "#X_tsne = TSNE(learning_rate=1000, perplexity=25, random_state=1337).fit_transform(X)"
   ]
  },
  {
   "cell_type": "code",
   "execution_count": 158,
   "metadata": {},
   "outputs": [
    {
     "data": {
      "text/plain": [
       "(989, 2)"
      ]
     },
     "execution_count": 158,
     "metadata": {},
     "output_type": "execute_result"
    }
   ],
   "source": [
    "X_tsne.shape"
   ]
  },
  {
   "cell_type": "code",
   "execution_count": 159,
   "metadata": {},
   "outputs": [
    {
     "data": {
      "image/png": "[encoded data removed]",
      "text/plain": [
       "<matplotlib.figure.Figure at 0x21aa5aeac8>"
      ]
     },
     "metadata": {},
     "output_type": "display_data"
    }
   ],
   "source": [
    "plt.figure(1, facecolor='white',figsize=(20,20))\n",
    "plt.clf();\n",
    "plt.axis('off');\n",
    "\n",
    "\n",
    "\n",
    "plt.scatter(\n",
    "    X_tsne[(labels!=-1), 0],\n",
    "    X_tsne[(labels!=-1), 1],\n",
    "    s=100,\n",
    "    alpha=0.85,\n",
    "    c=labels[labels!=-1],\n",
    "    cmap=cm.Paired\n",
    ");\n",
    "\n",
    "plt.scatter(\n",
    "    X_tsne[(clustered_series_all==-1).values, 0],\n",
    "    X_tsne[(clustered_series_all==-1).values, 1],\n",
    "    s=100,\n",
    "    alpha=0.05\n",
    ");\n",
    "\n",
    "plt.title('T-SNE of all companies with clusters illustrated');"
   ]
  },
  {
   "cell_type": "code",
   "execution_count": null,
   "metadata": {
    "collapsed": true
   },
   "outputs": [],
   "source": []
  }
 ],
 "metadata": {
  "kernelspec": {
   "display_name": "Python 3",
   "language": "python",
   "name": "python3"
  },
  "language_info": {
   "codemirror_mode": {
    "name": "ipython",
    "version": 3
   },
   "file_extension": ".py",
   "mimetype": "text/x-python",
   "name": "python",
   "nbconvert_exporter": "python",
   "pygments_lexer": "ipython3",
   "version": "3.7.1"
  }
 },
 "nbformat": 4,
 "nbformat_minor": 2
}
