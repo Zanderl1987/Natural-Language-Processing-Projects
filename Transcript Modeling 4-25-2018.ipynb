{
 "cells": [
  {
   "cell_type": "code",
   "execution_count": 1,
   "metadata": {},
   "outputs": [
    {
     "data": {
      "text/html": [
       "\n",
       "    <div class=\"bk-root\">\n",
       "        <a href=\"https://bokeh.pydata.org\" target=\"_blank\" class=\"bk-logo bk-logo-small bk-logo-notebook\"></a>\n",
       "        <span id=\"6c4ea3c8-b918-416b-9540-b4c12bd67af6\">Loading BokehJS ...</span>\n",
       "    </div>"
      ]
     },
     "metadata": {},
     "output_type": "display_data"
    },
    {
     "data": {
      "application/javascript": [
       "\n",
       "(function(root) {\n",
       "  function now() {\n",
       "    return new Date();\n",
       "  }\n",
       "\n",
       "  var force = true;\n",
       "\n",
       "  if (typeof (root._bokeh_onload_callbacks) === \"undefined\" || force === true) {\n",
       "    root._bokeh_onload_callbacks = [];\n",
       "    root._bokeh_is_loading = undefined;\n",
       "  }\n",
       "\n",
       "  var JS_MIME_TYPE = 'application/javascript';\n",
       "  var HTML_MIME_TYPE = 'text/html';\n",
       "  var EXEC_MIME_TYPE = 'application/vnd.bokehjs_exec.v0+json';\n",
       "  var CLASS_NAME = 'output_bokeh rendered_html';\n",
       "\n",
       "  /**\n",
       "   * Render data to the DOM node\n",
       "   */\n",
       "  function render(props, node) {\n",
       "    var script = document.createElement(\"script\");\n",
       "    node.appendChild(script);\n",
       "  }\n",
       "\n",
       "  /**\n",
       "   * Handle when an output is cleared or removed\n",
       "   */\n",
       "  function handleClearOutput(event, handle) {\n",
       "    var cell = handle.cell;\n",
       "\n",
       "    var id = cell.output_area._bokeh_element_id;\n",
       "    var server_id = cell.output_area._bokeh_server_id;\n",
       "    // Clean up Bokeh references\n",
       "    if (id !== undefined) {\n",
       "      Bokeh.index[id].model.document.clear();\n",
       "      delete Bokeh.index[id];\n",
       "    }\n",
       "\n",
       "    if (server_id !== undefined) {\n",
       "      // Clean up Bokeh references\n",
       "      var cmd = \"from bokeh.io.state import curstate; print(curstate().uuid_to_server['\" + server_id + \"'].get_sessions()[0].document.roots[0]._id)\";\n",
       "      cell.notebook.kernel.execute(cmd, {\n",
       "        iopub: {\n",
       "          output: function(msg) {\n",
       "            var element_id = msg.content.text.trim();\n",
       "            Bokeh.index[element_id].model.document.clear();\n",
       "            delete Bokeh.index[element_id];\n",
       "          }\n",
       "        }\n",
       "      });\n",
       "      // Destroy server and session\n",
       "      var cmd = \"import bokeh.io.notebook as ion; ion.destroy_server('\" + server_id + \"')\";\n",
       "      cell.notebook.kernel.execute(cmd);\n",
       "    }\n",
       "  }\n",
       "\n",
       "  /**\n",
       "   * Handle when a new output is added\n",
       "   */\n",
       "  function handleAddOutput(event, handle) {\n",
       "    var output_area = handle.output_area;\n",
       "    var output = handle.output;\n",
       "\n",
       "    // limit handleAddOutput to display_data with EXEC_MIME_TYPE content only\n",
       "    if ((output.output_type != \"display_data\") || (!output.data.hasOwnProperty(EXEC_MIME_TYPE))) {\n",
       "      return\n",
       "    }\n",
       "\n",
       "    var toinsert = output_area.element.find(`.${CLASS_NAME.split(' ')[0]}`);\n",
       "\n",
       "    if (output.metadata[EXEC_MIME_TYPE][\"id\"] !== undefined) {\n",
       "      toinsert[0].firstChild.textContent = output.data[JS_MIME_TYPE];\n",
       "      // store reference to embed id on output_area\n",
       "      output_area._bokeh_element_id = output.metadata[EXEC_MIME_TYPE][\"id\"];\n",
       "    }\n",
       "    if (output.metadata[EXEC_MIME_TYPE][\"server_id\"] !== undefined) {\n",
       "      var bk_div = document.createElement(\"div\");\n",
       "      bk_div.innerHTML = output.data[HTML_MIME_TYPE];\n",
       "      var script_attrs = bk_div.children[0].attributes;\n",
       "      for (var i = 0; i < script_attrs.length; i++) {\n",
       "        toinsert[0].firstChild.setAttribute(script_attrs[i].name, script_attrs[i].value);\n",
       "      }\n",
       "      // store reference to server id on output_area\n",
       "      output_area._bokeh_server_id = output.metadata[EXEC_MIME_TYPE][\"server_id\"];\n",
       "    }\n",
       "  }\n",
       "\n",
       "  function register_renderer(events, OutputArea) {\n",
       "\n",
       "    function append_mime(data, metadata, element) {\n",
       "      // create a DOM node to render to\n",
       "      var toinsert = this.create_output_subarea(\n",
       "        metadata,\n",
       "        CLASS_NAME,\n",
       "        EXEC_MIME_TYPE\n",
       "      );\n",
       "      this.keyboard_manager.register_events(toinsert);\n",
       "      // Render to node\n",
       "      var props = {data: data, metadata: metadata[EXEC_MIME_TYPE]};\n",
       "      render(props, toinsert[0]);\n",
       "      element.append(toinsert);\n",
       "      return toinsert\n",
       "    }\n",
       "\n",
       "    /* Handle when an output is cleared or removed */\n",
       "    events.on('clear_output.CodeCell', handleClearOutput);\n",
       "    events.on('delete.Cell', handleClearOutput);\n",
       "\n",
       "    /* Handle when a new output is added */\n",
       "    events.on('output_added.OutputArea', handleAddOutput);\n",
       "\n",
       "    /**\n",
       "     * Register the mime type and append_mime function with output_area\n",
       "     */\n",
       "    OutputArea.prototype.register_mime_type(EXEC_MIME_TYPE, append_mime, {\n",
       "      /* Is output safe? */\n",
       "      safe: true,\n",
       "      /* Index of renderer in `output_area.display_order` */\n",
       "      index: 0\n",
       "    });\n",
       "  }\n",
       "\n",
       "  // register the mime type if in Jupyter Notebook environment and previously unregistered\n",
       "  if (root.Jupyter !== undefined) {\n",
       "    var events = require('base/js/events');\n",
       "    var OutputArea = require('notebook/js/outputarea').OutputArea;\n",
       "\n",
       "    if (OutputArea.prototype.mime_types().indexOf(EXEC_MIME_TYPE) == -1) {\n",
       "      register_renderer(events, OutputArea);\n",
       "    }\n",
       "  }\n",
       "\n",
       "  \n",
       "  if (typeof (root._bokeh_timeout) === \"undefined\" || force === true) {\n",
       "    root._bokeh_timeout = Date.now() + 5000;\n",
       "    root._bokeh_failed_load = false;\n",
       "  }\n",
       "\n",
       "  var NB_LOAD_WARNING = {'data': {'text/html':\n",
       "     \"<div style='background-color: #fdd'>\\n\"+\n",
       "     \"<p>\\n\"+\n",
       "     \"BokehJS does not appear to have successfully loaded. If loading BokehJS from CDN, this \\n\"+\n",
       "     \"may be due to a slow or bad network connection. Possible fixes:\\n\"+\n",
       "     \"</p>\\n\"+\n",
       "     \"<ul>\\n\"+\n",
       "     \"<li>re-rerun `output_notebook()` to attempt to load from CDN again, or</li>\\n\"+\n",
       "     \"<li>use INLINE resources instead, as so:</li>\\n\"+\n",
       "     \"</ul>\\n\"+\n",
       "     \"<code>\\n\"+\n",
       "     \"from bokeh.resources import INLINE\\n\"+\n",
       "     \"output_notebook(resources=INLINE)\\n\"+\n",
       "     \"</code>\\n\"+\n",
       "     \"</div>\"}};\n",
       "\n",
       "  function display_loaded() {\n",
       "    var el = document.getElementById(\"6c4ea3c8-b918-416b-9540-b4c12bd67af6\");\n",
       "    if (el != null) {\n",
       "      el.textContent = \"BokehJS is loading...\";\n",
       "    }\n",
       "    if (root.Bokeh !== undefined) {\n",
       "      if (el != null) {\n",
       "        el.textContent = \"BokehJS \" + root.Bokeh.version + \" successfully loaded.\";\n",
       "      }\n",
       "    } else if (Date.now() < root._bokeh_timeout) {\n",
       "      setTimeout(display_loaded, 100)\n",
       "    }\n",
       "  }\n",
       "\n",
       "\n",
       "  function run_callbacks() {\n",
       "    try {\n",
       "      root._bokeh_onload_callbacks.forEach(function(callback) { callback() });\n",
       "    }\n",
       "    finally {\n",
       "      delete root._bokeh_onload_callbacks\n",
       "    }\n",
       "    console.info(\"Bokeh: all callbacks have finished\");\n",
       "  }\n",
       "\n",
       "  function load_libs(js_urls, callback) {\n",
       "    root._bokeh_onload_callbacks.push(callback);\n",
       "    if (root._bokeh_is_loading > 0) {\n",
       "      console.log(\"Bokeh: BokehJS is being loaded, scheduling callback at\", now());\n",
       "      return null;\n",
       "    }\n",
       "    if (js_urls == null || js_urls.length === 0) {\n",
       "      run_callbacks();\n",
       "      return null;\n",
       "    }\n",
       "    console.log(\"Bokeh: BokehJS not loaded, scheduling load and callback at\", now());\n",
       "    root._bokeh_is_loading = js_urls.length;\n",
       "    for (var i = 0; i < js_urls.length; i++) {\n",
       "      var url = js_urls[i];\n",
       "      var s = document.createElement('script');\n",
       "      s.src = url;\n",
       "      s.async = false;\n",
       "      s.onreadystatechange = s.onload = function() {\n",
       "        root._bokeh_is_loading--;\n",
       "        if (root._bokeh_is_loading === 0) {\n",
       "          console.log(\"Bokeh: all BokehJS libraries loaded\");\n",
       "          run_callbacks()\n",
       "        }\n",
       "      };\n",
       "      s.onerror = function() {\n",
       "        console.warn(\"failed to load library \" + url);\n",
       "      };\n",
       "      console.log(\"Bokeh: injecting script tag for BokehJS library: \", url);\n",
       "      document.getElementsByTagName(\"head\")[0].appendChild(s);\n",
       "    }\n",
       "  };var element = document.getElementById(\"6c4ea3c8-b918-416b-9540-b4c12bd67af6\");\n",
       "  if (element == null) {\n",
       "    console.log(\"Bokeh: ERROR: autoload.js configured with elementid '6c4ea3c8-b918-416b-9540-b4c12bd67af6' but no matching script tag was found. \")\n",
       "    return false;\n",
       "  }\n",
       "\n",
       "  var js_urls = [\"https://cdn.pydata.org/bokeh/release/bokeh-0.12.10.min.js\", \"https://cdn.pydata.org/bokeh/release/bokeh-widgets-0.12.10.min.js\", \"https://cdn.pydata.org/bokeh/release/bokeh-tables-0.12.10.min.js\", \"https://cdn.pydata.org/bokeh/release/bokeh-gl-0.12.10.min.js\"];\n",
       "\n",
       "  var inline_js = [\n",
       "    function(Bokeh) {\n",
       "      Bokeh.set_log_level(\"info\");\n",
       "    },\n",
       "    \n",
       "    function(Bokeh) {\n",
       "      \n",
       "    },\n",
       "    function(Bokeh) {\n",
       "      console.log(\"Bokeh: injecting CSS: https://cdn.pydata.org/bokeh/release/bokeh-0.12.10.min.css\");\n",
       "      Bokeh.embed.inject_css(\"https://cdn.pydata.org/bokeh/release/bokeh-0.12.10.min.css\");\n",
       "      console.log(\"Bokeh: injecting CSS: https://cdn.pydata.org/bokeh/release/bokeh-widgets-0.12.10.min.css\");\n",
       "      Bokeh.embed.inject_css(\"https://cdn.pydata.org/bokeh/release/bokeh-widgets-0.12.10.min.css\");\n",
       "      console.log(\"Bokeh: injecting CSS: https://cdn.pydata.org/bokeh/release/bokeh-tables-0.12.10.min.css\");\n",
       "      Bokeh.embed.inject_css(\"https://cdn.pydata.org/bokeh/release/bokeh-tables-0.12.10.min.css\");\n",
       "    }\n",
       "  ];\n",
       "\n",
       "  function run_inline_js() {\n",
       "    \n",
       "    if ((root.Bokeh !== undefined) || (force === true)) {\n",
       "      for (var i = 0; i < inline_js.length; i++) {\n",
       "        inline_js[i].call(root, root.Bokeh);\n",
       "      }if (force === true) {\n",
       "        display_loaded();\n",
       "      }} else if (Date.now() < root._bokeh_timeout) {\n",
       "      setTimeout(run_inline_js, 100);\n",
       "    } else if (!root._bokeh_failed_load) {\n",
       "      console.log(\"Bokeh: BokehJS failed to load within specified timeout.\");\n",
       "      root._bokeh_failed_load = true;\n",
       "    } else if (force !== true) {\n",
       "      var cell = $(document.getElementById(\"6c4ea3c8-b918-416b-9540-b4c12bd67af6\")).parents('.cell').data().cell;\n",
       "      cell.output_area.append_execute_result(NB_LOAD_WARNING)\n",
       "    }\n",
       "\n",
       "  }\n",
       "\n",
       "  if (root._bokeh_is_loading === 0) {\n",
       "    console.log(\"Bokeh: BokehJS loaded, going straight to plotting\");\n",
       "    run_inline_js();\n",
       "  } else {\n",
       "    load_libs(js_urls, function() {\n",
       "      console.log(\"Bokeh: BokehJS plotting callback run at\", now());\n",
       "      run_inline_js();\n",
       "    });\n",
       "  }\n",
       "}(window));"
      ],
      "application/vnd.bokehjs_load.v0+json": "\n(function(root) {\n  function now() {\n    return new Date();\n  }\n\n  var force = true;\n\n  if (typeof (root._bokeh_onload_callbacks) === \"undefined\" || force === true) {\n    root._bokeh_onload_callbacks = [];\n    root._bokeh_is_loading = undefined;\n  }\n\n  \n\n  \n  if (typeof (root._bokeh_timeout) === \"undefined\" || force === true) {\n    root._bokeh_timeout = Date.now() + 5000;\n    root._bokeh_failed_load = false;\n  }\n\n  var NB_LOAD_WARNING = {'data': {'text/html':\n     \"<div style='background-color: #fdd'>\\n\"+\n     \"<p>\\n\"+\n     \"BokehJS does not appear to have successfully loaded. If loading BokehJS from CDN, this \\n\"+\n     \"may be due to a slow or bad network connection. Possible fixes:\\n\"+\n     \"</p>\\n\"+\n     \"<ul>\\n\"+\n     \"<li>re-rerun `output_notebook()` to attempt to load from CDN again, or</li>\\n\"+\n     \"<li>use INLINE resources instead, as so:</li>\\n\"+\n     \"</ul>\\n\"+\n     \"<code>\\n\"+\n     \"from bokeh.resources import INLINE\\n\"+\n     \"output_notebook(resources=INLINE)\\n\"+\n     \"</code>\\n\"+\n     \"</div>\"}};\n\n  function display_loaded() {\n    var el = document.getElementById(\"6c4ea3c8-b918-416b-9540-b4c12bd67af6\");\n    if (el != null) {\n      el.textContent = \"BokehJS is loading...\";\n    }\n    if (root.Bokeh !== undefined) {\n      if (el != null) {\n        el.textContent = \"BokehJS \" + root.Bokeh.version + \" successfully loaded.\";\n      }\n    } else if (Date.now() < root._bokeh_timeout) {\n      setTimeout(display_loaded, 100)\n    }\n  }\n\n\n  function run_callbacks() {\n    try {\n      root._bokeh_onload_callbacks.forEach(function(callback) { callback() });\n    }\n    finally {\n      delete root._bokeh_onload_callbacks\n    }\n    console.info(\"Bokeh: all callbacks have finished\");\n  }\n\n  function load_libs(js_urls, callback) {\n    root._bokeh_onload_callbacks.push(callback);\n    if (root._bokeh_is_loading > 0) {\n      console.log(\"Bokeh: BokehJS is being loaded, scheduling callback at\", now());\n      return null;\n    }\n    if (js_urls == null || js_urls.length === 0) {\n      run_callbacks();\n      return null;\n    }\n    console.log(\"Bokeh: BokehJS not loaded, scheduling load and callback at\", now());\n    root._bokeh_is_loading = js_urls.length;\n    for (var i = 0; i < js_urls.length; i++) {\n      var url = js_urls[i];\n      var s = document.createElement('script');\n      s.src = url;\n      s.async = false;\n      s.onreadystatechange = s.onload = function() {\n        root._bokeh_is_loading--;\n        if (root._bokeh_is_loading === 0) {\n          console.log(\"Bokeh: all BokehJS libraries loaded\");\n          run_callbacks()\n        }\n      };\n      s.onerror = function() {\n        console.warn(\"failed to load library \" + url);\n      };\n      console.log(\"Bokeh: injecting script tag for BokehJS library: \", url);\n      document.getElementsByTagName(\"head\")[0].appendChild(s);\n    }\n  };var element = document.getElementById(\"6c4ea3c8-b918-416b-9540-b4c12bd67af6\");\n  if (element == null) {\n    console.log(\"Bokeh: ERROR: autoload.js configured with elementid '6c4ea3c8-b918-416b-9540-b4c12bd67af6' but no matching script tag was found. \")\n    return false;\n  }\n\n  var js_urls = [\"https://cdn.pydata.org/bokeh/release/bokeh-0.12.10.min.js\", \"https://cdn.pydata.org/bokeh/release/bokeh-widgets-0.12.10.min.js\", \"https://cdn.pydata.org/bokeh/release/bokeh-tables-0.12.10.min.js\", \"https://cdn.pydata.org/bokeh/release/bokeh-gl-0.12.10.min.js\"];\n\n  var inline_js = [\n    function(Bokeh) {\n      Bokeh.set_log_level(\"info\");\n    },\n    \n    function(Bokeh) {\n      \n    },\n    function(Bokeh) {\n      console.log(\"Bokeh: injecting CSS: https://cdn.pydata.org/bokeh/release/bokeh-0.12.10.min.css\");\n      Bokeh.embed.inject_css(\"https://cdn.pydata.org/bokeh/release/bokeh-0.12.10.min.css\");\n      console.log(\"Bokeh: injecting CSS: https://cdn.pydata.org/bokeh/release/bokeh-widgets-0.12.10.min.css\");\n      Bokeh.embed.inject_css(\"https://cdn.pydata.org/bokeh/release/bokeh-widgets-0.12.10.min.css\");\n      console.log(\"Bokeh: injecting CSS: https://cdn.pydata.org/bokeh/release/bokeh-tables-0.12.10.min.css\");\n      Bokeh.embed.inject_css(\"https://cdn.pydata.org/bokeh/release/bokeh-tables-0.12.10.min.css\");\n    }\n  ];\n\n  function run_inline_js() {\n    \n    if ((root.Bokeh !== undefined) || (force === true)) {\n      for (var i = 0; i < inline_js.length; i++) {\n        inline_js[i].call(root, root.Bokeh);\n      }if (force === true) {\n        display_loaded();\n      }} else if (Date.now() < root._bokeh_timeout) {\n      setTimeout(run_inline_js, 100);\n    } else if (!root._bokeh_failed_load) {\n      console.log(\"Bokeh: BokehJS failed to load within specified timeout.\");\n      root._bokeh_failed_load = true;\n    } else if (force !== true) {\n      var cell = $(document.getElementById(\"6c4ea3c8-b918-416b-9540-b4c12bd67af6\")).parents('.cell').data().cell;\n      cell.output_area.append_execute_result(NB_LOAD_WARNING)\n    }\n\n  }\n\n  if (root._bokeh_is_loading === 0) {\n    console.log(\"Bokeh: BokehJS loaded, going straight to plotting\");\n    run_inline_js();\n  } else {\n    load_libs(js_urls, function() {\n      console.log(\"Bokeh: BokehJS plotting callback run at\", now());\n      run_inline_js();\n    });\n  }\n}(window));"
     },
     "metadata": {},
     "output_type": "display_data"
    }
   ],
   "source": [
    "import pandas as pd\n",
    "import time\n",
    "import numpy as np\n",
    "import matplotlib as mpl\n",
    "import matplotlib.pyplot as plt\n",
    "import matplotlib.cm as cm\n",
    "import sys\n",
    "import datetime\n",
    "import os\n",
    "import seaborn as sns\n",
    "import math as mth\n",
    "import pickle\n",
    "import re\n",
    "import nltk\n",
    "import spacy\n",
    "import sklearn\n",
    "\n",
    "import tika\n",
    "from tika import parser\n",
    "\n",
    "import bokeh\n",
    "from bokeh.plotting import *\n",
    "from bokeh.io import output_notebook\n",
    "from bokeh.models import Toggle, BoxAnnotation, CustomJS, HoverTool\n",
    "\n",
    "output_notebook()\n",
    "\n",
    "from sklearn.manifold import TSNE\n",
    "\n",
    "sns.set_style(\"white\")\n",
    "\n",
    "%matplotlib inline\n",
    "\n",
    "from IPython.display import display\n",
    "\n",
    "from IPython.display import HTML\n",
    "\n",
    "from IPython.core.interactiveshell import InteractiveShell\n",
    "InteractiveShell.ast_node_interactivity = \"all\""
   ]
  },
  {
   "cell_type": "code",
   "execution_count": 2,
   "metadata": {
    "collapsed": true
   },
   "outputs": [],
   "source": [
    "import pyodbc\n",
    "from sqlalchemy import create_engine\n",
    "\n",
    "engine = create_engine(\"your server engine here\")"
   ]
  },
  {
   "cell_type": "code",
   "execution_count": 55,
   "metadata": {
    "collapsed": true
   },
   "outputs": [],
   "source": [
    "_author__ = 'zanderl'\n",
    "\n",
    "from simple_salesforce import Salesforce\n",
    "from sfdcSettings import *\n",
    "\n",
    "#from FeedAdmin154.settings import SIMPLE_SALESFORCE_PASSWORD,SIMPLE_SALESFORCE_TOKEN,SIMPLE_SALESFORCE_USERNAME\n",
    "# define your credentials here as variables inside this notebook or create a .py file containing them and import them to variable names\n",
    "\n",
    "from operator import itemgetter\n",
    "from datetime import datetime, timedelta\n",
    "import pytz\n",
    "import itertools as it"
   ]
  },
  {
   "cell_type": "markdown",
   "metadata": {},
   "source": [
    "We'll use Pandas to read the SQL query so we can pull in the data directly from the database\n",
    "\n",
    "The below query pulls transcripts for all of the companies within an individual or list of GICS industries"
   ]
  },
  {
   "cell_type": "code",
   "execution_count": 1,
   "metadata": {},
   "outputs": [
    {
     "ename": "NameError",
     "evalue": "name 'pd' is not defined",
     "output_type": "error",
     "traceback": [
      "\u001b[1;31m---------------------------------------------------------------------------\u001b[0m",
      "\u001b[1;31mNameError\u001b[0m                                 Traceback (most recent call last)",
      "\u001b[1;32m<timed exec>\u001b[0m in \u001b[0;36m<module>\u001b[1;34m\u001b[0m\n",
      "\u001b[1;31mNameError\u001b[0m: name 'pd' is not defined"
     ]
    }
   ],
   "source": [
    "%%time\n",
    "\n",
    "df1 = pd.read_sql_query('''\n",
    "\n",
    "with test as (\n",
    "select\n",
    "row_number() over(partition by objectid order by transcriptcreationdateutc desc) as rownum,\n",
    "evt.objectid,\n",
    "tr.*\n",
    "from ciqeventtoobjecttoeventtype evt\n",
    "join ciqtranscript tr\n",
    "on tr.keydevid = evt.keydevid\n",
    "where objectid in(select \n",
    "companyid\n",
    "from\n",
    "ciqsubtypetogics gic\n",
    "join ciqcompanyindustry ind\n",
    "on ind.industryId = gic.subTypeId\n",
    "where gic = '45102010')\n",
    ")\n",
    "Select * \n",
    "from \n",
    "test  ts\n",
    "join ciqtranscriptcomponent ct\n",
    "on ts.transcriptid = ct.transcriptid\n",
    "where ts.transcriptid in (864627, \n",
    "7081, \n",
    "16557, \n",
    "708, \n",
    "4672, \n",
    "1001838, \n",
    "1001839, \n",
    "1001841, \n",
    "1001844, \n",
    "1002189\n",
    "''', engine)"
   ]
  },
  {
   "cell_type": "code",
   "execution_count": 23,
   "metadata": {},
   "outputs": [
    {
     "data": {
      "text/html": [
       "<div>\n",
       "<style>\n",
       "    .dataframe thead tr:only-child th {\n",
       "        text-align: right;\n",
       "    }\n",
       "\n",
       "    .dataframe thead th {\n",
       "        text-align: left;\n",
       "    }\n",
       "\n",
       "    .dataframe tbody tr th {\n",
       "        vertical-align: top;\n",
       "    }\n",
       "</style>\n",
       "<table border=\"1\" class=\"dataframe\">\n",
       "  <thead>\n",
       "    <tr style=\"text-align: right;\">\n",
       "      <th></th>\n",
       "      <th>rownum</th>\n",
       "      <th>objectid</th>\n",
       "      <th>keyDevId</th>\n",
       "      <th>transcriptId</th>\n",
       "      <th>transcriptCollectionTypeId</th>\n",
       "      <th>transcriptPresentationTypeId</th>\n",
       "      <th>transcriptCreationDateUTC</th>\n",
       "      <th>audioLengthSec</th>\n",
       "      <th>transcriptComponentId</th>\n",
       "      <th>transcriptId</th>\n",
       "      <th>componentOrder</th>\n",
       "      <th>transcriptComponentTypeId</th>\n",
       "      <th>transcriptPersonId</th>\n",
       "      <th>componentText</th>\n",
       "    </tr>\n",
       "  </thead>\n",
       "  <tbody>\n",
       "    <tr>\n",
       "      <th>0</th>\n",
       "      <td>1</td>\n",
       "      <td>24686</td>\n",
       "      <td>547249464</td>\n",
       "      <td>1377718</td>\n",
       "      <td>8</td>\n",
       "      <td>5</td>\n",
       "      <td>2018-02-01 05:05:26</td>\n",
       "      <td>3218</td>\n",
       "      <td>55062670</td>\n",
       "      <td>1377718</td>\n",
       "      <td>0</td>\n",
       "      <td>1</td>\n",
       "      <td>1</td>\n",
       "      <td>Good day, ladies and gentlemen, and welcome to...</td>\n",
       "    </tr>\n",
       "    <tr>\n",
       "      <th>1</th>\n",
       "      <td>1</td>\n",
       "      <td>24686</td>\n",
       "      <td>547249464</td>\n",
       "      <td>1377718</td>\n",
       "      <td>8</td>\n",
       "      <td>5</td>\n",
       "      <td>2018-02-01 05:05:26</td>\n",
       "      <td>3218</td>\n",
       "      <td>55062671</td>\n",
       "      <td>1377718</td>\n",
       "      <td>1</td>\n",
       "      <td>2</td>\n",
       "      <td>304268</td>\n",
       "      <td>Thank you, Chelsea. Before we begin, I would l...</td>\n",
       "    </tr>\n",
       "    <tr>\n",
       "      <th>2</th>\n",
       "      <td>1</td>\n",
       "      <td>24686</td>\n",
       "      <td>547249464</td>\n",
       "      <td>1377718</td>\n",
       "      <td>8</td>\n",
       "      <td>5</td>\n",
       "      <td>2018-02-01 05:05:26</td>\n",
       "      <td>3218</td>\n",
       "      <td>55062672</td>\n",
       "      <td>1377718</td>\n",
       "      <td>2</td>\n",
       "      <td>2</td>\n",
       "      <td>166284</td>\n",
       "      <td>Thank you, Matt, and good afternoon to anyone ...</td>\n",
       "    </tr>\n",
       "    <tr>\n",
       "      <th>3</th>\n",
       "      <td>1</td>\n",
       "      <td>24686</td>\n",
       "      <td>547249464</td>\n",
       "      <td>1377718</td>\n",
       "      <td>8</td>\n",
       "      <td>5</td>\n",
       "      <td>2018-02-01 05:05:26</td>\n",
       "      <td>3218</td>\n",
       "      <td>55062673</td>\n",
       "      <td>1377718</td>\n",
       "      <td>3</td>\n",
       "      <td>2</td>\n",
       "      <td>107251</td>\n",
       "      <td>Thank you, Eli. First fiscal quarter revenue o...</td>\n",
       "    </tr>\n",
       "    <tr>\n",
       "      <th>4</th>\n",
       "      <td>1</td>\n",
       "      <td>24686</td>\n",
       "      <td>547249464</td>\n",
       "      <td>1377718</td>\n",
       "      <td>8</td>\n",
       "      <td>5</td>\n",
       "      <td>2018-02-01 05:05:26</td>\n",
       "      <td>3218</td>\n",
       "      <td>55062674</td>\n",
       "      <td>1377718</td>\n",
       "      <td>4</td>\n",
       "      <td>7</td>\n",
       "      <td>1</td>\n",
       "      <td>[Operator Instructions] And our first question...</td>\n",
       "    </tr>\n",
       "  </tbody>\n",
       "</table>\n",
       "</div>"
      ],
      "text/plain": [
       "   rownum  objectid   keyDevId  transcriptId  transcriptCollectionTypeId  \\\n",
       "0       1     24686  547249464       1377718                           8   \n",
       "1       1     24686  547249464       1377718                           8   \n",
       "2       1     24686  547249464       1377718                           8   \n",
       "3       1     24686  547249464       1377718                           8   \n",
       "4       1     24686  547249464       1377718                           8   \n",
       "\n",
       "   transcriptPresentationTypeId transcriptCreationDateUTC  audioLengthSec  \\\n",
       "0                             5       2018-02-01 05:05:26            3218   \n",
       "1                             5       2018-02-01 05:05:26            3218   \n",
       "2                             5       2018-02-01 05:05:26            3218   \n",
       "3                             5       2018-02-01 05:05:26            3218   \n",
       "4                             5       2018-02-01 05:05:26            3218   \n",
       "\n",
       "   transcriptComponentId  transcriptId  componentOrder  \\\n",
       "0               55062670       1377718               0   \n",
       "1               55062671       1377718               1   \n",
       "2               55062672       1377718               2   \n",
       "3               55062673       1377718               3   \n",
       "4               55062674       1377718               4   \n",
       "\n",
       "   transcriptComponentTypeId  transcriptPersonId  \\\n",
       "0                          1                   1   \n",
       "1                          2              304268   \n",
       "2                          2              166284   \n",
       "3                          2              107251   \n",
       "4                          7                   1   \n",
       "\n",
       "                                       componentText  \n",
       "0  Good day, ladies and gentlemen, and welcome to...  \n",
       "1  Thank you, Chelsea. Before we begin, I would l...  \n",
       "2  Thank you, Matt, and good afternoon to anyone ...  \n",
       "3  Thank you, Eli. First fiscal quarter revenue o...  \n",
       "4  [Operator Instructions] And our first question...  "
      ]
     },
     "execution_count": 23,
     "metadata": {},
     "output_type": "execute_result"
    }
   ],
   "source": [
    "df1.head()"
   ]
  },
  {
   "cell_type": "code",
   "execution_count": 24,
   "metadata": {},
   "outputs": [
    {
     "data": {
      "text/html": [
       "<div>\n",
       "<style>\n",
       "    .dataframe thead tr:only-child th {\n",
       "        text-align: right;\n",
       "    }\n",
       "\n",
       "    .dataframe thead th {\n",
       "        text-align: left;\n",
       "    }\n",
       "\n",
       "    .dataframe tbody tr th {\n",
       "        vertical-align: top;\n",
       "    }\n",
       "</style>\n",
       "<table border=\"1\" class=\"dataframe\">\n",
       "  <thead>\n",
       "    <tr style=\"text-align: right;\">\n",
       "      <th></th>\n",
       "      <th>rownum</th>\n",
       "      <th>objectid</th>\n",
       "      <th>keyDevId</th>\n",
       "      <th>transcriptId</th>\n",
       "      <th>transcriptCollectionTypeId</th>\n",
       "      <th>transcriptPresentationTypeId</th>\n",
       "      <th>audioLengthSec</th>\n",
       "      <th>transcriptComponentId</th>\n",
       "      <th>transcriptId</th>\n",
       "      <th>componentOrder</th>\n",
       "      <th>transcriptComponentTypeId</th>\n",
       "      <th>transcriptPersonId</th>\n",
       "    </tr>\n",
       "  </thead>\n",
       "  <tbody>\n",
       "    <tr>\n",
       "      <th>count</th>\n",
       "      <td>38.0</td>\n",
       "      <td>38.0</td>\n",
       "      <td>38.0</td>\n",
       "      <td>38.0</td>\n",
       "      <td>38.0</td>\n",
       "      <td>38.0</td>\n",
       "      <td>38.0</td>\n",
       "      <td>3.800000e+01</td>\n",
       "      <td>38.0</td>\n",
       "      <td>38.000000</td>\n",
       "      <td>38.000000</td>\n",
       "      <td>38.000000</td>\n",
       "    </tr>\n",
       "    <tr>\n",
       "      <th>mean</th>\n",
       "      <td>1.0</td>\n",
       "      <td>24686.0</td>\n",
       "      <td>547249464.0</td>\n",
       "      <td>1377718.0</td>\n",
       "      <td>8.0</td>\n",
       "      <td>5.0</td>\n",
       "      <td>3218.0</td>\n",
       "      <td>5.506269e+07</td>\n",
       "      <td>1377718.0</td>\n",
       "      <td>18.500000</td>\n",
       "      <td>4.105263</td>\n",
       "      <td>127053.473684</td>\n",
       "    </tr>\n",
       "    <tr>\n",
       "      <th>std</th>\n",
       "      <td>0.0</td>\n",
       "      <td>0.0</td>\n",
       "      <td>0.0</td>\n",
       "      <td>0.0</td>\n",
       "      <td>0.0</td>\n",
       "      <td>0.0</td>\n",
       "      <td>0.0</td>\n",
       "      <td>1.111306e+01</td>\n",
       "      <td>0.0</td>\n",
       "      <td>11.113055</td>\n",
       "      <td>1.673150</td>\n",
       "      <td>91156.488249</td>\n",
       "    </tr>\n",
       "    <tr>\n",
       "      <th>min</th>\n",
       "      <td>1.0</td>\n",
       "      <td>24686.0</td>\n",
       "      <td>547249464.0</td>\n",
       "      <td>1377718.0</td>\n",
       "      <td>8.0</td>\n",
       "      <td>5.0</td>\n",
       "      <td>3218.0</td>\n",
       "      <td>5.506267e+07</td>\n",
       "      <td>1377718.0</td>\n",
       "      <td>0.000000</td>\n",
       "      <td>1.000000</td>\n",
       "      <td>1.000000</td>\n",
       "    </tr>\n",
       "    <tr>\n",
       "      <th>25%</th>\n",
       "      <td>1.0</td>\n",
       "      <td>24686.0</td>\n",
       "      <td>547249464.0</td>\n",
       "      <td>1377718.0</td>\n",
       "      <td>8.0</td>\n",
       "      <td>5.0</td>\n",
       "      <td>3218.0</td>\n",
       "      <td>5.506268e+07</td>\n",
       "      <td>1377718.0</td>\n",
       "      <td>9.250000</td>\n",
       "      <td>3.000000</td>\n",
       "      <td>93296.000000</td>\n",
       "    </tr>\n",
       "    <tr>\n",
       "      <th>50%</th>\n",
       "      <td>1.0</td>\n",
       "      <td>24686.0</td>\n",
       "      <td>547249464.0</td>\n",
       "      <td>1377718.0</td>\n",
       "      <td>8.0</td>\n",
       "      <td>5.0</td>\n",
       "      <td>3218.0</td>\n",
       "      <td>5.506269e+07</td>\n",
       "      <td>1377718.0</td>\n",
       "      <td>18.500000</td>\n",
       "      <td>4.000000</td>\n",
       "      <td>136767.500000</td>\n",
       "    </tr>\n",
       "    <tr>\n",
       "      <th>75%</th>\n",
       "      <td>1.0</td>\n",
       "      <td>24686.0</td>\n",
       "      <td>547249464.0</td>\n",
       "      <td>1377718.0</td>\n",
       "      <td>8.0</td>\n",
       "      <td>5.0</td>\n",
       "      <td>3218.0</td>\n",
       "      <td>5.506270e+07</td>\n",
       "      <td>1377718.0</td>\n",
       "      <td>27.750000</td>\n",
       "      <td>4.000000</td>\n",
       "      <td>166284.000000</td>\n",
       "    </tr>\n",
       "    <tr>\n",
       "      <th>max</th>\n",
       "      <td>1.0</td>\n",
       "      <td>24686.0</td>\n",
       "      <td>547249464.0</td>\n",
       "      <td>1377718.0</td>\n",
       "      <td>8.0</td>\n",
       "      <td>5.0</td>\n",
       "      <td>3218.0</td>\n",
       "      <td>5.506271e+07</td>\n",
       "      <td>1377718.0</td>\n",
       "      <td>37.000000</td>\n",
       "      <td>7.000000</td>\n",
       "      <td>304268.000000</td>\n",
       "    </tr>\n",
       "  </tbody>\n",
       "</table>\n",
       "</div>"
      ],
      "text/plain": [
       "       rownum  objectid     keyDevId  transcriptId  \\\n",
       "count    38.0      38.0         38.0          38.0   \n",
       "mean      1.0   24686.0  547249464.0     1377718.0   \n",
       "std       0.0       0.0          0.0           0.0   \n",
       "min       1.0   24686.0  547249464.0     1377718.0   \n",
       "25%       1.0   24686.0  547249464.0     1377718.0   \n",
       "50%       1.0   24686.0  547249464.0     1377718.0   \n",
       "75%       1.0   24686.0  547249464.0     1377718.0   \n",
       "max       1.0   24686.0  547249464.0     1377718.0   \n",
       "\n",
       "       transcriptCollectionTypeId  transcriptPresentationTypeId  \\\n",
       "count                        38.0                          38.0   \n",
       "mean                          8.0                           5.0   \n",
       "std                           0.0                           0.0   \n",
       "min                           8.0                           5.0   \n",
       "25%                           8.0                           5.0   \n",
       "50%                           8.0                           5.0   \n",
       "75%                           8.0                           5.0   \n",
       "max                           8.0                           5.0   \n",
       "\n",
       "       audioLengthSec  transcriptComponentId  transcriptId  componentOrder  \\\n",
       "count            38.0           3.800000e+01          38.0       38.000000   \n",
       "mean           3218.0           5.506269e+07     1377718.0       18.500000   \n",
       "std               0.0           1.111306e+01           0.0       11.113055   \n",
       "min            3218.0           5.506267e+07     1377718.0        0.000000   \n",
       "25%            3218.0           5.506268e+07     1377718.0        9.250000   \n",
       "50%            3218.0           5.506269e+07     1377718.0       18.500000   \n",
       "75%            3218.0           5.506270e+07     1377718.0       27.750000   \n",
       "max            3218.0           5.506271e+07     1377718.0       37.000000   \n",
       "\n",
       "       transcriptComponentTypeId  transcriptPersonId  \n",
       "count                  38.000000           38.000000  \n",
       "mean                    4.105263       127053.473684  \n",
       "std                     1.673150        91156.488249  \n",
       "min                     1.000000            1.000000  \n",
       "25%                     3.000000        93296.000000  \n",
       "50%                     4.000000       136767.500000  \n",
       "75%                     4.000000       166284.000000  \n",
       "max                     7.000000       304268.000000  "
      ]
     },
     "execution_count": 24,
     "metadata": {},
     "output_type": "execute_result"
    },
    {
     "data": {
      "text/plain": [
       "(38, 14)"
      ]
     },
     "execution_count": 24,
     "metadata": {},
     "output_type": "execute_result"
    }
   ],
   "source": [
    "df1.describe()\n",
    "df1.shape"
   ]
  },
  {
   "cell_type": "code",
   "execution_count": 25,
   "metadata": {},
   "outputs": [
    {
     "data": {
      "text/plain": [
       "0     Good day, ladies and gentlemen, and welcome to...\n",
       "1     Thank you, Chelsea. Before we begin, I would l...\n",
       "2     Thank you, Matt, and good afternoon to anyone ...\n",
       "3     Thank you, Eli. First fiscal quarter revenue o...\n",
       "4     [Operator Instructions] And our first question...\n",
       "5     Yes. Matt Van Vliet, on for Tom. I guess, real...\n",
       "6     So it's not only ONAP that is going to compens...\n",
       "7     And then I guess as a follow-up to that, looki...\n",
       "8     So we are not so sensitive to whether the indu...\n",
       "9     And our next question comes from the line of J...\n",
       "10    First question, on the Philippine customer tha...\n",
       "11    So this is a managed transformation deal which...\n",
       "12    Okay. Fair enough. And then, Tamar, there was ...\n",
       "13    Yes. On overall basis for the year, we keep on...\n",
       "14    And our next question comes from the line of A...\n",
       "15    Question on Vubiquity. It seemed strategically...\n",
       "16    So Ashwin, this is a scarce asset that we are ...\n",
       "17    Great. And let me ask a second question. But i...\n",
       "18    So I'll add a few points of color on the Vubiq...\n",
       "19    And our next question comes from the line of S...\n",
       "20    Good afternoon, Eli, Tamar, Matt. Eli, I've li...\n",
       "21    So Shaul, as always, you listen carefully. Loo...\n",
       "22    Got it, got it. And probably sticking with Nor...\n",
       "23    So we don't know yet. But I believe that the f...\n",
       "24    And our next question comes from the line of R...\n",
       "25    I wanted to ask you about your NFV Bell Canada...\n",
       "26    Ramsey, it's a very fair question. It's evolvi...\n",
       "27    That's very helpful. One more for me. Could yo...\n",
       "28    Yes, it's a very good question. Look, for what...\n",
       "29    Yes. The new element we have now with Vubiquit...\n",
       "30    And in the meantime, because we don't want to ...\n",
       "31    [Operator Instructions] And our next question ...\n",
       "32    Okay, great. Yes, maybe sticking with North Am...\n",
       "33    So Will, on the first -- second part of the qu...\n",
       "34    And I'm not showing any further questions at t...\n",
       "35    Thank you very much for joining our call today...\n",
       "36                                           Thank you.\n",
       "37    Ladies and gentlemen, thank you for participat...\n",
       "Name: componentText, dtype: object"
      ]
     },
     "execution_count": 25,
     "metadata": {},
     "output_type": "execute_result"
    }
   ],
   "source": [
    "df1['componentText']"
   ]
  },
  {
   "cell_type": "code",
   "execution_count": 7,
   "metadata": {},
   "outputs": [
    {
     "name": "stdout",
     "output_type": "stream",
     "text": [
      "Wall time: 247 ms\n"
     ]
    }
   ],
   "source": [
    "%%time\n",
    "\n",
    "df3 = pd.read_sql_query('''\n",
    "\n",
    "select \n",
    "*\n",
    "from\n",
    "ciqsubtypetogics gic\n",
    "join ciqcompanyindustry ind\n",
    "on ind.industryId = gic.subTypeId\n",
    "where gic = '30101040'\n",
    "''', engine)"
   ]
  },
  {
   "cell_type": "code",
   "execution_count": 8,
   "metadata": {},
   "outputs": [
    {
     "data": {
      "text/plain": [
       "(69, 4)"
      ]
     },
     "execution_count": 8,
     "metadata": {},
     "output_type": "execute_result"
    },
    {
     "data": {
      "text/html": [
       "<div>\n",
       "<style>\n",
       "    .dataframe thead tr:only-child th {\n",
       "        text-align: right;\n",
       "    }\n",
       "\n",
       "    .dataframe thead th {\n",
       "        text-align: left;\n",
       "    }\n",
       "\n",
       "    .dataframe tbody tr th {\n",
       "        vertical-align: top;\n",
       "    }\n",
       "</style>\n",
       "<table border=\"1\" class=\"dataframe\">\n",
       "  <thead>\n",
       "    <tr style=\"text-align: right;\">\n",
       "      <th></th>\n",
       "      <th>subTypeId</th>\n",
       "      <th>GIC</th>\n",
       "      <th>companyId</th>\n",
       "      <th>industryId</th>\n",
       "    </tr>\n",
       "  </thead>\n",
       "  <tbody>\n",
       "    <tr>\n",
       "      <th>0</th>\n",
       "      <td>9600181</td>\n",
       "      <td>30101040</td>\n",
       "      <td>91638</td>\n",
       "      <td>9600181</td>\n",
       "    </tr>\n",
       "    <tr>\n",
       "      <th>1</th>\n",
       "      <td>9600181</td>\n",
       "      <td>30101040</td>\n",
       "      <td>92817</td>\n",
       "      <td>9600181</td>\n",
       "    </tr>\n",
       "    <tr>\n",
       "      <th>2</th>\n",
       "      <td>9600181</td>\n",
       "      <td>30101040</td>\n",
       "      <td>153820</td>\n",
       "      <td>9600181</td>\n",
       "    </tr>\n",
       "    <tr>\n",
       "      <th>3</th>\n",
       "      <td>9600181</td>\n",
       "      <td>30101040</td>\n",
       "      <td>262198</td>\n",
       "      <td>9600181</td>\n",
       "    </tr>\n",
       "    <tr>\n",
       "      <th>4</th>\n",
       "      <td>9600181</td>\n",
       "      <td>30101040</td>\n",
       "      <td>313055</td>\n",
       "      <td>9600181</td>\n",
       "    </tr>\n",
       "  </tbody>\n",
       "</table>\n",
       "</div>"
      ],
      "text/plain": [
       "   subTypeId       GIC  companyId  industryId\n",
       "0    9600181  30101040      91638     9600181\n",
       "1    9600181  30101040      92817     9600181\n",
       "2    9600181  30101040     153820     9600181\n",
       "3    9600181  30101040     262198     9600181\n",
       "4    9600181  30101040     313055     9600181"
      ]
     },
     "execution_count": 8,
     "metadata": {},
     "output_type": "execute_result"
    }
   ],
   "source": [
    "df3.shape\n",
    "df3.head()"
   ]
  },
  {
   "cell_type": "markdown",
   "metadata": {},
   "source": [
    "Pull transcripts for all companies within a specified GICS grouping"
   ]
  },
  {
   "cell_type": "code",
   "execution_count": 9,
   "metadata": {},
   "outputs": [
    {
     "name": "stdout",
     "output_type": "stream",
     "text": [
      "Wall time: 4min 39s\n"
     ]
    }
   ],
   "source": [
    "%%time\n",
    "\n",
    "df2 = pd.read_sql_query('''\n",
    "\n",
    "with test as (\n",
    "select\n",
    "row_number() over(partition by objectid order by transcriptcreationdateutc desc) as rownum,\n",
    "evt.objectid,\n",
    "tr.*\n",
    "from ciqeventtoobjecttoeventtype evt\n",
    "join ciqtranscript tr\n",
    "on tr.keydevid = evt.keydevid\n",
    "where objectid in(select \n",
    "companyid\n",
    "from\n",
    "ciqsubtypetogics gic\n",
    "join ciqcompanyindustry ind\n",
    "on ind.industryId = gic.subTypeId\n",
    "where gic = '30101040')\n",
    ")\n",
    "Select * \n",
    "from \n",
    "test  ts\n",
    "join ciqtranscriptcomponent ct\n",
    "on ts.transcriptid = ct.transcriptid\n",
    "''', engine)"
   ]
  },
  {
   "cell_type": "code",
   "execution_count": 39,
   "metadata": {},
   "outputs": [
    {
     "data": {
      "text/plain": [
       "(103931, 14)"
      ]
     },
     "execution_count": 39,
     "metadata": {},
     "output_type": "execute_result"
    },
    {
     "data": {
      "text/html": [
       "<div>\n",
       "<style>\n",
       "    .dataframe thead tr:only-child th {\n",
       "        text-align: right;\n",
       "    }\n",
       "\n",
       "    .dataframe thead th {\n",
       "        text-align: left;\n",
       "    }\n",
       "\n",
       "    .dataframe tbody tr th {\n",
       "        vertical-align: top;\n",
       "    }\n",
       "</style>\n",
       "<table border=\"1\" class=\"dataframe\">\n",
       "  <thead>\n",
       "    <tr style=\"text-align: right;\">\n",
       "      <th></th>\n",
       "      <th>rownum</th>\n",
       "      <th>objectid</th>\n",
       "      <th>keyDevId</th>\n",
       "      <th>transcriptId</th>\n",
       "      <th>transcriptCollectionTypeId</th>\n",
       "      <th>transcriptPresentationTypeId</th>\n",
       "      <th>transcriptCreationDateUTC</th>\n",
       "      <th>audioLengthSec</th>\n",
       "      <th>transcriptComponentId</th>\n",
       "      <th>transcriptId</th>\n",
       "      <th>componentOrder</th>\n",
       "      <th>transcriptComponentTypeId</th>\n",
       "      <th>transcriptPersonId</th>\n",
       "      <th>componentText</th>\n",
       "    </tr>\n",
       "  </thead>\n",
       "  <tbody>\n",
       "    <tr>\n",
       "      <th>0</th>\n",
       "      <td>325</td>\n",
       "      <td>313055</td>\n",
       "      <td>3562009</td>\n",
       "      <td>9569</td>\n",
       "      <td>6</td>\n",
       "      <td>5</td>\n",
       "      <td>2008-06-19 23:01:30</td>\n",
       "      <td>NaN</td>\n",
       "      <td>79109</td>\n",
       "      <td>9569</td>\n",
       "      <td>1</td>\n",
       "      <td>5</td>\n",
       "      <td>NaN</td>\n",
       "      <td>This call is the property of Wal-Mart Stores I...</td>\n",
       "    </tr>\n",
       "    <tr>\n",
       "      <th>1</th>\n",
       "      <td>326</td>\n",
       "      <td>313055</td>\n",
       "      <td>3562010</td>\n",
       "      <td>9570</td>\n",
       "      <td>6</td>\n",
       "      <td>5</td>\n",
       "      <td>2008-06-19 23:01:30</td>\n",
       "      <td>NaN</td>\n",
       "      <td>79110</td>\n",
       "      <td>9570</td>\n",
       "      <td>1</td>\n",
       "      <td>5</td>\n",
       "      <td>NaN</td>\n",
       "      <td>Thank you for calling Wal-Mart Stores Incorpor...</td>\n",
       "    </tr>\n",
       "    <tr>\n",
       "      <th>2</th>\n",
       "      <td>327</td>\n",
       "      <td>313055</td>\n",
       "      <td>3562011</td>\n",
       "      <td>9571</td>\n",
       "      <td>6</td>\n",
       "      <td>5</td>\n",
       "      <td>2008-06-19 23:01:30</td>\n",
       "      <td>NaN</td>\n",
       "      <td>79111</td>\n",
       "      <td>9571</td>\n",
       "      <td>1</td>\n",
       "      <td>5</td>\n",
       "      <td>NaN</td>\n",
       "      <td>Thank you for calling Wal-Mart Stores Incorpor...</td>\n",
       "    </tr>\n",
       "    <tr>\n",
       "      <th>3</th>\n",
       "      <td>328</td>\n",
       "      <td>313055</td>\n",
       "      <td>5169974</td>\n",
       "      <td>9572</td>\n",
       "      <td>6</td>\n",
       "      <td>5</td>\n",
       "      <td>2008-06-19 23:01:30</td>\n",
       "      <td>NaN</td>\n",
       "      <td>79112</td>\n",
       "      <td>9572</td>\n",
       "      <td>1</td>\n",
       "      <td>5</td>\n",
       "      <td>NaN</td>\n",
       "      <td>This call is the property of Wal-Mart Stores I...</td>\n",
       "    </tr>\n",
       "    <tr>\n",
       "      <th>4</th>\n",
       "      <td>329</td>\n",
       "      <td>313055</td>\n",
       "      <td>5169797</td>\n",
       "      <td>9574</td>\n",
       "      <td>6</td>\n",
       "      <td>5</td>\n",
       "      <td>2008-06-19 23:01:30</td>\n",
       "      <td>NaN</td>\n",
       "      <td>79113</td>\n",
       "      <td>9574</td>\n",
       "      <td>1</td>\n",
       "      <td>5</td>\n",
       "      <td>NaN</td>\n",
       "      <td>Thank you for calling Wal-Mart Stores, Inc. Fi...</td>\n",
       "    </tr>\n",
       "  </tbody>\n",
       "</table>\n",
       "</div>"
      ],
      "text/plain": [
       "   rownum  objectid  keyDevId  transcriptId  transcriptCollectionTypeId  \\\n",
       "0     325    313055   3562009          9569                           6   \n",
       "1     326    313055   3562010          9570                           6   \n",
       "2     327    313055   3562011          9571                           6   \n",
       "3     328    313055   5169974          9572                           6   \n",
       "4     329    313055   5169797          9574                           6   \n",
       "\n",
       "   transcriptPresentationTypeId transcriptCreationDateUTC  audioLengthSec  \\\n",
       "0                             5       2008-06-19 23:01:30             NaN   \n",
       "1                             5       2008-06-19 23:01:30             NaN   \n",
       "2                             5       2008-06-19 23:01:30             NaN   \n",
       "3                             5       2008-06-19 23:01:30             NaN   \n",
       "4                             5       2008-06-19 23:01:30             NaN   \n",
       "\n",
       "   transcriptComponentId  transcriptId  componentOrder  \\\n",
       "0                  79109          9569               1   \n",
       "1                  79110          9570               1   \n",
       "2                  79111          9571               1   \n",
       "3                  79112          9572               1   \n",
       "4                  79113          9574               1   \n",
       "\n",
       "   transcriptComponentTypeId  transcriptPersonId  \\\n",
       "0                          5                 NaN   \n",
       "1                          5                 NaN   \n",
       "2                          5                 NaN   \n",
       "3                          5                 NaN   \n",
       "4                          5                 NaN   \n",
       "\n",
       "                                       componentText  \n",
       "0  This call is the property of Wal-Mart Stores I...  \n",
       "1  Thank you for calling Wal-Mart Stores Incorpor...  \n",
       "2  Thank you for calling Wal-Mart Stores Incorpor...  \n",
       "3  This call is the property of Wal-Mart Stores I...  \n",
       "4  Thank you for calling Wal-Mart Stores, Inc. Fi...  "
      ]
     },
     "execution_count": 39,
     "metadata": {},
     "output_type": "execute_result"
    }
   ],
   "source": [
    "df2.shape\n",
    "df2.head()"
   ]
  },
  {
   "cell_type": "code",
   "execution_count": 10,
   "metadata": {},
   "outputs": [
    {
     "data": {
      "text/plain": [
       "0         This call is the property of Wal-Mart Stores I...\n",
       "1         Thank you for calling Wal-Mart Stores Incorpor...\n",
       "2         Thank you for calling Wal-Mart Stores Incorpor...\n",
       "3         This call is the property of Wal-Mart Stores I...\n",
       "4         Thank you for calling Wal-Mart Stores, Inc. Fi...\n",
       "5         Good morning everyone and welcome to the BJ's ...\n",
       "6         Thank you, Jim. With me this morning are Herb ...\n",
       "7         Thank you, Cathy. Good morning everyone. For t...\n",
       "8         Thank you, Frank, and good morning everyone. T...\n",
       "9         Thanks Herb. For the benefit of your P&L model...\n",
       "10        An awful lot of information, Frank. Thanks. We...\n",
       "11        Thank you, gentlemen. [Operator Instructions]....\n",
       "12                                    Hi, good morning.\\r\\n\n",
       "13                                        Good morning.\\r\\n\n",
       "14        Two questions. The first one is for Frank. On ...\n",
       "15        The discontinued operations, if that's your qu...\n",
       "16        Okay. And on the -- as you look to August and ...\n",
       "17        We don't really quantify. We look at it and tr...\n",
       "18                          Okay, thank you. Good luck.\\r\\n\n",
       "19                                           Thank you.\\r\\n\n",
       "20        We'll go next to Charles Grom at J.P. Morgan.\\r\\n\n",
       "21        Hey, thanks very much. Good morning. I just wa...\n",
       "22        The answer to your question, I mean, yes, the ...\n",
       "23           Okay. So the net EPS is really $0.46 then?\\r\\n\n",
       "24                                        $0.46, right.\\r\\n\n",
       "25        Okay. And then just to go a little bit higher ...\n",
       "26        Well, they have made announcements already tha...\n",
       "27        Okay, that's great. And just one more, during ...\n",
       "28        We made a tweak in the program this year by cu...\n",
       "29        But it did improve significantly, you said, I ...\n",
       "                                ...                        \n",
       "103901    Yes, Maryia. Actually, this is something that ...\n",
       "103902    [Operator Instructions] We'll take our next qu...\n",
       "103903    I want to elaborate a little bit on the superm...\n",
       "103904    Yes, I think it primarily is shelf, of course....\n",
       "103905    And we'll take our next question from Maria Ko...\n",
       "103906    I'd like to ask a question about the news that...\n",
       "103907    Yes, I see the -- I see Metro operating with a...\n",
       "103908                                     [indiscernible]?\n",
       "103909                                     [indiscernible].\n",
       "103910    [Operator Instructions] We'll take our next qu...\n",
       "103911    I have a couple of follow-up questions. One of...\n",
       "103912    No. You haven't missed it. This is Jan. You ha...\n",
       "103913    Yes. Maryia, we just provided some comments on...\n",
       "103914    The first weekend and the third weekend were p...\n",
       "103915    Sure. And I appreciate all this color. But do ...\n",
       "103916    Now, the -- I didn't quantify this, but I can ...\n",
       "103917    Okay. All right. And my other question was on ...\n",
       "103918    Yes. That -- of course, we see this. As we loo...\n",
       "103919    Okay, that's very helpful. And one last questi...\n",
       "103920    Yes, Maryia. We had the description if we were...\n",
       "103921    Yes. Maryia, I can just confirm what we foreca...\n",
       "103922    And we'll take our next question from Dmytro K...\n",
       "103923    I have a question about your ticket growth. I ...\n",
       "103924    Let me react first on the trading up because t...\n",
       "103925      Yes, okay. And regarding the contribution to...\n",
       "103926    Yes. The second part of your question, the -- ...\n",
       "103927    At this time, we are -- this does conclude the...\n",
       "103928    Thank you, everyone, for your questions. We wi...\n",
       "103929                                      Thank you. Bye.\n",
       "103930    Thank you. That does conclude today's conferen...\n",
       "Name: componentText, Length: 103931, dtype: object"
      ]
     },
     "execution_count": 10,
     "metadata": {},
     "output_type": "execute_result"
    }
   ],
   "source": [
    "df2['componentText']"
   ]
  },
  {
   "cell_type": "code",
   "execution_count": 11,
   "metadata": {
    "collapsed": true
   },
   "outputs": [],
   "source": [
    "import spacy\n",
    "nlp = spacy.load('en')"
   ]
  },
  {
   "cell_type": "code",
   "execution_count": 12,
   "metadata": {},
   "outputs": [
    {
     "data": {
      "text/plain": [
       "(103931,)"
      ]
     },
     "execution_count": 12,
     "metadata": {},
     "output_type": "execute_result"
    },
    {
     "data": {
      "text/plain": [
       "\"This call is the property of Wal-Mart Stores Inc. and is intended solely for use of Wal-Mart shareholders. It should not be reproduced in any way.\\r\\nThis call will contain statements that Wal-Mart believes are forward-looking statements within the meaning of the Private Securities Litigation Reform Act of 1995 and intended to enjoy the protection of Safe Harbor for forward-looking statements provided by that Act. These forward-looking statements generally are identified by the use of the word or phrases: expect, invest, may impact, opening, plan, will be, will continue, will enhance, will have, will reflect, and will take or a variation on one of those words or phrases in those statements, or by the use of words or phrases of similar import. Similarly, descriptions of our objectives, plans, goals, targets, or expectations are forward-looking statements.\\r\\nThese statements discuss, among other things, our anticipated U.S. comparable store sales for the current fiscal quarter and our anticipated earnings per share from continuing operations for the current fiscal quarter and for fiscal year 2008; our anticipated tax rate for fiscal year 2008; potential quarterly volatility in that tax rate and the factors that may impact that tax rate; our planned completion of the full rollout of our new associate scheduling system to all U.S. stores; our expectations for electronic product selection and presentation in supercenters and discount stores in the U.S.; our expectations regarding pressure on margins in our U.S. stores as a result of markdowns and higher inventory in soft lines; our expectation for merchandise mix during the second half of the year in our U.S. stores; our expectations regarding sales in certain categories in our U.S. stores; our expectations relating to inventory management in our U.S. stores; our expectation regarding steps to address issues relating to our gross margins in our U.S. stores; our expectations regarding the opening of stores in ASDA regional food distribution hubs during the fiscal year 2008; the expectations as to the availability of access to ASDA's online home grocery shopping in fiscal 2008; our expectations for the rate of growth of our capital expenditures in fiscal 2008; and our anticipated expansions of supercenters in Canada and investments in our Canadian supply chain infrastructure; our expectations for comparable store sales of Seiyu Ltd. for the current year and the anticipation and expectations of Wal-Mart and its management as to future occurrences and trends.\\r\\nThese forward-looking statements are subject to risks, uncertainties, and other factors domestically and internationally including the cost of goods, competitive pressures, inflation, consumer spending patterns and debt levels, currency exchange fluctuations, trade restrictions, changes in tariff and freight rate, fluctuations in the cost of gasoline, diesel fuel and other energy, transportation, utilities, labor and healthcare, accident costs, casualty and other insurance costs, interest rate fluctuations, capital market conditions, geopolitical conditions, weather conditions, storm-related damage to our facility, regulatory matters, and other risks.\\r\\nWe discuss certain of these matters more fully in our filings with the SEC including our most recent annual report on Form 10-K and the information on this call should be read in conjunction with that annual report on Form 10-K, and together with our other filings including current reports on Form 8-K we have made with the SEC through the date of this call.\\r\\nWe urge you to consider all of these risks, uncertainties, and other factors carefully in evaluating the forward-looking statements we make on this call. As a result of these factors, changes in fact, assumptions not being realized, or other circumstances, our actual results may differ materially from anticipated results expressed or implied in these forward-looking statements.\\r\\nThe forward-looking statements made in this call are made on and as of the date of this call and we undertake no obligation to update these forward-looking statements to reflect subsequent events or circumstance.\\r\\nThe comp store sales for our total U.S. operations and for our SAM'S CLUB segment discussed on this call exclude the impact of fuel sales at our SAM'S CLUB segment. That measure and our return on investment as discussed in this call may be considered non-GAAP financial measures. Reconciliations of those non-GAAP financial measures to the most directly comparable GAAP measures are available for review on the Investor Relations portion of our corporate website at www.walmartstores.com/investors.\\r\\n<strong>Carol Schumacher </strong>\\r\\nWelcome to the Wal-Mart Stores, Inc. first quarter earnings call for fiscal year 2008. This is Carol Schumacher, Vice President of Investor Relations. The replays of this call and related materials about this quarter are available on our website.\\r\\nHere is our agenda for today's call. First up Lee Scott, Wal-Mart Stores President and CEO who will provide comments on the company's overall performance; Tom Schoewe, Executive Vice President and Chief Financial Officer, will get behind our financial results; Eduardo Castro-Wright, President and Chief Executive Officer of Wal-Mart Stores Division, will update results and direction for the U.S. operations; Charles Holley, Executive Vice President of Finance and Treasurer, will review the results of SAM'S CLUB and International; and, Tom will close with guidance for the second quarter of this fiscal year.\\r\\nThe store count and square footage updates through the first quarter are available on our website, www.walmartstores.com/investors. Also on the website you will find a new document explaining how we calculate ROI, or return on investment, as well as an update on our new metric used to monitor leverage, cash flow from operations to average debt. Tom will cover ROI later on the call.\\r\\nBefore we get started, I would like to let you know about a change to our internal management reporting that impacts the company's segment reporting. As you know, the company has three operating segments -- Wal-Mart Stores division, International, and SAM'S CLUB -- and measures the profit of its segments as segment operating income. As Tom noted during the fourth quarter fiscal 2007 earnings call, there are certain operating income items that have not been included historically in the operating income of the three operating segments.\\r\\nWe typically refer to these items as corporate overhead, but many of you do know this as our other segment. These other operating income items primarily consist of expenses for overhead functions such as legal and finance which are managed at the corporate level and are not included in the three operating segments. Since our segment reporting follows our internal management reporting, this other segment has also historically included unusual or infrequent income and expenses that are accounted for at the corporate level, rather than within the operating segments.\\r\\nAt the beginning of this fiscal year FY 2008 we revised the criteria used to measure the profit of our operating segments. The result of the new measurement criteria is to now include within each operating segment certain direct operating income items that had previously been accounted for at the corporate level and included in the other segment. As a result, all prior year measurements of segment profits have been restated for comparative purposes. This methodology is consistent with certain changes we've made to our internal management reporting.\\r\\nAs you know, FASB Interpretation Number 48, Accounting For Uncertain Tax Positions, better known as FIN-48 became effective this quarter. In connection with our implementation of FIN-48, we have reported a cumulative effect adjustment to the opening balance of retained earnings of $160 million, representing additional liabilities for unrecognized tax benefits as measured under this new standard.\\r\\nNow let's get onto the news on Wal-Mart's first quarter of fiscal 2008.\\r\\n<strong>Lee Scott  </strong>\\r\\nThank you, Carol and welcome, everyone. Our start to fiscal 2008 resulted in net sales of almost $85.4 billion, an increase of more than 8% for Wal-Mart Stores Inc. Net income from continuing operations rose more than 6% from the prior year. Earnings per share from continuing operations for the quarter were $0.68 per share, up from $0.64 per share for last year's first quarter.\\r\\nThese are again record sales and earnings, but they were not where we would have expected to be, nor where we believe they should be. We increased sales and earnings per share from continuing operations and we kept expenses in check, which Tom will cover in more detail on this call. Quite honestly, we're not satisfied with our overall performance.\\r\\nLet me touch now on each of our operating segments. International, which is now 23% of our total sales, had a great quarter. This remains our fastest-growing operations segment and is led by Vice Chairman Mike Duke. Sales were up 18.5% over last year and we are pleased with how the most recent acquisitions continue to be integrated into the Wal-Mart culture of delivering great value. Many of you may not be aware of the rising prices and heightened inflation concerns in Mexico. Our management team at WalMex clearly looks to the long-term when they launched an extensive rollback campaign on basic products like tortillas and produce intended to counteract inflation concerns. Charles will discuss later how this did have some slight impact on international's gross margin. But the end result was increased customer loyalty and a strengthening of our price leadership position in the Mexican market.\\r\\n\\r\\nIn the UK, the ASDA management team put in place last year an aggressive strategic business plan to broaden the appeal of its brand in local communities. Charles will provide more context for how ASDA has accelerated comparable store sales and traffic, but let me highlight one fact: since mid 2005, ASDA's tracking system shows that ASDA has gained approximately 1.5 million new customers, of which approximately half were in comp stores.\\r\\nTurning to SAM'S CLUB, the clubs continue to be very focused on delivering ways that members can save, whether it is the convenience store owner or a mother with five children. We are pleased that under Doug McMillan's leadership, SAM's again grew profits faster than sales. They've now done this for the past seven quarters.\\r\\nWal-Mart U.S. experienced a tremendous amount of change during this past year. We're in the second year of an ambitious three-year strategic plan that Eduardo Castro-Wright, President and CEO for Wal-Mart Stores Division, is leading to improve our business. While some points in the plan have not delivered the results yet that we would like to see, the core of that plan, improving our customer service and improving returns, is critical to continued success for our company.\\r\\nOur core U.S. grocery business continues to do very well. Food and consumables are leading the way for our Wal-Mart supercenters. The $4 generic prescription program performed better than we had expected in delivering double-digit comps for our pharmacy at both Wal-Mart and SAM'S CLUB.\\r\\nWe know well the challenges in the United States. The top three concerns among discount store shoppers are all economics. Number 1 is money or income, number 2 is the cost of living and number 3, gas prices. Obviously saving money is important to our customers. You will see us be more committed than ever to price leadership.\\r\\nFurther, Wal-Mart U.S. is committed to winning back the gains we made last year in inventory management. To do that, we also must make sure that we have the right merchandise in stock, whether it is apparel or deodorant, for the customers in every community that we serve. We must deliver value regardless of weather and energy prices and our associates must be there when our customers are shopping.\\r\\nWe have some challenges for the rest of this fiscal year, but I am confident in the ability of the leadership team of this company to meet those head on and deliver better results. I look forward to seeing many of you at our shareholders meeting in Northwest Arkansas on June 1 and hearing your thoughts and questions about our business.\\r\\nTom will cover more details about the financial results.\\r\\n<strong> Thomas Schoewe  </strong>\\r\\nLee, thank you very much. We appreciate you for joining us to hear more news about Wal-Mart's first quarter of fiscal 2008. Let's get started at the highest level. To recap a little of what Lee has already said about the first quarter, total sales for the company were up 8.3%. In addition, U.S. comp store sales were 0.6% in the first quarter. Income from continuing operations increased 6.2%. Earnings per share from continuing operations were $0.68 and while the impact on consolidated net income was insignificant, operating income within the segments was impacted by two special items, one favorable and one unfavorable. All of the numbers I'll talk about right now are before tax.\\r\\nFirst, the favorable item. We recorded a federal excise tax refund with interest of approximately $97 million related to prior sales of prepaid phone cards at both Wal-Mart stores and SAM'S CLUB. This favorably impacted operating income by $85 million; $46 million for the Wal-Mart segment and $39 million for the SAM'S CLUB segment, and interest by $12 million.\\r\\nNow the unfavorable item. During the quarter we recorded a charge of approximately $83 million as a result of certain litigation. This charge is reported as additional operating expense, of which approximately $73 million is charged to the Wal-Mart Stores segment and remaining $10 million to SAM'S CLUB.\\r\\nBefore Eduardo Castro-Wright covers the details about the Wal-Mart U.S. results, let me touch on some of the key financial metrics from our consolidated financial statement, things like gross margin, expenses, inventory, membership and other income, and finally, net interest expense.\\r\\nFirst, consolidated gross margin was down 8 basis points for the first quarter, primarily due to the U.S. stores. Operating expenses as a percentage of sales were up approximately 7 basis points over last year, but essentially flat to last year, excluding the charge for certain litigation. The fact that we kept SG&A expenses in check is positive given the challenges associated with leveraging a weak sales performance here in the United States.\\r\\nInventory management did not meet our expectations for the first quarter. Consolidated inventories were up 10.3% against the year-to-date sales increase of 8.3%. The soft sales environment negatively impacted our inventory performance during the first quarter. We continue to be focused on our internal goal of growing inventory at half the rate of the sales increase.\\r\\nWe continue to have a good report on membership and other income, up approximately 22% for the first quarter over last year. Among the highlights in this category:\\r\\nFirst, SAM'S CLUB membership fee income improved again during the first quarter.\\r\\nSecond, financial services had a stellar performance with continued growth on all fronts. The basic money services led by money transfers, bill payments and check cashing all posted above plan growth. Our financial services operation serves more than 2 million customers each week.\\r\\nLast, recycling income. The company's sustainability efforts are clearly paying off.\\r\\nInterest expense was up 6.5%. If we remove the interest component of the excise tax gain, net interest expense would have grown by an additional 3.3 percentage points. This is actually pretty good performance considering the headwind with our higher inventory levels and the associated debt levels.\\r\\nOur tax rate for the quarter was 34.4%. The tax rate for fiscal year 2008 is forecasted to be between 34% and 35%, although we expect to see some quarterly volatility. Factors which may impact our annual rate include changes in our assessment of certain tax matters and the mix of international versus domestic income.\\r\\nPayables as a percentage of inventories for the company were 78%, and that is slightly down when compared to the 79% we reported last year. Debt to total capitalization was 41.3% at the end of the first quarter this fiscal year. This is slightly below the 41.9% rate at the same time last year.\\r\\nDuring the first quarter, we repurchased approximately $1 billion of our stock, which represented about 20 million shares. Under our current $10 billion share repurchase program, we still have the authority to repurchase approximately $3.3 billion of additional stock.\\r\\nAs you know, we are focused on driving returns across our operating segment and the company. Our return on investment, or ROI, is calculated both with and without the acquisitions of Seiyu in Japan; CARHCO, now referred to as Wal-Mart Central America; Sonae, now referred to as Southern Brazil; and recently the TrustMart operations in China. ROI from continuing operations for the trailing 12 months ended April 30, 2007 is 19.5% and compares to 20.5% that we reported in the same period last year.ROI without the impact of the acquisitions I just mentioned is 20.4% for the 12 months ended April 30, 2007. This compares to 21% last year. The calculation and explanation of the ROI metric is posted on our website at www.walmartstores.com/investors.\\r\\nLast, let's review capital spending. Our cash-flow statement reflects payments for property, plant and equipment of approximately $3.2 billion during the first quarter. Our actual spending shows a decrease of approximately 2% from last year. Our forecast for capital spending for fiscal year 2008 continues to be at or less than our square footage growth. Simply, we expect CapEx growth to be lower than our sales growth. Our current real estate review process ensures that we apply stringent guidelines for returns on future projects.\\r\\nWith that, I would like to now turn it over to Eduardo Castro-Wright, who will share with us what's going on in Wal-Mart U.S.\\r\\n<strong>Eduardo Castro-Wright  </strong>\\r\\nThanks, Tom. I have three agenda items to cover. First, the progress report on our three-year roadmap to improve growth and return on investment; second, a discussion on sales; and last, some brief financial details for this first quarter for the Wal-Mart Stores U.S. Division.\\r\\nLet me update you on our roadmap to improve Wal-Mart Stores U.S. Organizationally we made some major changes within the senior management team as we named several executives to new key management roles.\\r\\nJoe Simon, now Chief Operating Officer of Wal-Mart Stores; John Fleming, Chief Merchandising Officer; Stephen Quinn, Chief Marketing Officer; Pat Curran, Executive Vice President of People; Raul Vazquez, President and CEO of Walmart.com; and Michael Fong, Chief Financial Officer of the Wal-Mart Stores. While this senior leadership team has great depth and is focused on improving the customer experience, everyone is in a new role.\\r\\nWe had a number of initiatives in the first quarter to help us deliver improvements. Let me touch on this. During the first quarter we continued to see increases in labor productivity. We are already seeing the benefits of having implemented the new front-end scheduling system throughout the chain. Our goal is to ensure that we match our associates' schedules to customer traffic. We plan to finish the full rollout of the new scheduling system to all departments in all U.S. stores by the end of the year.\\r\\nLet me point out that our research validates significant improvements in our customers' experience because of the scheduling system. We have surveys from more than 700 stores that look at the rate of matching scheduling to customer traffic. When we match cashier staffing to customer traffic, 85% or more of the time these stores comped 2X better in March and April than stores that did not.\\r\\nFor example, the region covering Metropolitan New York continues to show improving customer satisfaction scores with shopping experience showing an 8.5% improvement this year over last year, and a 15% improvement in low price perception year over year. In addition, our work toward improving the customer experience includes significant progress in the development of new merchandising systems.  These are designed to facilitate application of the new space optimization and modular planning tools. Why are these important? Because these tools, along with the continued work on our customer segmentation research, allows us to improve the way we merchandise our stores community by community.\\r\\nLast week you heard about our April comparable store sales performance. You can see weather negatively impacted comps in many of our categories. We were very disappointed with our soft performance in the quarter with comps that were about flat. Comps continue to be pressured by softer traffic.\\r\\nHaving said that, there are some positives. Of our six business categories, half performed at or above plan in the first quarter. Groceries driven by food, health and wellness driven by pharmacy, and entertainment. However, the strength in these categories was not enough to offset the soft performance in apparel and home during the first quarter and the impact of weather on hard lines. Home and apparel were impacted by colder weather as most of the retail industry experienced.\\r\\nSupercenter food sales grew by more than 13.4% in the first quarter of the year and supercenter food comp sales were in the mid single-digits. The Neighborhood Markets, part of our Wal-Mart segment, had strong sales performance this quarter and also had comparable store sales figures in the mid single-digits. We continue to be pleased with Neighborhood Markets.\\r\\nOur pharmacy area continues to see benefits from the $4 generic prescription program. Comps in the prescription area continue to run in the mid-teens.\\r\\nAlso, we are pleased with the results we're seeing from the completed electronics special projects. We're seeing improved sales performance in the completed stores of between 50 and 150 basis points. Just yesterday, Wal-Mart announced that many of the best-known and new electronic brands will be available in U.S. stores this week. The change includes new products with great value prices. Some of the brands will be carried for the first time by Wal-Mart. The new brands are Samsung, Skype, Visio, and Philips. The selection will be larger for the most popular digital, communications and home entertainment items. New signage and pictures will enhance the presentation of these brands. Wal-Mart also stepped up its training for associates serving in the electronics department.\\r\\nWe are currently testing a new version of our home pilot in 10 markets. I am optimistic about this trial because initial customer reaction is very positive; however, it is too early to know what the impact will be on comparable store sales. As previously indicated, our businesses in home and apparel, our higher margin categories, have been underperforming. This did add pressure to our gross margins during the first quarter. We will continue to see pressure on margins because of markdowns and higher inventory in our soft lines. We hope to see improvements in this area by the back-to-school season. The season really kicks off for our customers in July.\\r\\nIn the meantime, we're ready for spring and summer with core items like T-shirts and jeans, merchandise mix for the second half of this year will reflect the preferences of our broad customer base community by community. This month we already are seeing the same kind of lift in the hard lines area that we saw with more favorable weather at the end of March. I believe we will continue to see a pickup in demand for things like lawn and garden products, sporting goods, and seasonal merchandise.\\r\\nAs you can see, we have a lot going on. However, we still have to translate the activities and new processes into a three-year roadmap to improve financial performance.\\r\\nSo let's recap the financial results for the first quarter for Wal-Mart Stores. Let's start with operating income, which was up 1.8% on a 5.6% sales increase for the first quarter. The benefit from the refund of the excise tax was offset by the charge for certain litigation. The net impact of these two items was a reduction in operating income of approximately 5 basis points as a percent of sales.\\r\\nGross margin in the Wal-Mart segment decreased by 12 basis points during the first quarter. We saw pressure on gross margins during the quarter from increased markdowns, higher inventory, and higher shrinkage. We are concerned about shrinkage and are investigating the cause and are taking steps to correct it.\\r\\nOur initial margins on general merchandise increased from last year's first quarter and markdowns as a percent of sales were up only slightly from the same quarter last year. Due to the sales shortfall and in spite of labor productivity gains, we were not able to leverage our cost structure. Total expense as percentage of sales rose 29 basis points when compared to the first quarter last year. Also, this had a negative impact on our ability to grow inventory at [half the rate] of sales. Inventory in the Wal-Mart segment increased by 9% on a 5.6% sales increase for the first quarter.\\r\\nI am hopeful that this gives you a best view of the short-term initiatives that we faced and that our three-year roadmap provides you with confidence that we have a solid plan to improve sales and returns.\\r\\nCharles will now report on SAM'S CLUB and International.\\r\\n<strong> Charles Holley </strong>\\r\\nThanks, Eduardo. I'll start with some of the recent developments of SAM'S CLUB as well as share more on the club's performance. Overall sales for SAM'S grew by 5.6% during the quarter to $10.3 billion. First-quarter comp club sales, excluding fuel operations, increased by 4.7% over the prior year quarter. Membership fees have fully cycled the $5 increase that took effect in January 2006. Membership revenue in the first quarter was on plan and grew at a faster pace than top line sales volume. We continue to focus on building membership, both business and advantage at all of our clubs.\\r\\nSAM'S CLUB also leveraged expenses during the first quarter. The club operations team did a good job of keeping costs down with a particular focus on non payroll-related expenses. This in turn allowed us to lower gross margin rates slightly and pass further savings on to our members.\\r\\nSAM'S is not without challenges and the management team is working hard to improve performance in some key areas. One of those is inventory management which is not currently at the standards we expect. With continued focus, we anticipate that inventory turns will improve as the year progresses.\\r\\nSAM'S CLUB grew profits faster than sales, continuing the trend of the last seven quarters. Operating income for the quarter was $363 million, a 19.8% increase over the prior year quarter. Factoring out the net positive benefit of special items that Tom previously discussed -- the excise tax refund and litigation charge -- profits still grew faster than sales at 10.6%.\\r\\nNow let's move to International. International sales from continuing operations for the first quarter were $19.6 billion and represented 23% of total company sales. That is an 18.5% increase over the prior year. Our strongest sales performances in the quarter came from Mexico, United Kingdom, Brazil, China, and Argentina. The first quarter impact of currency valuation on sales was a benefit of $622 million driven primarily by strengthening in the British pound, partially offset by a weakening of the Mexican peso.\\r\\nOperating income for the first quarter was ahead of plan at $903 million. That is up 19.3% over the prior year. Gross margin was down slightly versus the first quarter of last year, largely as a result of a rollback pricing campaign in Mexico that Lee mentioned earlier in the call. Mexico's campaign was partially offset by gross margin improvement in the UK.\\r\\nOperating expenses as a percentage of sales were slightly down from the first quarter of fiscal 2007. Other income as a percentage of sales increased in the first quarter largely because of real estate development activities at ASDA. The slight decline in gross margin was offset by the other income increase, leading to operating income as a percentage of sales that was up slightly from the first quarter of last year. There was an insignificant impact from currency on the first quarter operating income.\\r\\nNow let's discuss highlights by country. We are excited about the strong start to fiscal 2008 at our ASDA operations. The UK team has delivered increasing results over the previous 12 months. For the quarter, sales were up in the low double-digits, driven primarily by traffic. Let me reiterate what Lee said earlier. Since mid-2005, ASDA's tracking system shows that ASDA has attracted around 1.5 million new customers, of which approximately half were in comp stores.\\r\\nComp sales continue to strengthen with mid single-digit growth for the fourth consecutive quarter during which comp sales had accelerated. Food, general merchandise, and George apparel all had improved comp performances for the quarter. Operating income was ahead of plan and grew faster than sales, reflecting an ongoing cost reduction program including initiatives to reduce energy consumption.\\r\\nThe acceleration in comp sales and traffic is an outcome of a strategic business plan that was designed to broaden the appeal of the ASDA brand through three horizons.\\r\\nFirst, improved execution in all phases of customer service;\\r\\nSecond, differentiation with competitors;\\r\\nFinally, development of new channels and formats.\\r\\nThe first horizon involved ASDA improving core business metrics. We are pleased to note in stock improvement and an almost 30% reduction in customers needing to queue at the checkout. On pricing, ASDA is consistently the price leader in the UK as reported by a number of independent surveys such as the Grocer Magazine survey. Further, ASDA has launched a more aggressive closing and general merchandise pricing strategy under the banner of Why Pay More?\\r\\nThe second horizon was focused on differentiation. Food service and George departments are being remodeled and private-label product development continues aggressively on schedule, particularly in the areas of increased consumer interests such as healthy, organic and premium food ranges. A refocused marketing program is reinforcing ASDA's points of difference and building on ASDA's reputation as a commonsense retailer. ASDA is also leading the way in local sourcing, working with more than 3,000 local vendors, shipping through ten award-winning regional food distribution hubs with another five opening this year.\\r\\nThe final horizon is around future growth platforms. Upgrading the ASDA.com proposition has included the launch of online furniture and electronics offerings with encouraging results and the extension of the grocery home shopping service. By the end of this year, every ASDA customer will have access to our online grocery home shopping service. In addition, we remain excited about the performance of ASDA Living with two new stores opening this quarter.\\r\\nWe're delighted that the progress ASDA has made in improving the customer proposition has translated into market share gains. For the 12 weeks ending March 25th, ASDA recorded its highest ever market share at 11.9% according to the latest TNS Data, and has been the fastest-growing major food retailer within the UK for each of the last four months.\\r\\nNow let's turn to Wal-Mart Mexico. Wal-Mart Mexico had another great quarter, continuing positive trends from recent quarters. After inflation, first-quarter operating income in Mexico grew faster than sales when compared to the first quarter of last year. This occurred despite expenses related to the bank operation and the cost of a coupon program with the Mexico City government. Total sales for the quarter were up 14.1% in real terms, adjusted for inflation. The real comp store sales increase during the quarter was 5.9%. We continue to see very consistent growth among all formats in Mexico.\\r\\nThe main driver of the sales increase continues to be customer count, with a 15% total increase during in the quarter. Average ticket was down slightly due to a large rollback campaign on basic products. Our management team in Mexico clearly looks to the long term, approaching this rollback campaign as an investment that will result in increased customer loyalty and a strengthening our price position in the Mexican market.\\r\\nThe first quarter operating expenses in Mexico grew 12% in real terms, reflecting leverage of the sales increase. This leverage was driven mainly by associate productivity. As has been the case for some time, we are pleased to note that as we continue to add units in Mexico, our returns continue to increase.\\r\\nIn Canada, total sales in Canadian dollars increased in the mid single-digits for the first quarter while comp sales grew in the low single-digits. Sales were adversely affected by the late arrival of spring this season and a slower than anticipated sell through of seasonal merchandise. Canadian sales were strongest in food, consumables, automotive and vision.\\r\\nAs previously mentioned, we continue to see positive results in our new Canadian supercenters both in terms of customer traffic and ticket, and are pleased with how the Canadian customer continues to embrace this concept. We will continue to expand the number of supercenters both through new and expanded stores as well as invest in the supply chain infrastructure to support this growth throughout the upcoming year.\\r\\nBrazil comps were in the upper single-digits for the quarter. Our total country operations in Brazil were ahead of plan in sales and operating income. We continue to be pleased with the performance of our two recent acquisitions in the Northeast and the South, both of which are growing sales above our initial expectations and delivering financial results ahead of plan.\\r\\nArgentina continues to deliver a strong performance with comps in real terms up in the high teens for the quarter. In February, we launched a new store format in Argentina named Changomas. This format is similar to a Mexican bodega and provides the customers a place to buy everything a family needs at the best price and with better proximity than hypermarkets. This format is focused on an underserved customer segment which represents 70% of the country's population. Following its opening, the first Changomas store has delivered an excellent performance with sales well above initial plans.\\r\\nFirst quarter sales in Puerto Rico were up slightly over last year while operating income was ahead of plan. Comp sales were slightly below last year, impacted by a continuing trend of lower consumption. Wal-Mart Central America continues to deliver positive results. Sales in real terms in the region grew in the low double digits over the first quarter of fiscal 2007. Real comps were positive in the low single-digits. Operating income in Central America was ahead of plan for the first quarter.\\r\\nTurning now to Asia, in Japan we continue to be pleased with the performance of our remodeled stores. We completed an additional seven remodels during the quarter against a full year plan of 70. The first quarter operating income was essentially flat to plan while comp sales were a negative 0.7%. However, Seiyu's forecast for comps for the full year is a positive 1.7%. Gross margin was flat to last year.\\r\\nWal-Mart China's comps grew in the mid double-digits for the first quarter during which we also opened ten new stores. Sales were only slightly off plan due to temporary delays in store openings. We are excited about our recent investment in 101 TrustMart stores which operate in 34 cities throughout China. This investment is an important step in bringing additional scale to our China retail operations.\\r\\nNow Tom will update our guidance for the second quarter of fiscal 2008.\\r\\n<strong>Thomas Schoewe  </strong>\\r\\nThanks, Charles. For the second quarter, we expect a comparable store sales increase for the U.S. to be between 1% and 2%. We expect earnings per share from continuing operations for the second quarter to come in between $0.75 and $0.79 per share. As always, we will be available to answer your questions. We would like to thank you for your interest in Wal-Mart and from all of us here, thanks and have just a great day.\\r\\n\\r\\n\""
      ]
     },
     "execution_count": 12,
     "metadata": {},
     "output_type": "execute_result"
    }
   ],
   "source": [
    "TScomponents = pd.Series(df2['componentText'])\n",
    "TScomponents.shape\n",
    "TScomponents[0]"
   ]
  },
  {
   "cell_type": "code",
   "execution_count": 13,
   "metadata": {},
   "outputs": [
    {
     "data": {
      "text/plain": [
       "count     103931\n",
       "unique     61586\n",
       "top         Yes.\n",
       "freq         676\n",
       "Name: componentText, dtype: object"
      ]
     },
     "execution_count": 13,
     "metadata": {},
     "output_type": "execute_result"
    }
   ],
   "source": [
    "TScomponents.describe()"
   ]
  },
  {
   "cell_type": "code",
   "execution_count": 25,
   "metadata": {},
   "outputs": [],
   "source": [
    "processed_text = nlp(TScomponents[0])"
   ]
  },
  {
   "cell_type": "code",
   "execution_count": 70,
   "metadata": {},
   "outputs": [
    {
     "name": "stdout",
     "output_type": "stream",
     "text": [
      "Wall time: 1h 14min 33s\n"
     ]
    }
   ],
   "source": [
    "# %%time\n",
    "# for i in TScomponents:\n",
    "#     processed_text = nlp(i)\n",
    "# #processed_text"
   ]
  },
  {
   "cell_type": "code",
   "execution_count": 26,
   "metadata": {},
   "outputs": [
    {
     "data": {
      "text/plain": [
       "('Entity 1:', Wal-Mart Stores Inc., 'ORG')"
      ]
     },
     "execution_count": 26,
     "metadata": {},
     "output_type": "execute_result"
    },
    {
     "data": {
      "text/plain": [
       "('Entity 2:', Wal-Mart, 'ORG')"
      ]
     },
     "execution_count": 26,
     "metadata": {},
     "output_type": "execute_result"
    },
    {
     "data": {
      "text/plain": [
       "('Entity 3:', Wal-Mart, 'ORG')"
      ]
     },
     "execution_count": 26,
     "metadata": {},
     "output_type": "execute_result"
    },
    {
     "data": {
      "text/plain": [
       "('Entity 4:', the Private Securities Litigation Reform Act of 1995, 'ORG')"
      ]
     },
     "execution_count": 26,
     "metadata": {},
     "output_type": "execute_result"
    },
    {
     "data": {
      "text/plain": [
       "('Entity 5:', Safe Harbor, 'FAC')"
      ]
     },
     "execution_count": 26,
     "metadata": {},
     "output_type": "execute_result"
    },
    {
     "data": {
      "text/plain": [
       "('Entity 6:', Act, 'LAW')"
      ]
     },
     "execution_count": 26,
     "metadata": {},
     "output_type": "execute_result"
    },
    {
     "data": {
      "text/plain": [
       "('Entity 7:', one, 'CARDINAL')"
      ]
     },
     "execution_count": 26,
     "metadata": {},
     "output_type": "execute_result"
    },
    {
     "data": {
      "text/plain": [
       "('Entity 8:', U.S., 'GPE')"
      ]
     },
     "execution_count": 26,
     "metadata": {},
     "output_type": "execute_result"
    },
    {
     "data": {
      "text/plain": [
       "('Entity 9:', the current fiscal quarter, 'DATE')"
      ]
     },
     "execution_count": 26,
     "metadata": {},
     "output_type": "execute_result"
    },
    {
     "data": {
      "text/plain": [
       "('Entity 10:', the current fiscal quarter and for fiscal year 2008, 'DATE')"
      ]
     },
     "execution_count": 26,
     "metadata": {},
     "output_type": "execute_result"
    },
    {
     "data": {
      "text/plain": [
       "('Entity 11:', fiscal year 2008, 'DATE')"
      ]
     },
     "execution_count": 26,
     "metadata": {},
     "output_type": "execute_result"
    },
    {
     "data": {
      "text/plain": [
       "('Entity 12:', quarterly, 'DATE')"
      ]
     },
     "execution_count": 26,
     "metadata": {},
     "output_type": "execute_result"
    },
    {
     "data": {
      "text/plain": [
       "('Entity 13:', U.S., 'GPE')"
      ]
     },
     "execution_count": 26,
     "metadata": {},
     "output_type": "execute_result"
    },
    {
     "data": {
      "text/plain": [
       "('Entity 14:', U.S., 'GPE')"
      ]
     },
     "execution_count": 26,
     "metadata": {},
     "output_type": "execute_result"
    },
    {
     "data": {
      "text/plain": [
       "('Entity 15:', U.S., 'GPE')"
      ]
     },
     "execution_count": 26,
     "metadata": {},
     "output_type": "execute_result"
    },
    {
     "data": {
      "text/plain": [
       "('Entity 16:', the second half of the year, 'DATE')"
      ]
     },
     "execution_count": 26,
     "metadata": {},
     "output_type": "execute_result"
    },
    {
     "data": {
      "text/plain": [
       "('Entity 17:', U.S., 'GPE')"
      ]
     },
     "execution_count": 26,
     "metadata": {},
     "output_type": "execute_result"
    },
    {
     "data": {
      "text/plain": [
       "('Entity 18:', U.S., 'GPE')"
      ]
     },
     "execution_count": 26,
     "metadata": {},
     "output_type": "execute_result"
    },
    {
     "data": {
      "text/plain": [
       "('Entity 19:', U.S., 'GPE')"
      ]
     },
     "execution_count": 26,
     "metadata": {},
     "output_type": "execute_result"
    },
    {
     "data": {
      "text/plain": [
       "('Entity 20:', U.S., 'GPE')"
      ]
     },
     "execution_count": 26,
     "metadata": {},
     "output_type": "execute_result"
    },
    {
     "data": {
      "text/plain": [
       "('Entity 21:', ASDA, 'ORG')"
      ]
     },
     "execution_count": 26,
     "metadata": {},
     "output_type": "execute_result"
    },
    {
     "data": {
      "text/plain": [
       "('Entity 22:', the fiscal year 2008, 'DATE')"
      ]
     },
     "execution_count": 26,
     "metadata": {},
     "output_type": "execute_result"
    },
    {
     "data": {
      "text/plain": [
       "('Entity 23:', ASDA, 'ORG')"
      ]
     },
     "execution_count": 26,
     "metadata": {},
     "output_type": "execute_result"
    },
    {
     "data": {
      "text/plain": [
       "('Entity 24:', fiscal 2008, 'DATE')"
      ]
     },
     "execution_count": 26,
     "metadata": {},
     "output_type": "execute_result"
    },
    {
     "data": {
      "text/plain": [
       "('Entity 25:', fiscal 2008, 'DATE')"
      ]
     },
     "execution_count": 26,
     "metadata": {},
     "output_type": "execute_result"
    },
    {
     "data": {
      "text/plain": [
       "('Entity 26:', Canada, 'GPE')"
      ]
     },
     "execution_count": 26,
     "metadata": {},
     "output_type": "execute_result"
    },
    {
     "data": {
      "text/plain": [
       "('Entity 27:', Canadian, 'NORP')"
      ]
     },
     "execution_count": 26,
     "metadata": {},
     "output_type": "execute_result"
    },
    {
     "data": {
      "text/plain": [
       "('Entity 28:', Seiyu Ltd., 'ORG')"
      ]
     },
     "execution_count": 26,
     "metadata": {},
     "output_type": "execute_result"
    },
    {
     "data": {
      "text/plain": [
       "('Entity 29:', the current year, 'DATE')"
      ]
     },
     "execution_count": 26,
     "metadata": {},
     "output_type": "execute_result"
    },
    {
     "data": {
      "text/plain": [
       "('Entity 30:', Wal-Mart, 'ORG')"
      ]
     },
     "execution_count": 26,
     "metadata": {},
     "output_type": "execute_result"
    },
    {
     "data": {
      "text/plain": [
       "('Entity 31:', SEC, 'ORG')"
      ]
     },
     "execution_count": 26,
     "metadata": {},
     "output_type": "execute_result"
    },
    {
     "data": {
      "text/plain": [
       "('Entity 32:', annual, 'DATE')"
      ]
     },
     "execution_count": 26,
     "metadata": {},
     "output_type": "execute_result"
    },
    {
     "data": {
      "text/plain": [
       "('Entity 33:', Form 10-K, 'DATE')"
      ]
     },
     "execution_count": 26,
     "metadata": {},
     "output_type": "execute_result"
    },
    {
     "data": {
      "text/plain": [
       "('Entity 34:', annual, 'DATE')"
      ]
     },
     "execution_count": 26,
     "metadata": {},
     "output_type": "execute_result"
    },
    {
     "data": {
      "text/plain": [
       "('Entity 35:', Form 10-K, 'DATE')"
      ]
     },
     "execution_count": 26,
     "metadata": {},
     "output_type": "execute_result"
    },
    {
     "data": {
      "text/plain": [
       "('Entity 36:', SEC, 'ORG')"
      ]
     },
     "execution_count": 26,
     "metadata": {},
     "output_type": "execute_result"
    },
    {
     "data": {
      "text/plain": [
       "('Entity 37:', U.S., 'GPE')"
      ]
     },
     "execution_count": 26,
     "metadata": {},
     "output_type": "execute_result"
    },
    {
     "data": {
      "text/plain": [
       "('Entity 38:', SAM, 'ORG')"
      ]
     },
     "execution_count": 26,
     "metadata": {},
     "output_type": "execute_result"
    },
    {
     "data": {
      "text/plain": [
       "('Entity 39:', SAM, 'ORG')"
      ]
     },
     "execution_count": 26,
     "metadata": {},
     "output_type": "execute_result"
    },
    {
     "data": {
      "text/plain": [
       "('Entity 40:', GAAP, 'ORG')"
      ]
     },
     "execution_count": 26,
     "metadata": {},
     "output_type": "execute_result"
    },
    {
     "data": {
      "text/plain": [
       "('Entity 41:', Investor Relations, 'ORG')"
      ]
     },
     "execution_count": 26,
     "metadata": {},
     "output_type": "execute_result"
    },
    {
     "data": {
      "text/plain": [
       "('Entity 42:', Carol Schumacher, 'PERSON')"
      ]
     },
     "execution_count": 26,
     "metadata": {},
     "output_type": "execute_result"
    },
    {
     "data": {
      "text/plain": [
       "('Entity 43:', the Wal-Mart Stores, Inc., 'ORG')"
      ]
     },
     "execution_count": 26,
     "metadata": {},
     "output_type": "execute_result"
    },
    {
     "data": {
      "text/plain": [
       "('Entity 44:', first, 'ORDINAL')"
      ]
     },
     "execution_count": 26,
     "metadata": {},
     "output_type": "execute_result"
    },
    {
     "data": {
      "text/plain": [
       "('Entity 45:', quarter, 'CARDINAL')"
      ]
     },
     "execution_count": 26,
     "metadata": {},
     "output_type": "execute_result"
    },
    {
     "data": {
      "text/plain": [
       "('Entity 46:', fiscal year 2008, 'DATE')"
      ]
     },
     "execution_count": 26,
     "metadata": {},
     "output_type": "execute_result"
    },
    {
     "data": {
      "text/plain": [
       "('Entity 47:', Carol Schumacher, 'PERSON')"
      ]
     },
     "execution_count": 26,
     "metadata": {},
     "output_type": "execute_result"
    },
    {
     "data": {
      "text/plain": [
       "('Entity 48:', Investor Relations, 'ORG')"
      ]
     },
     "execution_count": 26,
     "metadata": {},
     "output_type": "execute_result"
    },
    {
     "data": {
      "text/plain": [
       "('Entity 49:', about this quarter, 'DATE')"
      ]
     },
     "execution_count": 26,
     "metadata": {},
     "output_type": "execute_result"
    },
    {
     "data": {
      "text/plain": [
       "('Entity 50:', today, 'DATE')"
      ]
     },
     "execution_count": 26,
     "metadata": {},
     "output_type": "execute_result"
    },
    {
     "data": {
      "text/plain": [
       "('Entity 51:', First, 'ORDINAL')"
      ]
     },
     "execution_count": 26,
     "metadata": {},
     "output_type": "execute_result"
    },
    {
     "data": {
      "text/plain": [
       "('Entity 52:', Lee Scott, 'PERSON')"
      ]
     },
     "execution_count": 26,
     "metadata": {},
     "output_type": "execute_result"
    },
    {
     "data": {
      "text/plain": [
       "('Entity 53:', Wal-Mart Stores, 'ORG')"
      ]
     },
     "execution_count": 26,
     "metadata": {},
     "output_type": "execute_result"
    },
    {
     "data": {
      "text/plain": [
       "('Entity 54:', Tom Schoewe, 'PERSON')"
      ]
     },
     "execution_count": 26,
     "metadata": {},
     "output_type": "execute_result"
    },
    {
     "data": {
      "text/plain": [
       "('Entity 55:', Eduardo Castro-Wright, 'PERSON')"
      ]
     },
     "execution_count": 26,
     "metadata": {},
     "output_type": "execute_result"
    },
    {
     "data": {
      "text/plain": [
       "('Entity 56:', Wal-Mart Stores Division, 'ORG')"
      ]
     },
     "execution_count": 26,
     "metadata": {},
     "output_type": "execute_result"
    },
    {
     "data": {
      "text/plain": [
       "('Entity 57:', U.S., 'GPE')"
      ]
     },
     "execution_count": 26,
     "metadata": {},
     "output_type": "execute_result"
    },
    {
     "data": {
      "text/plain": [
       "('Entity 58:', Charles Holley, 'PERSON')"
      ]
     },
     "execution_count": 26,
     "metadata": {},
     "output_type": "execute_result"
    },
    {
     "data": {
      "text/plain": [
       "('Entity 59:', Finance, 'ORG')"
      ]
     },
     "execution_count": 26,
     "metadata": {},
     "output_type": "execute_result"
    },
    {
     "data": {
      "text/plain": [
       "('Entity 60:', Treasurer, 'PERSON')"
      ]
     },
     "execution_count": 26,
     "metadata": {},
     "output_type": "execute_result"
    },
    {
     "data": {
      "text/plain": [
       "('Entity 61:', SAM, 'ORG')"
      ]
     },
     "execution_count": 26,
     "metadata": {},
     "output_type": "execute_result"
    },
    {
     "data": {
      "text/plain": [
       "('Entity 62:', Tom, 'PERSON')"
      ]
     },
     "execution_count": 26,
     "metadata": {},
     "output_type": "execute_result"
    },
    {
     "data": {
      "text/plain": [
       "('Entity 63:', the second quarter of this fiscal year, 'DATE')"
      ]
     },
     "execution_count": 26,
     "metadata": {},
     "output_type": "execute_result"
    },
    {
     "data": {
      "text/plain": [
       "('Entity 64:', the first quarter, 'DATE')"
      ]
     },
     "execution_count": 26,
     "metadata": {},
     "output_type": "execute_result"
    },
    {
     "data": {
      "text/plain": [
       "('Entity 65:', ROI, 'PERSON')"
      ]
     },
     "execution_count": 26,
     "metadata": {},
     "output_type": "execute_result"
    },
    {
     "data": {
      "text/plain": [
       "('Entity 66:', Tom, 'PERSON')"
      ]
     },
     "execution_count": 26,
     "metadata": {},
     "output_type": "execute_result"
    },
    {
     "data": {
      "text/plain": [
       "('Entity 67:', ROI, 'PERSON')"
      ]
     },
     "execution_count": 26,
     "metadata": {},
     "output_type": "execute_result"
    },
    {
     "data": {
      "text/plain": [
       "('Entity 68:', three, 'CARDINAL')"
      ]
     },
     "execution_count": 26,
     "metadata": {},
     "output_type": "execute_result"
    },
    {
     "data": {
      "text/plain": [
       "('Entity 69:', Wal-Mart Stores, 'ORG')"
      ]
     },
     "execution_count": 26,
     "metadata": {},
     "output_type": "execute_result"
    },
    {
     "data": {
      "text/plain": [
       "('Entity 70:', International, 'ORG')"
      ]
     },
     "execution_count": 26,
     "metadata": {},
     "output_type": "execute_result"
    },
    {
     "data": {
      "text/plain": [
       "('Entity 71:', SAM, 'ORG')"
      ]
     },
     "execution_count": 26,
     "metadata": {},
     "output_type": "execute_result"
    },
    {
     "data": {
      "text/plain": [
       "('Entity 72:', Tom, 'PERSON')"
      ]
     },
     "execution_count": 26,
     "metadata": {},
     "output_type": "execute_result"
    },
    {
     "data": {
      "text/plain": [
       "('Entity 73:', the fourth quarter fiscal 2007, 'DATE')"
      ]
     },
     "execution_count": 26,
     "metadata": {},
     "output_type": "execute_result"
    },
    {
     "data": {
      "text/plain": [
       "('Entity 74:', three, 'CARDINAL')"
      ]
     },
     "execution_count": 26,
     "metadata": {},
     "output_type": "execute_result"
    },
    {
     "data": {
      "text/plain": [
       "('Entity 75:', three, 'CARDINAL')"
      ]
     },
     "execution_count": 26,
     "metadata": {},
     "output_type": "execute_result"
    },
    {
     "data": {
      "text/plain": [
       "('Entity 76:', the beginning of this fiscal year FY 2008, 'DATE')"
      ]
     },
     "execution_count": 26,
     "metadata": {},
     "output_type": "execute_result"
    },
    {
     "data": {
      "text/plain": [
       "('Entity 77:',\n",
       " FASB Interpretation Number 48, Accounting For Uncertain Tax Positions,\n",
       " 'ORG')"
      ]
     },
     "execution_count": 26,
     "metadata": {},
     "output_type": "execute_result"
    },
    {
     "data": {
      "text/plain": [
       "('Entity 78:', FIN-48, 'ORG')"
      ]
     },
     "execution_count": 26,
     "metadata": {},
     "output_type": "execute_result"
    },
    {
     "data": {
      "text/plain": [
       "('Entity 79:', this quarter, 'DATE')"
      ]
     },
     "execution_count": 26,
     "metadata": {},
     "output_type": "execute_result"
    },
    {
     "data": {
      "text/plain": [
       "('Entity 80:', FIN-48, 'ORG')"
      ]
     },
     "execution_count": 26,
     "metadata": {},
     "output_type": "execute_result"
    },
    {
     "data": {
      "text/plain": [
       "('Entity 81:', $160 million, 'MONEY')"
      ]
     },
     "execution_count": 26,
     "metadata": {},
     "output_type": "execute_result"
    },
    {
     "data": {
      "text/plain": [
       "('Entity 82:', Wal-Mart's, 'ORG')"
      ]
     },
     "execution_count": 26,
     "metadata": {},
     "output_type": "execute_result"
    },
    {
     "data": {
      "text/plain": [
       "('Entity 83:', first quarter of fiscal 2008, 'DATE')"
      ]
     },
     "execution_count": 26,
     "metadata": {},
     "output_type": "execute_result"
    },
    {
     "data": {
      "text/plain": [
       "('Entity 84:', Lee Scott, 'PERSON')"
      ]
     },
     "execution_count": 26,
     "metadata": {},
     "output_type": "execute_result"
    },
    {
     "data": {
      "text/plain": [
       "('Entity 85:', Carol, 'PERSON')"
      ]
     },
     "execution_count": 26,
     "metadata": {},
     "output_type": "execute_result"
    },
    {
     "data": {
      "text/plain": [
       "('Entity 86:', fiscal 2008, 'DATE')"
      ]
     },
     "execution_count": 26,
     "metadata": {},
     "output_type": "execute_result"
    },
    {
     "data": {
      "text/plain": [
       "('Entity 87:', almost $85.4 billion, 'MONEY')"
      ]
     },
     "execution_count": 26,
     "metadata": {},
     "output_type": "execute_result"
    },
    {
     "data": {
      "text/plain": [
       "('Entity 88:', more than 8%, 'PERCENT')"
      ]
     },
     "execution_count": 26,
     "metadata": {},
     "output_type": "execute_result"
    },
    {
     "data": {
      "text/plain": [
       "('Entity 89:', Wal-Mart Stores Inc., 'ORG')"
      ]
     },
     "execution_count": 26,
     "metadata": {},
     "output_type": "execute_result"
    },
    {
     "data": {
      "text/plain": [
       "('Entity 90:', more than 6%, 'PERCENT')"
      ]
     },
     "execution_count": 26,
     "metadata": {},
     "output_type": "execute_result"
    },
    {
     "data": {
      "text/plain": [
       "('Entity 91:', the prior year, 'DATE')"
      ]
     },
     "execution_count": 26,
     "metadata": {},
     "output_type": "execute_result"
    },
    {
     "data": {
      "text/plain": [
       "('Entity 92:', the quarter, 'DATE')"
      ]
     },
     "execution_count": 26,
     "metadata": {},
     "output_type": "execute_result"
    },
    {
     "data": {
      "text/plain": [
       "('Entity 93:', 0.68, 'MONEY')"
      ]
     },
     "execution_count": 26,
     "metadata": {},
     "output_type": "execute_result"
    },
    {
     "data": {
      "text/plain": [
       "('Entity 94:', 0.64, 'MONEY')"
      ]
     },
     "execution_count": 26,
     "metadata": {},
     "output_type": "execute_result"
    },
    {
     "data": {
      "text/plain": [
       "('Entity 95:', last year's first quarter, 'DATE')"
      ]
     },
     "execution_count": 26,
     "metadata": {},
     "output_type": "execute_result"
    },
    {
     "data": {
      "text/plain": [
       "('Entity 96:', Tom, 'PERSON')"
      ]
     },
     "execution_count": 26,
     "metadata": {},
     "output_type": "execute_result"
    },
    {
     "data": {
      "text/plain": [
       "('Entity 97:', 23%, 'PERCENT')"
      ]
     },
     "execution_count": 26,
     "metadata": {},
     "output_type": "execute_result"
    },
    {
     "data": {
      "text/plain": [
       "('Entity 98:', Mike Duke, 'PERSON')"
      ]
     },
     "execution_count": 26,
     "metadata": {},
     "output_type": "execute_result"
    },
    {
     "data": {
      "text/plain": [
       "('Entity 99:', 18.5%, 'PERCENT')"
      ]
     },
     "execution_count": 26,
     "metadata": {},
     "output_type": "execute_result"
    },
    {
     "data": {
      "text/plain": [
       "('Entity 100:', last year, 'DATE')"
      ]
     },
     "execution_count": 26,
     "metadata": {},
     "output_type": "execute_result"
    },
    {
     "data": {
      "text/plain": [
       "('Entity 101:', the Wal-Mart, 'ORG')"
      ]
     },
     "execution_count": 26,
     "metadata": {},
     "output_type": "execute_result"
    },
    {
     "data": {
      "text/plain": [
       "('Entity 102:', Mexico, 'GPE')"
      ]
     },
     "execution_count": 26,
     "metadata": {},
     "output_type": "execute_result"
    },
    {
     "data": {
      "text/plain": [
       "('Entity 103:', WalMex, 'ORG')"
      ]
     },
     "execution_count": 26,
     "metadata": {},
     "output_type": "execute_result"
    },
    {
     "data": {
      "text/plain": [
       "('Entity 104:', Charles, 'PERSON')"
      ]
     },
     "execution_count": 26,
     "metadata": {},
     "output_type": "execute_result"
    },
    {
     "data": {
      "text/plain": [
       "('Entity 105:', Mexican, 'NORP')"
      ]
     },
     "execution_count": 26,
     "metadata": {},
     "output_type": "execute_result"
    },
    {
     "data": {
      "text/plain": [
       "('Entity 106:', \n",
       " , 'PERSON')"
      ]
     },
     "execution_count": 26,
     "metadata": {},
     "output_type": "execute_result"
    },
    {
     "data": {
      "text/plain": [
       "('Entity 107:', UK, 'GPE')"
      ]
     },
     "execution_count": 26,
     "metadata": {},
     "output_type": "execute_result"
    },
    {
     "data": {
      "text/plain": [
       "('Entity 108:', ASDA, 'ORG')"
      ]
     },
     "execution_count": 26,
     "metadata": {},
     "output_type": "execute_result"
    },
    {
     "data": {
      "text/plain": [
       "('Entity 109:', last year, 'DATE')"
      ]
     },
     "execution_count": 26,
     "metadata": {},
     "output_type": "execute_result"
    },
    {
     "data": {
      "text/plain": [
       "('Entity 110:', Charles, 'PERSON')"
      ]
     },
     "execution_count": 26,
     "metadata": {},
     "output_type": "execute_result"
    },
    {
     "data": {
      "text/plain": [
       "('Entity 111:', ASDA, 'ORG')"
      ]
     },
     "execution_count": 26,
     "metadata": {},
     "output_type": "execute_result"
    },
    {
     "data": {
      "text/plain": [
       "('Entity 112:', one, 'CARDINAL')"
      ]
     },
     "execution_count": 26,
     "metadata": {},
     "output_type": "execute_result"
    },
    {
     "data": {
      "text/plain": [
       "('Entity 113:', mid 2005, 'DATE')"
      ]
     },
     "execution_count": 26,
     "metadata": {},
     "output_type": "execute_result"
    },
    {
     "data": {
      "text/plain": [
       "('Entity 114:', ASDA, 'ORG')"
      ]
     },
     "execution_count": 26,
     "metadata": {},
     "output_type": "execute_result"
    },
    {
     "data": {
      "text/plain": [
       "('Entity 115:', ASDA, 'ORG')"
      ]
     },
     "execution_count": 26,
     "metadata": {},
     "output_type": "execute_result"
    },
    {
     "data": {
      "text/plain": [
       "('Entity 116:', approximately 1.5 million, 'CARDINAL')"
      ]
     },
     "execution_count": 26,
     "metadata": {},
     "output_type": "execute_result"
    },
    {
     "data": {
      "text/plain": [
       "('Entity 117:', approximately half, 'CARDINAL')"
      ]
     },
     "execution_count": 26,
     "metadata": {},
     "output_type": "execute_result"
    },
    {
     "data": {
      "text/plain": [
       "('Entity 118:', SAM'S CLUB, 'ORG')"
      ]
     },
     "execution_count": 26,
     "metadata": {},
     "output_type": "execute_result"
    },
    {
     "data": {
      "text/plain": [
       "('Entity 119:', five, 'CARDINAL')"
      ]
     },
     "execution_count": 26,
     "metadata": {},
     "output_type": "execute_result"
    },
    {
     "data": {
      "text/plain": [
       "('Entity 120:', Doug McMillan, 'PERSON')"
      ]
     },
     "execution_count": 26,
     "metadata": {},
     "output_type": "execute_result"
    },
    {
     "data": {
      "text/plain": [
       "('Entity 121:', SAM, 'ORG')"
      ]
     },
     "execution_count": 26,
     "metadata": {},
     "output_type": "execute_result"
    },
    {
     "data": {
      "text/plain": [
       "('Entity 122:', the past seven quarters, 'DATE')"
      ]
     },
     "execution_count": 26,
     "metadata": {},
     "output_type": "execute_result"
    },
    {
     "data": {
      "text/plain": [
       "('Entity 123:', Wal-Mart, 'ORG')"
      ]
     },
     "execution_count": 26,
     "metadata": {},
     "output_type": "execute_result"
    },
    {
     "data": {
      "text/plain": [
       "('Entity 124:', U.S., 'GPE')"
      ]
     },
     "execution_count": 26,
     "metadata": {},
     "output_type": "execute_result"
    },
    {
     "data": {
      "text/plain": [
       "('Entity 125:', this past year, 'DATE')"
      ]
     },
     "execution_count": 26,
     "metadata": {},
     "output_type": "execute_result"
    },
    {
     "data": {
      "text/plain": [
       "('Entity 126:', the second year, 'DATE')"
      ]
     },
     "execution_count": 26,
     "metadata": {},
     "output_type": "execute_result"
    },
    {
     "data": {
      "text/plain": [
       "('Entity 127:', three-year, 'DATE')"
      ]
     },
     "execution_count": 26,
     "metadata": {},
     "output_type": "execute_result"
    },
    {
     "data": {
      "text/plain": [
       "('Entity 128:', Eduardo Castro-Wright, 'PERSON')"
      ]
     },
     "execution_count": 26,
     "metadata": {},
     "output_type": "execute_result"
    },
    {
     "data": {
      "text/plain": [
       "('Entity 129:', Wal-Mart Stores Division, 'ORG')"
      ]
     },
     "execution_count": 26,
     "metadata": {},
     "output_type": "execute_result"
    },
    {
     "data": {
      "text/plain": [
       "('Entity 130:', U.S., 'GPE')"
      ]
     },
     "execution_count": 26,
     "metadata": {},
     "output_type": "execute_result"
    },
    {
     "data": {
      "text/plain": [
       "('Entity 131:', Wal-Mart, 'ORG')"
      ]
     },
     "execution_count": 26,
     "metadata": {},
     "output_type": "execute_result"
    },
    {
     "data": {
      "text/plain": [
       "('Entity 132:', 4, 'MONEY')"
      ]
     },
     "execution_count": 26,
     "metadata": {},
     "output_type": "execute_result"
    },
    {
     "data": {
      "text/plain": [
       "('Entity 133:', Wal-Mart, 'ORG')"
      ]
     },
     "execution_count": 26,
     "metadata": {},
     "output_type": "execute_result"
    },
    {
     "data": {
      "text/plain": [
       "('Entity 134:', SAM, 'ORG')"
      ]
     },
     "execution_count": 26,
     "metadata": {},
     "output_type": "execute_result"
    },
    {
     "data": {
      "text/plain": [
       "('Entity 135:', the United States, 'GPE')"
      ]
     },
     "execution_count": 26,
     "metadata": {},
     "output_type": "execute_result"
    },
    {
     "data": {
      "text/plain": [
       "('Entity 136:', three, 'CARDINAL')"
      ]
     },
     "execution_count": 26,
     "metadata": {},
     "output_type": "execute_result"
    },
    {
     "data": {
      "text/plain": [
       "('Entity 137:', 1, 'CARDINAL')"
      ]
     },
     "execution_count": 26,
     "metadata": {},
     "output_type": "execute_result"
    },
    {
     "data": {
      "text/plain": [
       "('Entity 138:', 2, 'CARDINAL')"
      ]
     },
     "execution_count": 26,
     "metadata": {},
     "output_type": "execute_result"
    },
    {
     "data": {
      "text/plain": [
       "('Entity 139:', 3, 'CARDINAL')"
      ]
     },
     "execution_count": 26,
     "metadata": {},
     "output_type": "execute_result"
    },
    {
     "data": {
      "text/plain": [
       "('Entity 140:', Wal-Mart, 'ORG')"
      ]
     },
     "execution_count": 26,
     "metadata": {},
     "output_type": "execute_result"
    },
    {
     "data": {
      "text/plain": [
       "('Entity 141:', U.S., 'GPE')"
      ]
     },
     "execution_count": 26,
     "metadata": {},
     "output_type": "execute_result"
    },
    {
     "data": {
      "text/plain": [
       "('Entity 142:', last year, 'DATE')"
      ]
     },
     "execution_count": 26,
     "metadata": {},
     "output_type": "execute_result"
    },
    {
     "data": {
      "text/plain": [
       "('Entity 143:', this fiscal year, 'DATE')"
      ]
     },
     "execution_count": 26,
     "metadata": {},
     "output_type": "execute_result"
    },
    {
     "data": {
      "text/plain": [
       "('Entity 144:', Northwest Arkansas, 'ORG')"
      ]
     },
     "execution_count": 26,
     "metadata": {},
     "output_type": "execute_result"
    },
    {
     "data": {
      "text/plain": [
       "('Entity 145:', June 1, 'DATE')"
      ]
     },
     "execution_count": 26,
     "metadata": {},
     "output_type": "execute_result"
    },
    {
     "data": {
      "text/plain": [
       "('Entity 146:', Tom, 'PERSON')"
      ]
     },
     "execution_count": 26,
     "metadata": {},
     "output_type": "execute_result"
    },
    {
     "data": {
      "text/plain": [
       "('Entity 147:', Thomas Schoewe  , 'PERSON')"
      ]
     },
     "execution_count": 26,
     "metadata": {},
     "output_type": "execute_result"
    },
    {
     "data": {
      "text/plain": [
       "('Entity 148:', Lee, 'PERSON')"
      ]
     },
     "execution_count": 26,
     "metadata": {},
     "output_type": "execute_result"
    },
    {
     "data": {
      "text/plain": [
       "('Entity 149:', Wal-Mart's, 'ORG')"
      ]
     },
     "execution_count": 26,
     "metadata": {},
     "output_type": "execute_result"
    },
    {
     "data": {
      "text/plain": [
       "('Entity 150:', first quarter of fiscal 2008, 'DATE')"
      ]
     },
     "execution_count": 26,
     "metadata": {},
     "output_type": "execute_result"
    },
    {
     "data": {
      "text/plain": [
       "('Entity 151:', Lee, 'PERSON')"
      ]
     },
     "execution_count": 26,
     "metadata": {},
     "output_type": "execute_result"
    },
    {
     "data": {
      "text/plain": [
       "('Entity 152:', about the first quarter, 'DATE')"
      ]
     },
     "execution_count": 26,
     "metadata": {},
     "output_type": "execute_result"
    },
    {
     "data": {
      "text/plain": [
       "('Entity 153:', 8.3%, 'PERCENT')"
      ]
     },
     "execution_count": 26,
     "metadata": {},
     "output_type": "execute_result"
    },
    {
     "data": {
      "text/plain": [
       "('Entity 154:', U.S., 'GPE')"
      ]
     },
     "execution_count": 26,
     "metadata": {},
     "output_type": "execute_result"
    },
    {
     "data": {
      "text/plain": [
       "('Entity 155:', 0.6%, 'PERCENT')"
      ]
     },
     "execution_count": 26,
     "metadata": {},
     "output_type": "execute_result"
    },
    {
     "data": {
      "text/plain": [
       "('Entity 156:', the first quarter, 'DATE')"
      ]
     },
     "execution_count": 26,
     "metadata": {},
     "output_type": "execute_result"
    },
    {
     "data": {
      "text/plain": [
       "('Entity 157:', 6.2%, 'PERCENT')"
      ]
     },
     "execution_count": 26,
     "metadata": {},
     "output_type": "execute_result"
    },
    {
     "data": {
      "text/plain": [
       "('Entity 158:', 0.68, 'MONEY')"
      ]
     },
     "execution_count": 26,
     "metadata": {},
     "output_type": "execute_result"
    },
    {
     "data": {
      "text/plain": [
       "('Entity 159:', two, 'CARDINAL')"
      ]
     },
     "execution_count": 26,
     "metadata": {},
     "output_type": "execute_result"
    },
    {
     "data": {
      "text/plain": [
       "('Entity 160:', one, 'CARDINAL')"
      ]
     },
     "execution_count": 26,
     "metadata": {},
     "output_type": "execute_result"
    },
    {
     "data": {
      "text/plain": [
       "('Entity 161:', First, 'ORDINAL')"
      ]
     },
     "execution_count": 26,
     "metadata": {},
     "output_type": "execute_result"
    },
    {
     "data": {
      "text/plain": [
       "('Entity 162:', approximately $97 million, 'MONEY')"
      ]
     },
     "execution_count": 26,
     "metadata": {},
     "output_type": "execute_result"
    },
    {
     "data": {
      "text/plain": [
       "('Entity 163:', Wal-Mart, 'ORG')"
      ]
     },
     "execution_count": 26,
     "metadata": {},
     "output_type": "execute_result"
    },
    {
     "data": {
      "text/plain": [
       "('Entity 164:', SAM, 'ORG')"
      ]
     },
     "execution_count": 26,
     "metadata": {},
     "output_type": "execute_result"
    },
    {
     "data": {
      "text/plain": [
       "('Entity 165:', $85 million, 'MONEY')"
      ]
     },
     "execution_count": 26,
     "metadata": {},
     "output_type": "execute_result"
    },
    {
     "data": {
      "text/plain": [
       "('Entity 166:', $46 million, 'MONEY')"
      ]
     },
     "execution_count": 26,
     "metadata": {},
     "output_type": "execute_result"
    },
    {
     "data": {
      "text/plain": [
       "('Entity 167:', Wal-Mart, 'ORG')"
      ]
     },
     "execution_count": 26,
     "metadata": {},
     "output_type": "execute_result"
    },
    {
     "data": {
      "text/plain": [
       "('Entity 168:', $39 million, 'MONEY')"
      ]
     },
     "execution_count": 26,
     "metadata": {},
     "output_type": "execute_result"
    },
    {
     "data": {
      "text/plain": [
       "('Entity 169:', SAM, 'ORG')"
      ]
     },
     "execution_count": 26,
     "metadata": {},
     "output_type": "execute_result"
    },
    {
     "data": {
      "text/plain": [
       "('Entity 170:', $12 million, 'MONEY')"
      ]
     },
     "execution_count": 26,
     "metadata": {},
     "output_type": "execute_result"
    },
    {
     "data": {
      "text/plain": [
       "('Entity 171:', the quarter, 'DATE')"
      ]
     },
     "execution_count": 26,
     "metadata": {},
     "output_type": "execute_result"
    },
    {
     "data": {
      "text/plain": [
       "('Entity 172:', approximately $83 million, 'MONEY')"
      ]
     },
     "execution_count": 26,
     "metadata": {},
     "output_type": "execute_result"
    },
    {
     "data": {
      "text/plain": [
       "('Entity 173:', approximately $73 million, 'MONEY')"
      ]
     },
     "execution_count": 26,
     "metadata": {},
     "output_type": "execute_result"
    },
    {
     "data": {
      "text/plain": [
       "('Entity 174:', the Wal-Mart Stores, 'ORG')"
      ]
     },
     "execution_count": 26,
     "metadata": {},
     "output_type": "execute_result"
    },
    {
     "data": {
      "text/plain": [
       "('Entity 175:', $10 million, 'MONEY')"
      ]
     },
     "execution_count": 26,
     "metadata": {},
     "output_type": "execute_result"
    },
    {
     "data": {
      "text/plain": [
       "('Entity 176:', SAM, 'ORG')"
      ]
     },
     "execution_count": 26,
     "metadata": {},
     "output_type": "execute_result"
    },
    {
     "data": {
      "text/plain": [
       "('Entity 177:', Eduardo Castro-Wright, 'PERSON')"
      ]
     },
     "execution_count": 26,
     "metadata": {},
     "output_type": "execute_result"
    },
    {
     "data": {
      "text/plain": [
       "('Entity 178:', the Wal-Mart, 'ORG')"
      ]
     },
     "execution_count": 26,
     "metadata": {},
     "output_type": "execute_result"
    },
    {
     "data": {
      "text/plain": [
       "('Entity 179:', U.S., 'GPE')"
      ]
     },
     "execution_count": 26,
     "metadata": {},
     "output_type": "execute_result"
    },
    {
     "data": {
      "text/plain": [
       "('Entity 180:', First, 'ORDINAL')"
      ]
     },
     "execution_count": 26,
     "metadata": {},
     "output_type": "execute_result"
    },
    {
     "data": {
      "text/plain": [
       "('Entity 181:', 8, 'CARDINAL')"
      ]
     },
     "execution_count": 26,
     "metadata": {},
     "output_type": "execute_result"
    },
    {
     "data": {
      "text/plain": [
       "('Entity 182:', the first quarter, 'DATE')"
      ]
     },
     "execution_count": 26,
     "metadata": {},
     "output_type": "execute_result"
    },
    {
     "data": {
      "text/plain": [
       "('Entity 183:', U.S., 'GPE')"
      ]
     },
     "execution_count": 26,
     "metadata": {},
     "output_type": "execute_result"
    },
    {
     "data": {
      "text/plain": [
       "('Entity 184:', approximately 7, 'CARDINAL')"
      ]
     },
     "execution_count": 26,
     "metadata": {},
     "output_type": "execute_result"
    },
    {
     "data": {
      "text/plain": [
       "('Entity 185:', last year, 'DATE')"
      ]
     },
     "execution_count": 26,
     "metadata": {},
     "output_type": "execute_result"
    },
    {
     "data": {
      "text/plain": [
       "('Entity 186:', last year, 'DATE')"
      ]
     },
     "execution_count": 26,
     "metadata": {},
     "output_type": "execute_result"
    },
    {
     "data": {
      "text/plain": [
       "('Entity 187:', SG&A, 'PERSON')"
      ]
     },
     "execution_count": 26,
     "metadata": {},
     "output_type": "execute_result"
    },
    {
     "data": {
      "text/plain": [
       "('Entity 188:', the United States, 'GPE')"
      ]
     },
     "execution_count": 26,
     "metadata": {},
     "output_type": "execute_result"
    },
    {
     "data": {
      "text/plain": [
       "('Entity 189:', Inventory, 'PERSON')"
      ]
     },
     "execution_count": 26,
     "metadata": {},
     "output_type": "execute_result"
    },
    {
     "data": {
      "text/plain": [
       "('Entity 190:', the first quarter, 'DATE')"
      ]
     },
     "execution_count": 26,
     "metadata": {},
     "output_type": "execute_result"
    },
    {
     "data": {
      "text/plain": [
       "('Entity 191:', Consolidated, 'ORG')"
      ]
     },
     "execution_count": 26,
     "metadata": {},
     "output_type": "execute_result"
    },
    {
     "data": {
      "text/plain": [
       "('Entity 192:', 10.3%, 'PERCENT')"
      ]
     },
     "execution_count": 26,
     "metadata": {},
     "output_type": "execute_result"
    },
    {
     "data": {
      "text/plain": [
       "('Entity 193:', 8.3%, 'PERCENT')"
      ]
     },
     "execution_count": 26,
     "metadata": {},
     "output_type": "execute_result"
    },
    {
     "data": {
      "text/plain": [
       "('Entity 194:', the first quarter, 'DATE')"
      ]
     },
     "execution_count": 26,
     "metadata": {},
     "output_type": "execute_result"
    },
    {
     "data": {
      "text/plain": [
       "('Entity 195:', half, 'CARDINAL')"
      ]
     },
     "execution_count": 26,
     "metadata": {},
     "output_type": "execute_result"
    },
    {
     "data": {
      "text/plain": [
       "('Entity 196:', approximately 22%, 'PERCENT')"
      ]
     },
     "execution_count": 26,
     "metadata": {},
     "output_type": "execute_result"
    },
    {
     "data": {
      "text/plain": [
       "('Entity 197:', the first quarter over last year, 'DATE')"
      ]
     },
     "execution_count": 26,
     "metadata": {},
     "output_type": "execute_result"
    },
    {
     "data": {
      "text/plain": [
       "('Entity 198:', SAM, 'ORG')"
      ]
     },
     "execution_count": 26,
     "metadata": {},
     "output_type": "execute_result"
    },
    {
     "data": {
      "text/plain": [
       "('Entity 199:', CLUB, 'ORG')"
      ]
     },
     "execution_count": 26,
     "metadata": {},
     "output_type": "execute_result"
    },
    {
     "data": {
      "text/plain": [
       "('Entity 200:', the first quarter, 'DATE')"
      ]
     },
     "execution_count": 26,
     "metadata": {},
     "output_type": "execute_result"
    },
    {
     "data": {
      "text/plain": [
       "('Entity 201:', Second, 'ORDINAL')"
      ]
     },
     "execution_count": 26,
     "metadata": {},
     "output_type": "execute_result"
    },
    {
     "data": {
      "text/plain": [
       "('Entity 202:', more than 2 million, 'CARDINAL')"
      ]
     },
     "execution_count": 26,
     "metadata": {},
     "output_type": "execute_result"
    },
    {
     "data": {
      "text/plain": [
       "('Entity 203:', 6.5%, 'PERCENT')"
      ]
     },
     "execution_count": 26,
     "metadata": {},
     "output_type": "execute_result"
    },
    {
     "data": {
      "text/plain": [
       "('Entity 204:', an additional 3.3, 'CARDINAL')"
      ]
     },
     "execution_count": 26,
     "metadata": {},
     "output_type": "execute_result"
    },
    {
     "data": {
      "text/plain": [
       "('Entity 205:', the quarter, 'DATE')"
      ]
     },
     "execution_count": 26,
     "metadata": {},
     "output_type": "execute_result"
    },
    {
     "data": {
      "text/plain": [
       "('Entity 206:', 34.4%, 'PERCENT')"
      ]
     },
     "execution_count": 26,
     "metadata": {},
     "output_type": "execute_result"
    },
    {
     "data": {
      "text/plain": [
       "('Entity 207:', fiscal year 2008, 'DATE')"
      ]
     },
     "execution_count": 26,
     "metadata": {},
     "output_type": "execute_result"
    },
    {
     "data": {
      "text/plain": [
       "('Entity 208:', between 34% and 35%, 'PERCENT')"
      ]
     },
     "execution_count": 26,
     "metadata": {},
     "output_type": "execute_result"
    },
    {
     "data": {
      "text/plain": [
       "('Entity 209:', quarterly, 'DATE')"
      ]
     },
     "execution_count": 26,
     "metadata": {},
     "output_type": "execute_result"
    },
    {
     "data": {
      "text/plain": [
       "('Entity 210:', annual, 'DATE')"
      ]
     },
     "execution_count": 26,
     "metadata": {},
     "output_type": "execute_result"
    },
    {
     "data": {
      "text/plain": [
       "('Entity 211:', Payables, 'PERSON')"
      ]
     },
     "execution_count": 26,
     "metadata": {},
     "output_type": "execute_result"
    },
    {
     "data": {
      "text/plain": [
       "('Entity 212:', 78%, 'PERCENT')"
      ]
     },
     "execution_count": 26,
     "metadata": {},
     "output_type": "execute_result"
    },
    {
     "data": {
      "text/plain": [
       "('Entity 213:', the 79%, 'PERCENT')"
      ]
     },
     "execution_count": 26,
     "metadata": {},
     "output_type": "execute_result"
    },
    {
     "data": {
      "text/plain": [
       "('Entity 214:', last year, 'DATE')"
      ]
     },
     "execution_count": 26,
     "metadata": {},
     "output_type": "execute_result"
    },
    {
     "data": {
      "text/plain": [
       "('Entity 215:', 41.3%, 'PERCENT')"
      ]
     },
     "execution_count": 26,
     "metadata": {},
     "output_type": "execute_result"
    },
    {
     "data": {
      "text/plain": [
       "('Entity 216:', the end of the first quarter this fiscal year, 'DATE')"
      ]
     },
     "execution_count": 26,
     "metadata": {},
     "output_type": "execute_result"
    },
    {
     "data": {
      "text/plain": [
       "('Entity 217:', 41.9%, 'PERCENT')"
      ]
     },
     "execution_count": 26,
     "metadata": {},
     "output_type": "execute_result"
    },
    {
     "data": {
      "text/plain": [
       "('Entity 218:', last year, 'DATE')"
      ]
     },
     "execution_count": 26,
     "metadata": {},
     "output_type": "execute_result"
    },
    {
     "data": {
      "text/plain": [
       "('Entity 219:', the first quarter, 'DATE')"
      ]
     },
     "execution_count": 26,
     "metadata": {},
     "output_type": "execute_result"
    },
    {
     "data": {
      "text/plain": [
       "('Entity 220:', approximately $1 billion, 'MONEY')"
      ]
     },
     "execution_count": 26,
     "metadata": {},
     "output_type": "execute_result"
    },
    {
     "data": {
      "text/plain": [
       "('Entity 221:', about 20 million, 'CARDINAL')"
      ]
     },
     "execution_count": 26,
     "metadata": {},
     "output_type": "execute_result"
    },
    {
     "data": {
      "text/plain": [
       "('Entity 222:', $10 billion, 'MONEY')"
      ]
     },
     "execution_count": 26,
     "metadata": {},
     "output_type": "execute_result"
    },
    {
     "data": {
      "text/plain": [
       "('Entity 223:', approximately $3.3 billion, 'MONEY')"
      ]
     },
     "execution_count": 26,
     "metadata": {},
     "output_type": "execute_result"
    },
    {
     "data": {
      "text/plain": [
       "('Entity 224:', ROI, 'ORG')"
      ]
     },
     "execution_count": 26,
     "metadata": {},
     "output_type": "execute_result"
    },
    {
     "data": {
      "text/plain": [
       "('Entity 225:', Seiyu, 'FAC')"
      ]
     },
     "execution_count": 26,
     "metadata": {},
     "output_type": "execute_result"
    },
    {
     "data": {
      "text/plain": [
       "('Entity 226:', Japan, 'GPE')"
      ]
     },
     "execution_count": 26,
     "metadata": {},
     "output_type": "execute_result"
    },
    {
     "data": {
      "text/plain": [
       "('Entity 227:', CARHCO, 'ORG')"
      ]
     },
     "execution_count": 26,
     "metadata": {},
     "output_type": "execute_result"
    },
    {
     "data": {
      "text/plain": [
       "('Entity 228:', Wal-Mart Central America, 'ORG')"
      ]
     },
     "execution_count": 26,
     "metadata": {},
     "output_type": "execute_result"
    },
    {
     "data": {
      "text/plain": [
       "('Entity 229:', Sonae, 'ORG')"
      ]
     },
     "execution_count": 26,
     "metadata": {},
     "output_type": "execute_result"
    },
    {
     "data": {
      "text/plain": [
       "('Entity 230:', Southern Brazil, 'NORP')"
      ]
     },
     "execution_count": 26,
     "metadata": {},
     "output_type": "execute_result"
    },
    {
     "data": {
      "text/plain": [
       "('Entity 231:', TrustMart, 'ORG')"
      ]
     },
     "execution_count": 26,
     "metadata": {},
     "output_type": "execute_result"
    },
    {
     "data": {
      "text/plain": [
       "('Entity 232:', China, 'GPE')"
      ]
     },
     "execution_count": 26,
     "metadata": {},
     "output_type": "execute_result"
    },
    {
     "data": {
      "text/plain": [
       "('Entity 233:', 12 months ended April 30, 2007, 'DATE')"
      ]
     },
     "execution_count": 26,
     "metadata": {},
     "output_type": "execute_result"
    },
    {
     "data": {
      "text/plain": [
       "('Entity 234:', 19.5%, 'PERCENT')"
      ]
     },
     "execution_count": 26,
     "metadata": {},
     "output_type": "execute_result"
    },
    {
     "data": {
      "text/plain": [
       "('Entity 235:', 20.5%, 'PERCENT')"
      ]
     },
     "execution_count": 26,
     "metadata": {},
     "output_type": "execute_result"
    },
    {
     "data": {
      "text/plain": [
       "('Entity 236:', the same period last year, 'DATE')"
      ]
     },
     "execution_count": 26,
     "metadata": {},
     "output_type": "execute_result"
    },
    {
     "data": {
      "text/plain": [
       "('Entity 237:', 20.4%, 'PERCENT')"
      ]
     },
     "execution_count": 26,
     "metadata": {},
     "output_type": "execute_result"
    },
    {
     "data": {
      "text/plain": [
       "('Entity 238:', the 12 months ended April 30, 2007, 'DATE')"
      ]
     },
     "execution_count": 26,
     "metadata": {},
     "output_type": "execute_result"
    },
    {
     "data": {
      "text/plain": [
       "('Entity 239:', 21%, 'PERCENT')"
      ]
     },
     "execution_count": 26,
     "metadata": {},
     "output_type": "execute_result"
    },
    {
     "data": {
      "text/plain": [
       "('Entity 240:', last year, 'DATE')"
      ]
     },
     "execution_count": 26,
     "metadata": {},
     "output_type": "execute_result"
    },
    {
     "data": {
      "text/plain": [
       "('Entity 241:', ROI, 'ORG')"
      ]
     },
     "execution_count": 26,
     "metadata": {},
     "output_type": "execute_result"
    },
    {
     "data": {
      "text/plain": [
       "('Entity 242:', approximately $3.2 billion, 'MONEY')"
      ]
     },
     "execution_count": 26,
     "metadata": {},
     "output_type": "execute_result"
    },
    {
     "data": {
      "text/plain": [
       "('Entity 243:', the first quarter, 'DATE')"
      ]
     },
     "execution_count": 26,
     "metadata": {},
     "output_type": "execute_result"
    },
    {
     "data": {
      "text/plain": [
       "('Entity 244:', approximately 2%, 'PERCENT')"
      ]
     },
     "execution_count": 26,
     "metadata": {},
     "output_type": "execute_result"
    },
    {
     "data": {
      "text/plain": [
       "('Entity 245:', last year, 'DATE')"
      ]
     },
     "execution_count": 26,
     "metadata": {},
     "output_type": "execute_result"
    },
    {
     "data": {
      "text/plain": [
       "('Entity 246:', fiscal year 2008, 'DATE')"
      ]
     },
     "execution_count": 26,
     "metadata": {},
     "output_type": "execute_result"
    },
    {
     "data": {
      "text/plain": [
       "('Entity 247:', Eduardo Castro-Wright, 'PERSON')"
      ]
     },
     "execution_count": 26,
     "metadata": {},
     "output_type": "execute_result"
    },
    {
     "data": {
      "text/plain": [
       "('Entity 248:', Wal-Mart, 'ORG')"
      ]
     },
     "execution_count": 26,
     "metadata": {},
     "output_type": "execute_result"
    },
    {
     "data": {
      "text/plain": [
       "('Entity 249:', U.S., 'GPE')"
      ]
     },
     "execution_count": 26,
     "metadata": {},
     "output_type": "execute_result"
    },
    {
     "data": {
      "text/plain": [
       "('Entity 250:', Eduardo Castro-Wright, 'PERSON')"
      ]
     },
     "execution_count": 26,
     "metadata": {},
     "output_type": "execute_result"
    },
    {
     "data": {
      "text/plain": [
       "('Entity 251:', Tom, 'PERSON')"
      ]
     },
     "execution_count": 26,
     "metadata": {},
     "output_type": "execute_result"
    },
    {
     "data": {
      "text/plain": [
       "('Entity 252:', three, 'CARDINAL')"
      ]
     },
     "execution_count": 26,
     "metadata": {},
     "output_type": "execute_result"
    },
    {
     "data": {
      "text/plain": [
       "('Entity 253:', First, 'ORDINAL')"
      ]
     },
     "execution_count": 26,
     "metadata": {},
     "output_type": "execute_result"
    },
    {
     "data": {
      "text/plain": [
       "('Entity 254:', three-year, 'DATE')"
      ]
     },
     "execution_count": 26,
     "metadata": {},
     "output_type": "execute_result"
    },
    {
     "data": {
      "text/plain": [
       "('Entity 255:', second, 'ORDINAL')"
      ]
     },
     "execution_count": 26,
     "metadata": {},
     "output_type": "execute_result"
    },
    {
     "data": {
      "text/plain": [
       "('Entity 256:', this first quarter, 'DATE')"
      ]
     },
     "execution_count": 26,
     "metadata": {},
     "output_type": "execute_result"
    },
    {
     "data": {
      "text/plain": [
       "('Entity 257:', the Wal-Mart Stores U.S. Division, 'ORG')"
      ]
     },
     "execution_count": 26,
     "metadata": {},
     "output_type": "execute_result"
    },
    {
     "data": {
      "text/plain": [
       "('Entity 258:', Wal-Mart Stores U.S., 'ORG')"
      ]
     },
     "execution_count": 26,
     "metadata": {},
     "output_type": "execute_result"
    },
    {
     "data": {
      "text/plain": [
       "('Entity 259:', Joe Simon, 'PERSON')"
      ]
     },
     "execution_count": 26,
     "metadata": {},
     "output_type": "execute_result"
    },
    {
     "data": {
      "text/plain": [
       "('Entity 260:', Wal-Mart Stores, 'ORG')"
      ]
     },
     "execution_count": 26,
     "metadata": {},
     "output_type": "execute_result"
    },
    {
     "data": {
      "text/plain": [
       "('Entity 261:', John Fleming, 'PERSON')"
      ]
     },
     "execution_count": 26,
     "metadata": {},
     "output_type": "execute_result"
    },
    {
     "data": {
      "text/plain": [
       "('Entity 262:', Stephen Quinn, 'PERSON')"
      ]
     },
     "execution_count": 26,
     "metadata": {},
     "output_type": "execute_result"
    },
    {
     "data": {
      "text/plain": [
       "('Entity 263:', Pat Curran, 'PERSON')"
      ]
     },
     "execution_count": 26,
     "metadata": {},
     "output_type": "execute_result"
    },
    {
     "data": {
      "text/plain": [
       "('Entity 264:', People; Raul Vazquez, 'ORG')"
      ]
     },
     "execution_count": 26,
     "metadata": {},
     "output_type": "execute_result"
    },
    {
     "data": {
      "text/plain": [
       "('Entity 265:', Walmart.com, 'ORG')"
      ]
     },
     "execution_count": 26,
     "metadata": {},
     "output_type": "execute_result"
    },
    {
     "data": {
      "text/plain": [
       "('Entity 266:', Michael Fong, 'PERSON')"
      ]
     },
     "execution_count": 26,
     "metadata": {},
     "output_type": "execute_result"
    },
    {
     "data": {
      "text/plain": [
       "('Entity 267:', the Wal-Mart Stores, 'ORG')"
      ]
     },
     "execution_count": 26,
     "metadata": {},
     "output_type": "execute_result"
    },
    {
     "data": {
      "text/plain": [
       "('Entity 268:', the first quarter, 'DATE')"
      ]
     },
     "execution_count": 26,
     "metadata": {},
     "output_type": "execute_result"
    },
    {
     "data": {
      "text/plain": [
       "('Entity 269:', the first quarter, 'DATE')"
      ]
     },
     "execution_count": 26,
     "metadata": {},
     "output_type": "execute_result"
    },
    {
     "data": {
      "text/plain": [
       "('Entity 270:', U.S., 'GPE')"
      ]
     },
     "execution_count": 26,
     "metadata": {},
     "output_type": "execute_result"
    },
    {
     "data": {
      "text/plain": [
       "('Entity 271:', the end of the year, 'DATE')"
      ]
     },
     "execution_count": 26,
     "metadata": {},
     "output_type": "execute_result"
    },
    {
     "data": {
      "text/plain": [
       "('Entity 272:', more than 700, 'CARDINAL')"
      ]
     },
     "execution_count": 26,
     "metadata": {},
     "output_type": "execute_result"
    },
    {
     "data": {
      "text/plain": [
       "('Entity 273:', 85%, 'PERCENT')"
      ]
     },
     "execution_count": 26,
     "metadata": {},
     "output_type": "execute_result"
    },
    {
     "data": {
      "text/plain": [
       "('Entity 274:', March, 'DATE')"
      ]
     },
     "execution_count": 26,
     "metadata": {},
     "output_type": "execute_result"
    },
    {
     "data": {
      "text/plain": [
       "('Entity 275:', April, 'DATE')"
      ]
     },
     "execution_count": 26,
     "metadata": {},
     "output_type": "execute_result"
    },
    {
     "data": {
      "text/plain": [
       "('Entity 276:', Metropolitan New York, 'ORG')"
      ]
     },
     "execution_count": 26,
     "metadata": {},
     "output_type": "execute_result"
    },
    {
     "data": {
      "text/plain": [
       "('Entity 277:', 8.5%, 'PERCENT')"
      ]
     },
     "execution_count": 26,
     "metadata": {},
     "output_type": "execute_result"
    },
    {
     "data": {
      "text/plain": [
       "('Entity 278:', this year, 'DATE')"
      ]
     },
     "execution_count": 26,
     "metadata": {},
     "output_type": "execute_result"
    },
    {
     "data": {
      "text/plain": [
       "('Entity 279:', last year, 'DATE')"
      ]
     },
     "execution_count": 26,
     "metadata": {},
     "output_type": "execute_result"
    },
    {
     "data": {
      "text/plain": [
       "('Entity 280:', 15%, 'PERCENT')"
      ]
     },
     "execution_count": 26,
     "metadata": {},
     "output_type": "execute_result"
    },
    {
     "data": {
      "text/plain": [
       "('Entity 281:', year over year, 'DATE')"
      ]
     },
     "execution_count": 26,
     "metadata": {},
     "output_type": "execute_result"
    },
    {
     "data": {
      "text/plain": [
       "('Entity 282:', Last week, 'DATE')"
      ]
     },
     "execution_count": 26,
     "metadata": {},
     "output_type": "execute_result"
    },
    {
     "data": {
      "text/plain": [
       "('Entity 283:', April, 'DATE')"
      ]
     },
     "execution_count": 26,
     "metadata": {},
     "output_type": "execute_result"
    },
    {
     "data": {
      "text/plain": [
       "('Entity 284:', the quarter, 'DATE')"
      ]
     },
     "execution_count": 26,
     "metadata": {},
     "output_type": "execute_result"
    },
    {
     "data": {
      "text/plain": [
       "('Entity 285:', Comps, 'ORG')"
      ]
     },
     "execution_count": 26,
     "metadata": {},
     "output_type": "execute_result"
    },
    {
     "data": {
      "text/plain": [
       "('Entity 286:', six, 'CARDINAL')"
      ]
     },
     "execution_count": 26,
     "metadata": {},
     "output_type": "execute_result"
    },
    {
     "data": {
      "text/plain": [
       "('Entity 287:', half, 'CARDINAL')"
      ]
     },
     "execution_count": 26,
     "metadata": {},
     "output_type": "execute_result"
    },
    {
     "data": {
      "text/plain": [
       "('Entity 288:', the first quarter, 'DATE')"
      ]
     },
     "execution_count": 26,
     "metadata": {},
     "output_type": "execute_result"
    },
    {
     "data": {
      "text/plain": [
       "('Entity 289:', the first quarter, 'DATE')"
      ]
     },
     "execution_count": 26,
     "metadata": {},
     "output_type": "execute_result"
    },
    {
     "data": {
      "text/plain": [
       "('Entity 290:', Supercenter, 'PERSON')"
      ]
     },
     "execution_count": 26,
     "metadata": {},
     "output_type": "execute_result"
    },
    {
     "data": {
      "text/plain": [
       "('Entity 291:', more than 13.4%, 'PERCENT')"
      ]
     },
     "execution_count": 26,
     "metadata": {},
     "output_type": "execute_result"
    },
    {
     "data": {
      "text/plain": [
       "('Entity 292:', the first quarter of the year, 'DATE')"
      ]
     },
     "execution_count": 26,
     "metadata": {},
     "output_type": "execute_result"
    },
    {
     "data": {
      "text/plain": [
       "('Entity 293:', The Neighborhood Markets, 'ORG')"
      ]
     },
     "execution_count": 26,
     "metadata": {},
     "output_type": "execute_result"
    },
    {
     "data": {
      "text/plain": [
       "('Entity 294:', Wal-Mart, 'ORG')"
      ]
     },
     "execution_count": 26,
     "metadata": {},
     "output_type": "execute_result"
    },
    {
     "data": {
      "text/plain": [
       "('Entity 295:', this quarter, 'DATE')"
      ]
     },
     "execution_count": 26,
     "metadata": {},
     "output_type": "execute_result"
    },
    {
     "data": {
      "text/plain": [
       "('Entity 296:', mid, 'ORG')"
      ]
     },
     "execution_count": 26,
     "metadata": {},
     "output_type": "execute_result"
    },
    {
     "data": {
      "text/plain": [
       "('Entity 297:', Neighborhood Markets, 'ORG')"
      ]
     },
     "execution_count": 26,
     "metadata": {},
     "output_type": "execute_result"
    },
    {
     "data": {
      "text/plain": [
       "('Entity 298:', 4, 'MONEY')"
      ]
     },
     "execution_count": 26,
     "metadata": {},
     "output_type": "execute_result"
    },
    {
     "data": {
      "text/plain": [
       "('Entity 299:', Comps, 'PRODUCT')"
      ]
     },
     "execution_count": 26,
     "metadata": {},
     "output_type": "execute_result"
    },
    {
     "data": {
      "text/plain": [
       "('Entity 300:', between 50 and 150, 'CARDINAL')"
      ]
     },
     "execution_count": 26,
     "metadata": {},
     "output_type": "execute_result"
    },
    {
     "data": {
      "text/plain": [
       "('Entity 301:', Just yesterday, 'DATE')"
      ]
     },
     "execution_count": 26,
     "metadata": {},
     "output_type": "execute_result"
    },
    {
     "data": {
      "text/plain": [
       "('Entity 302:', Wal-Mart, 'ORG')"
      ]
     },
     "execution_count": 26,
     "metadata": {},
     "output_type": "execute_result"
    },
    {
     "data": {
      "text/plain": [
       "('Entity 303:', U.S., 'GPE')"
      ]
     },
     "execution_count": 26,
     "metadata": {},
     "output_type": "execute_result"
    },
    {
     "data": {
      "text/plain": [
       "('Entity 304:', this week, 'DATE')"
      ]
     },
     "execution_count": 26,
     "metadata": {},
     "output_type": "execute_result"
    },
    {
     "data": {
      "text/plain": [
       "('Entity 305:', first, 'ORDINAL')"
      ]
     },
     "execution_count": 26,
     "metadata": {},
     "output_type": "execute_result"
    },
    {
     "data": {
      "text/plain": [
       "('Entity 306:', Wal-Mart, 'ORG')"
      ]
     },
     "execution_count": 26,
     "metadata": {},
     "output_type": "execute_result"
    },
    {
     "data": {
      "text/plain": [
       "('Entity 307:', Samsung, 'ORG')"
      ]
     },
     "execution_count": 26,
     "metadata": {},
     "output_type": "execute_result"
    },
    {
     "data": {
      "text/plain": [
       "('Entity 308:', Skype, 'ORG')"
      ]
     },
     "execution_count": 26,
     "metadata": {},
     "output_type": "execute_result"
    },
    {
     "data": {
      "text/plain": [
       "('Entity 309:', Visio, 'PERSON')"
      ]
     },
     "execution_count": 26,
     "metadata": {},
     "output_type": "execute_result"
    },
    {
     "data": {
      "text/plain": [
       "('Entity 310:', Philips, 'ORG')"
      ]
     },
     "execution_count": 26,
     "metadata": {},
     "output_type": "execute_result"
    },
    {
     "data": {
      "text/plain": [
       "('Entity 311:', Wal-Mart, 'ORG')"
      ]
     },
     "execution_count": 26,
     "metadata": {},
     "output_type": "execute_result"
    },
    {
     "data": {
      "text/plain": [
       "('Entity 312:', 10, 'CARDINAL')"
      ]
     },
     "execution_count": 26,
     "metadata": {},
     "output_type": "execute_result"
    },
    {
     "data": {
      "text/plain": [
       "('Entity 313:', the first quarter, 'DATE')"
      ]
     },
     "execution_count": 26,
     "metadata": {},
     "output_type": "execute_result"
    },
    {
     "data": {
      "text/plain": [
       "('Entity 314:', July, 'DATE')"
      ]
     },
     "execution_count": 26,
     "metadata": {},
     "output_type": "execute_result"
    },
    {
     "data": {
      "text/plain": [
       "('Entity 315:', spring, 'DATE')"
      ]
     },
     "execution_count": 26,
     "metadata": {},
     "output_type": "execute_result"
    },
    {
     "data": {
      "text/plain": [
       "('Entity 316:', summer, 'DATE')"
      ]
     },
     "execution_count": 26,
     "metadata": {},
     "output_type": "execute_result"
    },
    {
     "data": {
      "text/plain": [
       "('Entity 317:', the second half of this year, 'DATE')"
      ]
     },
     "execution_count": 26,
     "metadata": {},
     "output_type": "execute_result"
    },
    {
     "data": {
      "text/plain": [
       "('Entity 318:', This month, 'DATE')"
      ]
     },
     "execution_count": 26,
     "metadata": {},
     "output_type": "execute_result"
    },
    {
     "data": {
      "text/plain": [
       "('Entity 319:', the end of March, 'DATE')"
      ]
     },
     "execution_count": 26,
     "metadata": {},
     "output_type": "execute_result"
    },
    {
     "data": {
      "text/plain": [
       "('Entity 320:', three-year, 'DATE')"
      ]
     },
     "execution_count": 26,
     "metadata": {},
     "output_type": "execute_result"
    },
    {
     "data": {
      "text/plain": [
       "('Entity 321:', the first quarter, 'DATE')"
      ]
     },
     "execution_count": 26,
     "metadata": {},
     "output_type": "execute_result"
    },
    {
     "data": {
      "text/plain": [
       "('Entity 322:', Wal-Mart Stores, 'ORG')"
      ]
     },
     "execution_count": 26,
     "metadata": {},
     "output_type": "execute_result"
    },
    {
     "data": {
      "text/plain": [
       "('Entity 323:', 1.8%, 'PERCENT')"
      ]
     },
     "execution_count": 26,
     "metadata": {},
     "output_type": "execute_result"
    },
    {
     "data": {
      "text/plain": [
       "('Entity 324:', 5.6%, 'PERCENT')"
      ]
     },
     "execution_count": 26,
     "metadata": {},
     "output_type": "execute_result"
    },
    {
     "data": {
      "text/plain": [
       "('Entity 325:', the first quarter, 'DATE')"
      ]
     },
     "execution_count": 26,
     "metadata": {},
     "output_type": "execute_result"
    },
    {
     "data": {
      "text/plain": [
       "('Entity 326:', two, 'CARDINAL')"
      ]
     },
     "execution_count": 26,
     "metadata": {},
     "output_type": "execute_result"
    },
    {
     "data": {
      "text/plain": [
       "('Entity 327:', approximately 5, 'CARDINAL')"
      ]
     },
     "execution_count": 26,
     "metadata": {},
     "output_type": "execute_result"
    },
    {
     "data": {
      "text/plain": [
       "('Entity 328:', Wal-Mart, 'ORG')"
      ]
     },
     "execution_count": 26,
     "metadata": {},
     "output_type": "execute_result"
    },
    {
     "data": {
      "text/plain": [
       "('Entity 329:', 12, 'CARDINAL')"
      ]
     },
     "execution_count": 26,
     "metadata": {},
     "output_type": "execute_result"
    },
    {
     "data": {
      "text/plain": [
       "('Entity 330:', the first quarter, 'DATE')"
      ]
     },
     "execution_count": 26,
     "metadata": {},
     "output_type": "execute_result"
    },
    {
     "data": {
      "text/plain": [
       "('Entity 331:', the quarter, 'DATE')"
      ]
     },
     "execution_count": 26,
     "metadata": {},
     "output_type": "execute_result"
    },
    {
     "data": {
      "text/plain": [
       "('Entity 332:', last year's first quarter, 'DATE')"
      ]
     },
     "execution_count": 26,
     "metadata": {},
     "output_type": "execute_result"
    },
    {
     "data": {
      "text/plain": [
       "('Entity 333:', the same quarter last year, 'DATE')"
      ]
     },
     "execution_count": 26,
     "metadata": {},
     "output_type": "execute_result"
    },
    {
     "data": {
      "text/plain": [
       "('Entity 334:', 29, 'CARDINAL')"
      ]
     },
     "execution_count": 26,
     "metadata": {},
     "output_type": "execute_result"
    },
    {
     "data": {
      "text/plain": [
       "('Entity 335:', the first quarter last year, 'DATE')"
      ]
     },
     "execution_count": 26,
     "metadata": {},
     "output_type": "execute_result"
    },
    {
     "data": {
      "text/plain": [
       "('Entity 336:', the Wal-Mart, 'ORG')"
      ]
     },
     "execution_count": 26,
     "metadata": {},
     "output_type": "execute_result"
    },
    {
     "data": {
      "text/plain": [
       "('Entity 337:', 9%, 'PERCENT')"
      ]
     },
     "execution_count": 26,
     "metadata": {},
     "output_type": "execute_result"
    },
    {
     "data": {
      "text/plain": [
       "('Entity 338:', 5.6%, 'PERCENT')"
      ]
     },
     "execution_count": 26,
     "metadata": {},
     "output_type": "execute_result"
    },
    {
     "data": {
      "text/plain": [
       "('Entity 339:', the first quarter, 'DATE')"
      ]
     },
     "execution_count": 26,
     "metadata": {},
     "output_type": "execute_result"
    },
    {
     "data": {
      "text/plain": [
       "('Entity 340:', three-year, 'DATE')"
      ]
     },
     "execution_count": 26,
     "metadata": {},
     "output_type": "execute_result"
    },
    {
     "data": {
      "text/plain": [
       "('Entity 341:', Charles, 'PERSON')"
      ]
     },
     "execution_count": 26,
     "metadata": {},
     "output_type": "execute_result"
    },
    {
     "data": {
      "text/plain": [
       "('Entity 342:', SAM, 'ORG')"
      ]
     },
     "execution_count": 26,
     "metadata": {},
     "output_type": "execute_result"
    },
    {
     "data": {
      "text/plain": [
       "('Entity 343:', Charles Holley, 'PERSON')"
      ]
     },
     "execution_count": 26,
     "metadata": {},
     "output_type": "execute_result"
    },
    {
     "data": {
      "text/plain": [
       "('Entity 344:', SAM, 'ORG')"
      ]
     },
     "execution_count": 26,
     "metadata": {},
     "output_type": "execute_result"
    },
    {
     "data": {
      "text/plain": [
       "('Entity 345:', SAM, 'ORG')"
      ]
     },
     "execution_count": 26,
     "metadata": {},
     "output_type": "execute_result"
    },
    {
     "data": {
      "text/plain": [
       "('Entity 346:', 5.6%, 'PERCENT')"
      ]
     },
     "execution_count": 26,
     "metadata": {},
     "output_type": "execute_result"
    },
    {
     "data": {
      "text/plain": [
       "('Entity 347:', the quarter, 'DATE')"
      ]
     },
     "execution_count": 26,
     "metadata": {},
     "output_type": "execute_result"
    },
    {
     "data": {
      "text/plain": [
       "('Entity 348:', $10.3 billion, 'MONEY')"
      ]
     },
     "execution_count": 26,
     "metadata": {},
     "output_type": "execute_result"
    },
    {
     "data": {
      "text/plain": [
       "('Entity 349:', First-quarter, 'DATE')"
      ]
     },
     "execution_count": 26,
     "metadata": {},
     "output_type": "execute_result"
    },
    {
     "data": {
      "text/plain": [
       "('Entity 350:', 4.7%, 'PERCENT')"
      ]
     },
     "execution_count": 26,
     "metadata": {},
     "output_type": "execute_result"
    },
    {
     "data": {
      "text/plain": [
       "('Entity 351:', the prior year quarter, 'DATE')"
      ]
     },
     "execution_count": 26,
     "metadata": {},
     "output_type": "execute_result"
    },
    {
     "data": {
      "text/plain": [
       "('Entity 352:', 5, 'MONEY')"
      ]
     },
     "execution_count": 26,
     "metadata": {},
     "output_type": "execute_result"
    },
    {
     "data": {
      "text/plain": [
       "('Entity 353:', January 2006, 'DATE')"
      ]
     },
     "execution_count": 26,
     "metadata": {},
     "output_type": "execute_result"
    },
    {
     "data": {
      "text/plain": [
       "('Entity 354:', the first quarter, 'DATE')"
      ]
     },
     "execution_count": 26,
     "metadata": {},
     "output_type": "execute_result"
    },
    {
     "data": {
      "text/plain": [
       "('Entity 355:', SAM, 'ORG')"
      ]
     },
     "execution_count": 26,
     "metadata": {},
     "output_type": "execute_result"
    },
    {
     "data": {
      "text/plain": [
       "('Entity 356:', the first quarter, 'DATE')"
      ]
     },
     "execution_count": 26,
     "metadata": {},
     "output_type": "execute_result"
    },
    {
     "data": {
      "text/plain": [
       "('Entity 357:', SAM, 'ORG')"
      ]
     },
     "execution_count": 26,
     "metadata": {},
     "output_type": "execute_result"
    },
    {
     "data": {
      "text/plain": [
       "('Entity 358:', One, 'CARDINAL')"
      ]
     },
     "execution_count": 26,
     "metadata": {},
     "output_type": "execute_result"
    },
    {
     "data": {
      "text/plain": [
       "('Entity 359:', SAM, 'ORG')"
      ]
     },
     "execution_count": 26,
     "metadata": {},
     "output_type": "execute_result"
    },
    {
     "data": {
      "text/plain": [
       "('Entity 360:', the last seven quarters, 'DATE')"
      ]
     },
     "execution_count": 26,
     "metadata": {},
     "output_type": "execute_result"
    },
    {
     "data": {
      "text/plain": [
       "('Entity 361:', the quarter, 'DATE')"
      ]
     },
     "execution_count": 26,
     "metadata": {},
     "output_type": "execute_result"
    },
    {
     "data": {
      "text/plain": [
       "('Entity 362:', $363 million, 'MONEY')"
      ]
     },
     "execution_count": 26,
     "metadata": {},
     "output_type": "execute_result"
    },
    {
     "data": {
      "text/plain": [
       "('Entity 363:', 19.8%, 'PERCENT')"
      ]
     },
     "execution_count": 26,
     "metadata": {},
     "output_type": "execute_result"
    },
    {
     "data": {
      "text/plain": [
       "('Entity 364:', the prior year quarter, 'DATE')"
      ]
     },
     "execution_count": 26,
     "metadata": {},
     "output_type": "execute_result"
    },
    {
     "data": {
      "text/plain": [
       "('Entity 365:', Tom, 'PERSON')"
      ]
     },
     "execution_count": 26,
     "metadata": {},
     "output_type": "execute_result"
    },
    {
     "data": {
      "text/plain": [
       "('Entity 366:', 10.6%, 'PERCENT')"
      ]
     },
     "execution_count": 26,
     "metadata": {},
     "output_type": "execute_result"
    },
    {
     "data": {
      "text/plain": [
       "('Entity 367:', International, 'ORG')"
      ]
     },
     "execution_count": 26,
     "metadata": {},
     "output_type": "execute_result"
    },
    {
     "data": {
      "text/plain": [
       "('Entity 368:', the first quarter, 'DATE')"
      ]
     },
     "execution_count": 26,
     "metadata": {},
     "output_type": "execute_result"
    },
    {
     "data": {
      "text/plain": [
       "('Entity 369:', $19.6 billion, 'MONEY')"
      ]
     },
     "execution_count": 26,
     "metadata": {},
     "output_type": "execute_result"
    },
    {
     "data": {
      "text/plain": [
       "('Entity 370:', 23%, 'PERCENT')"
      ]
     },
     "execution_count": 26,
     "metadata": {},
     "output_type": "execute_result"
    },
    {
     "data": {
      "text/plain": [
       "('Entity 371:', 18.5%, 'PERCENT')"
      ]
     },
     "execution_count": 26,
     "metadata": {},
     "output_type": "execute_result"
    },
    {
     "data": {
      "text/plain": [
       "('Entity 372:', the prior year, 'DATE')"
      ]
     },
     "execution_count": 26,
     "metadata": {},
     "output_type": "execute_result"
    },
    {
     "data": {
      "text/plain": [
       "('Entity 373:', the quarter, 'DATE')"
      ]
     },
     "execution_count": 26,
     "metadata": {},
     "output_type": "execute_result"
    },
    {
     "data": {
      "text/plain": [
       "('Entity 374:', Mexico, 'GPE')"
      ]
     },
     "execution_count": 26,
     "metadata": {},
     "output_type": "execute_result"
    },
    {
     "data": {
      "text/plain": [
       "('Entity 375:', United Kingdom, 'GPE')"
      ]
     },
     "execution_count": 26,
     "metadata": {},
     "output_type": "execute_result"
    },
    {
     "data": {
      "text/plain": [
       "('Entity 376:', Brazil, 'GPE')"
      ]
     },
     "execution_count": 26,
     "metadata": {},
     "output_type": "execute_result"
    },
    {
     "data": {
      "text/plain": [
       "('Entity 377:', China, 'GPE')"
      ]
     },
     "execution_count": 26,
     "metadata": {},
     "output_type": "execute_result"
    },
    {
     "data": {
      "text/plain": [
       "('Entity 378:', Argentina, 'GPE')"
      ]
     },
     "execution_count": 26,
     "metadata": {},
     "output_type": "execute_result"
    },
    {
     "data": {
      "text/plain": [
       "('Entity 379:', The first quarter, 'DATE')"
      ]
     },
     "execution_count": 26,
     "metadata": {},
     "output_type": "execute_result"
    },
    {
     "data": {
      "text/plain": [
       "('Entity 380:', $622 million, 'MONEY')"
      ]
     },
     "execution_count": 26,
     "metadata": {},
     "output_type": "execute_result"
    },
    {
     "data": {
      "text/plain": [
       "('Entity 381:', British, 'NORP')"
      ]
     },
     "execution_count": 26,
     "metadata": {},
     "output_type": "execute_result"
    },
    {
     "data": {
      "text/plain": [
       "('Entity 382:', Mexican, 'NORP')"
      ]
     },
     "execution_count": 26,
     "metadata": {},
     "output_type": "execute_result"
    },
    {
     "data": {
      "text/plain": [
       "('Entity 383:', the first quarter, 'DATE')"
      ]
     },
     "execution_count": 26,
     "metadata": {},
     "output_type": "execute_result"
    },
    {
     "data": {
      "text/plain": [
       "('Entity 384:', $903 million, 'MONEY')"
      ]
     },
     "execution_count": 26,
     "metadata": {},
     "output_type": "execute_result"
    },
    {
     "data": {
      "text/plain": [
       "('Entity 385:', 19.3%, 'PERCENT')"
      ]
     },
     "execution_count": 26,
     "metadata": {},
     "output_type": "execute_result"
    },
    {
     "data": {
      "text/plain": [
       "('Entity 386:', the prior year, 'DATE')"
      ]
     },
     "execution_count": 26,
     "metadata": {},
     "output_type": "execute_result"
    },
    {
     "data": {
      "text/plain": [
       "('Entity 387:', the first quarter of last year, 'DATE')"
      ]
     },
     "execution_count": 26,
     "metadata": {},
     "output_type": "execute_result"
    },
    {
     "data": {
      "text/plain": [
       "('Entity 388:', Mexico, 'GPE')"
      ]
     },
     "execution_count": 26,
     "metadata": {},
     "output_type": "execute_result"
    },
    {
     "data": {
      "text/plain": [
       "('Entity 389:', Lee, 'PERSON')"
      ]
     },
     "execution_count": 26,
     "metadata": {},
     "output_type": "execute_result"
    },
    {
     "data": {
      "text/plain": [
       "('Entity 390:', Mexico, 'GPE')"
      ]
     },
     "execution_count": 26,
     "metadata": {},
     "output_type": "execute_result"
    },
    {
     "data": {
      "text/plain": [
       "('Entity 391:', UK, 'GPE')"
      ]
     },
     "execution_count": 26,
     "metadata": {},
     "output_type": "execute_result"
    },
    {
     "data": {
      "text/plain": [
       "('Entity 392:', the first quarter of fiscal 2007, 'DATE')"
      ]
     },
     "execution_count": 26,
     "metadata": {},
     "output_type": "execute_result"
    },
    {
     "data": {
      "text/plain": [
       "('Entity 393:', the first quarter, 'DATE')"
      ]
     },
     "execution_count": 26,
     "metadata": {},
     "output_type": "execute_result"
    },
    {
     "data": {
      "text/plain": [
       "('Entity 394:', ASDA, 'ORG')"
      ]
     },
     "execution_count": 26,
     "metadata": {},
     "output_type": "execute_result"
    },
    {
     "data": {
      "text/plain": [
       "('Entity 395:', the first quarter of last year, 'DATE')"
      ]
     },
     "execution_count": 26,
     "metadata": {},
     "output_type": "execute_result"
    },
    {
     "data": {
      "text/plain": [
       "('Entity 396:', the first quarter, 'DATE')"
      ]
     },
     "execution_count": 26,
     "metadata": {},
     "output_type": "execute_result"
    },
    {
     "data": {
      "text/plain": [
       "('Entity 397:', fiscal 2008, 'DATE')"
      ]
     },
     "execution_count": 26,
     "metadata": {},
     "output_type": "execute_result"
    },
    {
     "data": {
      "text/plain": [
       "('Entity 398:', ASDA, 'ORG')"
      ]
     },
     "execution_count": 26,
     "metadata": {},
     "output_type": "execute_result"
    },
    {
     "data": {
      "text/plain": [
       "('Entity 399:', UK, 'GPE')"
      ]
     },
     "execution_count": 26,
     "metadata": {},
     "output_type": "execute_result"
    },
    {
     "data": {
      "text/plain": [
       "('Entity 400:', the previous 12 months, 'DATE')"
      ]
     },
     "execution_count": 26,
     "metadata": {},
     "output_type": "execute_result"
    },
    {
     "data": {
      "text/plain": [
       "('Entity 401:', the quarter, 'DATE')"
      ]
     },
     "execution_count": 26,
     "metadata": {},
     "output_type": "execute_result"
    },
    {
     "data": {
      "text/plain": [
       "('Entity 402:', Lee, 'PERSON')"
      ]
     },
     "execution_count": 26,
     "metadata": {},
     "output_type": "execute_result"
    },
    {
     "data": {
      "text/plain": [
       "('Entity 403:', mid-2005, 'DATE')"
      ]
     },
     "execution_count": 26,
     "metadata": {},
     "output_type": "execute_result"
    },
    {
     "data": {
      "text/plain": [
       "('Entity 404:', ASDA, 'ORG')"
      ]
     },
     "execution_count": 26,
     "metadata": {},
     "output_type": "execute_result"
    },
    {
     "data": {
      "text/plain": [
       "('Entity 405:', ASDA, 'ORG')"
      ]
     },
     "execution_count": 26,
     "metadata": {},
     "output_type": "execute_result"
    },
    {
     "data": {
      "text/plain": [
       "('Entity 406:', around 1.5 million, 'CARDINAL')"
      ]
     },
     "execution_count": 26,
     "metadata": {},
     "output_type": "execute_result"
    },
    {
     "data": {
      "text/plain": [
       "('Entity 407:', approximately half, 'CARDINAL')"
      ]
     },
     "execution_count": 26,
     "metadata": {},
     "output_type": "execute_result"
    },
    {
     "data": {
      "text/plain": [
       "('Entity 408:', the fourth consecutive quarter, 'DATE')"
      ]
     },
     "execution_count": 26,
     "metadata": {},
     "output_type": "execute_result"
    },
    {
     "data": {
      "text/plain": [
       "('Entity 409:', George, 'PERSON')"
      ]
     },
     "execution_count": 26,
     "metadata": {},
     "output_type": "execute_result"
    },
    {
     "data": {
      "text/plain": [
       "('Entity 410:', the quarter, 'DATE')"
      ]
     },
     "execution_count": 26,
     "metadata": {},
     "output_type": "execute_result"
    },
    {
     "data": {
      "text/plain": [
       "('Entity 411:', ASDA, 'ORG')"
      ]
     },
     "execution_count": 26,
     "metadata": {},
     "output_type": "execute_result"
    },
    {
     "data": {
      "text/plain": [
       "('Entity 412:', three, 'CARDINAL')"
      ]
     },
     "execution_count": 26,
     "metadata": {},
     "output_type": "execute_result"
    },
    {
     "data": {
      "text/plain": [
       "('Entity 413:', First, 'ORDINAL')"
      ]
     },
     "execution_count": 26,
     "metadata": {},
     "output_type": "execute_result"
    },
    {
     "data": {
      "text/plain": [
       "('Entity 414:', Second, 'ORDINAL')"
      ]
     },
     "execution_count": 26,
     "metadata": {},
     "output_type": "execute_result"
    },
    {
     "data": {
      "text/plain": [
       "('Entity 415:', first, 'ORDINAL')"
      ]
     },
     "execution_count": 26,
     "metadata": {},
     "output_type": "execute_result"
    },
    {
     "data": {
      "text/plain": [
       "('Entity 416:', ASDA, 'ORG')"
      ]
     },
     "execution_count": 26,
     "metadata": {},
     "output_type": "execute_result"
    },
    {
     "data": {
      "text/plain": [
       "('Entity 417:', almost 30%, 'PERCENT')"
      ]
     },
     "execution_count": 26,
     "metadata": {},
     "output_type": "execute_result"
    },
    {
     "data": {
      "text/plain": [
       "('Entity 418:', ASDA, 'ORG')"
      ]
     },
     "execution_count": 26,
     "metadata": {},
     "output_type": "execute_result"
    },
    {
     "data": {
      "text/plain": [
       "('Entity 419:', UK, 'GPE')"
      ]
     },
     "execution_count": 26,
     "metadata": {},
     "output_type": "execute_result"
    },
    {
     "data": {
      "text/plain": [
       "('Entity 420:', the Grocer Magazine, 'ORG')"
      ]
     },
     "execution_count": 26,
     "metadata": {},
     "output_type": "execute_result"
    },
    {
     "data": {
      "text/plain": [
       "('Entity 421:', ASDA, 'ORG')"
      ]
     },
     "execution_count": 26,
     "metadata": {},
     "output_type": "execute_result"
    },
    {
     "data": {
      "text/plain": [
       "('Entity 422:', Why Pay More, 'ORG')"
      ]
     },
     "execution_count": 26,
     "metadata": {},
     "output_type": "execute_result"
    },
    {
     "data": {
      "text/plain": [
       "('Entity 423:', second, 'ORDINAL')"
      ]
     },
     "execution_count": 26,
     "metadata": {},
     "output_type": "execute_result"
    },
    {
     "data": {
      "text/plain": [
       "('Entity 424:', George, 'PERSON')"
      ]
     },
     "execution_count": 26,
     "metadata": {},
     "output_type": "execute_result"
    },
    {
     "data": {
      "text/plain": [
       "('Entity 425:', ASDA, 'ORG')"
      ]
     },
     "execution_count": 26,
     "metadata": {},
     "output_type": "execute_result"
    },
    {
     "data": {
      "text/plain": [
       "('Entity 426:', ASDA, 'ORG')"
      ]
     },
     "execution_count": 26,
     "metadata": {},
     "output_type": "execute_result"
    },
    {
     "data": {
      "text/plain": [
       "('Entity 427:', ASDA, 'ORG')"
      ]
     },
     "execution_count": 26,
     "metadata": {},
     "output_type": "execute_result"
    },
    {
     "data": {
      "text/plain": [
       "('Entity 428:', more than 3,000, 'CARDINAL')"
      ]
     },
     "execution_count": 26,
     "metadata": {},
     "output_type": "execute_result"
    },
    {
     "data": {
      "text/plain": [
       "('Entity 429:', ten, 'CARDINAL')"
      ]
     },
     "execution_count": 26,
     "metadata": {},
     "output_type": "execute_result"
    },
    {
     "data": {
      "text/plain": [
       "('Entity 430:', five, 'CARDINAL')"
      ]
     },
     "execution_count": 26,
     "metadata": {},
     "output_type": "execute_result"
    },
    {
     "data": {
      "text/plain": [
       "('Entity 431:', this year, 'DATE')"
      ]
     },
     "execution_count": 26,
     "metadata": {},
     "output_type": "execute_result"
    },
    {
     "data": {
      "text/plain": [
       "('Entity 432:', ASDA.com, 'PERSON')"
      ]
     },
     "execution_count": 26,
     "metadata": {},
     "output_type": "execute_result"
    },
    {
     "data": {
      "text/plain": [
       "('Entity 433:', the end of this year, 'DATE')"
      ]
     },
     "execution_count": 26,
     "metadata": {},
     "output_type": "execute_result"
    },
    {
     "data": {
      "text/plain": [
       "('Entity 434:', ASDA, 'ORG')"
      ]
     },
     "execution_count": 26,
     "metadata": {},
     "output_type": "execute_result"
    },
    {
     "data": {
      "text/plain": [
       "('Entity 435:', ASDA Living, 'ORG')"
      ]
     },
     "execution_count": 26,
     "metadata": {},
     "output_type": "execute_result"
    },
    {
     "data": {
      "text/plain": [
       "('Entity 436:', two, 'CARDINAL')"
      ]
     },
     "execution_count": 26,
     "metadata": {},
     "output_type": "execute_result"
    },
    {
     "data": {
      "text/plain": [
       "('Entity 437:', this quarter, 'DATE')"
      ]
     },
     "execution_count": 26,
     "metadata": {},
     "output_type": "execute_result"
    },
    {
     "data": {
      "text/plain": [
       "('Entity 438:', ASDA, 'ORG')"
      ]
     },
     "execution_count": 26,
     "metadata": {},
     "output_type": "execute_result"
    },
    {
     "data": {
      "text/plain": [
       "('Entity 439:', the 12 weeks ending March 25th, 'DATE')"
      ]
     },
     "execution_count": 26,
     "metadata": {},
     "output_type": "execute_result"
    },
    {
     "data": {
      "text/plain": [
       "('Entity 440:', ASDA, 'ORG')"
      ]
     },
     "execution_count": 26,
     "metadata": {},
     "output_type": "execute_result"
    },
    {
     "data": {
      "text/plain": [
       "('Entity 441:', 11.9%, 'PERCENT')"
      ]
     },
     "execution_count": 26,
     "metadata": {},
     "output_type": "execute_result"
    },
    {
     "data": {
      "text/plain": [
       "('Entity 442:', TNS Data, 'ORG')"
      ]
     },
     "execution_count": 26,
     "metadata": {},
     "output_type": "execute_result"
    },
    {
     "data": {
      "text/plain": [
       "('Entity 443:', UK, 'GPE')"
      ]
     },
     "execution_count": 26,
     "metadata": {},
     "output_type": "execute_result"
    },
    {
     "data": {
      "text/plain": [
       "('Entity 444:', four months, 'DATE')"
      ]
     },
     "execution_count": 26,
     "metadata": {},
     "output_type": "execute_result"
    },
    {
     "data": {
      "text/plain": [
       "('Entity 445:', Wal-Mart Mexico, 'ORG')"
      ]
     },
     "execution_count": 26,
     "metadata": {},
     "output_type": "execute_result"
    },
    {
     "data": {
      "text/plain": [
       "('Entity 446:', Wal-Mart Mexico, 'ORG')"
      ]
     },
     "execution_count": 26,
     "metadata": {},
     "output_type": "execute_result"
    },
    {
     "data": {
      "text/plain": [
       "('Entity 447:', another great quarter, 'DATE')"
      ]
     },
     "execution_count": 26,
     "metadata": {},
     "output_type": "execute_result"
    },
    {
     "data": {
      "text/plain": [
       "('Entity 448:', recent quarters, 'DATE')"
      ]
     },
     "execution_count": 26,
     "metadata": {},
     "output_type": "execute_result"
    },
    {
     "data": {
      "text/plain": [
       "('Entity 449:', first-quarter, 'DATE')"
      ]
     },
     "execution_count": 26,
     "metadata": {},
     "output_type": "execute_result"
    },
    {
     "data": {
      "text/plain": [
       "('Entity 450:', Mexico, 'GPE')"
      ]
     },
     "execution_count": 26,
     "metadata": {},
     "output_type": "execute_result"
    },
    {
     "data": {
      "text/plain": [
       "('Entity 451:', the first quarter of last year, 'DATE')"
      ]
     },
     "execution_count": 26,
     "metadata": {},
     "output_type": "execute_result"
    },
    {
     "data": {
      "text/plain": [
       "('Entity 452:', Mexico City, 'GPE')"
      ]
     },
     "execution_count": 26,
     "metadata": {},
     "output_type": "execute_result"
    },
    {
     "data": {
      "text/plain": [
       "('Entity 453:', the quarter, 'DATE')"
      ]
     },
     "execution_count": 26,
     "metadata": {},
     "output_type": "execute_result"
    },
    {
     "data": {
      "text/plain": [
       "('Entity 454:', 14.1%, 'PERCENT')"
      ]
     },
     "execution_count": 26,
     "metadata": {},
     "output_type": "execute_result"
    },
    {
     "data": {
      "text/plain": [
       "('Entity 455:', the quarter, 'DATE')"
      ]
     },
     "execution_count": 26,
     "metadata": {},
     "output_type": "execute_result"
    },
    {
     "data": {
      "text/plain": [
       "('Entity 456:', 5.9%, 'PERCENT')"
      ]
     },
     "execution_count": 26,
     "metadata": {},
     "output_type": "execute_result"
    },
    {
     "data": {
      "text/plain": [
       "('Entity 457:', Mexico, 'GPE')"
      ]
     },
     "execution_count": 26,
     "metadata": {},
     "output_type": "execute_result"
    },
    {
     "data": {
      "text/plain": [
       "('Entity 458:', 15%, 'PERCENT')"
      ]
     },
     "execution_count": 26,
     "metadata": {},
     "output_type": "execute_result"
    },
    {
     "data": {
      "text/plain": [
       "('Entity 459:', the quarter, 'DATE')"
      ]
     },
     "execution_count": 26,
     "metadata": {},
     "output_type": "execute_result"
    },
    {
     "data": {
      "text/plain": [
       "('Entity 460:', Mexico, 'GPE')"
      ]
     },
     "execution_count": 26,
     "metadata": {},
     "output_type": "execute_result"
    },
    {
     "data": {
      "text/plain": [
       "('Entity 461:', Mexican, 'NORP')"
      ]
     },
     "execution_count": 26,
     "metadata": {},
     "output_type": "execute_result"
    },
    {
     "data": {
      "text/plain": [
       "('Entity 462:', The first quarter, 'DATE')"
      ]
     },
     "execution_count": 26,
     "metadata": {},
     "output_type": "execute_result"
    },
    {
     "data": {
      "text/plain": [
       "('Entity 463:', Mexico, 'GPE')"
      ]
     },
     "execution_count": 26,
     "metadata": {},
     "output_type": "execute_result"
    },
    {
     "data": {
      "text/plain": [
       "('Entity 464:', 12%, 'PERCENT')"
      ]
     },
     "execution_count": 26,
     "metadata": {},
     "output_type": "execute_result"
    },
    {
     "data": {
      "text/plain": [
       "('Entity 465:', Mexico, 'GPE')"
      ]
     },
     "execution_count": 26,
     "metadata": {},
     "output_type": "execute_result"
    },
    {
     "data": {
      "text/plain": [
       "('Entity 466:', Canada, 'GPE')"
      ]
     },
     "execution_count": 26,
     "metadata": {},
     "output_type": "execute_result"
    },
    {
     "data": {
      "text/plain": [
       "('Entity 467:', Canadian, 'NORP')"
      ]
     },
     "execution_count": 26,
     "metadata": {},
     "output_type": "execute_result"
    },
    {
     "data": {
      "text/plain": [
       "('Entity 468:', mid, 'DATE')"
      ]
     },
     "execution_count": 26,
     "metadata": {},
     "output_type": "execute_result"
    },
    {
     "data": {
      "text/plain": [
       "('Entity 469:', the first quarter, 'DATE')"
      ]
     },
     "execution_count": 26,
     "metadata": {},
     "output_type": "execute_result"
    },
    {
     "data": {
      "text/plain": [
       "('Entity 470:', spring this season, 'DATE')"
      ]
     },
     "execution_count": 26,
     "metadata": {},
     "output_type": "execute_result"
    },
    {
     "data": {
      "text/plain": [
       "('Entity 471:', Canadian, 'NORP')"
      ]
     },
     "execution_count": 26,
     "metadata": {},
     "output_type": "execute_result"
    },
    {
     "data": {
      "text/plain": [
       "('Entity 472:', Canadian, 'NORP')"
      ]
     },
     "execution_count": 26,
     "metadata": {},
     "output_type": "execute_result"
    },
    {
     "data": {
      "text/plain": [
       "('Entity 473:', Canadian, 'NORP')"
      ]
     },
     "execution_count": 26,
     "metadata": {},
     "output_type": "execute_result"
    },
    {
     "data": {
      "text/plain": [
       "('Entity 474:', the upcoming year, 'DATE')"
      ]
     },
     "execution_count": 26,
     "metadata": {},
     "output_type": "execute_result"
    },
    {
     "data": {
      "text/plain": [
       "('Entity 475:', Brazil, 'GPE')"
      ]
     },
     "execution_count": 26,
     "metadata": {},
     "output_type": "execute_result"
    },
    {
     "data": {
      "text/plain": [
       "('Entity 476:', the quarter, 'DATE')"
      ]
     },
     "execution_count": 26,
     "metadata": {},
     "output_type": "execute_result"
    },
    {
     "data": {
      "text/plain": [
       "('Entity 477:', Brazil, 'GPE')"
      ]
     },
     "execution_count": 26,
     "metadata": {},
     "output_type": "execute_result"
    },
    {
     "data": {
      "text/plain": [
       "('Entity 478:', two, 'CARDINAL')"
      ]
     },
     "execution_count": 26,
     "metadata": {},
     "output_type": "execute_result"
    },
    {
     "data": {
      "text/plain": [
       "('Entity 479:', Northeast, 'LOC')"
      ]
     },
     "execution_count": 26,
     "metadata": {},
     "output_type": "execute_result"
    },
    {
     "data": {
      "text/plain": [
       "('Entity 480:', South, 'LOC')"
      ]
     },
     "execution_count": 26,
     "metadata": {},
     "output_type": "execute_result"
    },
    {
     "data": {
      "text/plain": [
       "('Entity 481:', Argentina, 'GPE')"
      ]
     },
     "execution_count": 26,
     "metadata": {},
     "output_type": "execute_result"
    },
    {
     "data": {
      "text/plain": [
       "('Entity 482:', the quarter, 'DATE')"
      ]
     },
     "execution_count": 26,
     "metadata": {},
     "output_type": "execute_result"
    },
    {
     "data": {
      "text/plain": [
       "('Entity 483:', February, 'DATE')"
      ]
     },
     "execution_count": 26,
     "metadata": {},
     "output_type": "execute_result"
    },
    {
     "data": {
      "text/plain": [
       "('Entity 484:', Argentina, 'GPE')"
      ]
     },
     "execution_count": 26,
     "metadata": {},
     "output_type": "execute_result"
    },
    {
     "data": {
      "text/plain": [
       "('Entity 485:', Changomas, 'PERSON')"
      ]
     },
     "execution_count": 26,
     "metadata": {},
     "output_type": "execute_result"
    },
    {
     "data": {
      "text/plain": [
       "('Entity 486:', Mexican, 'NORP')"
      ]
     },
     "execution_count": 26,
     "metadata": {},
     "output_type": "execute_result"
    },
    {
     "data": {
      "text/plain": [
       "('Entity 487:', 70%, 'PERCENT')"
      ]
     },
     "execution_count": 26,
     "metadata": {},
     "output_type": "execute_result"
    },
    {
     "data": {
      "text/plain": [
       "('Entity 488:', first, 'ORDINAL')"
      ]
     },
     "execution_count": 26,
     "metadata": {},
     "output_type": "execute_result"
    },
    {
     "data": {
      "text/plain": [
       "('Entity 489:', Changomas, 'PRODUCT')"
      ]
     },
     "execution_count": 26,
     "metadata": {},
     "output_type": "execute_result"
    },
    {
     "data": {
      "text/plain": [
       "('Entity 490:', First quarter, 'DATE')"
      ]
     },
     "execution_count": 26,
     "metadata": {},
     "output_type": "execute_result"
    },
    {
     "data": {
      "text/plain": [
       "('Entity 491:', Puerto Rico, 'GPE')"
      ]
     },
     "execution_count": 26,
     "metadata": {},
     "output_type": "execute_result"
    },
    {
     "data": {
      "text/plain": [
       "('Entity 492:', last year, 'DATE')"
      ]
     },
     "execution_count": 26,
     "metadata": {},
     "output_type": "execute_result"
    },
    {
     "data": {
      "text/plain": [
       "('Entity 493:', last year, 'DATE')"
      ]
     },
     "execution_count": 26,
     "metadata": {},
     "output_type": "execute_result"
    },
    {
     "data": {
      "text/plain": [
       "('Entity 494:', Wal-Mart Central America, 'ORG')"
      ]
     },
     "execution_count": 26,
     "metadata": {},
     "output_type": "execute_result"
    },
    {
     "data": {
      "text/plain": [
       "('Entity 495:', the first quarter of fiscal 2007, 'DATE')"
      ]
     },
     "execution_count": 26,
     "metadata": {},
     "output_type": "execute_result"
    },
    {
     "data": {
      "text/plain": [
       "('Entity 496:', Central America, 'LOC')"
      ]
     },
     "execution_count": 26,
     "metadata": {},
     "output_type": "execute_result"
    },
    {
     "data": {
      "text/plain": [
       "('Entity 497:', the first quarter, 'DATE')"
      ]
     },
     "execution_count": 26,
     "metadata": {},
     "output_type": "execute_result"
    },
    {
     "data": {
      "text/plain": [
       "('Entity 498:', Asia, 'LOC')"
      ]
     },
     "execution_count": 26,
     "metadata": {},
     "output_type": "execute_result"
    },
    {
     "data": {
      "text/plain": [
       "('Entity 499:', Japan, 'GPE')"
      ]
     },
     "execution_count": 26,
     "metadata": {},
     "output_type": "execute_result"
    },
    {
     "data": {
      "text/plain": [
       "('Entity 500:', the quarter, 'DATE')"
      ]
     },
     "execution_count": 26,
     "metadata": {},
     "output_type": "execute_result"
    },
    {
     "data": {
      "text/plain": [
       "('Entity 501:', 70, 'CARDINAL')"
      ]
     },
     "execution_count": 26,
     "metadata": {},
     "output_type": "execute_result"
    },
    {
     "data": {
      "text/plain": [
       "('Entity 502:', The first quarter, 'DATE')"
      ]
     },
     "execution_count": 26,
     "metadata": {},
     "output_type": "execute_result"
    },
    {
     "data": {
      "text/plain": [
       "('Entity 503:', 0.7%, 'PERCENT')"
      ]
     },
     "execution_count": 26,
     "metadata": {},
     "output_type": "execute_result"
    },
    {
     "data": {
      "text/plain": [
       "('Entity 504:', Seiyu, 'ORG')"
      ]
     },
     "execution_count": 26,
     "metadata": {},
     "output_type": "execute_result"
    },
    {
     "data": {
      "text/plain": [
       "('Entity 505:', the full year, 'DATE')"
      ]
     },
     "execution_count": 26,
     "metadata": {},
     "output_type": "execute_result"
    },
    {
     "data": {
      "text/plain": [
       "('Entity 506:', 1.7%, 'PERCENT')"
      ]
     },
     "execution_count": 26,
     "metadata": {},
     "output_type": "execute_result"
    },
    {
     "data": {
      "text/plain": [
       "('Entity 507:', last year, 'DATE')"
      ]
     },
     "execution_count": 26,
     "metadata": {},
     "output_type": "execute_result"
    },
    {
     "data": {
      "text/plain": [
       "('Entity 508:', Wal-Mart, 'ORG')"
      ]
     },
     "execution_count": 26,
     "metadata": {},
     "output_type": "execute_result"
    },
    {
     "data": {
      "text/plain": [
       "('Entity 509:', China, 'GPE')"
      ]
     },
     "execution_count": 26,
     "metadata": {},
     "output_type": "execute_result"
    },
    {
     "data": {
      "text/plain": [
       "('Entity 510:', the first quarter, 'DATE')"
      ]
     },
     "execution_count": 26,
     "metadata": {},
     "output_type": "execute_result"
    },
    {
     "data": {
      "text/plain": [
       "('Entity 511:', ten, 'CARDINAL')"
      ]
     },
     "execution_count": 26,
     "metadata": {},
     "output_type": "execute_result"
    },
    {
     "data": {
      "text/plain": [
       "('Entity 512:', 101, 'CARDINAL')"
      ]
     },
     "execution_count": 26,
     "metadata": {},
     "output_type": "execute_result"
    },
    {
     "data": {
      "text/plain": [
       "('Entity 513:', TrustMart, 'ORG')"
      ]
     },
     "execution_count": 26,
     "metadata": {},
     "output_type": "execute_result"
    },
    {
     "data": {
      "text/plain": [
       "('Entity 514:', 34, 'CARDINAL')"
      ]
     },
     "execution_count": 26,
     "metadata": {},
     "output_type": "execute_result"
    },
    {
     "data": {
      "text/plain": [
       "('Entity 515:', China, 'GPE')"
      ]
     },
     "execution_count": 26,
     "metadata": {},
     "output_type": "execute_result"
    },
    {
     "data": {
      "text/plain": [
       "('Entity 516:', China, 'GPE')"
      ]
     },
     "execution_count": 26,
     "metadata": {},
     "output_type": "execute_result"
    },
    {
     "data": {
      "text/plain": [
       "('Entity 517:', Tom, 'PERSON')"
      ]
     },
     "execution_count": 26,
     "metadata": {},
     "output_type": "execute_result"
    },
    {
     "data": {
      "text/plain": [
       "('Entity 518:', the second quarter of fiscal 2008, 'DATE')"
      ]
     },
     "execution_count": 26,
     "metadata": {},
     "output_type": "execute_result"
    },
    {
     "data": {
      "text/plain": [
       "('Entity 519:', Thomas Schoewe  , 'PERSON')"
      ]
     },
     "execution_count": 26,
     "metadata": {},
     "output_type": "execute_result"
    },
    {
     "data": {
      "text/plain": [
       "('Entity 520:', Charles, 'PERSON')"
      ]
     },
     "execution_count": 26,
     "metadata": {},
     "output_type": "execute_result"
    },
    {
     "data": {
      "text/plain": [
       "('Entity 521:', the second quarter, 'DATE')"
      ]
     },
     "execution_count": 26,
     "metadata": {},
     "output_type": "execute_result"
    },
    {
     "data": {
      "text/plain": [
       "('Entity 522:', U.S., 'GPE')"
      ]
     },
     "execution_count": 26,
     "metadata": {},
     "output_type": "execute_result"
    },
    {
     "data": {
      "text/plain": [
       "('Entity 523:', between 1% and 2%, 'PERCENT')"
      ]
     },
     "execution_count": 26,
     "metadata": {},
     "output_type": "execute_result"
    },
    {
     "data": {
      "text/plain": [
       "('Entity 524:', the second quarter, 'DATE')"
      ]
     },
     "execution_count": 26,
     "metadata": {},
     "output_type": "execute_result"
    },
    {
     "data": {
      "text/plain": [
       "('Entity 525:', between $0.75, 'MONEY')"
      ]
     },
     "execution_count": 26,
     "metadata": {},
     "output_type": "execute_result"
    },
    {
     "data": {
      "text/plain": [
       "('Entity 526:', 0.79, 'MONEY')"
      ]
     },
     "execution_count": 26,
     "metadata": {},
     "output_type": "execute_result"
    },
    {
     "data": {
      "text/plain": [
       "('Entity 527:', Wal-Mart, 'ORG')"
      ]
     },
     "execution_count": 26,
     "metadata": {},
     "output_type": "execute_result"
    },
    {
     "data": {
      "text/plain": [
       "('Entity 528:', \n",
       " , 'PERSON')"
      ]
     },
     "execution_count": 26,
     "metadata": {},
     "output_type": "execute_result"
    }
   ],
   "source": [
    "for num, entity in enumerate(processed_text.ents):\n",
    "    'Entity {}:'.format(num + 1), entity, entity.label_"
   ]
  },
  {
   "cell_type": "code",
   "execution_count": 27,
   "metadata": {},
   "outputs": [
    {
     "data": {
      "text/html": [
       "<div>\n",
       "<style>\n",
       "    .dataframe thead tr:only-child th {\n",
       "        text-align: right;\n",
       "    }\n",
       "\n",
       "    .dataframe thead th {\n",
       "        text-align: left;\n",
       "    }\n",
       "\n",
       "    .dataframe tbody tr th {\n",
       "        vertical-align: top;\n",
       "    }\n",
       "</style>\n",
       "<table border=\"1\" class=\"dataframe\">\n",
       "  <thead>\n",
       "    <tr style=\"text-align: right;\">\n",
       "      <th></th>\n",
       "      <th>token_text</th>\n",
       "      <th>part_of_speech</th>\n",
       "      <th>token_lemma</th>\n",
       "      <th>token_shape</th>\n",
       "      <th>entity_type</th>\n",
       "      <th>token_inside_outside_begin</th>\n",
       "    </tr>\n",
       "  </thead>\n",
       "  <tbody>\n",
       "    <tr>\n",
       "      <th>0</th>\n",
       "      <td>This</td>\n",
       "      <td>DET</td>\n",
       "      <td>this</td>\n",
       "      <td>Xxxx</td>\n",
       "      <td></td>\n",
       "      <td>O</td>\n",
       "    </tr>\n",
       "    <tr>\n",
       "      <th>1</th>\n",
       "      <td>call</td>\n",
       "      <td>NOUN</td>\n",
       "      <td>call</td>\n",
       "      <td>xxxx</td>\n",
       "      <td></td>\n",
       "      <td>O</td>\n",
       "    </tr>\n",
       "    <tr>\n",
       "      <th>2</th>\n",
       "      <td>is</td>\n",
       "      <td>VERB</td>\n",
       "      <td>be</td>\n",
       "      <td>xx</td>\n",
       "      <td></td>\n",
       "      <td>O</td>\n",
       "    </tr>\n",
       "    <tr>\n",
       "      <th>3</th>\n",
       "      <td>the</td>\n",
       "      <td>DET</td>\n",
       "      <td>the</td>\n",
       "      <td>xxx</td>\n",
       "      <td></td>\n",
       "      <td>O</td>\n",
       "    </tr>\n",
       "    <tr>\n",
       "      <th>4</th>\n",
       "      <td>property</td>\n",
       "      <td>NOUN</td>\n",
       "      <td>property</td>\n",
       "      <td>xxxx</td>\n",
       "      <td></td>\n",
       "      <td>O</td>\n",
       "    </tr>\n",
       "  </tbody>\n",
       "</table>\n",
       "</div>"
      ],
      "text/plain": [
       "  token_text part_of_speech token_lemma token_shape entity_type  \\\n",
       "0       This            DET        this        Xxxx               \n",
       "1       call           NOUN        call        xxxx               \n",
       "2         is           VERB          be          xx               \n",
       "3        the            DET         the         xxx               \n",
       "4   property           NOUN    property        xxxx               \n",
       "\n",
       "  token_inside_outside_begin  \n",
       "0                          O  \n",
       "1                          O  \n",
       "2                          O  \n",
       "3                          O  \n",
       "4                          O  "
      ]
     },
     "execution_count": 27,
     "metadata": {},
     "output_type": "execute_result"
    }
   ],
   "source": [
    "token_text =[token.orth_ for token in processed_text]\n",
    "token_pos = [token.pos_ for token in processed_text]\n",
    "token_lemma = [token.lemma_ for token in processed_text]\n",
    "token_shape = [token.shape_ for token in processed_text]\n",
    "token_entity_type = [token.ent_type_ for token in processed_text]\n",
    "token_entity_iob = [token.ent_iob_ for token in processed_text]\n",
    "\n",
    "\n",
    "text_df1 = pd.DataFrame(token_text, columns=['token_text'])\n",
    "text_df1['part_of_speech'] = token_pos\n",
    "text_df1['token_lemma'] = token_lemma\n",
    "text_df1['token_shape'] = token_shape\n",
    "text_df1['entity_type'] = token_entity_type\n",
    "text_df1['token_inside_outside_begin'] = token_entity_iob\n",
    "text_df1.head()"
   ]
  },
  {
   "cell_type": "code",
   "execution_count": 28,
   "metadata": {},
   "outputs": [
    {
     "data": {
      "text/plain": [
       "(6904, 6)"
      ]
     },
     "execution_count": 28,
     "metadata": {},
     "output_type": "execute_result"
    }
   ],
   "source": [
    "text_df1.shape"
   ]
  },
  {
   "cell_type": "code",
   "execution_count": 39,
   "metadata": {},
   "outputs": [],
   "source": [
    "#intermediate_directory = os.path.join('..','intermediate')\n",
    "#ts_text_filepath = os.path.join(intermediate_directory, 'ts_text_all.txt')"
   ]
  },
  {
   "cell_type": "code",
   "execution_count": 44,
   "metadata": {
    "collapsed": true
   },
   "outputs": [],
   "source": [
    "TScomponents_all = TScomponents.str.cat(sep=' ')"
   ]
  },
  {
   "cell_type": "code",
   "execution_count": 47,
   "metadata": {},
   "outputs": [
    {
     "data": {
      "text/plain": [
       "98593423"
      ]
     },
     "execution_count": 47,
     "metadata": {},
     "output_type": "execute_result"
    }
   ],
   "source": [
    "len(TScomponents_all)"
   ]
  },
  {
   "cell_type": "code",
   "execution_count": 48,
   "metadata": {},
   "outputs": [],
   "source": [
    "import os\n",
    "import codecs\n",
    "\n",
    "file_path = 'C:/Users/zanderl/TS_text.txt'\n",
    "\n",
    "with codecs.open(file_path,'w',encoding='utf_8') as ts_text_file:\n",
    "    ts_text_file.write(TScomponents_all.replace('\\n','\\\\n') + '\\n')"
   ]
  },
  {
   "cell_type": "code",
   "execution_count": 49,
   "metadata": {},
   "outputs": [],
   "source": [
    "from gensim.models import Phrases\n",
    "from gensim.models.word2vec import LineSentence"
   ]
  },
  {
   "cell_type": "code",
   "execution_count": 52,
   "metadata": {
    "collapsed": true
   },
   "outputs": [],
   "source": [
    "def punct_space(token):\n",
    "    \n",
    "    \"\"\"Helper function to eliminate tokens that are pure punctuation or whitespace\"\"\"\n",
    "    \n",
    "    return token.is_punct or token.is_space\n",
    "\n",
    "def line_transcript(filename):\n",
    "    \"\"\"\n",
    "    Generator function to read in transcript data from the file and un-escape the orignial line breaks in the text\n",
    "    \"\"\"\n",
    "    \n",
    "    with codecs.open(filename, encoding='utf-8') as f:\n",
    "        for transcript in f:\n",
    "            yield transcript.replace('\\\\n', '\\n')\n",
    "            \n",
    "def lemmatized_sentence_corpus(filename):\n",
    "    \n",
    "    '''\n",
    "    Helper function to parse through transcripts using SpaCy\n",
    "    Lemmatizes the text, and then yields sentences\n",
    "    '''\n",
    "    \n",
    "    for transcript in nlp.pipe(line_transcript(filename),\n",
    "                               batch_size=10000,n_threads=4):\n",
    "        \n",
    "        for sent in transcript.sents:\n",
    "            yield u' '.join([token.lemma_ for token in sent\n",
    "                            if not punct_space(token)])"
   ]
  },
  {
   "cell_type": "code",
   "execution_count": 53,
   "metadata": {},
   "outputs": [
    {
     "name": "stdout",
     "output_type": "stream",
     "text": [
      "Wall time: 1h 13min 58s\n"
     ]
    }
   ],
   "source": [
    "%%time\n",
    "\n",
    "with codecs.open(\"unigram_sentences.txt\",'w',encoding='utf_8') as f:\n",
    "    for sentence in lemmatized_sentence_corpus('TS_text.txt'):\n",
    "        f.write(sentence + '\\n')"
   ]
  },
  {
   "cell_type": "code",
   "execution_count": 54,
   "metadata": {
    "collapsed": true
   },
   "outputs": [],
   "source": [
    "unigram_sentences = LineSentence('unigram_sentences.txt')"
   ]
  },
  {
   "cell_type": "code",
   "execution_count": 62,
   "metadata": {},
   "outputs": [
    {
     "name": "stdout",
     "output_type": "stream",
     "text": [
      "the forward look statement make in this call be make on and as of the date of this call and -PRON- undertake no obligation to update these forward look statement to reflect subsequent event or circumstance\n",
      " \n",
      "the comp store sale for -PRON- total u.s. operation and for -PRON- sam 's club segment discuss on this call exclude the impact of fuel sale at -PRON- sam 's club segment\n",
      " \n",
      "that measure and -PRON- return on investment as discuss in this call may be consider non gaap financial measure\n",
      " \n",
      "reconciliation of those non gaap financial measure to the most directly comparable gaap measure be available for review on the investor relations portion of -PRON- corporate website at www.walmartstores.com/investor\n",
      " \n",
      "< strong > carol schumacher < /strong\n",
      " \n",
      ">\n",
      " \n",
      "welcome to the wal mart stores inc. first quarter earning call for fiscal year 2008\n",
      " \n",
      "this be carol schumacher vice president of investor relations\n",
      " \n",
      "the replay of this call and related material about this quarter be available on -PRON- website\n",
      " \n",
      "here be -PRON- agenda for today 's call\n",
      " \n"
     ]
    }
   ],
   "source": [
    "for unigram_sentence in it.islice(unigram_sentences, 10, 20):\n",
    "    print(u' '.join(unigram_sentence))\n",
    "    print(u' ')"
   ]
  },
  {
   "cell_type": "code",
   "execution_count": null,
   "metadata": {
    "collapsed": true
   },
   "outputs": [],
   "source": []
  }
 ],
 "metadata": {
  "kernelspec": {
   "display_name": "Python 3",
   "language": "python",
   "name": "python3"
  },
  "language_info": {
   "codemirror_mode": {
    "name": "ipython",
    "version": 3
   },
   "file_extension": ".py",
   "mimetype": "text/x-python",
   "name": "python",
   "nbconvert_exporter": "python",
   "pygments_lexer": "ipython3",
   "version": "3.7.1"
  }
 },
 "nbformat": 4,
 "nbformat_minor": 2
}
